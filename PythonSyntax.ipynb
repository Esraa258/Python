{
 "cells": [
  {
   "cell_type": "code",
   "execution_count": 1,
   "id": "08e64ebc",
   "metadata": {},
   "outputs": [],
   "source": [
    "# Python:is an object-oriented programming (OOP) language which means it uses a paradigm centered around objects and classes. "
   ]
  },
  {
   "cell_type": "code",
   "execution_count": 2,
   "id": "1760e70f",
   "metadata": {},
   "outputs": [
    {
     "name": "stdout",
     "output_type": "stream",
     "text": [
      "Hello, World!\n"
     ]
    }
   ],
   "source": [
    "print('Hello, World!')"
   ]
  },
  {
   "cell_type": "code",
   "execution_count": 3,
   "id": "cc9a68cb",
   "metadata": {},
   "outputs": [
    {
     "name": "stdout",
     "output_type": "stream",
     "text": [
      "3.11.3 | packaged by Anaconda, Inc. | (main, Apr 19 2023, 23:46:34) [MSC v.1916 64 bit (AMD64)]\n"
     ]
    }
   ],
   "source": [
    "# Check the Python Version\n",
    "\n",
    "import sys\n",
    "print(sys.version)"
   ]
  },
  {
   "cell_type": "code",
   "execution_count": 4,
   "id": "b931ffd7",
   "metadata": {},
   "outputs": [
    {
     "data": {
      "text/plain": [
       "['__abs__',\n",
       " '__add__',\n",
       " '__and__',\n",
       " '__bool__',\n",
       " '__ceil__',\n",
       " '__class__',\n",
       " '__delattr__',\n",
       " '__dir__',\n",
       " '__divmod__',\n",
       " '__doc__',\n",
       " '__eq__',\n",
       " '__float__',\n",
       " '__floor__',\n",
       " '__floordiv__',\n",
       " '__format__',\n",
       " '__ge__',\n",
       " '__getattribute__',\n",
       " '__getnewargs__',\n",
       " '__getstate__',\n",
       " '__gt__',\n",
       " '__hash__',\n",
       " '__index__',\n",
       " '__init__',\n",
       " '__init_subclass__',\n",
       " '__int__',\n",
       " '__invert__',\n",
       " '__le__',\n",
       " '__lshift__',\n",
       " '__lt__',\n",
       " '__mod__',\n",
       " '__mul__',\n",
       " '__ne__',\n",
       " '__neg__',\n",
       " '__new__',\n",
       " '__or__',\n",
       " '__pos__',\n",
       " '__pow__',\n",
       " '__radd__',\n",
       " '__rand__',\n",
       " '__rdivmod__',\n",
       " '__reduce__',\n",
       " '__reduce_ex__',\n",
       " '__repr__',\n",
       " '__rfloordiv__',\n",
       " '__rlshift__',\n",
       " '__rmod__',\n",
       " '__rmul__',\n",
       " '__ror__',\n",
       " '__round__',\n",
       " '__rpow__',\n",
       " '__rrshift__',\n",
       " '__rshift__',\n",
       " '__rsub__',\n",
       " '__rtruediv__',\n",
       " '__rxor__',\n",
       " '__setattr__',\n",
       " '__sizeof__',\n",
       " '__str__',\n",
       " '__sub__',\n",
       " '__subclasshook__',\n",
       " '__truediv__',\n",
       " '__trunc__',\n",
       " '__xor__',\n",
       " 'as_integer_ratio',\n",
       " 'bit_count',\n",
       " 'bit_length',\n",
       " 'conjugate',\n",
       " 'denominator',\n",
       " 'from_bytes',\n",
       " 'imag',\n",
       " 'numerator',\n",
       " 'real',\n",
       " 'to_bytes']"
      ]
     },
     "execution_count": 4,
     "metadata": {},
     "output_type": "execute_result"
    }
   ],
   "source": [
    "# methods that can be used with integer\n",
    "\n",
    "dir(5)"
   ]
  },
  {
   "cell_type": "code",
   "execution_count": 5,
   "id": "a940ffc8",
   "metadata": {},
   "outputs": [
    {
     "data": {
      "text/plain": [
       "['__abs__',\n",
       " '__add__',\n",
       " '__bool__',\n",
       " '__ceil__',\n",
       " '__class__',\n",
       " '__delattr__',\n",
       " '__dir__',\n",
       " '__divmod__',\n",
       " '__doc__',\n",
       " '__eq__',\n",
       " '__float__',\n",
       " '__floor__',\n",
       " '__floordiv__',\n",
       " '__format__',\n",
       " '__ge__',\n",
       " '__getattribute__',\n",
       " '__getformat__',\n",
       " '__getnewargs__',\n",
       " '__getstate__',\n",
       " '__gt__',\n",
       " '__hash__',\n",
       " '__init__',\n",
       " '__init_subclass__',\n",
       " '__int__',\n",
       " '__le__',\n",
       " '__lt__',\n",
       " '__mod__',\n",
       " '__mul__',\n",
       " '__ne__',\n",
       " '__neg__',\n",
       " '__new__',\n",
       " '__pos__',\n",
       " '__pow__',\n",
       " '__radd__',\n",
       " '__rdivmod__',\n",
       " '__reduce__',\n",
       " '__reduce_ex__',\n",
       " '__repr__',\n",
       " '__rfloordiv__',\n",
       " '__rmod__',\n",
       " '__rmul__',\n",
       " '__round__',\n",
       " '__rpow__',\n",
       " '__rsub__',\n",
       " '__rtruediv__',\n",
       " '__setattr__',\n",
       " '__sizeof__',\n",
       " '__str__',\n",
       " '__sub__',\n",
       " '__subclasshook__',\n",
       " '__truediv__',\n",
       " '__trunc__',\n",
       " 'as_integer_ratio',\n",
       " 'conjugate',\n",
       " 'fromhex',\n",
       " 'hex',\n",
       " 'imag',\n",
       " 'is_integer',\n",
       " 'real']"
      ]
     },
     "execution_count": 5,
     "metadata": {},
     "output_type": "execute_result"
    }
   ],
   "source": [
    "# methods that can be used with float\n",
    "\n",
    "dir(11.2)"
   ]
  },
  {
   "cell_type": "code",
   "execution_count": 6,
   "id": "01cad454",
   "metadata": {},
   "outputs": [
    {
     "data": {
      "text/plain": [
       "['__add__',\n",
       " '__class__',\n",
       " '__contains__',\n",
       " '__delattr__',\n",
       " '__dir__',\n",
       " '__doc__',\n",
       " '__eq__',\n",
       " '__format__',\n",
       " '__ge__',\n",
       " '__getattribute__',\n",
       " '__getitem__',\n",
       " '__getnewargs__',\n",
       " '__getstate__',\n",
       " '__gt__',\n",
       " '__hash__',\n",
       " '__init__',\n",
       " '__init_subclass__',\n",
       " '__iter__',\n",
       " '__le__',\n",
       " '__len__',\n",
       " '__lt__',\n",
       " '__mod__',\n",
       " '__mul__',\n",
       " '__ne__',\n",
       " '__new__',\n",
       " '__reduce__',\n",
       " '__reduce_ex__',\n",
       " '__repr__',\n",
       " '__rmod__',\n",
       " '__rmul__',\n",
       " '__setattr__',\n",
       " '__sizeof__',\n",
       " '__str__',\n",
       " '__subclasshook__',\n",
       " 'capitalize',\n",
       " 'casefold',\n",
       " 'center',\n",
       " 'count',\n",
       " 'encode',\n",
       " 'endswith',\n",
       " 'expandtabs',\n",
       " 'find',\n",
       " 'format',\n",
       " 'format_map',\n",
       " 'index',\n",
       " 'isalnum',\n",
       " 'isalpha',\n",
       " 'isascii',\n",
       " 'isdecimal',\n",
       " 'isdigit',\n",
       " 'isidentifier',\n",
       " 'islower',\n",
       " 'isnumeric',\n",
       " 'isprintable',\n",
       " 'isspace',\n",
       " 'istitle',\n",
       " 'isupper',\n",
       " 'join',\n",
       " 'ljust',\n",
       " 'lower',\n",
       " 'lstrip',\n",
       " 'maketrans',\n",
       " 'partition',\n",
       " 'removeprefix',\n",
       " 'removesuffix',\n",
       " 'replace',\n",
       " 'rfind',\n",
       " 'rindex',\n",
       " 'rjust',\n",
       " 'rpartition',\n",
       " 'rsplit',\n",
       " 'rstrip',\n",
       " 'split',\n",
       " 'splitlines',\n",
       " 'startswith',\n",
       " 'strip',\n",
       " 'swapcase',\n",
       " 'title',\n",
       " 'translate',\n",
       " 'upper',\n",
       " 'zfill']"
      ]
     },
     "execution_count": 6,
     "metadata": {},
     "output_type": "execute_result"
    }
   ],
   "source": [
    "# methods that can be used with string\n",
    "\n",
    "dir(\"Esraa\")"
   ]
  },
  {
   "cell_type": "code",
   "execution_count": 7,
   "id": "7fa0e48a",
   "metadata": {},
   "outputs": [
    {
     "data": {
      "text/plain": [
       "['__abs__',\n",
       " '__add__',\n",
       " '__and__',\n",
       " '__bool__',\n",
       " '__ceil__',\n",
       " '__class__',\n",
       " '__delattr__',\n",
       " '__dir__',\n",
       " '__divmod__',\n",
       " '__doc__',\n",
       " '__eq__',\n",
       " '__float__',\n",
       " '__floor__',\n",
       " '__floordiv__',\n",
       " '__format__',\n",
       " '__ge__',\n",
       " '__getattribute__',\n",
       " '__getnewargs__',\n",
       " '__getstate__',\n",
       " '__gt__',\n",
       " '__hash__',\n",
       " '__index__',\n",
       " '__init__',\n",
       " '__init_subclass__',\n",
       " '__int__',\n",
       " '__invert__',\n",
       " '__le__',\n",
       " '__lshift__',\n",
       " '__lt__',\n",
       " '__mod__',\n",
       " '__mul__',\n",
       " '__ne__',\n",
       " '__neg__',\n",
       " '__new__',\n",
       " '__or__',\n",
       " '__pos__',\n",
       " '__pow__',\n",
       " '__radd__',\n",
       " '__rand__',\n",
       " '__rdivmod__',\n",
       " '__reduce__',\n",
       " '__reduce_ex__',\n",
       " '__repr__',\n",
       " '__rfloordiv__',\n",
       " '__rlshift__',\n",
       " '__rmod__',\n",
       " '__rmul__',\n",
       " '__ror__',\n",
       " '__round__',\n",
       " '__rpow__',\n",
       " '__rrshift__',\n",
       " '__rshift__',\n",
       " '__rsub__',\n",
       " '__rtruediv__',\n",
       " '__rxor__',\n",
       " '__setattr__',\n",
       " '__sizeof__',\n",
       " '__str__',\n",
       " '__sub__',\n",
       " '__subclasshook__',\n",
       " '__truediv__',\n",
       " '__trunc__',\n",
       " '__xor__',\n",
       " 'as_integer_ratio',\n",
       " 'bit_count',\n",
       " 'bit_length',\n",
       " 'conjugate',\n",
       " 'denominator',\n",
       " 'from_bytes',\n",
       " 'imag',\n",
       " 'numerator',\n",
       " 'real',\n",
       " 'to_bytes']"
      ]
     },
     "execution_count": 7,
     "metadata": {},
     "output_type": "execute_result"
    }
   ],
   "source": [
    "# methods that can be used with boolean\n",
    "\n",
    "dir(True)"
   ]
  },
  {
   "cell_type": "code",
   "execution_count": 8,
   "id": "cfe47bae",
   "metadata": {},
   "outputs": [
    {
     "data": {
      "text/plain": [
       "float"
      ]
     },
     "execution_count": 8,
     "metadata": {},
     "output_type": "execute_result"
    }
   ],
   "source": [
    "# use type() function to check the object type\n",
    "\n",
    "type(11.2)"
   ]
  },
  {
   "cell_type": "code",
   "execution_count": 9,
   "id": "e2eea6ee",
   "metadata": {},
   "outputs": [
    {
     "data": {
      "text/plain": [
       "int"
      ]
     },
     "execution_count": 9,
     "metadata": {},
     "output_type": "execute_result"
    }
   ],
   "source": [
    "# Integer division (//)  --->  (Floor Division (//))\n",
    "\n",
    "type(6 // 2)"
   ]
  },
  {
   "cell_type": "code",
   "execution_count": 10,
   "id": "d86574b8",
   "metadata": {},
   "outputs": [
    {
     "data": {
      "text/plain": [
       "float"
      ]
     },
     "execution_count": 10,
     "metadata": {},
     "output_type": "execute_result"
    }
   ],
   "source": [
    "# Division (/)\n",
    "\n",
    "type(6 / 2)      "
   ]
  },
  {
   "cell_type": "code",
   "execution_count": 11,
   "id": "d0672651",
   "metadata": {},
   "outputs": [
    {
     "data": {
      "text/plain": [
       "1"
      ]
     },
     "execution_count": 11,
     "metadata": {},
     "output_type": "execute_result"
    }
   ],
   "source": [
    "# Modulo (%): Returns the remainder after division\n",
    "\n",
    "5 % 2"
   ]
  },
  {
   "cell_type": "code",
   "execution_count": 12,
   "id": "72be8d4e",
   "metadata": {},
   "outputs": [
    {
     "data": {
      "text/plain": [
       "0"
      ]
     },
     "execution_count": 12,
     "metadata": {},
     "output_type": "execute_result"
    }
   ],
   "source": [
    "4 % 2"
   ]
  },
  {
   "cell_type": "code",
   "execution_count": 2,
   "id": "389d0d14",
   "metadata": {},
   "outputs": [
    {
     "data": {
      "text/plain": [
       "5"
      ]
     },
     "execution_count": 2,
     "metadata": {},
     "output_type": "execute_result"
    }
   ],
   "source": [
    "# absolute\n",
    "\n",
    "abs(-5)"
   ]
  },
  {
   "cell_type": "code",
   "execution_count": 5,
   "id": "0f98edf8",
   "metadata": {},
   "outputs": [
    {
     "data": {
      "text/plain": [
       "8"
      ]
     },
     "execution_count": 5,
     "metadata": {},
     "output_type": "execute_result"
    }
   ],
   "source": [
    "# power\n",
    "\n",
    "pow(2, 3)"
   ]
  },
  {
   "cell_type": "code",
   "execution_count": 6,
   "id": "be98efb7",
   "metadata": {},
   "outputs": [
    {
     "data": {
      "text/plain": [
       "4"
      ]
     },
     "execution_count": 6,
     "metadata": {},
     "output_type": "execute_result"
    }
   ],
   "source": [
    "min(4, 10)"
   ]
  },
  {
   "cell_type": "code",
   "execution_count": 7,
   "id": "f2b67776",
   "metadata": {},
   "outputs": [
    {
     "data": {
      "text/plain": [
       "10"
      ]
     },
     "execution_count": 7,
     "metadata": {},
     "output_type": "execute_result"
    }
   ],
   "source": [
    "max(4, 10)"
   ]
  },
  {
   "cell_type": "code",
   "execution_count": 8,
   "id": "46652c50",
   "metadata": {},
   "outputs": [
    {
     "data": {
      "text/plain": [
       "4"
      ]
     },
     "execution_count": 8,
     "metadata": {},
     "output_type": "execute_result"
    }
   ],
   "source": [
    "round(3.7)"
   ]
  },
  {
   "cell_type": "code",
   "execution_count": 9,
   "id": "c2b5d2c6",
   "metadata": {},
   "outputs": [
    {
     "data": {
      "text/plain": [
       "3"
      ]
     },
     "execution_count": 9,
     "metadata": {},
     "output_type": "execute_result"
    }
   ],
   "source": [
    "round(3.2)"
   ]
  },
  {
   "cell_type": "code",
   "execution_count": 11,
   "id": "367d87a1",
   "metadata": {},
   "outputs": [
    {
     "data": {
      "text/plain": [
       "3"
      ]
     },
     "execution_count": 11,
     "metadata": {},
     "output_type": "execute_result"
    }
   ],
   "source": [
    "from math import *\n",
    "floor(3.7)"
   ]
  },
  {
   "cell_type": "code",
   "execution_count": 12,
   "id": "e07b95b6",
   "metadata": {},
   "outputs": [
    {
     "data": {
      "text/plain": [
       "3"
      ]
     },
     "execution_count": 12,
     "metadata": {},
     "output_type": "execute_result"
    }
   ],
   "source": [
    "from math import *\n",
    "floor(3.2)"
   ]
  },
  {
   "cell_type": "code",
   "execution_count": 14,
   "id": "3dc182a3",
   "metadata": {},
   "outputs": [
    {
     "data": {
      "text/plain": [
       "4.0"
      ]
     },
     "execution_count": 14,
     "metadata": {},
     "output_type": "execute_result"
    }
   ],
   "source": [
    "#square root\n",
    "\n",
    "sqrt(16)"
   ]
  },
  {
   "cell_type": "code",
   "execution_count": 13,
   "id": "894faa8e",
   "metadata": {},
   "outputs": [
    {
     "data": {
      "text/plain": [
       "sys.float_info(max=1.7976931348623157e+308, max_exp=1024, max_10_exp=308, min=2.2250738585072014e-308, min_exp=-1021, min_10_exp=-307, dig=15, mant_dig=53, epsilon=2.220446049250313e-16, radix=2, rounds=1)"
      ]
     },
     "execution_count": 13,
     "metadata": {},
     "output_type": "execute_result"
    }
   ],
   "source": [
    "# System settings about float type (tell you what's the largest & smallest number that can be represented with float)\n",
    "\n",
    "sys.float_info"
   ]
  },
  {
   "cell_type": "code",
   "execution_count": 14,
   "id": "eeb75913",
   "metadata": {},
   "outputs": [
    {
     "data": {
      "text/plain": [
       "2.0"
      ]
     },
     "execution_count": 14,
     "metadata": {},
     "output_type": "execute_result"
    }
   ],
   "source": [
    "# typecasting (change the type of the object)\n",
    "\n",
    "float(2)"
   ]
  },
  {
   "cell_type": "code",
   "execution_count": 15,
   "id": "e3f9a4ca",
   "metadata": {},
   "outputs": [
    {
     "data": {
      "text/plain": [
       "1"
      ]
     },
     "execution_count": 15,
     "metadata": {},
     "output_type": "execute_result"
    }
   ],
   "source": [
    "# Casting (Convert) float to integer will result in loss of information\n",
    "\n",
    "int(1.1)"
   ]
  },
  {
   "cell_type": "code",
   "execution_count": 16,
   "id": "f802559c",
   "metadata": {},
   "outputs": [
    {
     "data": {
      "text/plain": [
       "1"
      ]
     },
     "execution_count": 16,
     "metadata": {},
     "output_type": "execute_result"
    }
   ],
   "source": [
    "# Casting (Convert) a string into an integer/float\n",
    "\n",
    "int('1')"
   ]
  },
  {
   "cell_type": "code",
   "execution_count": 17,
   "id": "dc10d97d",
   "metadata": {
    "scrolled": true
   },
   "outputs": [
    {
     "ename": "ValueError",
     "evalue": "invalid literal for int() with base 10: 'Esraa'",
     "output_type": "error",
     "traceback": [
      "\u001b[1;31m---------------------------------------------------------------------------\u001b[0m",
      "\u001b[1;31mValueError\u001b[0m                                Traceback (most recent call last)",
      "Cell \u001b[1;32mIn[17], line 3\u001b[0m\n\u001b[0;32m      1\u001b[0m \u001b[38;5;66;03m# Casting (Convert) a string into an integer/float with error\u001b[39;00m\n\u001b[1;32m----> 3\u001b[0m \u001b[38;5;28mint\u001b[39m(\u001b[38;5;124m'\u001b[39m\u001b[38;5;124mEsraa\u001b[39m\u001b[38;5;124m'\u001b[39m)\n",
      "\u001b[1;31mValueError\u001b[0m: invalid literal for int() with base 10: 'Esraa'"
     ]
    }
   ],
   "source": [
    "# Casting (Convert) a string into an integer/float with error\n",
    "\n",
    "int('Esraa')"
   ]
  },
  {
   "cell_type": "code",
   "execution_count": 1,
   "id": "8eb13ce9",
   "metadata": {},
   "outputs": [
    {
     "data": {
      "text/plain": [
       "'1'"
      ]
     },
     "execution_count": 1,
     "metadata": {},
     "output_type": "execute_result"
    }
   ],
   "source": [
    "# Casting (Convert) an integer/float to a string\n",
    "\n",
    "str(1)"
   ]
  },
  {
   "cell_type": "code",
   "execution_count": 18,
   "id": "cb314849",
   "metadata": {},
   "outputs": [
    {
     "data": {
      "text/plain": [
       "True"
      ]
     },
     "execution_count": 18,
     "metadata": {},
     "output_type": "execute_result"
    }
   ],
   "source": [
    "# casting (Convert) boolean objects to other data types\n",
    "# if we cast a boolean with a value of True to an integer or float we will get 1\n",
    "# if we cast a boolean with a value of False to an integer or float we will get 0\n",
    "# if we cast a 1 to a Boolean, you get a True\n",
    "# if we cast a 0 to a Boolean we will get a False\n",
    "\n",
    "bool(1)"
   ]
  },
  {
   "cell_type": "code",
   "execution_count": 19,
   "id": "82430e02",
   "metadata": {},
   "outputs": [
    {
     "data": {
      "text/plain": [
       "0"
      ]
     },
     "execution_count": 19,
     "metadata": {},
     "output_type": "execute_result"
    }
   ],
   "source": [
    "int(False)"
   ]
  },
  {
   "cell_type": "code",
   "execution_count": 20,
   "id": "2831fb5f",
   "metadata": {},
   "outputs": [
    {
     "data": {
      "text/plain": [
       "160"
      ]
     },
     "execution_count": 20,
     "metadata": {},
     "output_type": "execute_result"
    }
   ],
   "source": [
    "# Expressions in Python can include operations among compatible types\n",
    "# Expression: Mathematical operations that python perform\n",
    "# operands: 43 60 16 41\n",
    "# operator: +\n",
    "# perform *multiplication* first, then *addition*\n",
    "\n",
    "43 + 60 + 16 + 41"
   ]
  },
  {
   "cell_type": "code",
   "execution_count": 21,
   "id": "6a6f95c9",
   "metadata": {},
   "outputs": [
    {
     "data": {
      "text/plain": [
       "2.6666666666666665"
      ]
     },
     "execution_count": 21,
     "metadata": {},
     "output_type": "execute_result"
    }
   ],
   "source": [
    "# Variables: to store values, so we can use them later on\n",
    "# If we save a value to an existing variable, the new value will overwrite the previous value\n",
    "\n",
    "x = 43 + 60 + 16 + 41\n",
    "y = x / 60\n",
    "y"
   ]
  },
  {
   "cell_type": "code",
   "execution_count": 22,
   "id": "7d93b344",
   "metadata": {},
   "outputs": [
    {
     "data": {
      "text/plain": [
       "' '"
      ]
     },
     "execution_count": 22,
     "metadata": {},
     "output_type": "execute_result"
    }
   ],
   "source": [
    "# index:012345678\n",
    "\n",
    "Name = 'Mikel Jac'\n",
    "Name[5]"
   ]
  },
  {
   "cell_type": "code",
   "execution_count": 23,
   "id": "9746321a",
   "metadata": {},
   "outputs": [
    {
     "data": {
      "text/plain": [
       "'c'"
      ]
     },
     "execution_count": 23,
     "metadata": {},
     "output_type": "execute_result"
    }
   ],
   "source": [
    "# index:-9 -8 -7 -6 -5 -4 -3 -2 -1    (negative indexing)\n",
    "\n",
    "Name = 'Mikel Jac'\n",
    "Name[-1]"
   ]
  },
  {
   "cell_type": "code",
   "execution_count": 24,
   "id": "4a9adb11",
   "metadata": {},
   "outputs": [
    {
     "data": {
      "text/plain": [
       "'Mike'"
      ]
     },
     "execution_count": 24,
     "metadata": {},
     "output_type": "execute_result"
    }
   ],
   "source": [
    "# slicing: taking the elements from the given index to another given index.\n",
    "#                                                                 The element @end index is not being included in the output\n",
    "\n",
    "# index:012345678\n",
    "\n",
    "Name = 'Mikel Jac'\n",
    "Name[0:4]"
   ]
  },
  {
   "cell_type": "code",
   "execution_count": 10,
   "id": "30f01e26",
   "metadata": {},
   "outputs": [
    {
     "data": {
      "text/plain": [
       "'Mike'"
      ]
     },
     "execution_count": 10,
     "metadata": {},
     "output_type": "execute_result"
    }
   ],
   "source": [
    "## OR ##\n",
    "\n",
    "Name = 'Mikel Jac'\n",
    "Name[:4]"
   ]
  },
  {
   "cell_type": "code",
   "execution_count": 1,
   "id": "96f40011",
   "metadata": {},
   "outputs": [
    {
     "data": {
      "text/plain": [
       "'l Jac'"
      ]
     },
     "execution_count": 1,
     "metadata": {},
     "output_type": "execute_result"
    }
   ],
   "source": [
    "Name = 'Mikel Jac'\n",
    "Name[4:]"
   ]
  },
  {
   "cell_type": "code",
   "execution_count": 25,
   "id": "996d98eb",
   "metadata": {},
   "outputs": [
    {
     "data": {
      "text/plain": [
       "'l Ja'"
      ]
     },
     "execution_count": 25,
     "metadata": {},
     "output_type": "execute_result"
    }
   ],
   "source": [
    "# slicing\n",
    "# index:-9 -8 -7 -6 -5 -4 -3 -2 -1    (negative indexing)\n",
    "\n",
    "Name = 'Mikel Jac'\n",
    "Name[-5:-1]"
   ]
  },
  {
   "cell_type": "code",
   "execution_count": 26,
   "id": "d33e4e8f",
   "metadata": {},
   "outputs": [
    {
     "data": {
      "text/plain": [
       "'EraEgny'"
      ]
     },
     "execution_count": 26,
     "metadata": {},
     "output_type": "execute_result"
    }
   ],
   "source": [
    "# Stride (2 indicating that we are selecting every second variable)\n",
    "#       0 2 4 6 8 10 11\n",
    "Name = 'Esraa Elgendy'\n",
    "Name[::2]"
   ]
  },
  {
   "cell_type": "code",
   "execution_count": 27,
   "id": "d0714a2d",
   "metadata": {},
   "outputs": [
    {
     "data": {
      "text/plain": [
       "'Era'"
      ]
     },
     "execution_count": 27,
     "metadata": {},
     "output_type": "execute_result"
    }
   ],
   "source": [
    "# Stride with slicing\n",
    "# select the first five elements(slicing) and then use the stride\n",
    "#       0 2 4\n",
    "Name = 'Esraa Elgendy'\n",
    "Name[0:5:2]"
   ]
  },
  {
   "cell_type": "code",
   "execution_count": 28,
   "id": "11fe25e7",
   "metadata": {},
   "outputs": [
    {
     "data": {
      "text/plain": [
       "13"
      ]
     },
     "execution_count": 28,
     "metadata": {},
     "output_type": "execute_result"
    }
   ],
   "source": [
    "# len() function\n",
    "\n",
    "len('Esraa Elgendy')"
   ]
  },
  {
   "cell_type": "code",
   "execution_count": 29,
   "id": "df9911d6",
   "metadata": {},
   "outputs": [
    {
     "data": {
      "text/plain": [
       "'Esraa Elgendy is a Data Engineer'"
      ]
     },
     "execution_count": 29,
     "metadata": {},
     "output_type": "execute_result"
    }
   ],
   "source": [
    "# Concatenate (we can't concatenate str with int, we should typecasting one of them to the other datatype)\n",
    "\n",
    "name = \"Esraa Elgendy\"\n",
    "x = name + \" is a Data Engineer\"\n",
    "x         # or print(x)"
   ]
  },
  {
   "cell_type": "code",
   "execution_count": 30,
   "id": "61139eff",
   "metadata": {},
   "outputs": [
    {
     "data": {
      "text/plain": [
       "'12'"
      ]
     },
     "execution_count": 30,
     "metadata": {},
     "output_type": "execute_result"
    }
   ],
   "source": [
    "x = '1' + '2'\n",
    "x"
   ]
  },
  {
   "cell_type": "code",
   "execution_count": 31,
   "id": "ddf6d346",
   "metadata": {},
   "outputs": [
    {
     "data": {
      "text/plain": [
       "'13'"
      ]
     },
     "execution_count": 31,
     "metadata": {},
     "output_type": "execute_result"
    }
   ],
   "source": [
    "x = str(1)+str(3)\n",
    "x"
   ]
  },
  {
   "cell_type": "code",
   "execution_count": 15,
   "id": "6ab71a99",
   "metadata": {},
   "outputs": [
    {
     "data": {
      "text/plain": [
       "'2'"
      ]
     },
     "execution_count": 15,
     "metadata": {},
     "output_type": "execute_result"
    }
   ],
   "source": [
    "str(1+1)"
   ]
  },
  {
   "cell_type": "code",
   "execution_count": 32,
   "id": "dc74e6bb",
   "metadata": {},
   "outputs": [
    {
     "data": {
      "text/plain": [
       "' Esraa Elgendy Esraa Elgendy Esraa Elgendy'"
      ]
     },
     "execution_count": 32,
     "metadata": {},
     "output_type": "execute_result"
    }
   ],
   "source": [
    "# Replicate a str, by multiplying the str by the number of times we would like to replicate it\n",
    "\n",
    "3*' Esraa Elgendy'"
   ]
  },
  {
   "cell_type": "code",
   "execution_count": 33,
   "id": "14d1d5de",
   "metadata": {},
   "outputs": [
    {
     "name": "stdout",
     "output_type": "stream",
     "text": [
      "Esraa \n",
      " Elgendy\n",
      "Esraa \t Elgendy\n",
      "Esraa \\ Elgendy\n",
      "Esraa \\ Elgendy\n"
     ]
    }
   ],
   "source": [
    "# Escape Sequences:\n",
    "# \\n  -->  new line\n",
    "# \\t  -->  tab\n",
    "# \\\\  -->  place a backslash in the str    (or)   print(r\"Esraa \\ Elgendy\")\n",
    "\n",
    "print(\"Esraa \\n Elgendy\")\n",
    "print(\"Esraa \\t Elgendy\")\n",
    "print(\"Esraa \\\\ Elgendy\")\n",
    "print(r\"Esraa \\ Elgendy\")"
   ]
  },
  {
   "cell_type": "code",
   "execution_count": 34,
   "id": "eccf4d0d",
   "metadata": {},
   "outputs": [],
   "source": [
    "# str can be a combination of spaces and digits:\n",
    "#  '1 2 3 4 5 6 '\n",
    "\n",
    "# str can be a combination of special characters:\n",
    "#  '@#2_#]&*^%$'"
   ]
  },
  {
   "cell_type": "code",
   "execution_count": 35,
   "id": "27b3270a",
   "metadata": {},
   "outputs": [
    {
     "data": {
      "text/plain": [
       "'ESRAA ELGENDY'"
      ]
     },
     "execution_count": 35,
     "metadata": {},
     "output_type": "execute_result"
    }
   ],
   "source": [
    "# Convert a string to upper case  #method:changes or interacts with the object\n",
    "\n",
    "name = 'Esraa ElgeNdy'\n",
    "name.upper()"
   ]
  },
  {
   "cell_type": "code",
   "execution_count": 36,
   "id": "6f531f57",
   "metadata": {},
   "outputs": [
    {
     "data": {
      "text/plain": [
       "'data engineering'"
      ]
     },
     "execution_count": 36,
     "metadata": {},
     "output_type": "execute_result"
    }
   ],
   "source": [
    "# Convert a string to Lower case\n",
    "\n",
    "name = 'DATA EngINeering'\n",
    "name.lower()"
   ]
  },
  {
   "cell_type": "code",
   "execution_count": 37,
   "id": "9167a0e0",
   "metadata": {},
   "outputs": [
    {
     "data": {
      "text/plain": [
       "'Esraa Elgendy is a Data Scientist'"
      ]
     },
     "execution_count": 37,
     "metadata": {},
     "output_type": "execute_result"
    }
   ],
   "source": [
    "# Replace str\n",
    "\n",
    "a = \"Esraa Elgendy is a Data Engineer\"\n",
    "a.replace('Engineer', 'Scientist')"
   ]
  },
  {
   "cell_type": "code",
   "execution_count": 38,
   "id": "d0b6bbcd",
   "metadata": {},
   "outputs": [
    {
     "data": {
      "text/plain": [
       "8"
      ]
     },
     "execution_count": 38,
     "metadata": {},
     "output_type": "execute_result"
    }
   ],
   "source": [
    "# Find the substring in the string. Only the index of the first elment of substring in string will be the output\n",
    "\n",
    "name = \"Esraa Elgendy\"\n",
    "name.find('gen')"
   ]
  },
  {
   "cell_type": "code",
   "execution_count": 39,
   "id": "edf2e5df",
   "metadata": {},
   "outputs": [
    {
     "data": {
      "text/plain": [
       "-1"
      ]
     },
     "execution_count": 39,
     "metadata": {},
     "output_type": "execute_result"
    }
   ],
   "source": [
    "# If the substring is not in the string, the output is -1\n",
    "# Find the substring in the string. Only the index of the first elment of substring in string will be the output\n",
    "\n",
    "name = \"Esraa Elgendy\"\n",
    "name.find('ytl')"
   ]
  },
  {
   "cell_type": "code",
   "execution_count": 40,
   "id": "cde3c175",
   "metadata": {},
   "outputs": [
    {
     "data": {
      "text/plain": [
       "['Esraa', 'Elgendy']"
      ]
     },
     "execution_count": 40,
     "metadata": {},
     "output_type": "execute_result"
    }
   ],
   "source": [
    "# Splits string into a list based on a delimiter.\n",
    "# .split( ): converts str separated by a space into a list\n",
    "\n",
    "name = 'Esraa Elgendy'\n",
    "name.split()"
   ]
  },
  {
   "cell_type": "code",
   "execution_count": 41,
   "id": "733a3622",
   "metadata": {},
   "outputs": [
    {
     "data": {
      "text/plain": [
       "'Esraa Elgendy'"
      ]
     },
     "execution_count": 41,
     "metadata": {},
     "output_type": "execute_result"
    }
   ],
   "source": [
    "# .strip( ): remove (leading/trailing) whitespace\n",
    "\n",
    "name = '   Esraa Elgendy  '\n",
    "name.strip()"
   ]
  },
  {
   "cell_type": "code",
   "execution_count": 2,
   "id": "71c6df4b",
   "metadata": {},
   "outputs": [],
   "source": [
    "#### Regular Expression ####\n",
    "# RegEx (short for Regular Expression) is a tool for matching and handling strings\n",
    "# search, split, findall, and sub.\n",
    "# import the built-in module re to work with regular expressions\n",
    "\n",
    "import re"
   ]
  },
  {
   "cell_type": "code",
   "execution_count": 3,
   "id": "b24e0bd1",
   "metadata": {},
   "outputs": [
    {
     "name": "stdout",
     "output_type": "stream",
     "text": [
      "Match found!\n"
     ]
    }
   ],
   "source": [
    "# search() function: searches for specified patterns within a string\n",
    "\n",
    "x = \"Michael Jackson is the best\"\n",
    "\n",
    "# Define the pattern to search for\n",
    "pattern = r\"Jackson\"\n",
    "\n",
    "# Use the search() function to search for the pattern in the string\n",
    "result = re.search(pattern, x)\n",
    "\n",
    "# Check if a match was found\n",
    "if result:\n",
    "    print(\"Match found!\")\n",
    "else:\n",
    "    print(\"Match not found.\")"
   ]
  },
  {
   "cell_type": "code",
   "execution_count": null,
   "id": "8af43aac",
   "metadata": {},
   "outputs": [],
   "source": [
    "# \\d --> Matches any digit character (0-9)                                    Ex: \"123\" matches \"\\d\\d\\d\"\n",
    "# \\D --> Matches any non-digit character                                      Ex: \"hello\" matches \"\\D\\D\\D\\D\\D\"\n",
    "# \\w --> Matches any word character (a-z, A-Z, 0-9, and _)                    Ex: \"hello_world\" matches \"\\w\\w\\w\\w\\w\\w\\w\\w\\w\"\n",
    "# \\W --> Matches any non-word character                                       Ex: \"@#$%\" matches \"\\W\\W\\W\\W\"\n",
    "# \\s --> Matches any whitespace character(space, tab, newline,...)            Ex: \"hello world\" matches \"\\w\\s\\w\\w\\w\\w\\w\"\n",
    "# \\S --> Matches any non-whitespace character                                 Ex: \"hello_world\" matches \"\\S\\S\\S\\S\\S\\S\\S\\S\\S\"\n",
    "# \\b --> Matches the boundary between a word character and a non-word character\n",
    "#                                                                       Ex: \"cat\" matches \"\\bcat\\b\" in \"The cat sat on the mat\"\n",
    "# \\B --> Matches any position that is not a word boundary\n",
    "#                                                 Ex: \"cat\" matches \"\\Bcat\\B\" in \"category\" but not in \"The cat sat on the mat\""
   ]
  },
  {
   "cell_type": "code",
   "execution_count": 4,
   "id": "054af54f",
   "metadata": {},
   "outputs": [
    {
     "name": "stdout",
     "output_type": "stream",
     "text": [
      "Phone number found: 1234567890\n"
     ]
    }
   ],
   "source": [
    "# \\d --> Matches any digit character (0-9)\n",
    "# the \\d sequence is repeated 10 times to match ten consecutive digits\n",
    "\n",
    "pattern = r\"\\d\\d\\d\\d\\d\\d\\d\\d\\d\\d\"  # Matches any ten consecutive digits\n",
    "text = \"My Phone number is 1234567890\"\n",
    "match = re.search(pattern, text)\n",
    "\n",
    "if match:\n",
    "    print(\"Phone number found:\", match.group())\n",
    "else:\n",
    "    print(\"No match\")"
   ]
  },
  {
   "cell_type": "code",
   "execution_count": 11,
   "id": "daaae81b",
   "metadata": {},
   "outputs": [
    {
     "name": "stdout",
     "output_type": "stream",
     "text": [
      "Digit found\n"
     ]
    }
   ],
   "source": [
    "# find whether the digit is present or not using the \\d and search() function\n",
    "\n",
    "s3 = \"House number- 1105\"\n",
    "\n",
    "# Use the search() function to search for the \"\\d\" in the string\n",
    "result = re.search(\"\\d\", s3)\n",
    "\n",
    "# Check if a match was found\n",
    "if result:\n",
    "    print(\"Digit found\")\n",
    "else:\n",
    "    print(\"Digit not found.\")"
   ]
  },
  {
   "cell_type": "code",
   "execution_count": 5,
   "id": "ef43e7a3",
   "metadata": {},
   "outputs": [
    {
     "name": "stdout",
     "output_type": "stream",
     "text": [
      "Matches: [',', ' ', '!']\n"
     ]
    }
   ],
   "source": [
    "# findall(): finds all occurrences of a specified pattern within a string\n",
    "\n",
    "pattern = r\"\\W\"  # Matches any non-word character\n",
    "text = \"Hello, world!\"\n",
    "matches = re.findall(pattern, text)\n",
    "\n",
    "print(\"Matches:\", matches)"
   ]
  },
  {
   "cell_type": "code",
   "execution_count": 6,
   "id": "af9db00d",
   "metadata": {},
   "outputs": [
    {
     "name": "stdout",
     "output_type": "stream",
     "text": [
      "['as', 'as']\n"
     ]
    }
   ],
   "source": [
    "x = \"Michael Jackson was a singer and known as the 'King of Pop'\"\n",
    "\n",
    "\n",
    "# Use the findall() function to find all occurrences of the \"as\" in the string\n",
    "result = re.findall(\"as\", x)\n",
    "\n",
    "# Print out the list of matched words\n",
    "print(result)"
   ]
  },
  {
   "cell_type": "code",
   "execution_count": 8,
   "id": "9d04e6fc",
   "metadata": {},
   "outputs": [
    {
     "data": {
      "text/plain": [
       "['Esraa', 'Elgendy']"
      ]
     },
     "execution_count": 8,
     "metadata": {},
     "output_type": "execute_result"
    }
   ],
   "source": [
    "# .split( ): converts str separated by a space into a list\n",
    "\n",
    "name = 'Esraa Elgendy'\n",
    "name.split()"
   ]
  },
  {
   "cell_type": "code",
   "execution_count": 7,
   "id": "5a3f56ce",
   "metadata": {},
   "outputs": [
    {
     "name": "stdout",
     "output_type": "stream",
     "text": [
      "['Michael', 'Jackson', 'was', 'a', 'singer', 'and', 'known', 'as', 'the', \"'King\", 'of', \"Pop'\"]\n"
     ]
    }
   ],
   "source": [
    "# split(): splits a string into an array of substrings based on a specified pattern\n",
    "\n",
    "x = \"Michael Jackson was a singer and known as the 'King of Pop'\"\n",
    "# Use the split function to split the string by the \"\\s\"\n",
    "split_array = re.split(\"\\s\", x) # \\s --> Matches any whitespace character(space, tab, newline,...)\n",
    "\n",
    "# The split_array contains all the substrings, split by whitespace characters\n",
    "print(split_array) "
   ]
  },
  {
   "cell_type": "code",
   "execution_count": 9,
   "id": "c4902b0b",
   "metadata": {},
   "outputs": [
    {
     "name": "stdout",
     "output_type": "stream",
     "text": [
      "Michael Jackson was a singer and known as the 'legend'\n"
     ]
    }
   ],
   "source": [
    "# .sub(): replace all occurrences of a pattern in a string with a specified replacement\n",
    "\n",
    "x = \"Michael Jackson was a singer and known as the 'King of Pop'\"\n",
    "# Define the regular expression pattern to search for\n",
    "pattern = r\"King of Pop\"\n",
    "\n",
    "# Define the replacement string\n",
    "replacement = \"legend\"\n",
    "\n",
    "# Use the sub function to replace the pattern with the replacement string\n",
    "new_string = re.sub(pattern, replacement, x, flags=re.IGNORECASE)\n",
    "\n",
    "# The new_string contains the original string with the pattern replaced by the replacement string\n",
    "print(new_string) "
   ]
  },
  {
   "cell_type": "code",
   "execution_count": 14,
   "id": "53acc585",
   "metadata": {},
   "outputs": [
    {
     "data": {
      "text/plain": [
       "\"Michael Jackson was a singer and known as the 'legend'\""
      ]
     },
     "execution_count": 14,
     "metadata": {},
     "output_type": "execute_result"
    }
   ],
   "source": [
    "## OR ##\n",
    "\n",
    "x = \"Michael Jackson was a singer and known as the 'King of Pop'\"\n",
    "new_x = re.sub(r\"King of Pop\", \"legend\", x)\n",
    "new_x"
   ]
  },
  {
   "cell_type": "markdown",
   "id": "70195aef",
   "metadata": {},
   "source": [
    "# Tuples ( ): (immutable-can't change them)\n",
    " - Compound data type, Store collection of Data in a single variable "
   ]
  },
  {
   "cell_type": "code",
   "execution_count": 42,
   "id": "fc02fdeb",
   "metadata": {},
   "outputs": [
    {
     "data": {
      "text/plain": [
       "['__add__',\n",
       " '__class__',\n",
       " '__class_getitem__',\n",
       " '__contains__',\n",
       " '__delattr__',\n",
       " '__dir__',\n",
       " '__doc__',\n",
       " '__eq__',\n",
       " '__format__',\n",
       " '__ge__',\n",
       " '__getattribute__',\n",
       " '__getitem__',\n",
       " '__getnewargs__',\n",
       " '__getstate__',\n",
       " '__gt__',\n",
       " '__hash__',\n",
       " '__init__',\n",
       " '__init_subclass__',\n",
       " '__iter__',\n",
       " '__le__',\n",
       " '__len__',\n",
       " '__lt__',\n",
       " '__mul__',\n",
       " '__ne__',\n",
       " '__new__',\n",
       " '__reduce__',\n",
       " '__reduce_ex__',\n",
       " '__repr__',\n",
       " '__rmul__',\n",
       " '__setattr__',\n",
       " '__sizeof__',\n",
       " '__str__',\n",
       " '__subclasshook__',\n",
       " 'count',\n",
       " 'index']"
      ]
     },
     "execution_count": 42,
     "metadata": {},
     "output_type": "execute_result"
    }
   ],
   "source": [
    "# dir(): to get methods that can be used with tuples\n",
    "\n",
    "Tuple = (10, 9, 6, 5, 8)\n",
    "dir(Tuple)"
   ]
  },
  {
   "cell_type": "code",
   "execution_count": 43,
   "id": "c90943f9",
   "metadata": {},
   "outputs": [
    {
     "data": {
      "text/plain": [
       "[5, 6, 8, 9, 10]"
      ]
     },
     "execution_count": 43,
     "metadata": {},
     "output_type": "execute_result"
    }
   ],
   "source": [
    "# Sort the tuple & save it to a new tuple\n",
    "\n",
    "Tuple = (10, 9, 6, 5, 8)\n",
    "TupleSorted = sorted(Tuple)\n",
    "TupleSorted"
   ]
  },
  {
   "cell_type": "code",
   "execution_count": 44,
   "id": "c81ef08f",
   "metadata": {},
   "outputs": [
    {
     "data": {
      "text/plain": [
       "'k'"
      ]
     },
     "execution_count": 44,
     "metadata": {},
     "output_type": "execute_result"
    }
   ],
   "source": [
    "# Nested Tuples (tuple can contain another tuple as well as other more complex data types)\n",
    "\n",
    "x = (1, 2, (\"pop\",\"rock\"), (3,4), (\"disco\",(1,2)))\n",
    "x[2][1][3]"
   ]
  },
  {
   "cell_type": "code",
   "execution_count": 45,
   "id": "538dd1e0",
   "metadata": {},
   "outputs": [
    {
     "data": {
      "text/plain": [
       "(('pop', 'rock'), (3, 4), ('disco', (1, 2)))"
      ]
     },
     "execution_count": 45,
     "metadata": {},
     "output_type": "execute_result"
    }
   ],
   "source": [
    "#slicing Tuples\n",
    "\n",
    "x = (1, 2, (\"pop\",\"rock\"), (3,4), (\"disco\",(1,2)))\n",
    "x[2:]"
   ]
  },
  {
   "cell_type": "code",
   "execution_count": 46,
   "id": "73b2389e",
   "metadata": {},
   "outputs": [
    {
     "data": {
      "text/plain": [
       "((3, 4), ('disco', (1, 2)))"
      ]
     },
     "execution_count": 46,
     "metadata": {},
     "output_type": "execute_result"
    }
   ],
   "source": [
    "x = (1, 2, (\"pop\",\"rock\"), (3,4), (\"disco\",(1,2)))\n",
    "x[3:5]"
   ]
  },
  {
   "cell_type": "code",
   "execution_count": 15,
   "id": "3af72646",
   "metadata": {},
   "outputs": [
    {
     "data": {
      "text/plain": [
       "tuple"
      ]
     },
     "execution_count": 15,
     "metadata": {},
     "output_type": "execute_result"
    }
   ],
   "source": [
    "x = (\"disco\",10,1.2 )\n",
    "type(x)"
   ]
  },
  {
   "cell_type": "code",
   "execution_count": 47,
   "id": "e9cdf5ac",
   "metadata": {},
   "outputs": [
    {
     "name": "stdout",
     "output_type": "stream",
     "text": [
      "<class 'int'>\n",
      "<class 'int'>\n",
      "<class 'tuple'>\n",
      "<class 'tuple'>\n",
      "<class 'tuple'>\n"
     ]
    }
   ],
   "source": [
    "# Print the type of value on each index\n",
    "\n",
    "x = (1, 2, (\"pop\",\"rock\"), (3,4), (\"disco\",(1,2)))\n",
    "print(type(x[0]))\n",
    "print(type(x[1]))\n",
    "print(type(x[2]))\n",
    "print(type(x[3]))\n",
    "print(type(x[4]))"
   ]
  },
  {
   "cell_type": "code",
   "execution_count": 48,
   "id": "ac2e9d01",
   "metadata": {},
   "outputs": [
    {
     "data": {
      "text/plain": [
       "(1, 2, ('pop', 'rock'), (3, 4), ('disco', (1, 2)), 'hard rock', 10)"
      ]
     },
     "execution_count": 48,
     "metadata": {},
     "output_type": "execute_result"
    }
   ],
   "source": [
    "# Concatenate tuples\n",
    "\n",
    "x = (1, 2, (\"pop\",\"rock\"), (3,4), (\"disco\",(1,2)))\n",
    "tuple2 = x + (\"hard rock\", 10)\n",
    "tuple2"
   ]
  },
  {
   "cell_type": "code",
   "execution_count": 49,
   "id": "c5895d1f",
   "metadata": {},
   "outputs": [
    {
     "data": {
      "text/plain": [
       "7"
      ]
     },
     "execution_count": 49,
     "metadata": {},
     "output_type": "execute_result"
    }
   ],
   "source": [
    "# Get the length of tuple\n",
    "\n",
    "x = (1, 2, (\"pop\",\"rock\"), (3,4), (\"disco\",(1,2)))\n",
    "tuple2 = x + (\"hard rock\", 10)\n",
    "len(tuple2)"
   ]
  },
  {
   "cell_type": "code",
   "execution_count": 50,
   "id": "85a3fa96",
   "metadata": {},
   "outputs": [
    {
     "data": {
      "text/plain": [
       "1"
      ]
     },
     "execution_count": 50,
     "metadata": {},
     "output_type": "execute_result"
    }
   ],
   "source": [
    "# find the index of 2\n",
    "\n",
    "x = (1, 2, (\"pop\",\"rock\"), (3,4), (\"disco\",(1,2)))\n",
    "x.index(2)"
   ]
  },
  {
   "cell_type": "code",
   "execution_count": 51,
   "id": "5387bd4b",
   "metadata": {},
   "outputs": [
    {
     "name": "stdout",
     "output_type": "stream",
     "text": [
      "[(2, 3), (5, 6), (8, 9), (2, 6)]\n"
     ]
    }
   ],
   "source": [
    "# List of Tuples\n",
    "\n",
    "x = [(2,3), (5,6), (8,9), (2,6)]\n",
    "print(x)"
   ]
  },
  {
   "cell_type": "code",
   "execution_count": 52,
   "id": "3fc145c1",
   "metadata": {},
   "outputs": [
    {
     "ename": "TypeError",
     "evalue": "'tuple' object does not support item assignment",
     "output_type": "error",
     "traceback": [
      "\u001b[1;31m---------------------------------------------------------------------------\u001b[0m",
      "\u001b[1;31mTypeError\u001b[0m                                 Traceback (most recent call last)",
      "Cell \u001b[1;32mIn[52], line 4\u001b[0m\n\u001b[0;32m      1\u001b[0m \u001b[38;5;66;03m# Error - Tuples are immutable, we can't change them\u001b[39;00m\n\u001b[0;32m      3\u001b[0m x \u001b[38;5;241m=\u001b[39m [(\u001b[38;5;241m2\u001b[39m,\u001b[38;5;241m3\u001b[39m), (\u001b[38;5;241m5\u001b[39m,\u001b[38;5;241m6\u001b[39m), (\u001b[38;5;241m8\u001b[39m,\u001b[38;5;241m9\u001b[39m), (\u001b[38;5;241m2\u001b[39m,\u001b[38;5;241m6\u001b[39m)]\n\u001b[1;32m----> 4\u001b[0m x[\u001b[38;5;241m0\u001b[39m][\u001b[38;5;241m0\u001b[39m] \u001b[38;5;241m=\u001b[39m \u001b[38;5;241m5\u001b[39m\n",
      "\u001b[1;31mTypeError\u001b[0m: 'tuple' object does not support item assignment"
     ]
    }
   ],
   "source": [
    "# Error - Tuples are immutable, we can't change them\n",
    "\n",
    "x = [(2,3), (5,6), (8,9), (2,6)]\n",
    "x[0][0] = 5"
   ]
  },
  {
   "cell_type": "code",
   "execution_count": 53,
   "id": "6be45aef",
   "metadata": {},
   "outputs": [
    {
     "data": {
      "text/plain": [
       "[4]"
      ]
     },
     "execution_count": 53,
     "metadata": {},
     "output_type": "execute_result"
    }
   ],
   "source": [
    "A=((1),[2,3],[4])\n",
    "A[2]                     #list"
   ]
  },
  {
   "cell_type": "code",
   "execution_count": 54,
   "id": "b7960701",
   "metadata": {},
   "outputs": [
    {
     "data": {
      "text/plain": [
       "4"
      ]
     },
     "execution_count": 54,
     "metadata": {},
     "output_type": "execute_result"
    }
   ],
   "source": [
    "A=((1),[2,3],[4])\n",
    "A[2][0]                  #int"
   ]
  },
  {
   "cell_type": "markdown",
   "id": "cfa5ca39",
   "metadata": {},
   "source": [
    "# list [ ]:  (mutable - can change them)\n",
    "\n",
    "- Compound data type, Store collection of Data in a single variable\n",
    "- Lists can contain strings, floats, and integers. \n",
    "- We can nest other lists, and we can also nest tuples and other data structures.\n",
    "- We can perform slicing in lists."
   ]
  },
  {
   "cell_type": "code",
   "execution_count": 55,
   "id": "5877fa5b",
   "metadata": {},
   "outputs": [
    {
     "data": {
      "text/plain": [
       "['__add__',\n",
       " '__class__',\n",
       " '__class_getitem__',\n",
       " '__contains__',\n",
       " '__delattr__',\n",
       " '__delitem__',\n",
       " '__dir__',\n",
       " '__doc__',\n",
       " '__eq__',\n",
       " '__format__',\n",
       " '__ge__',\n",
       " '__getattribute__',\n",
       " '__getitem__',\n",
       " '__getstate__',\n",
       " '__gt__',\n",
       " '__hash__',\n",
       " '__iadd__',\n",
       " '__imul__',\n",
       " '__init__',\n",
       " '__init_subclass__',\n",
       " '__iter__',\n",
       " '__le__',\n",
       " '__len__',\n",
       " '__lt__',\n",
       " '__mul__',\n",
       " '__ne__',\n",
       " '__new__',\n",
       " '__reduce__',\n",
       " '__reduce_ex__',\n",
       " '__repr__',\n",
       " '__reversed__',\n",
       " '__rmul__',\n",
       " '__setattr__',\n",
       " '__setitem__',\n",
       " '__sizeof__',\n",
       " '__str__',\n",
       " '__subclasshook__',\n",
       " 'append',\n",
       " 'clear',\n",
       " 'copy',\n",
       " 'count',\n",
       " 'extend',\n",
       " 'index',\n",
       " 'insert',\n",
       " 'pop',\n",
       " 'remove',\n",
       " 'reverse',\n",
       " 'sort']"
      ]
     },
     "execution_count": 55,
     "metadata": {},
     "output_type": "execute_result"
    }
   ],
   "source": [
    "# dir(): to get methods that can be used with list\n",
    "\n",
    "L = [\"Esraa\", \"Esraa\", 10.2, (2,3), \"Esraa\", 5]\n",
    "dir(L)"
   ]
  },
  {
   "cell_type": "code",
   "execution_count": 56,
   "id": "939e4cdb",
   "metadata": {},
   "outputs": [
    {
     "name": "stdout",
     "output_type": "stream",
     "text": [
      "3\n"
     ]
    }
   ],
   "source": [
    "# .count(): count the number of occurrences of a specific element in a list\n",
    "\n",
    "L = [\"Esraa\", \"Esraa\", 10.2, (2,3), \"Esraa\", 5]\n",
    "L.count(\"Esraa\")\n",
    "print(L.count(\"Esraa\"))"
   ]
  },
  {
   "cell_type": "code",
   "execution_count": 57,
   "id": "2802e3dd",
   "metadata": {},
   "outputs": [
    {
     "name": "stdout",
     "output_type": "stream",
     "text": [
      "[10.2, (2, 3), 5]\n"
     ]
    }
   ],
   "source": [
    "L = [\"Esraa\", 10.2, (2,3), 5]\n",
    "print(L[1:])"
   ]
  },
  {
   "cell_type": "code",
   "execution_count": 58,
   "id": "96d6cedc",
   "metadata": {},
   "outputs": [
    {
     "name": "stdout",
     "output_type": "stream",
     "text": [
      "0\n"
     ]
    }
   ],
   "source": [
    "# .index(): find the index of an element in a list\n",
    "\n",
    "L = [\"Esraa\", 10.2, (2,3), 5]\n",
    "L.index(\"Esraa\")\n",
    "print(L.index(\"Esraa\"))"
   ]
  },
  {
   "cell_type": "code",
   "execution_count": 59,
   "id": "ec9b9bdf",
   "metadata": {},
   "outputs": [
    {
     "name": "stdout",
     "output_type": "stream",
     "text": [
      "[0, 1, 3, 4, 5, 6, 8]\n"
     ]
    }
   ],
   "source": [
    "# .sort(): used to sort the elements of a list in ascending order\n",
    "#               to sort the list in descending order, we can pass the `reverse=True` argument to the `sort()` method\n",
    "\n",
    "# .sort(): to sort a list in an *ascending* order (alphabet & numbers)\n",
    "\n",
    "L = [5, 8, 3, 0, 1, 4, 6]\n",
    "L.sort()\n",
    "print(L)"
   ]
  },
  {
   "cell_type": "code",
   "execution_count": 18,
   "id": "9110d0e2",
   "metadata": {},
   "outputs": [
    {
     "name": "stdout",
     "output_type": "stream",
     "text": [
      "[8, 6, 5, 4, 3, 1, 0]\n"
     ]
    }
   ],
   "source": [
    "L = [5, 8, 3, 0, 1, 4, 6]\n",
    "L.sort(reverse=True)\n",
    "print(L)"
   ]
  },
  {
   "cell_type": "code",
   "execution_count": 60,
   "id": "a9bb43d1",
   "metadata": {},
   "outputs": [
    {
     "data": {
      "text/plain": [
       "[1, 'a', 2, 1, 'd']"
      ]
     },
     "execution_count": 60,
     "metadata": {},
     "output_type": "execute_result"
    }
   ],
   "source": [
    "# Concatenate\n",
    "\n",
    "A = [1, 'a']\n",
    "B = [2, 1, 'd']\n",
    "C= A + B\n",
    "C"
   ]
  },
  {
   "cell_type": "code",
   "execution_count": 61,
   "id": "86cb0c30",
   "metadata": {},
   "outputs": [
    {
     "name": "stdout",
     "output_type": "stream",
     "text": [
      "[6, 4, 1, 0, 3, 8, 5]\n"
     ]
    }
   ],
   "source": [
    "# .reverse(): reverse the order of elements in a list\n",
    "\n",
    "L = [5, 8, 3, 0, 1, 4, 6]\n",
    "L.reverse()\n",
    "print(L)"
   ]
  },
  {
   "cell_type": "code",
   "execution_count": 62,
   "id": "5877aac3",
   "metadata": {},
   "outputs": [
    {
     "data": {
      "text/plain": [
       "['Esraa', 10.2, (2, 3), 5, 'Data Engineer', 6, 7]"
      ]
     },
     "execution_count": 62,
     "metadata": {},
     "output_type": "execute_result"
    }
   ],
   "source": [
    "# .extend() to add elements to list\n",
    "\n",
    "L = [\"Esraa\", 10.2, (2,3), 5]\n",
    "L.extend(['Data Engineer', 6, 7])\n",
    "L\n",
    "\n",
    "#    ((( OR )))\n",
    "\n",
    "# L = [\"Esraa\", 10.2, (2,3), 5]\n",
    "# L2 = ['Data Engineer', 6, 7]\n",
    "# L.extend(L2)\n",
    "# print(L)\n",
    "\n",
    "\n",
    "#    ((( OR )))\n",
    "\n",
    "# L = [\"Esraa\", 10.2, (2,3), 5]\n",
    "# L2 = ['Data Engineer', 6, 7]\n",
    "# L = L + L2\n",
    "# print(L)\n",
    "\n",
    "\n",
    "#    ((( OR )))\n",
    "\n",
    "# L = [\"Esraa\", 10.2, (2,3), 5]\n",
    "# L2 = ['Data Engineer', 6, 7]\n",
    "# L += L2\n",
    "# print(L)"
   ]
  },
  {
   "cell_type": "code",
   "execution_count": 63,
   "id": "6abe6732",
   "metadata": {},
   "outputs": [
    {
     "data": {
      "text/plain": [
       "['Esraa', 10.2, (2, 3), 5, ['Data Engineer', 6, 7]]"
      ]
     },
     "execution_count": 63,
     "metadata": {},
     "output_type": "execute_result"
    }
   ],
   "source": [
    "# .append() to add *one* element at the *end* of the list\n",
    "\n",
    "L = [\"Esraa\", 10.2, (2,3), 5]\n",
    "L.append(['Data Engineer', 6, 7])\n",
    "L"
   ]
  },
  {
   "cell_type": "code",
   "execution_count": 64,
   "id": "323d285d",
   "metadata": {},
   "outputs": [
    {
     "name": "stdout",
     "output_type": "stream",
     "text": [
      "['Esraa', 'Data', 10.2, (2, 3), 5]\n"
     ]
    }
   ],
   "source": [
    "# .insert(): insert element in a list using indexing\n",
    "\n",
    "L = [\"Esraa\", 10.2, (2,3), 5]\n",
    "L.insert(1, \"Data\")\n",
    "print(L)"
   ]
  },
  {
   "cell_type": "code",
   "execution_count": 65,
   "id": "5b236dcf",
   "metadata": {},
   "outputs": [
    {
     "data": {
      "text/plain": [
       "['Esraa', 10.2, 'Data', 5]"
      ]
     },
     "execution_count": 65,
     "metadata": {},
     "output_type": "execute_result"
    }
   ],
   "source": [
    "# Change element in the list (mutable)\n",
    "\n",
    "L = [\"Esraa\", 10.2, (2,3), 5]\n",
    "L[2] = \"Data\"\n",
    "L"
   ]
  },
  {
   "cell_type": "code",
   "execution_count": 66,
   "id": "007104f8",
   "metadata": {},
   "outputs": [
    {
     "data": {
      "text/plain": [
       "[10.2, (2, 3), 5]"
      ]
     },
     "execution_count": 66,
     "metadata": {},
     "output_type": "execute_result"
    }
   ],
   "source": [
    "# Delete element in the list\n",
    "# Using index\n",
    "\n",
    "L = [\"Esraa\", 10.2, (2,3), 5]\n",
    "del(L[0])\n",
    "L\n",
    "\n",
    "\n",
    "#  (((OR)))\n",
    "# .remove(): Delete element in the list\n",
    "\n",
    "# L = [\"Esraa\", 10.2, (2,3), 5]\n",
    "# L.remove(\"Esraa\")\n",
    "# print(L)"
   ]
  },
  {
   "cell_type": "code",
   "execution_count": 67,
   "id": "b8e7e7da",
   "metadata": {},
   "outputs": [
    {
     "name": "stdout",
     "output_type": "stream",
     "text": [
      "[]\n"
     ]
    }
   ],
   "source": [
    "# .Clear(): Delete the list\n",
    "\n",
    "L = [\"Esraa\", 10.2, (2,3), 5]\n",
    "L.clear()\n",
    "print(L)"
   ]
  },
  {
   "cell_type": "code",
   "execution_count": 16,
   "id": "ee189357",
   "metadata": {},
   "outputs": [
    {
     "name": "stdout",
     "output_type": "stream",
     "text": [
      "[10, 20, 40, 50]\n"
     ]
    }
   ],
   "source": [
    "# pop(): remove and return the element from a list at the specified index. \n",
    "# If we don't provide an index to the pop() method, it will remove and return the last element of the list by default\n",
    "\n",
    "my_list = [10, 20, 30, 40, 50] \n",
    "removed_element = my_list.pop(2) # Removes and returns the element at index 2  \n",
    "print(my_list)"
   ]
  },
  {
   "cell_type": "code",
   "execution_count": 17,
   "id": "346eba7b",
   "metadata": {},
   "outputs": [
    {
     "name": "stdout",
     "output_type": "stream",
     "text": [
      "[10, 20, 30, 40]\n"
     ]
    }
   ],
   "source": [
    "my_list = [10, 20, 30, 40, 50] \n",
    "removed_element = my_list.pop() # Removes and returns the last element \n",
    "print(my_list)"
   ]
  },
  {
   "cell_type": "code",
   "execution_count": 68,
   "id": "e1e0899b",
   "metadata": {},
   "outputs": [
    {
     "name": "stdout",
     "output_type": "stream",
     "text": [
      "['Esraa', 10.2, (2, 3)]\n",
      "(2, 3)\n"
     ]
    }
   ],
   "source": [
    "# .pop(): Delete the last element in the list\n",
    "\n",
    "L = [\"Esraa\", 10.2, (2,3), 5]\n",
    "L.pop()\n",
    "print(L)\n",
    "\n",
    "#we can store the poped element in a variable\n",
    "what_was_poped = L.pop()\n",
    "print(what_was_poped)"
   ]
  },
  {
   "cell_type": "code",
   "execution_count": 69,
   "id": "06ecbe20",
   "metadata": {},
   "outputs": [
    {
     "data": {
      "text/plain": [
       "['Esraa', 'Elgendy', 'Data', 'Engineer']"
      ]
     },
     "execution_count": 69,
     "metadata": {},
     "output_type": "execute_result"
    }
   ],
   "source": [
    "# .split( ): converts str separated by a space into a list\n",
    "\n",
    "name = 'Esraa Elgendy Data Engineer'\n",
    "name.split()"
   ]
  },
  {
   "cell_type": "code",
   "execution_count": 70,
   "id": "9e80c834",
   "metadata": {},
   "outputs": [
    {
     "data": {
      "text/plain": [
       "['A', 'B', 'C', 'D']"
      ]
     },
     "execution_count": 70,
     "metadata": {},
     "output_type": "execute_result"
    }
   ],
   "source": [
    "'A,B,C,D'.split(',')"
   ]
  },
  {
   "cell_type": "code",
   "execution_count": 71,
   "id": "ab535438",
   "metadata": {},
   "outputs": [
    {
     "name": "stdout",
     "output_type": "stream",
     "text": [
      "A: ['hard rock', 10, 1.2]\n",
      "B: ['hard rock', 10, 1.2]\n",
      "A: ['banana', 10, 1.2]\n",
      "B: ['banana', 10, 1.2]\n"
     ]
    }
   ],
   "source": [
    "# Aliasing\n",
    "\n",
    "A = [\"hard rock\", 10, 1.2]\n",
    "B = A         # A&B referencing the same list \n",
    "\n",
    "print('A:', A)\n",
    "print('B:', B)\n",
    "\n",
    "A[0] = \"banana\"\n",
    "\n",
    "print('A:', A)\n",
    "print('B:', B)"
   ]
  },
  {
   "cell_type": "code",
   "execution_count": 72,
   "id": "3581c139",
   "metadata": {},
   "outputs": [
    {
     "name": "stdout",
     "output_type": "stream",
     "text": [
      "A: ['hard rock', 10, 1.2]\n",
      "B: ['hard rock', 10, 1.2]\n",
      "A: ['banana', 10, 1.2]\n",
      "B: ['hard rock', 10, 1.2]\n"
     ]
    }
   ],
   "source": [
    "# Clone (Copy) ---> Shallow copy\n",
    "# by using   A[:]    OR   .copy()\n",
    "\n",
    "A = [\"hard rock\", 10, 1.2]\n",
    "B = A[:]      #####\n",
    "\n",
    "print('A:', A)\n",
    "print('B:', B)\n",
    "\n",
    "A[0] = \"banana\"\n",
    "\n",
    "print('A:', A)\n",
    "print('B:', B)\n",
    "\n",
    "\n",
    "#   (((OR )))       Using .Copy()\n",
    "\n",
    "# A = [\"hard rock\", 10, 1.2]\n",
    "# B = A.copy()     #####\n",
    "\n",
    "# print('A:', A)\n",
    "# print('B:', B)\n",
    "\n",
    "# A[0] = \"banana\"\n",
    "\n",
    "# print('A:', A)\n",
    "# print('B:', B)"
   ]
  },
  {
   "cell_type": "code",
   "execution_count": 73,
   "id": "951584e7",
   "metadata": {},
   "outputs": [
    {
     "name": "stdout",
     "output_type": "stream",
     "text": [
      "Help on list object:\n",
      "\n",
      "class list(object)\n",
      " |  list(iterable=(), /)\n",
      " |  \n",
      " |  Built-in mutable sequence.\n",
      " |  \n",
      " |  If no argument is given, the constructor creates a new empty list.\n",
      " |  The argument must be an iterable if specified.\n",
      " |  \n",
      " |  Methods defined here:\n",
      " |  \n",
      " |  __add__(self, value, /)\n",
      " |      Return self+value.\n",
      " |  \n",
      " |  __contains__(self, key, /)\n",
      " |      Return key in self.\n",
      " |  \n",
      " |  __delitem__(self, key, /)\n",
      " |      Delete self[key].\n",
      " |  \n",
      " |  __eq__(self, value, /)\n",
      " |      Return self==value.\n",
      " |  \n",
      " |  __ge__(self, value, /)\n",
      " |      Return self>=value.\n",
      " |  \n",
      " |  __getattribute__(self, name, /)\n",
      " |      Return getattr(self, name).\n",
      " |  \n",
      " |  __getitem__(...)\n",
      " |      x.__getitem__(y) <==> x[y]\n",
      " |  \n",
      " |  __gt__(self, value, /)\n",
      " |      Return self>value.\n",
      " |  \n",
      " |  __iadd__(self, value, /)\n",
      " |      Implement self+=value.\n",
      " |  \n",
      " |  __imul__(self, value, /)\n",
      " |      Implement self*=value.\n",
      " |  \n",
      " |  __init__(self, /, *args, **kwargs)\n",
      " |      Initialize self.  See help(type(self)) for accurate signature.\n",
      " |  \n",
      " |  __iter__(self, /)\n",
      " |      Implement iter(self).\n",
      " |  \n",
      " |  __le__(self, value, /)\n",
      " |      Return self<=value.\n",
      " |  \n",
      " |  __len__(self, /)\n",
      " |      Return len(self).\n",
      " |  \n",
      " |  __lt__(self, value, /)\n",
      " |      Return self<value.\n",
      " |  \n",
      " |  __mul__(self, value, /)\n",
      " |      Return self*value.\n",
      " |  \n",
      " |  __ne__(self, value, /)\n",
      " |      Return self!=value.\n",
      " |  \n",
      " |  __repr__(self, /)\n",
      " |      Return repr(self).\n",
      " |  \n",
      " |  __reversed__(self, /)\n",
      " |      Return a reverse iterator over the list.\n",
      " |  \n",
      " |  __rmul__(self, value, /)\n",
      " |      Return value*self.\n",
      " |  \n",
      " |  __setitem__(self, key, value, /)\n",
      " |      Set self[key] to value.\n",
      " |  \n",
      " |  __sizeof__(self, /)\n",
      " |      Return the size of the list in memory, in bytes.\n",
      " |  \n",
      " |  append(self, object, /)\n",
      " |      Append object to the end of the list.\n",
      " |  \n",
      " |  clear(self, /)\n",
      " |      Remove all items from list.\n",
      " |  \n",
      " |  copy(self, /)\n",
      " |      Return a shallow copy of the list.\n",
      " |  \n",
      " |  count(self, value, /)\n",
      " |      Return number of occurrences of value.\n",
      " |  \n",
      " |  extend(self, iterable, /)\n",
      " |      Extend list by appending elements from the iterable.\n",
      " |  \n",
      " |  index(self, value, start=0, stop=9223372036854775807, /)\n",
      " |      Return first index of value.\n",
      " |      \n",
      " |      Raises ValueError if the value is not present.\n",
      " |  \n",
      " |  insert(self, index, object, /)\n",
      " |      Insert object before index.\n",
      " |  \n",
      " |  pop(self, index=-1, /)\n",
      " |      Remove and return item at index (default last).\n",
      " |      \n",
      " |      Raises IndexError if list is empty or index is out of range.\n",
      " |  \n",
      " |  remove(self, value, /)\n",
      " |      Remove first occurrence of value.\n",
      " |      \n",
      " |      Raises ValueError if the value is not present.\n",
      " |  \n",
      " |  reverse(self, /)\n",
      " |      Reverse *IN PLACE*.\n",
      " |  \n",
      " |  sort(self, /, *, key=None, reverse=False)\n",
      " |      Sort the list in ascending order and return None.\n",
      " |      \n",
      " |      The sort is in-place (i.e. the list itself is modified) and stable (i.e. the\n",
      " |      order of two equal elements is maintained).\n",
      " |      \n",
      " |      If a key function is given, apply it once to each list item and sort them,\n",
      " |      ascending or descending, according to their function values.\n",
      " |      \n",
      " |      The reverse flag can be set to sort in descending order.\n",
      " |  \n",
      " |  ----------------------------------------------------------------------\n",
      " |  Class methods defined here:\n",
      " |  \n",
      " |  __class_getitem__(...) from builtins.type\n",
      " |      See PEP 585\n",
      " |  \n",
      " |  ----------------------------------------------------------------------\n",
      " |  Static methods defined here:\n",
      " |  \n",
      " |  __new__(*args, **kwargs) from builtins.type\n",
      " |      Create and return a new object.  See help(type) for accurate signature.\n",
      " |  \n",
      " |  ----------------------------------------------------------------------\n",
      " |  Data and other attributes defined here:\n",
      " |  \n",
      " |  __hash__ = None\n",
      "\n"
     ]
    }
   ],
   "source": [
    "# to get more info on list, tuples,...\n",
    "\n",
    "x = [\"hard rock\", 10, 1.2]\n",
    "help(x)"
   ]
  },
  {
   "cell_type": "code",
   "execution_count": 1,
   "id": "783556e9",
   "metadata": {},
   "outputs": [
    {
     "name": "stdout",
     "output_type": "stream",
     "text": [
      "[1, 2, 3]\n",
      "[4, 5, 6]\n",
      "[7, 8, 9]\n",
      "[10]\n"
     ]
    }
   ],
   "source": [
    "# 2D list\n",
    "\n",
    "List = [\n",
    "    [1, 2, 3],\n",
    "    [4, 5, 6],\n",
    "    [7, 8, 9],\n",
    "    [10]\n",
    "]\n",
    "\n",
    "for row in List:\n",
    "    print(row)"
   ]
  },
  {
   "cell_type": "code",
   "execution_count": 2,
   "id": "04b14392",
   "metadata": {},
   "outputs": [
    {
     "name": "stdout",
     "output_type": "stream",
     "text": [
      "1\n",
      "2\n",
      "3\n",
      "4\n",
      "5\n",
      "6\n",
      "7\n",
      "8\n",
      "9\n",
      "10\n"
     ]
    }
   ],
   "source": [
    "List = [\n",
    "    [1, 2, 3],\n",
    "    [4, 5, 6],\n",
    "    [7, 8, 9],\n",
    "    [10]\n",
    "]\n",
    "\n",
    "for row in List:\n",
    "    for x in row:\n",
    "        print(x)"
   ]
  },
  {
   "cell_type": "code",
   "execution_count": 3,
   "id": "55306598",
   "metadata": {},
   "outputs": [
    {
     "name": "stdout",
     "output_type": "stream",
     "text": [
      "3\n",
      "8\n",
      "15\n",
      "24\n",
      "35\n",
      "48\n",
      "63\n",
      "80\n",
      "99\n",
      "120\n"
     ]
    }
   ],
   "source": [
    "List = [\n",
    "    [1, 2, 3],\n",
    "    [4, 5, 6],\n",
    "    [7, 8, 9],\n",
    "    [10]\n",
    "]\n",
    "\n",
    "for row in List:\n",
    "    for x in row:\n",
    "        print(x*(x+2))"
   ]
  },
  {
   "cell_type": "markdown",
   "id": "d5bf0cc6",
   "metadata": {},
   "source": [
    "# Dictionary {key1:Value1, Key2:Value2,...}\n",
    "- Dictionary: a built-in data type that represents a collection of key-value pairs<br>\n",
    "For every key, there can only be one single value, however, multiple keys can hold the same value."
   ]
  },
  {
   "cell_type": "code",
   "execution_count": 74,
   "id": "aed1eb0c",
   "metadata": {},
   "outputs": [
    {
     "data": {
      "text/plain": [
       "['__class__',\n",
       " '__class_getitem__',\n",
       " '__contains__',\n",
       " '__delattr__',\n",
       " '__delitem__',\n",
       " '__dir__',\n",
       " '__doc__',\n",
       " '__eq__',\n",
       " '__format__',\n",
       " '__ge__',\n",
       " '__getattribute__',\n",
       " '__getitem__',\n",
       " '__getstate__',\n",
       " '__gt__',\n",
       " '__hash__',\n",
       " '__init__',\n",
       " '__init_subclass__',\n",
       " '__ior__',\n",
       " '__iter__',\n",
       " '__le__',\n",
       " '__len__',\n",
       " '__lt__',\n",
       " '__ne__',\n",
       " '__new__',\n",
       " '__or__',\n",
       " '__reduce__',\n",
       " '__reduce_ex__',\n",
       " '__repr__',\n",
       " '__reversed__',\n",
       " '__ror__',\n",
       " '__setattr__',\n",
       " '__setitem__',\n",
       " '__sizeof__',\n",
       " '__str__',\n",
       " '__subclasshook__',\n",
       " 'clear',\n",
       " 'copy',\n",
       " 'fromkeys',\n",
       " 'get',\n",
       " 'items',\n",
       " 'keys',\n",
       " 'pop',\n",
       " 'popitem',\n",
       " 'setdefault',\n",
       " 'update',\n",
       " 'values']"
      ]
     },
     "execution_count": 74,
     "metadata": {},
     "output_type": "execute_result"
    }
   ],
   "source": [
    "# dir(): to get methods that can be used with dictionaries\n",
    "\n",
    "Dict = {\"key1\": 1, \"key2\": \"2\", \"key3\": [3, 3, 3], \"key4\": (4, 4, 4), ('key5'): 5, (0, 1): 6, 1:\"Esraa\"}\n",
    "dir(Dict)"
   ]
  },
  {
   "cell_type": "code",
   "execution_count": 75,
   "id": "a474b631",
   "metadata": {},
   "outputs": [
    {
     "data": {
      "text/plain": [
       "{'key1': 1,\n",
       " 'key2': '2',\n",
       " 'key3': [3, 3, 3],\n",
       " 'key4': (4, 4, 4),\n",
       " 'key5': 5,\n",
       " (0, 1): 6,\n",
       " 1: 'Esraa'}"
      ]
     },
     "execution_count": 75,
     "metadata": {},
     "output_type": "execute_result"
    }
   ],
   "source": [
    "# Create the dictionary\n",
    "\n",
    "Dict = {\"key1\": 1, \"key2\": \"2\", \"key3\": [3, 3, 3], \"key4\": (4, 4, 4), ('key5'): 5, (0, 1): 6, 1:\"Esraa\"}\n",
    "Dict"
   ]
  },
  {
   "cell_type": "code",
   "execution_count": 76,
   "id": "a7bf1450",
   "metadata": {},
   "outputs": [
    {
     "data": {
      "text/plain": [
       "'Esraa'"
      ]
     },
     "execution_count": 76,
     "metadata": {},
     "output_type": "execute_result"
    }
   ],
   "source": [
    "# to get the value by the key\n",
    "\n",
    "Dict = {\"key1\": 1, \"key2\": \"2\", \"key3\": [3, 3, 3], \"key4\": (4, 4, 4), ('key5'): 5, (0, 1): 6, 1:\"Esraa\"}\n",
    "Dict[1]\n",
    "\n",
    "#   (((OR)))  by using .get()\n",
    "# Dict = {\"key1\": 1, \"key2\": \"2\", \"key3\": [3, 3, 3], \"key4\": (4, 4, 4), ('key5'): 5, (0, 1): 6, 1:\"Esraa\"}\n",
    "# Dict.get(1)"
   ]
  },
  {
   "cell_type": "code",
   "execution_count": 77,
   "id": "654023e8",
   "metadata": {},
   "outputs": [
    {
     "data": {
      "text/plain": [
       "\"The value doesn't exist\""
      ]
     },
     "execution_count": 77,
     "metadata": {},
     "output_type": "execute_result"
    }
   ],
   "source": [
    "# when getting unavailable value by unavailable key - we can write any phrase to appear when searching for unavailable variable\n",
    "\n",
    "Dict = {\"key1\": 1, \"key2\": \"2\", \"key3\": [3, 3, 3], \"key4\": (4, 4, 4), ('key5'): 5, (0, 1): 6, 1:\"Esraa\"}\n",
    "Dict.get(2, \"The value doesn't exist\")"
   ]
  },
  {
   "cell_type": "code",
   "execution_count": 78,
   "id": "dd8d66f4",
   "metadata": {},
   "outputs": [
    {
     "data": {
      "text/plain": [
       "{'key1': 1,\n",
       " 'key2': '2',\n",
       " 'key3': [3, 3, 3],\n",
       " 'key4': (4, 4, 4),\n",
       " 'key5': 5,\n",
       " (0, 1): 6,\n",
       " 1: 'Esraa',\n",
       " 'Data Engineering': 'the best'}"
      ]
     },
     "execution_count": 78,
     "metadata": {},
     "output_type": "execute_result"
    }
   ],
   "source": [
    "# to add an elemenet in the dictionary (append)\n",
    "# If the key already exists, the value will be updated; otherwise, a new entry is created\n",
    "\n",
    "Dict = {\"key1\": 1, \"key2\": \"2\", \"key3\": [3, 3, 3], \"key4\": (4, 4, 4), ('key5'): 5, (0, 1): 6, 1:\"Esraa\"}\n",
    "Dict[\"Data Engineering\"] = \"the best\"\n",
    "Dict"
   ]
  },
  {
   "cell_type": "code",
   "execution_count": 79,
   "id": "16924ccf",
   "metadata": {},
   "outputs": [
    {
     "data": {
      "text/plain": [
       "{'key1': 1,\n",
       " 'key2': '2',\n",
       " 'key3': [3, 3, 3],\n",
       " 'key4': (4, 4, 4),\n",
       " 'key5': 5,\n",
       " (0, 1): 6}"
      ]
     },
     "execution_count": 79,
     "metadata": {},
     "output_type": "execute_result"
    }
   ],
   "source": [
    "# del(): to delete an elemenet in the dictionary, Raises a KeyError if the key does not exist.\n",
    "\n",
    "Dict = {\"key1\": 1, \"key2\": \"2\", \"key3\": [3, 3, 3], \"key4\": (4, 4, 4), ('key5'): 5, (0, 1): 6, 1:\"Esraa\"}\n",
    "del(Dict[1])\n",
    "Dict"
   ]
  },
  {
   "cell_type": "code",
   "execution_count": 10,
   "id": "9205dbb2",
   "metadata": {},
   "outputs": [
    {
     "data": {
      "text/plain": [
       "{'name': 'John', 'age': 30, 'city': 'New York', 'Profession': 'Doctor'}"
      ]
     },
     "execution_count": 10,
     "metadata": {},
     "output_type": "execute_result"
    }
   ],
   "source": [
    "# .update(): merges the provided dictionary into the existing dictionary, adding or updating key-value pairs\n",
    "\n",
    "person = { \"name\": \"John\",  \"age\": 30, \"city\": \"New York\"}\n",
    "person.update({\"Profession\": \"Doctor\"})\n",
    "person"
   ]
  },
  {
   "cell_type": "code",
   "execution_count": 11,
   "id": "2f567b70",
   "metadata": {},
   "outputs": [
    {
     "data": {
      "text/plain": [
       "{}"
      ]
     },
     "execution_count": 11,
     "metadata": {},
     "output_type": "execute_result"
    }
   ],
   "source": [
    "# .clear() empties the dictionary\n",
    "\n",
    "person = { \"name\": \"John\",  \"age\": 30, \"city\": \"New York\"}\n",
    "person.clear()\n",
    "person"
   ]
  },
  {
   "cell_type": "code",
   "execution_count": 80,
   "id": "8a991363",
   "metadata": {},
   "outputs": [
    {
     "data": {
      "text/plain": [
       "True"
      ]
     },
     "execution_count": 80,
     "metadata": {},
     "output_type": "execute_result"
    }
   ],
   "source": [
    "# in: to check if an elemenet exist in the dictionary\n",
    "\n",
    "Dict = {\"key1\": 1, \"key2\": \"2\", \"key3\": [3, 3, 3], \"key4\": (4, 4, 4), ('key5'): 5, (0, 1): 6, 1:\"Esraa\"}\n",
    "\"key3\" in Dict "
   ]
  },
  {
   "cell_type": "code",
   "execution_count": 81,
   "id": "10fb3e47",
   "metadata": {},
   "outputs": [
    {
     "data": {
      "text/plain": [
       "dict_keys(['key1', 'key2', 'key3', 'key4', 'key5', (0, 1), 1])"
      ]
     },
     "execution_count": 81,
     "metadata": {},
     "output_type": "execute_result"
    }
   ],
   "source": [
    "# to get all keys\n",
    "\n",
    "Dict = {\"key1\": 1, \"key2\": \"2\", \"key3\": [3, 3, 3], \"key4\": (4, 4, 4), ('key5'): 5, (0, 1): 6, 1:\"Esraa\"}\n",
    "Dict.keys()"
   ]
  },
  {
   "cell_type": "code",
   "execution_count": 82,
   "id": "cb42c183",
   "metadata": {},
   "outputs": [
    {
     "data": {
      "text/plain": [
       "dict_values([1, '2', [3, 3, 3], (4, 4, 4), 5, 6, 'Esraa'])"
      ]
     },
     "execution_count": 82,
     "metadata": {},
     "output_type": "execute_result"
    }
   ],
   "source": [
    "# to get all values\n",
    "\n",
    "Dict = {\"key1\": 1, \"key2\": \"2\", \"key3\": [3, 3, 3], \"key4\": (4, 4, 4), ('key5'): 5, (0, 1): 6, 1:\"Esraa\"}\n",
    "Dict.values()"
   ]
  },
  {
   "cell_type": "code",
   "execution_count": 83,
   "id": "dbdc6448",
   "metadata": {},
   "outputs": [
    {
     "data": {
      "text/plain": [
       "dict_items([('key1', 1), ('key2', '2'), ('key3', [3, 3, 3]), ('key4', (4, 4, 4)), ('key5', 5), ((0, 1), 6), (1, 'Esraa')])"
      ]
     },
     "execution_count": 83,
     "metadata": {},
     "output_type": "execute_result"
    }
   ],
   "source": [
    "# .items(): Retrieves all key-value pairs as tuples and converts them into a list of tuples\n",
    "\n",
    "Dict = {\"key1\": 1, \"key2\": \"2\", \"key3\": [3, 3, 3], \"key4\": (4, 4, 4), ('key5'): 5, (0, 1): 6, 1:\"Esraa\"}\n",
    "Dict.items()"
   ]
  },
  {
   "cell_type": "markdown",
   "id": "9df732f4",
   "metadata": {},
   "source": [
    "# Sets { }\n",
    "an <strong>ordered</strong> collection of <strong>unique</strong> elements. Sets are enclosed in curly braces {} <br>\n",
    "Not subsriptable - we can't get an element from a set by using index"
   ]
  },
  {
   "cell_type": "code",
   "execution_count": 84,
   "id": "7d393ec7",
   "metadata": {},
   "outputs": [
    {
     "data": {
      "text/plain": [
       "{'R&B', 'disco', 'hard rock', 'pop', 'rock', 'soul'}"
      ]
     },
     "execution_count": 84,
     "metadata": {},
     "output_type": "execute_result"
    }
   ],
   "source": [
    "# set: discared repeated values and order values ascendingly\n",
    "\n",
    "set = {\"pop\", \"rock\", \"soul\", \"hard rock\", \"rock\", \"R&B\", \"rock\", \"disco\"}\n",
    "set"
   ]
  },
  {
   "cell_type": "code",
   "execution_count": 85,
   "id": "c38fbf46",
   "metadata": {},
   "outputs": [
    {
     "data": {
      "text/plain": [
       "['__and__',\n",
       " '__class__',\n",
       " '__class_getitem__',\n",
       " '__contains__',\n",
       " '__delattr__',\n",
       " '__dir__',\n",
       " '__doc__',\n",
       " '__eq__',\n",
       " '__format__',\n",
       " '__ge__',\n",
       " '__getattribute__',\n",
       " '__getstate__',\n",
       " '__gt__',\n",
       " '__hash__',\n",
       " '__iand__',\n",
       " '__init__',\n",
       " '__init_subclass__',\n",
       " '__ior__',\n",
       " '__isub__',\n",
       " '__iter__',\n",
       " '__ixor__',\n",
       " '__le__',\n",
       " '__len__',\n",
       " '__lt__',\n",
       " '__ne__',\n",
       " '__new__',\n",
       " '__or__',\n",
       " '__rand__',\n",
       " '__reduce__',\n",
       " '__reduce_ex__',\n",
       " '__repr__',\n",
       " '__ror__',\n",
       " '__rsub__',\n",
       " '__rxor__',\n",
       " '__setattr__',\n",
       " '__sizeof__',\n",
       " '__str__',\n",
       " '__sub__',\n",
       " '__subclasshook__',\n",
       " '__xor__',\n",
       " 'add',\n",
       " 'clear',\n",
       " 'copy',\n",
       " 'difference',\n",
       " 'difference_update',\n",
       " 'discard',\n",
       " 'intersection',\n",
       " 'intersection_update',\n",
       " 'isdisjoint',\n",
       " 'issubset',\n",
       " 'issuperset',\n",
       " 'pop',\n",
       " 'remove',\n",
       " 'symmetric_difference',\n",
       " 'symmetric_difference_update',\n",
       " 'union',\n",
       " 'update']"
      ]
     },
     "execution_count": 85,
     "metadata": {},
     "output_type": "execute_result"
    }
   ],
   "source": [
    "# methods that can be used with sets\n",
    "\n",
    "dir(set)"
   ]
  },
  {
   "cell_type": "code",
   "execution_count": 86,
   "id": "80f2a512",
   "metadata": {},
   "outputs": [
    {
     "name": "stdout",
     "output_type": "stream",
     "text": [
      "[4, 5, 6, 8, 1, 3]\n"
     ]
    }
   ],
   "source": [
    "# convert a list to a set using for loop\n",
    "\n",
    "List = [4, 5, 5, 6, 8, 1, 3]\n",
    "\n",
    "unique_List = []\n",
    "\n",
    "for numbers in List:\n",
    "    if numbers not in unique_List:\n",
    "        unique_List.append(numbers)\n",
    "        \n",
    "print(unique_List)\n",
    "\n",
    "# OR\n",
    "# unique_list = set(List)"
   ]
  },
  {
   "cell_type": "code",
   "execution_count": 2,
   "id": "9f073dcb",
   "metadata": {},
   "outputs": [
    {
     "data": {
      "text/plain": [
       "{(2, 3), 1, 10.2, 5, 8, 'Data', 'Esraa'}"
      ]
     },
     "execution_count": 2,
     "metadata": {},
     "output_type": "execute_result"
    }
   ],
   "source": [
    "album_list = [\"Esraa\", 1, 8, 10.2, (2,3), \"Esraa\", \"Data\", \"Esraa\", 5, \"Data\"]\n",
    "album_set = set(album_list)             \n",
    "album_set"
   ]
  },
  {
   "cell_type": "code",
   "execution_count": 4,
   "id": "74307dd8",
   "metadata": {},
   "outputs": [
    {
     "data": {
      "text/plain": [
       "set"
      ]
     },
     "execution_count": 4,
     "metadata": {},
     "output_type": "execute_result"
    }
   ],
   "source": [
    "type(album_set)"
   ]
  },
  {
   "cell_type": "code",
   "execution_count": 1,
   "id": "10aa936e",
   "metadata": {},
   "outputs": [
    {
     "name": "stdout",
     "output_type": "stream",
     "text": [
      "Set before typecasting {'rock', 'pop', 'disco', 'soul', 'R&B', 'hard rock'}\n",
      "set after typecasting ['rock', 'pop', 'disco', 'soul', 'R&B', 'hard rock', 'Esraa']\n"
     ]
    },
    {
     "data": {
      "text/plain": [
       "{'Esraa', 'R&B', 'disco', 'hard rock', 'pop', 'rock', 'soul'}"
      ]
     },
     "execution_count": 1,
     "metadata": {},
     "output_type": "execute_result"
    }
   ],
   "source": [
    "x = {'R&B', 'disco', 'hard rock', 'pop', 'rock', 'soul'}\n",
    "\n",
    "print(\"Set before typecasting\", x)\n",
    "\n",
    "list = list(x)         #convert set to list to apply .append() to the list\n",
    "list.append(\"Esraa\")\n",
    "print(\"set after typecasting\", list)\n",
    "\n",
    "set(list)              #convert the list to set"
   ]
  },
  {
   "cell_type": "code",
   "execution_count": 6,
   "id": "85510665",
   "metadata": {},
   "outputs": [
    {
     "data": {
      "text/plain": [
       "{'R&B', 'data engineering', 'disco', 'hard rock', 'pop', 'rock', 'soul'}"
      ]
     },
     "execution_count": 6,
     "metadata": {},
     "output_type": "execute_result"
    }
   ],
   "source": [
    "# .add(): to add *one* element to a set \n",
    "\n",
    "x = {'R&B', 'disco', 'hard rock', 'pop', 'rock', 'soul'}\n",
    "x.add(\"data engineering\")\n",
    "x"
   ]
  },
  {
   "cell_type": "code",
   "execution_count": 9,
   "id": "cfb8996a",
   "metadata": {},
   "outputs": [
    {
     "data": {
      "text/plain": [
       "{'disco', 'hard rock', 'pop', 'rock', 'soul'}"
      ]
     },
     "execution_count": 9,
     "metadata": {},
     "output_type": "execute_result"
    }
   ],
   "source": [
    "# .remove(): *one* element from a set\n",
    "\n",
    "x = {'R&B', 'disco', 'hard rock', 'pop', 'rock', 'soul'}\n",
    "x.remove(\"R&B\")\n",
    "x"
   ]
  },
  {
   "cell_type": "code",
   "execution_count": 11,
   "id": "2aba7a0a",
   "metadata": {},
   "outputs": [
    {
     "data": {
      "text/plain": [
       "True"
      ]
     },
     "execution_count": 11,
     "metadata": {},
     "output_type": "execute_result"
    }
   ],
   "source": [
    "# in: verify if an element is in the set\n",
    "\n",
    "x = {'R&B', 'disco', 'hard rock', 'pop', 'rock', 'soul'}\n",
    "\"hard rock\" in x"
   ]
  },
  {
   "cell_type": "code",
   "execution_count": null,
   "id": "fff18b6e",
   "metadata": {},
   "outputs": [],
   "source": [
    "# Set Logic Operations"
   ]
  },
  {
   "cell_type": "code",
   "execution_count": 21,
   "id": "ebc68164",
   "metadata": {},
   "outputs": [
    {
     "data": {
      "text/plain": [
       "{'AC/DC', 'Back in Black'}"
      ]
     },
     "execution_count": 21,
     "metadata": {},
     "output_type": "execute_result"
    }
   ],
   "source": [
    "# & ((or)) .intersection(): Find the intersections between 2 sets\n",
    "\n",
    "album_set1 = {\"AC/DC\", \"Back in Black\", \"Thriller\"}\n",
    "album_set2 = {\"AC/DC\", \"Back in Black\", \"The Dark Side of the Moon\"}\n",
    "\n",
    "album_set1.intersection(album_set2)\n",
    "\n",
    "#intersection = album_set1 & album_set2\n",
    "#intersection"
   ]
  },
  {
   "cell_type": "code",
   "execution_count": 22,
   "id": "9b2acc59",
   "metadata": {},
   "outputs": [
    {
     "data": {
      "text/plain": [
       "{'Thriller'}"
      ]
     },
     "execution_count": 22,
     "metadata": {},
     "output_type": "execute_result"
    }
   ],
   "source": [
    "# .difference(): Find the difference between 2 sets\n",
    "\n",
    "album_set1 = {\"AC/DC\", \"Back in Black\", \"Thriller\"}\n",
    "album_set2 = {\"AC/DC\", \"Back in Black\", \"The Dark Side of the Moon\"}\n",
    "\n",
    "album_set1.difference(album_set2)    #The elements in album_set1 but not in album_set2"
   ]
  },
  {
   "cell_type": "code",
   "execution_count": 23,
   "id": "6f0650d7",
   "metadata": {},
   "outputs": [
    {
     "data": {
      "text/plain": [
       "{'The Dark Side of the Moon'}"
      ]
     },
     "execution_count": 23,
     "metadata": {},
     "output_type": "execute_result"
    }
   ],
   "source": [
    "# .differenece(): Find the difference between 2 sets\n",
    "\n",
    "album_set1 = {\"AC/DC\", \"Back in Black\", \"Thriller\"}\n",
    "album_set2 = {\"AC/DC\", \"Back in Black\", \"The Dark Side of the Moon\"}\n",
    "\n",
    "album_set2.difference(album_set1)  #The elements in album_set2 but not in album_set1"
   ]
  },
  {
   "cell_type": "code",
   "execution_count": 24,
   "id": "44df3bf8",
   "metadata": {},
   "outputs": [
    {
     "data": {
      "text/plain": [
       "{'AC/DC', 'Back in Black', 'The Dark Side of the Moon', 'Thriller'}"
      ]
     },
     "execution_count": 24,
     "metadata": {},
     "output_type": "execute_result"
    }
   ],
   "source": [
    "# .union(): Find the union of the 2 sets\n",
    "\n",
    "album_set1 = {\"AC/DC\", \"Back in Black\", \"Thriller\"}\n",
    "album_set2 = {\"AC/DC\", \"Back in Black\", \"The Dark Side of the Moon\"}\n",
    "\n",
    "album_set2.union(album_set1)"
   ]
  },
  {
   "cell_type": "code",
   "execution_count": 25,
   "id": "d084a5c7",
   "metadata": {},
   "outputs": [
    {
     "data": {
      "text/plain": [
       "False"
      ]
     },
     "execution_count": 25,
     "metadata": {},
     "output_type": "execute_result"
    }
   ],
   "source": [
    "# .issuperset() : check if a set is a superset of another set\n",
    "\n",
    "album_set1 = {\"AC/DC\", \"Back in Black\", \"Thriller\"}\n",
    "album_set2 = {\"AC/DC\", \"Back in Black\", \"The Dark Side of the Moon\"}\n",
    "\n",
    "album_set2.issuperset(album_set1)"
   ]
  },
  {
   "cell_type": "code",
   "execution_count": 20,
   "id": "8ae86a33",
   "metadata": {},
   "outputs": [
    {
     "data": {
      "text/plain": [
       "False"
      ]
     },
     "execution_count": 20,
     "metadata": {},
     "output_type": "execute_result"
    }
   ],
   "source": [
    "# .issubset(): check if a set is a subset of another set\n",
    "\n",
    "album_set1 = {\"AC/DC\", \"Back in Black\", \"Thriller\"}\n",
    "album_set2 = {\"AC/DC\", \"Back in Black\", \"The Dark Side of the Moon\"}\n",
    "\n",
    "album_set2.issubset(album_set1)"
   ]
  },
  {
   "cell_type": "code",
   "execution_count": 26,
   "id": "3a9feae8",
   "metadata": {},
   "outputs": [
    {
     "data": {
      "text/plain": [
       "True"
      ]
     },
     "execution_count": 26,
     "metadata": {},
     "output_type": "execute_result"
    }
   ],
   "source": [
    "album_set1 = {\"AC/DC\", \"Back in Black\", \"Thriller\"}\n",
    "album_set2 = {\"AC/DC\", \"Back in Black\", \"The Dark Side of the Moon\"}\n",
    "\n",
    "set({\"Back in Black\", \"AC/DC\"}).issubset(album_set1) "
   ]
  },
  {
   "cell_type": "code",
   "execution_count": 27,
   "id": "fded2595",
   "metadata": {},
   "outputs": [
    {
     "data": {
      "text/plain": [
       "True"
      ]
     },
     "execution_count": 27,
     "metadata": {},
     "output_type": "execute_result"
    }
   ],
   "source": [
    "album_set1 = {\"AC/DC\", \"Back in Black\", \"Thriller\"}\n",
    "album_set2 = {\"AC/DC\", \"Back in Black\", \"The Dark Side of the Moon\"}\n",
    "\n",
    "album_set1.issuperset({\"Back in Black\", \"AC/DC\"}) "
   ]
  },
  {
   "cell_type": "code",
   "execution_count": 31,
   "id": "ed943bc7",
   "metadata": {},
   "outputs": [
    {
     "data": {
      "text/plain": [
       "False"
      ]
     },
     "execution_count": 31,
     "metadata": {},
     "output_type": "execute_result"
    }
   ],
   "source": [
    "# Consider the list A = [1, 2, 2, 1] and set B = set([1, 2, 2, 1]), does sum(A) == sum(B)\n",
    "\n",
    "A = [1, 2, 2, 1]          #sum(A)=1+2+2+1=6\n",
    "B = set([1, 2, 2, 1])     #set B: {1,2} .. sum(B) = 3    #sum(A) != sum(B)\n",
    "sum(A) == sum(B)"
   ]
  },
  {
   "cell_type": "code",
   "execution_count": 3,
   "id": "e5645834",
   "metadata": {},
   "outputs": [
    {
     "data": {
      "text/plain": [
       "{'AC/DC', 'Back in Black'}"
      ]
     },
     "execution_count": 3,
     "metadata": {},
     "output_type": "execute_result"
    }
   ],
   "source": [
    "# .discard():remove a specific element from the set, (Ignores if the element is not found)\n",
    "\n",
    "album_set1 = {\"AC/DC\", \"Back in Black\", \"Thriller\"}\n",
    "album_set1.discard(\"Thriller\")\n",
    "album_set1"
   ]
  },
  {
   "cell_type": "code",
   "execution_count": 6,
   "id": "e896fc42",
   "metadata": {},
   "outputs": [
    {
     "data": {
      "text/plain": [
       "'Thriller'"
      ]
     },
     "execution_count": 6,
     "metadata": {},
     "output_type": "execute_result"
    }
   ],
   "source": [
    "# .pop(): delete the last element, and can be stored in a variable for future use\n",
    "# raises a `KeyError` if the set is empty\n",
    "\n",
    "album_set1 = {\"AC/DC\", \"Back in Black\", \"Thriller\"}\n",
    "what_was_poped = album_set1.pop()\n",
    "what_was_poped"
   ]
  },
  {
   "cell_type": "code",
   "execution_count": 8,
   "id": "498cf8b3",
   "metadata": {},
   "outputs": [
    {
     "data": {
      "text/plain": [
       "{(4, 5), 1, 'AC/DC', 'Back in Black', 'Data', 'Esraa', 'Thriller'}"
      ]
     },
     "execution_count": 8,
     "metadata": {},
     "output_type": "execute_result"
    }
   ],
   "source": [
    "# update([ ]): adds elements into the set. (It maintains the uniqueness of elements)\n",
    "\n",
    "album_set1 = {\"AC/DC\", \"Back in Black\", \"Thriller\"}\n",
    "album_set1.update([\"Data\", (4,5), \"Esraa\", 1, \"Thriller\"])\n",
    "album_set1"
   ]
  },
  {
   "cell_type": "markdown",
   "id": "fdddd495",
   "metadata": {},
   "source": [
    "# if condition / Branching\n",
    "if-elif-else"
   ]
  },
  {
   "cell_type": "code",
   "execution_count": null,
   "id": "c6fa9870",
   "metadata": {},
   "outputs": [],
   "source": [
    "# Comparison Operators\n",
    "\n",
    "# equal: ==\n",
    "# not equal: !=\n",
    "# greater than: >\n",
    "# less than: <\n",
    "# greater than or equal to: >=\n",
    "# less than or equal to: <="
   ]
  },
  {
   "cell_type": "code",
   "execution_count": null,
   "id": "9ad20d99",
   "metadata": {},
   "outputs": [],
   "source": [
    "# logical operator: to check more than one condition at once\n",
    "# and: is only True when both conditions are true\n",
    "# or:  is True if one condition, or both are True\n",
    "# the not statement outputs the opposite truth value.\n",
    "\n",
    "# AND - OR - NOT"
   ]
  },
  {
   "cell_type": "code",
   "execution_count": 4,
   "id": "6f098c3d",
   "metadata": {},
   "outputs": [
    {
     "name": "stdout",
     "output_type": "stream",
     "text": [
      "go eat\n"
     ]
    }
   ],
   "source": [
    "is_hungry = False\n",
    "wants_to_eat = True\n",
    "\n",
    "\n",
    "if is_hungry or wants_to_eat:          #if is_hungry or wants_to_eat==True:\n",
    "    print(\"go eat\")\n",
    "    \n",
    "else:\n",
    "    print(\"don't eat\")"
   ]
  },
  {
   "cell_type": "code",
   "execution_count": 5,
   "id": "c316cc46",
   "metadata": {},
   "outputs": [
    {
     "name": "stdout",
     "output_type": "stream",
     "text": [
      "don't eat\n"
     ]
    }
   ],
   "source": [
    "is_hungry = False\n",
    "wants_to_eat = True\n",
    "\n",
    "\n",
    "if is_hungry and wants_to_eat:\n",
    "    print(\"go eat you are hungry\")\n",
    "    \n",
    "else:\n",
    "    print(\"don't eat\")"
   ]
  },
  {
   "cell_type": "code",
   "execution_count": 7,
   "id": "64dd5428",
   "metadata": {},
   "outputs": [
    {
     "name": "stdout",
     "output_type": "stream",
     "text": [
      "don't eat you're not hungry\n"
     ]
    }
   ],
   "source": [
    "# elif statement(short for else if): allows us to check additional conditions if the condition statements before it are False. \n",
    "\n",
    "is_hungry = False\n",
    "wants_to_eat = True\n",
    "\n",
    "\n",
    "if is_hungry and wants_to_eat:\n",
    "    print(\"go eat you are hungry\")\n",
    "    \n",
    "elif is_hungry and not wants_to_eat:\n",
    "    print(\"eat so you can survive\")\n",
    "    \n",
    "elif not is_hungry and wants_to_eat:\n",
    "    print(\"don't eat you're not hungry\")\n",
    "    \n",
    "else:\n",
    "    print(\"don't eat\")"
   ]
  },
  {
   "cell_type": "code",
   "execution_count": 6,
   "id": "441c9444",
   "metadata": {},
   "outputs": [
    {
     "name": "stdout",
     "output_type": "stream",
     "text": [
      "eat so you can survive\n"
     ]
    }
   ],
   "source": [
    "is_hungry = True\n",
    "wants_to_eat = False\n",
    "\n",
    "\n",
    "if is_hungry and wants_to_eat:\n",
    "    print(\"go eat you are hungry\")\n",
    "    \n",
    "elif is_hungry and not wants_to_eat:\n",
    "    print(\"eat so you can survive\")\n",
    "    \n",
    "else:\n",
    "    print(\"don't eat\")"
   ]
  },
  {
   "cell_type": "code",
   "execution_count": 16,
   "id": "5362a167",
   "metadata": {},
   "outputs": [
    {
     "name": "stdout",
     "output_type": "stream",
     "text": [
      "go see Meat Loaf\n",
      "move on\n"
     ]
    }
   ],
   "source": [
    "age = 17\n",
    "\n",
    "if age >= 18:\n",
    "    print(\"you can enter\" )\n",
    "elif age != 17:\n",
    "    print(\"go see Pink Floyd\")\n",
    "else:\n",
    "    print(\"go see Meat Loaf\" )\n",
    "    \n",
    "print(\"move on\")"
   ]
  },
  {
   "cell_type": "code",
   "execution_count": 9,
   "id": "ead37080",
   "metadata": {},
   "outputs": [
    {
     "data": {
      "text/plain": [
       "True"
      ]
     },
     "execution_count": 9,
     "metadata": {},
     "output_type": "execute_result"
    }
   ],
   "source": [
    "'B' > 'A'"
   ]
  },
  {
   "cell_type": "markdown",
   "id": "97ae489f",
   "metadata": {},
   "source": [
    "<strong><em>The inequality operation is also used to compare the letters/words/symbols according to the ASCII value of letters.</em></strong><br>\n",
    "<strong><mark>Note:</mark></strong>Upper Case Letters have different ASCII code than Lower Case Letters, which means the comparison between the letters in Python is case-sensitive.\n",
    "<style type=\"text/css\">\n",
    ".tg  {border-collapse:collapse;border-spacing:0;}\n",
    ".tg td{border-color:black;border-style:solid;border-width:1px;font-family:Arial, sans-serif;font-size:14px;\n",
    "  overflow:hidden;padding:10px 5px;word-break:normal;}\n",
    ".tg th{border-color:black;border-style:solid;border-width:1px;font-family:Arial, sans-serif;font-size:14px;\n",
    "  font-weight:normal;overflow:hidden;padding:10px 5px;word-break:normal;}\n",
    ".tg .tg-baqh{text-align:center;vertical-align:top}\n",
    ".tg .tg-7geq{background-color:#ffffc7;text-align:center;vertical-align:top}\n",
    ".tg .tg-1cln{background-color:#ffcc67;font-size:100%;font-weight:bold;text-align:center;vertical-align:top}\n",
    ".tg .tg-xozw{background-color:#ffcc67;font-weight:bold;text-align:center;vertical-align:top}\n",
    "</style>\n",
    "\n",
    "<table class=\"tg\">\n",
    "<thead>\n",
    "  <tr>\n",
    "    <th class=\"tg-1cln\">Char.</th>\n",
    "    <th class=\"tg-xozw\">ASCII</th>\n",
    "    <th class=\"tg-xozw\">Char.</th>\n",
    "    <th class=\"tg-xozw\">ASCII</th>\n",
    "    <th class=\"tg-xozw\">Char.</th>\n",
    "    <th class=\"tg-xozw\">ASCII</th>\n",
    "    <th class=\"tg-xozw\">Char.</th>\n",
    "    <th class=\"tg-xozw\">ASCII</th>\n",
    "  </tr>\n",
    "</thead>\n",
    "<tbody>\n",
    "  <tr>\n",
    "    <td class=\"tg-7geq\">A</td>\n",
    "    <td class=\"tg-baqh\">65</td>\n",
    "    <td class=\"tg-7geq\">N</td>\n",
    "    <td class=\"tg-baqh\">78</td>\n",
    "    <td class=\"tg-7geq\">a</td>\n",
    "    <td class=\"tg-baqh\">97</td>\n",
    "    <td class=\"tg-7geq\">n</td>\n",
    "    <td class=\"tg-baqh\">110</td>\n",
    "  </tr>\n",
    "  <tr>\n",
    "    <td class=\"tg-7geq\">B</td>\n",
    "    <td class=\"tg-baqh\">66</td>\n",
    "    <td class=\"tg-7geq\">O</td>\n",
    "    <td class=\"tg-baqh\">79</td>\n",
    "    <td class=\"tg-7geq\">b</td>\n",
    "    <td class=\"tg-baqh\">98</td>\n",
    "    <td class=\"tg-7geq\">o</td>\n",
    "    <td class=\"tg-baqh\">111</td>\n",
    "  </tr>\n",
    "  <tr>\n",
    "    <td class=\"tg-7geq\">C</td>\n",
    "    <td class=\"tg-baqh\">67</td>\n",
    "    <td class=\"tg-7geq\">P</td>\n",
    "    <td class=\"tg-baqh\">80</td>\n",
    "    <td class=\"tg-7geq\">c</td>\n",
    "    <td class=\"tg-baqh\">99</td>\n",
    "    <td class=\"tg-7geq\">p</td>\n",
    "    <td class=\"tg-baqh\">112</td>\n",
    "  </tr>\n",
    "  <tr>\n",
    "    <td class=\"tg-7geq\">D</td>\n",
    "    <td class=\"tg-baqh\">68</td>\n",
    "    <td class=\"tg-7geq\">Q</td>\n",
    "    <td class=\"tg-baqh\">81</td>\n",
    "    <td class=\"tg-7geq\">d</td>\n",
    "    <td class=\"tg-baqh\">100</td>\n",
    "    <td class=\"tg-7geq\">q</td>\n",
    "    <td class=\"tg-baqh\">113</td>\n",
    "  </tr>\n",
    "  <tr>\n",
    "    <td class=\"tg-7geq\">E</td>\n",
    "    <td class=\"tg-baqh\">69</td>\n",
    "    <td class=\"tg-7geq\">R</td>\n",
    "    <td class=\"tg-baqh\">82</td>\n",
    "    <td class=\"tg-7geq\">e</td>\n",
    "    <td class=\"tg-baqh\">101</td>\n",
    "    <td class=\"tg-7geq\">r</td>\n",
    "    <td class=\"tg-baqh\">114</td>\n",
    "  </tr>\n",
    "  <tr>\n",
    "    <td class=\"tg-7geq\">F</td>\n",
    "    <td class=\"tg-baqh\">70</td>\n",
    "    <td class=\"tg-7geq\">S</td>\n",
    "    <td class=\"tg-baqh\">83</td>\n",
    "    <td class=\"tg-7geq\">f</td>\n",
    "    <td class=\"tg-baqh\">102</td>\n",
    "    <td class=\"tg-7geq\">s</td>\n",
    "    <td class=\"tg-baqh\">115</td>\n",
    "  </tr>\n",
    "  <tr>\n",
    "    <td class=\"tg-7geq\">G</td>\n",
    "    <td class=\"tg-baqh\">71</td>\n",
    "    <td class=\"tg-7geq\">T</td>\n",
    "    <td class=\"tg-baqh\">84</td>\n",
    "    <td class=\"tg-7geq\">g</td>\n",
    "    <td class=\"tg-baqh\">103</td>\n",
    "    <td class=\"tg-7geq\">t</td>\n",
    "    <td class=\"tg-baqh\">116</td>\n",
    "  </tr>\n",
    "  <tr>\n",
    "    <td class=\"tg-7geq\">H</td>\n",
    "    <td class=\"tg-baqh\">72</td>\n",
    "    <td class=\"tg-7geq\">U</td>\n",
    "    <td class=\"tg-baqh\">85</td>\n",
    "    <td class=\"tg-7geq\">h</td>\n",
    "    <td class=\"tg-baqh\">104</td>\n",
    "    <td class=\"tg-7geq\">u</td>\n",
    "    <td class=\"tg-baqh\">117</td>\n",
    "  </tr>\n",
    "  <tr>\n",
    "    <td class=\"tg-7geq\">I</td>\n",
    "    <td class=\"tg-baqh\">73</td>\n",
    "    <td class=\"tg-7geq\">V</td>\n",
    "    <td class=\"tg-baqh\">86</td>\n",
    "    <td class=\"tg-7geq\">i</td>\n",
    "    <td class=\"tg-baqh\">105</td>\n",
    "    <td class=\"tg-7geq\">v</td>\n",
    "    <td class=\"tg-baqh\">118</td>\n",
    "  </tr>\n",
    "  <tr>\n",
    "    <td class=\"tg-7geq\">J</td>\n",
    "    <td class=\"tg-baqh\">74</td>\n",
    "    <td class=\"tg-7geq\">W</td>\n",
    "    <td class=\"tg-baqh\">87</td>\n",
    "    <td class=\"tg-7geq\">j</td>\n",
    "    <td class=\"tg-baqh\">106</td>\n",
    "    <td class=\"tg-7geq\">w</td>\n",
    "    <td class=\"tg-baqh\">119</td>\n",
    "  </tr>\n",
    "  <tr>\n",
    "    <td class=\"tg-7geq\">K</td>\n",
    "    <td class=\"tg-baqh\">75</td>\n",
    "    <td class=\"tg-7geq\">X</td>\n",
    "    <td class=\"tg-baqh\">88</td>\n",
    "    <td class=\"tg-7geq\">k</td>\n",
    "    <td class=\"tg-baqh\">107</td>\n",
    "    <td class=\"tg-7geq\">x</td>\n",
    "    <td class=\"tg-baqh\">120</td>\n",
    "  </tr>\n",
    "  <tr>\n",
    "    <td class=\"tg-7geq\">L</td>\n",
    "    <td class=\"tg-baqh\">76</td>\n",
    "    <td class=\"tg-7geq\">Y</td>\n",
    "    <td class=\"tg-baqh\">89</td>\n",
    "    <td class=\"tg-7geq\">l</td>\n",
    "    <td class=\"tg-baqh\">108</td>\n",
    "    <td class=\"tg-7geq\">y</td>\n",
    "    <td class=\"tg-baqh\">121</td>\n",
    "  </tr>\n",
    "  <tr>\n",
    "    <td class=\"tg-7geq\">M</td>\n",
    "    <td class=\"tg-baqh\">77</td>\n",
    "    <td class=\"tg-7geq\">Z</td>\n",
    "    <td class=\"tg-baqh\">90</td>\n",
    "    <td class=\"tg-7geq\">m</td>\n",
    "    <td class=\"tg-baqh\">109</td>\n",
    "    <td class=\"tg-7geq\">z</td>\n",
    "    <td class=\"tg-baqh\">122</td>\n",
    "  </tr>\n",
    "</tbody>\n",
    "</table>"
   ]
  },
  {
   "cell_type": "code",
   "execution_count": 24,
   "id": "0198233f",
   "metadata": {},
   "outputs": [
    {
     "name": "stdout",
     "output_type": "stream",
     "text": [
      "PLease enter num1: 50\n",
      "PLease enter num2: 80\n",
      "PLease enter num3: 10\n"
     ]
    },
    {
     "data": {
      "text/plain": [
       "'80'"
      ]
     },
     "execution_count": 24,
     "metadata": {},
     "output_type": "execute_result"
    }
   ],
   "source": [
    "# using if condition with function\n",
    "\n",
    "def max_num(num1, num2, num3):\n",
    "    if num1 >= num2 and num1 >= num3:\n",
    "        return num1\n",
    "    elif num2 >= num1 and num2 >= num3:\n",
    "        return num2\n",
    "    else:\n",
    "        return num3\n",
    "\n",
    "max_num(input(\"PLease enter num1: \"), input(\"PLease enter num2: \"), input(\"PLease enter num3: \"))   \n",
    "\n",
    "#print(max_num(1, 5, 8))    \n",
    "#print(max_num(input(\"PLease enter num1: \"), input(\"PLease enter num2: \"), input(\"PLease enter num3: \")))"
   ]
  },
  {
   "cell_type": "code",
   "execution_count": 21,
   "id": "84b2e64a",
   "metadata": {},
   "outputs": [
    {
     "data": {
      "text/plain": [
       "10"
      ]
     },
     "execution_count": 21,
     "metadata": {},
     "output_type": "execute_result"
    }
   ],
   "source": [
    "x = 5, 8, 10\n",
    "max(x)"
   ]
  },
  {
   "cell_type": "code",
   "execution_count": 26,
   "id": "cdd2200e",
   "metadata": {},
   "outputs": [
    {
     "name": "stdout",
     "output_type": "stream",
     "text": [
      "Please enter str1: Esraa\n",
      "Please enter str2: Esraa\n",
      "strings do match\n"
     ]
    }
   ],
   "source": [
    "def match_string(str1, str2):\n",
    "    if str1 == str2:\n",
    "        print(\"strings do match\")\n",
    "    else:\n",
    "        print(\"strings don't match\")\n",
    "\n",
    "match_string(input(\"Please enter str1: \"), input(\"Please enter str2: \"))"
   ]
  },
  {
   "cell_type": "code",
   "execution_count": 19,
   "id": "01aa1d1b",
   "metadata": {},
   "outputs": [
    {
     "name": "stdout",
     "output_type": "stream",
     "text": [
      "Please enter the 1st number: 3\n",
      "Please entre the operator: **\n",
      "Please enter the 2nd number: 3\n",
      "27.0\n"
     ]
    }
   ],
   "source": [
    "# Building a Calculator\n",
    "\n",
    "num1 = float(input(\"Please enter the 1st number: \"))          #Typecast to float - because input() return a str\n",
    "operator = input(\"Please entre the operator: \")\n",
    "num2 = float(input(\"Please enter the 2nd number: \")) \n",
    "\n",
    "if operator == \"+\":\n",
    "    print(num1 + num2)\n",
    "elif operator == \"-\":\n",
    "    print(num1 - num2)\n",
    "elif operator == \"/\":\n",
    "    print(num1 / num2)\n",
    "elif operator == \"%\":\n",
    "    print(num1 % num2)\n",
    "elif operator == \"*\":\n",
    "    print(num1 * num2)\n",
    "elif operator == \"**\":\n",
    "    print(num1 ** num2)\n",
    "else:\n",
    "    print(\"wrong operator, please try again\")"
   ]
  },
  {
   "cell_type": "code",
   "execution_count": 19,
   "id": "0a0ede63",
   "metadata": {},
   "outputs": [],
   "source": [
    "#     [elif statement]\n",
    "\n",
    "# Real-life example: Automated Teller Machine (ATM)    \n",
    "# When a user interacts with an ATM, the software in the ATM can use branching to make decisions based on the user’s input. \n",
    "# if the user selects “Withdraw Cash,” the ATM can branch into different denominations of bills to dispense based on \n",
    "# the amount requested\n",
    "\n",
    "#user_choice = \"Withdraw Cash\"\n",
    "#if user_choice == \"Withdraw Cash\":\n",
    "#    amount = float(input(\"Enter the amount to withdraw: \"))\n",
    "#    elif amount % 10 == 0:\n",
    "#        dispense_cash(amount)\n",
    "#    else:\n",
    "#        print(\"Please enter a multiple of 10.\")\n",
    "#else:\n",
    "#    print(\"Thank you for using the ATM.\")"
   ]
  },
  {
   "cell_type": "code",
   "execution_count": 20,
   "id": "8593d6f0",
   "metadata": {},
   "outputs": [],
   "source": [
    "#     [Not operator]\n",
    "\n",
    "# Real-life example: Notification Settings in smartphone          \n",
    "# we can use the NOT operator to control when to send notifications\n",
    "# we might only want to receive notifications when our phone is not in “Do Not Disturb” mode\n",
    "\n",
    "#is_do_not_disturb = True\n",
    "#if not is_do_not_disturb:\n",
    "#    send_notification(\"New message received\")"
   ]
  },
  {
   "cell_type": "code",
   "execution_count": null,
   "id": "93a01ac6",
   "metadata": {},
   "outputs": [],
   "source": [
    "#     [And operator]\n",
    "\n",
    "# Real-life example: Access Control \n",
    "#In a secure facility, we can use the AND operator to check multiple conditions for access. \n",
    "#To open a high-security door, a person might need both a valid ID card and a matching fingerprint.\n",
    "#The and operator checks if multiple conditions are all true. Like needing both keys to open a safe.\n",
    "\n",
    "#has_valid_id_card = True\n",
    "#has_matching_fingerprint = True\n",
    "#if has_valid_id_card and has_matching_fingerprint:\n",
    "#    open_high_security_door()"
   ]
  },
  {
   "cell_type": "markdown",
   "id": "af4e5f83",
   "metadata": {},
   "source": [
    "# While Loop (Based on condition)\n",
    "loop: repeat a set of instructions as many times as needed <br>\n",
    "while loop: repeat a task as long as a certain condition is true <br>\n",
    "<mark> we don't know when we want to stop the loop, we want to keep executing a code block until a certain condition is met</mark><br><br>\n",
    "Use while loops when you need to perform a task repeatedly as long as a certain condition holds true. While loops are particularly useful for situations where the number of iterations is uncertain or where you're waiting for a specific condition to be met.<br><br>\n",
    "1- A while loop repeatedly executes a block of code as long as a given condition is true.<br>\n",
    "2- It does not have a fixed number of iterations but continues executing until the condition becomes false.<br>\n",
    "3- The condition is checked before each iteration, and if it's false initially, the code block is skipped entirely.<br>\n",
    "4- The condition is typically based on a variable or expression that can change during the execution of the loop.<br>\n",
    "5- It provides more flexibility in terms of controlling the loop's execution based on dynamic conditions.<br>"
   ]
  },
  {
   "cell_type": "code",
   "execution_count": 12,
   "id": "ba025a21",
   "metadata": {},
   "outputs": [
    {
     "name": "stdout",
     "output_type": "stream",
     "text": [
      "1\n",
      "2\n",
      "3\n",
      "4\n",
      "5\n",
      "6\n",
      "7\n",
      "8\n",
      "9\n",
      "10\n",
      "the loop has ended\n"
     ]
    }
   ],
   "source": [
    "# while loop\n",
    "\n",
    "x = 1\n",
    "\n",
    "while x <= 10:\n",
    "    print(x)\n",
    "    x += 1\n",
    "    \n",
    "print(\"the loop has ended\")"
   ]
  },
  {
   "cell_type": "code",
   "execution_count": 6,
   "id": "1b791f4e",
   "metadata": {},
   "outputs": [
    {
     "name": "stdout",
     "output_type": "stream",
     "text": [
      "2\n",
      "3\n",
      "4\n",
      "5\n",
      "7\n",
      "8\n",
      "9\n",
      "10\n",
      "11\n",
      "the loop has ended\n"
     ]
    }
   ],
   "source": [
    "# Continue: skip iteration\n",
    "\n",
    "x = 1\n",
    "\n",
    "while x <= 10:\n",
    "    x += 1\n",
    "    if x == 6:\n",
    "        continue\n",
    "    print(x)\n",
    "\n",
    "    \n",
    "print(\"the loop has ended\")"
   ]
  },
  {
   "cell_type": "code",
   "execution_count": 7,
   "id": "cc8cd7a6",
   "metadata": {},
   "outputs": [
    {
     "name": "stdout",
     "output_type": "stream",
     "text": [
      "2\n",
      "3\n",
      "4\n",
      "5\n",
      "the loop has ended\n"
     ]
    }
   ],
   "source": [
    "# break: braek the loop\n",
    "\n",
    "x = 1\n",
    "\n",
    "while x <= 10:\n",
    "    x += 1\n",
    "    if x == 6:\n",
    "        break\n",
    "    print(x)\n",
    "\n",
    "    \n",
    "print(\"the loop has ended\")"
   ]
  },
  {
   "cell_type": "code",
   "execution_count": 13,
   "id": "6a3622f1",
   "metadata": {},
   "outputs": [
    {
     "name": "stdout",
     "output_type": "stream",
     "text": [
      "['orange', 'orange']\n"
     ]
    }
   ],
   "source": [
    "# Write a while loop to copy the strings 'orange' of the list squares to the list new_squares. \n",
    "# Stop and exit the loop if the value on the list is not 'orange'\n",
    "\n",
    "squares = ['orange', 'orange', 'purple', 'blue ', 'orange']\n",
    "new_squares = []\n",
    "i = 0\n",
    "while(i < len(squares) and squares[i] == 'orange'):\n",
    "    new_squares.append(squares[i])\n",
    "    i = i + 1\n",
    "print (new_squares)"
   ]
  },
  {
   "cell_type": "code",
   "execution_count": 16,
   "id": "80e099a4",
   "metadata": {},
   "outputs": [
    {
     "name": "stdout",
     "output_type": "stream",
     "text": [
      "['giraffe', 'gorilla', 'parrots']\n"
     ]
    }
   ],
   "source": [
    "# The following is a list of animals in a National Zoo\n",
    "# Animals = [\"lion\", \"giraffe\", \"gorilla\", \"parrots\", \"crocodile\",\"deer\", \"swan\"]\n",
    "# You need to write an essay on the animals whose names are made of 7 letters\n",
    "\n",
    "Animals = [\"lion\", \"giraffe\", \"gorilla\", \"parrots\", \"crocodile\",\"deer\", \"swan\"]\n",
    "New_List = []\n",
    "i = 0\n",
    "\n",
    "while i < len(Animals):\n",
    "    index = Animals[i]\n",
    "    if len(index) == 7:\n",
    "        New_List.append(index)\n",
    "    i += 1\n",
    "print(New_List)"
   ]
  },
  {
   "cell_type": "markdown",
   "id": "25bac104",
   "metadata": {},
   "source": [
    "# For Loop  [iteration through list, range,string,..]\n",
    "enables us to execute a code block multiple times <br>\n",
    "made us repeat tasks in order<br><br>\n",
    "Use for loops when <mark>you know the number of iterations in advance and want to process each element in a sequence.</mark> They are best suited for iterating over collections and sequences where the length is known.<br><br>\n",
    "1- A for loop iterates over a sequence (such as a list, string, or range) or any object that supports iteration.<br>\n",
    "2- It has a predefined number of iterations based on the length of the sequence or the number of items to iterate over.<br>\n",
    "3- It automatically handles the iteration and does not require maintaining a separate variable for tracking the iteration count.<br>\n",
    "4- It simplifies the code by encapsulating the iteration logic within the loop itself.<br>\n",
    "5- It is commonly used when you know the exact number of iterations or need to iterate over each item in a collection.<br>"
   ]
  },
  {
   "cell_type": "code",
   "execution_count": 8,
   "id": "7358ce50",
   "metadata": {},
   "outputs": [
    {
     "name": "stdout",
     "output_type": "stream",
     "text": [
      "E\n",
      "s\n",
      "r\n",
      "a\n",
      "a\n"
     ]
    }
   ],
   "source": [
    "for char in \"Esraa\":\n",
    "    print(char)"
   ]
  },
  {
   "cell_type": "code",
   "execution_count": 11,
   "id": "d32ab05b",
   "metadata": {},
   "outputs": [
    {
     "name": "stdout",
     "output_type": "stream",
     "text": [
      "0 E\n",
      "1 s\n",
      "2 r\n",
      "3 a\n",
      "4 a\n"
     ]
    }
   ],
   "source": [
    "#enumerate(): keep track of both the element and its index\n",
    "\n",
    "for index, char in enumerate (\"Esraa\"):\n",
    "    print(index, char)"
   ]
  },
  {
   "cell_type": "code",
   "execution_count": 11,
   "id": "f826d6d3",
   "metadata": {},
   "outputs": [
    {
     "name": "stdout",
     "output_type": "stream",
     "text": [
      "1\n",
      "Data\n",
      "8\n",
      "10\n",
      "(2, 3)\n",
      "[1, 8, 9]\n"
     ]
    }
   ],
   "source": [
    "List = [1, \"Data\", 8, 10, (2,3), [1,8,9]]\n",
    "\n",
    "for x in List:\n",
    "    print(x)"
   ]
  },
  {
   "cell_type": "code",
   "execution_count": 10,
   "id": "70e74a2c",
   "metadata": {},
   "outputs": [
    {
     "name": "stdout",
     "output_type": "stream",
     "text": [
      "0 1\n",
      "1 Data\n",
      "2 8\n",
      "3 10\n",
      "4 (2, 3)\n",
      "5 [1, 8, 9]\n"
     ]
    }
   ],
   "source": [
    "List = [1, \"Data\", 8, 10, (2,3), [1,8,9]]\n",
    "\n",
    "for i,x in enumerate (List):\n",
    "    print(i, x)"
   ]
  },
  {
   "cell_type": "code",
   "execution_count": null,
   "id": "c484b078",
   "metadata": {},
   "outputs": [],
   "source": [
    "# range in Python 2.x returned a list, and in Python 3.x returns a range object"
   ]
  },
  {
   "cell_type": "code",
   "execution_count": 12,
   "id": "7ff761cd",
   "metadata": {},
   "outputs": [
    {
     "name": "stdout",
     "output_type": "stream",
     "text": [
      "0\n",
      "1\n",
      "2\n",
      "3\n",
      "4\n",
      "5\n"
     ]
    }
   ],
   "source": [
    "List = [1, \"Data\", 8, 10, (2,3), [1,8,9]]\n",
    "\n",
    "for x in range(len(List)):\n",
    "    print(x)"
   ]
  },
  {
   "cell_type": "code",
   "execution_count": 13,
   "id": "75d8b5c7",
   "metadata": {},
   "outputs": [
    {
     "name": "stdout",
     "output_type": "stream",
     "text": [
      "0\n",
      "1\n",
      "2\n",
      "3\n",
      "4\n"
     ]
    }
   ],
   "source": [
    "string = \"Esraa\"\n",
    "\n",
    "for x in range(len(string)):\n",
    "    print(x)"
   ]
  },
  {
   "cell_type": "code",
   "execution_count": 15,
   "id": "36780817",
   "metadata": {},
   "outputs": [
    {
     "name": "stdout",
     "output_type": "stream",
     "text": [
      "0\n",
      "1\n",
      "2\n",
      "3\n",
      "4\n",
      "5\n",
      "6\n",
      "7\n",
      "8\n",
      "9\n"
     ]
    }
   ],
   "source": [
    "for x in range(10):\n",
    "    print(x)"
   ]
  },
  {
   "cell_type": "code",
   "execution_count": 16,
   "id": "04460c42",
   "metadata": {},
   "outputs": [
    {
     "name": "stdout",
     "output_type": "stream",
     "text": [
      "5\n",
      "6\n",
      "7\n",
      "8\n",
      "9\n",
      "10\n",
      "11\n",
      "12\n",
      "13\n",
      "14\n",
      "15\n",
      "16\n",
      "17\n",
      "18\n",
      "19\n"
     ]
    }
   ],
   "source": [
    "for x in range(5, 20):\n",
    "    print(x)"
   ]
  },
  {
   "cell_type": "code",
   "execution_count": 14,
   "id": "4cf7a904",
   "metadata": {},
   "outputs": [
    {
     "name": "stdout",
     "output_type": "stream",
     "text": [
      "0 is an even number\n",
      "1 is an odd number\n",
      "2 is an even number\n",
      "3 is an odd number\n",
      "4 is an even number\n",
      "5 is an odd number\n",
      "6 is an even number\n",
      "7 is an odd number\n",
      "8 is an even number\n",
      "9 is an odd number\n"
     ]
    }
   ],
   "source": [
    "# get the odd and even numbers\n",
    "\n",
    "for x in range(10):\n",
    "    if x % 2 == 0:\n",
    "        print(x, \"is an even number\")\n",
    "    else:\n",
    "        print(x, \"is an odd number\")"
   ]
  },
  {
   "cell_type": "code",
   "execution_count": 18,
   "id": "66773b73",
   "metadata": {},
   "outputs": [
    {
     "name": "stdout",
     "output_type": "stream",
     "text": [
      "[1, 2, 3]\n",
      "[4, 5, 6]\n",
      "[7, 8, 9]\n",
      "[10]\n"
     ]
    }
   ],
   "source": [
    "# Nested Loop\n",
    "\n",
    "L = [[1,2,3], [4,5,6],[7, 8, 9], [10]]  # 2 Dimensional(2D) list - Nested list\n",
    "for x in L:\n",
    "    print(x)"
   ]
  },
  {
   "cell_type": "code",
   "execution_count": 8,
   "id": "aa2e1dbc",
   "metadata": {},
   "outputs": [
    {
     "name": "stdout",
     "output_type": "stream",
     "text": [
      "white\n",
      "white\n",
      "white\n",
      "white\n",
      "white\n"
     ]
    }
   ],
   "source": [
    "# change the color of each square\n",
    "\n",
    "squares = ['red', 'yellow', 'black', 'pink', 'blue']\n",
    "for i in range(5):    # 0, 1, 2, 3, 4\n",
    "    x = squares[i] = 'white'  #square[0]='white', square[1]='white', square[2]='white',square[3]='white', square[4]='white'\n",
    "    print(x)"
   ]
  },
  {
   "cell_type": "code",
   "execution_count": 15,
   "id": "203a2d86",
   "metadata": {},
   "outputs": [
    {
     "name": "stdout",
     "output_type": "stream",
     "text": [
      "7 *  0  =  0\n",
      "7 *  1  =  7\n",
      "7 *  2  =  14\n",
      "7 *  3  =  21\n",
      "7 *  4  =  28\n",
      "7 *  5  =  35\n",
      "7 *  6  =  42\n",
      "7 *  7  =  49\n",
      "7 *  8  =  56\n",
      "7 *  9  =  63\n",
      "7 *  10  =  70\n",
      "12 *  0  =  0\n",
      "12 *  1  =  12\n",
      "12 *  2  =  24\n",
      "12 *  3  =  36\n",
      "12 *  4  =  48\n",
      "12 *  5  =  60\n",
      "12 *  6  =  72\n",
      "12 *  7  =  84\n",
      "12 *  8  =  96\n",
      "12 *  9  =  108\n",
      "12 *  10  =  120\n"
     ]
    }
   ],
   "source": [
    "# multiplication tables by using for loop\n",
    "\n",
    "for i in range(11):\n",
    "    print('7 * ', i,' = ', 7*i)\n",
    "for i in range(11):\n",
    "    print('12 * ', i,' = ', 12*i)"
   ]
  },
  {
   "cell_type": "markdown",
   "id": "361c0729",
   "metadata": {},
   "source": [
    "# Functions\n",
    "\n",
    "<mark>takes inputs and performs tasks</mark> <br>\n",
    "use functions when you have a task that needs to be performed multiple times within a program. Instead of duplicating the same code at various places, you can define a function once and call it whenever you need that task or use someone else’s function. This reduces redundancy and makes the code easier to manage and maintain.<br><br>\n",
    "<strong><em>Benefits of using functions</strong></em>\n",
    "- <strong>Modularity:</strong> Functions break down complex tasks into manageable components<br>\n",
    "- <strong>Reusability:</strong> Functions can be used multiple times without rewriting code<br>\n",
    "- <strong>Readability:</strong> Functions with meaningful names enhance code understanding<br>\n",
    "- <strong>Debugging:</strong> Isolating functions eases troubleshooting and issue fixing<br>\n",
    "- <strong>Abstraction:</strong> Functions simplify complex processes behind a user-friendly interface<br>\n",
    "- <strong>Collaboration:</strong> Team members can work on different functions concurrently<br>\n",
    "- <strong>Maintenance:</strong> Changes made in a function automatically apply wherever it's used<br>"
   ]
  },
  {
   "cell_type": "code",
   "execution_count": null,
   "id": "2f8a7cf0",
   "metadata": {},
   "outputs": [],
   "source": [
    "# Built in (Pre-defined) functions\n",
    "\n",
    "# len()\n",
    "# print()\n",
    "# sum()\n",
    "# max()\n",
    "# min()\n",
    "# sorted() -->    #sorted(): function that create a new sorted list (it does not change the original list)\n",
    "                  #.sort(): method that sort the existing list(don't make a new list)"
   ]
  },
  {
   "cell_type": "code",
   "execution_count": null,
   "id": "9c6a60ef",
   "metadata": {},
   "outputs": [],
   "source": [
    "# User defined functions"
   ]
  },
  {
   "cell_type": "code",
   "execution_count": 11,
   "id": "3b700185",
   "metadata": {},
   "outputs": [
    {
     "name": "stdout",
     "output_type": "stream",
     "text": [
      "hello\n",
      "Help on function say_hi in module __main__:\n",
      "\n",
      "say_hi()\n",
      "\n"
     ]
    }
   ],
   "source": [
    "def say_hi():\n",
    "    print(\"hello\")\n",
    "say_hi()   #calling the function, so that the print statement will be executed"
   ]
  },
  {
   "cell_type": "code",
   "execution_count": 29,
   "id": "2fb6e11a",
   "metadata": {},
   "outputs": [
    {
     "name": "stdout",
     "output_type": "stream",
     "text": [
      "hello Esraa\n"
     ]
    }
   ],
   "source": [
    "def say_hi(name):\n",
    "    print(\"hello \" +name)\n",
    "say_hi(\"Esraa\")   #calling the function, so that the print statement will be executed"
   ]
  },
  {
   "cell_type": "code",
   "execution_count": 30,
   "id": "42d097e9",
   "metadata": {},
   "outputs": [
    {
     "name": "stdout",
     "output_type": "stream",
     "text": [
      "Please enter your name: Esraa\n",
      "hello Esraa\n"
     ]
    }
   ],
   "source": [
    "def say_hi(name):\n",
    "    print(\"hello \" +name)\n",
    "say_hi(input(\"Please enter your name: \"))   #calling the function, so that the print statement will be executed"
   ]
  },
  {
   "cell_type": "code",
   "execution_count": 31,
   "id": "0b15f485",
   "metadata": {},
   "outputs": [
    {
     "name": "stdout",
     "output_type": "stream",
     "text": [
      "Please enter your name: Esraa\n",
      "Please enter your age: 25\n",
      "hello Esraa , your age is 25\n"
     ]
    }
   ],
   "source": [
    "def say_hi(name, age):\n",
    "    print(\"hello \" +name+ \" , your age is \" +age)\n",
    "say_hi(input(\"Please enter your name: \"), input(\"Please enter your age: \"))   #calling the function, so that the print statement will be executed"
   ]
  },
  {
   "cell_type": "code",
   "execution_count": 10,
   "id": "0c060d8c",
   "metadata": {},
   "outputs": [
    {
     "name": "stdout",
     "output_type": "stream",
     "text": [
      "Please enter the number: 3\n",
      "27.0\n"
     ]
    }
   ],
   "source": [
    "# Function with a return statement (processing and return a value - the function code end after the return statement)\n",
    "\n",
    "def cube(num):\n",
    "    return num * num * num  #Return gives back a value from a function, Ends the function's execution and sends the result\n",
    "result = cube(float(input(\"Please enter the number: \")))#Calling the function,typecasting str to float,and save it to a variable result \n",
    "print(result)"
   ]
  },
  {
   "cell_type": "code",
   "execution_count": 2,
   "id": "4b25f2c5",
   "metadata": {},
   "outputs": [
    {
     "data": {
      "text/plain": [
       "' Esraa Esraa Esraa'"
      ]
     },
     "execution_count": 2,
     "metadata": {},
     "output_type": "execute_result"
    }
   ],
   "source": [
    "def Mult(a,b):\n",
    "    return a * b\n",
    "Mult(3, ' Esraa') #calling the function"
   ]
  },
  {
   "cell_type": "code",
   "execution_count": 5,
   "id": "a7b4c26f",
   "metadata": {},
   "outputs": [
    {
     "name": "stdout",
     "output_type": "stream",
     "text": [
      "Album  0 Rating is  10.0\n",
      "Album  1 Rating is  8.5\n",
      "Album  2 Rating is  9.5\n"
     ]
    }
   ],
   "source": [
    "# using for loop with function\n",
    "\n",
    "album_ratings = [10.0, 8.5, 9.5]\n",
    "\n",
    "def printstuff(stuff):\n",
    "    for i,s in enumerate(stuff):\n",
    "        print(\"Album \", i, \"Rating is \", s)\n",
    "\n",
    "printstuff(album_ratings)      #calling the function"
   ]
  },
  {
   "cell_type": "code",
   "execution_count": 3,
   "id": "f52d0e3c",
   "metadata": {},
   "outputs": [
    {
     "name": "stdout",
     "output_type": "stream",
     "text": [
      "1\n",
      "1\n",
      "the man\n",
      "abc\n"
     ]
    }
   ],
   "source": [
    "def PrintList(the_list):\n",
    "    for element in the_list:\n",
    "        print(element)\n",
    "        \n",
    "PrintList(['1', 1, 'the man', \"abc\"])"
   ]
  },
  {
   "cell_type": "code",
   "execution_count": 2,
   "id": "e4cdd747",
   "metadata": {},
   "outputs": [
    {
     "data": {
      "text/plain": [
       "0"
      ]
     },
     "execution_count": 2,
     "metadata": {},
     "output_type": "execute_result"
    }
   ],
   "source": [
    "# Make a funtion\n",
    "def Equation(a,b):\n",
    "    c = a + b + 2 * a * b - 1\n",
    "    if(c < 0):\n",
    "        c = 0 \n",
    "    else:\n",
    "        c = 5\n",
    "    return(c)\n",
    "\n",
    "# and Use it as many as we need in the program\n",
    "a1 = 4\n",
    "b1 = 5\n",
    "c1 = Equation(a1, b1)\n",
    "c1\n",
    "\n",
    "\n",
    "a2 = 0\n",
    "b2 = 0\n",
    "c2 = Equation(a2, b2)\n",
    "c2"
   ]
  },
  {
   "cell_type": "code",
   "execution_count": 6,
   "id": "f0c0455a",
   "metadata": {},
   "outputs": [
    {
     "name": "stdout",
     "output_type": "stream",
     "text": [
      "Michael Jackson\n",
      "AC/DC\n",
      "Pink Band\n"
     ]
    }
   ],
   "source": [
    "def ArtistNames(*names):\n",
    "    for name in names:\n",
    "        print(name)\n",
    "ArtistNames(\"Michael Jackson\", \"AC/DC\", \"Pink Band\")"
   ]
  },
  {
   "cell_type": "code",
   "execution_count": 8,
   "id": "49dcf19d",
   "metadata": {},
   "outputs": [
    {
     "name": "stdout",
     "output_type": "stream",
     "text": [
      "None\n"
     ]
    }
   ],
   "source": [
    "# \"pass\" acts as a temporary placeholder for future code that you intend to write within a function\n",
    "# \"pass\" itself doesn't perform any meaningful action. \n",
    "# When the interpreter encounters “pass”, it simply moves on to the next statement without executing any code.\n",
    "\n",
    "def function_name():\n",
    "    pass\n",
    "print(function_name())"
   ]
  },
  {
   "cell_type": "code",
   "execution_count": 9,
   "id": "e209610c",
   "metadata": {},
   "outputs": [
    {
     "name": "stdout",
     "output_type": "stream",
     "text": [
      "12\n"
     ]
    }
   ],
   "source": [
    "#Docstrings (Documentation Strings):Docstrings explain what a function does\n",
    "# Placed inside \"\"\"  \"\"\" under the function definition, to Helps other developers understand your function\n",
    "\n",
    "def multiply(a, b):\n",
    "    \"\"\"\n",
    "    This function multiplies 2 numbers.\n",
    "    Input: a (number), b (number)\n",
    "    Output: Product of a and b\n",
    "    \"\"\"\n",
    "    print(a * b)\n",
    "multiply(2,6) #The same function can be used for different data types ex:  multiply(2, 'Esraa')"
   ]
  },
  {
   "cell_type": "code",
   "execution_count": 13,
   "id": "7475c1a9",
   "metadata": {},
   "outputs": [
    {
     "name": "stdout",
     "output_type": "stream",
     "text": [
      "Help on function multiply in module __main__:\n",
      "\n",
      "multiply(a, b)\n",
      "    This function multiplies two numbers.\n",
      "    Input: a (number), b (number)\n",
      "    Output: Product of a and b\n",
      "\n"
     ]
    }
   ],
   "source": [
    "# Get a help on the function\n",
    "\n",
    "help(multiply)"
   ]
  },
  {
   "cell_type": "code",
   "execution_count": 14,
   "id": "6c4cba2e",
   "metadata": {},
   "outputs": [
    {
     "name": "stdout",
     "output_type": "stream",
     "text": [
      "Michael Jackson Thriller 1980\n",
      "Oldie\n"
     ]
    }
   ],
   "source": [
    "def type_of_album(artist, album, year_released):\n",
    "    \n",
    "    print(artist, album, year_released)\n",
    "    if year_released > 1980:\n",
    "        return \"Modern\"\n",
    "    else:\n",
    "        return \"Oldie\"\n",
    "    \n",
    "x = type_of_album(\"Michael Jackson\", \"Thriller\", 1980)\n",
    "print(x)"
   ]
  },
  {
   "cell_type": "code",
   "execution_count": 5,
   "id": "c361dc81",
   "metadata": {},
   "outputs": [
    {
     "name": "stdout",
     "output_type": "stream",
     "text": [
      "this album sucks it's rating is 4\n",
      "this album is good its rating is 10\n"
     ]
    }
   ],
   "source": [
    "# setting param with default value\n",
    "# in the isGoodRating() function, we wanted to create a threshold for what we consider to be a good rating\n",
    "\n",
    "def isGoodRating(rating=4): \n",
    "    if(rating < 7):\n",
    "        print(\"this album sucks it's rating is\",rating)\n",
    "        \n",
    "    else:\n",
    "        print(\"this album is good its rating is\",rating)\n",
    "\n",
    "isGoodRating()\n",
    "isGoodRating(10)"
   ]
  },
  {
   "cell_type": "code",
   "execution_count": null,
   "id": "2e2b2020",
   "metadata": {},
   "outputs": [],
   "source": [
    "# Global Scope: Variables defined outside functions; accessible everywhere\n",
    "# Local Scope: Variables inside functions; only usable within that function"
   ]
  },
  {
   "cell_type": "code",
   "execution_count": 16,
   "id": "85c8064f",
   "metadata": {},
   "outputs": [
    {
     "name": "stdout",
     "output_type": "stream",
     "text": [
      "Michael Jackson is an artist\n"
     ]
    },
    {
     "ename": "NameError",
     "evalue": "name 'internal_var1' is not defined",
     "output_type": "error",
     "traceback": [
      "\u001b[1;31m---------------------------------------------------------------------------\u001b[0m",
      "\u001b[1;31mNameError\u001b[0m                                 Traceback (most recent call last)",
      "Cell \u001b[1;32mIn[16], line 9\u001b[0m\n\u001b[0;32m      7\u001b[0m printer1(artist)\n\u001b[0;32m      8\u001b[0m \u001b[38;5;66;03m# try runningthe following code\u001b[39;00m\n\u001b[1;32m----> 9\u001b[0m printer1(internal_var1)\n",
      "\u001b[1;31mNameError\u001b[0m: name 'internal_var1' is not defined"
     ]
    }
   ],
   "source": [
    "artist = \"Michael Jackson\"    #global variable \n",
    "\n",
    "def printer1(artist):\n",
    "    internal_var1 = artist    #local variable\n",
    "    print(artist, \"is an artist\")\n",
    "    \n",
    "printer1(artist)\n",
    "# try runningthe following code\n",
    "printer1(internal_var1) #we got an error because interna_var1 is a local variable"
   ]
  },
  {
   "cell_type": "code",
   "execution_count": 20,
   "id": "97822056",
   "metadata": {},
   "outputs": [
    {
     "data": {
      "text/plain": [
       "['One', 'Two', 'Three', 'Four']"
      ]
     },
     "execution_count": 20,
     "metadata": {},
     "output_type": "execute_result"
    }
   ],
   "source": [
    "# functions can accept (and return) data types, objects and even other functions as arguments. \n",
    "def addItems(list):\n",
    "    list.append(\"Three\")\n",
    "    list.append(\"Four\")\n",
    "\n",
    "myList = [\"One\",\"Two\"]\n",
    "\n",
    "addItems(myList)\n",
    "\n",
    "myList"
   ]
  },
  {
   "cell_type": "code",
   "execution_count": 17,
   "id": "07511e58",
   "metadata": {},
   "outputs": [
    {
     "name": "stdout",
     "output_type": "stream",
     "text": [
      "Michael Jackson is an artist\n",
      "Whitney Houston is an artist\n"
     ]
    }
   ],
   "source": [
    "artist = \"Michael Jackson\"   #global variable\n",
    "\n",
    "def printer(artist):\n",
    "    global internal_var      #global variable\n",
    "    internal_var= \"Whitney Houston\"\n",
    "    print(artist,\"is an artist\")\n",
    "\n",
    "printer(artist) \n",
    "printer(internal_var)"
   ]
  },
  {
   "cell_type": "code",
   "execution_count": 1,
   "id": "0ebabe66",
   "metadata": {},
   "outputs": [
    {
     "ename": "TypeError",
     "evalue": "sum_nums() takes 2 positional arguments but 3 were given",
     "output_type": "error",
     "traceback": [
      "\u001b[1;31m---------------------------------------------------------------------------\u001b[0m",
      "\u001b[1;31mTypeError\u001b[0m                                 Traceback (most recent call last)",
      "Cell \u001b[1;32mIn[1], line 7\u001b[0m\n\u001b[0;32m      5\u001b[0m \u001b[38;5;28;01mdef\u001b[39;00m \u001b[38;5;21msum_nums\u001b[39m(x,y):\n\u001b[0;32m      6\u001b[0m     \u001b[38;5;28;01mreturn\u001b[39;00m x \u001b[38;5;241m+\u001b[39m y\n\u001b[1;32m----> 7\u001b[0m \u001b[38;5;28mprint\u001b[39m(sum_nums(\u001b[38;5;241m2\u001b[39m,\u001b[38;5;241m3\u001b[39m,\u001b[38;5;241m5\u001b[39m))\n",
      "\u001b[1;31mTypeError\u001b[0m: sum_nums() takes 2 positional arguments but 3 were given"
     ]
    }
   ],
   "source": [
    "# When the number of arguments (inputs) are unknown for a function\n",
    "# They can all be packed into a tuple using *args or into a dictionary using **kwargs    (Keyword arguments)\n",
    "# *: unpacking operator\n",
    "\n",
    "def sum_nums(x,y):\n",
    "    return x + y\n",
    "print(sum_nums(2,3,5))   #error -->so we need to use *args"
   ]
  },
  {
   "cell_type": "code",
   "execution_count": null,
   "id": "b44e44ee",
   "metadata": {},
   "outputs": [],
   "source": [
    "# *args : When the number of arguments are unknown for a function, They can all be packed into a tuple using *args"
   ]
  },
  {
   "cell_type": "code",
   "execution_count": null,
   "id": "e8d6f100",
   "metadata": {},
   "outputs": [],
   "source": [
    "# **Kwargs : The arguments can also be packed into a dictionary using **kwargs"
   ]
  },
  {
   "cell_type": "code",
   "execution_count": 4,
   "id": "81811628",
   "metadata": {},
   "outputs": [
    {
     "name": "stdout",
     "output_type": "stream",
     "text": [
      "10\n"
     ]
    }
   ],
   "source": [
    "def sum_nums(*args):\n",
    "    result = 0\n",
    "    for x in args:\n",
    "        result +=x\n",
    "    return result\n",
    "\n",
    "print(sum_nums(2,3,5))"
   ]
  },
  {
   "cell_type": "code",
   "execution_count": 12,
   "id": "e3cd1624",
   "metadata": {},
   "outputs": [
    {
     "name": "stdout",
     "output_type": "stream",
     "text": [
      "15\n"
     ]
    }
   ],
   "source": [
    "def my_sum(a, b, *args, option=True):      #option=True --> keyword argument\n",
    "    result = 0\n",
    "    if option:\n",
    "        for x in args:\n",
    "            result += x\n",
    "        return a + b + result\n",
    "    else:\n",
    "        return result\n",
    "        \n",
    "print(my_sum(1, 2, 3, 4, 5))"
   ]
  },
  {
   "cell_type": "code",
   "execution_count": 13,
   "id": "dd87e563",
   "metadata": {},
   "outputs": [
    {
     "name": "stdout",
     "output_type": "stream",
     "text": [
      "0\n"
     ]
    }
   ],
   "source": [
    "def my_sum(a, b, *args, option=True):\n",
    "    result = 0\n",
    "    \n",
    "    if option:    #if option=True\n",
    "        for x in args:\n",
    "            result += x\n",
    "        return a + b + result\n",
    "    else:\n",
    "        return result\n",
    "        \n",
    "print(my_sum(1, 2, 3, 4, 5, option=False))"
   ]
  },
  {
   "cell_type": "code",
   "execution_count": 14,
   "id": "26dfb1f0",
   "metadata": {},
   "outputs": [
    {
     "name": "stdout",
     "output_type": "stream",
     "text": [
      "DataEngineeringisawesome\n"
     ]
    }
   ],
   "source": [
    "def make_sentence(**kwargs):\n",
    "    result = \"\"   #empty string\n",
    "    for x in kwargs.values():  #to get the values of the dictionary\n",
    "        result += x\n",
    "    return result\n",
    "\n",
    "print(make_sentence(a=\"Data\", b=\"Engineering\", c=\"is\", d=\"awesome\"))"
   ]
  },
  {
   "cell_type": "code",
   "execution_count": 15,
   "id": "26f429a3",
   "metadata": {},
   "outputs": [
    {
     "name": "stdout",
     "output_type": "stream",
     "text": [
      "abcd\n"
     ]
    }
   ],
   "source": [
    "def make_sentence(**kwargs):\n",
    "    result = \"\"   #empty string\n",
    "    for x in kwargs:  #to get the keys of the dictionary\n",
    "        result += x\n",
    "    return result\n",
    "\n",
    "print(make_sentence(a=\"Data\", b=\"Engineering\", c=\"is\", d=\"awesome\"))"
   ]
  },
  {
   "cell_type": "code",
   "execution_count": 26,
   "id": "93fb3f7b",
   "metadata": {},
   "outputs": [
    {
     "name": "stdout",
     "output_type": "stream",
     "text": [
      "a : Data\n",
      "b : Engineering\n",
      "c : is\n",
      "d : awesome\n"
     ]
    }
   ],
   "source": [
    "def make_sentence(**kwargs):\n",
    "    for key, value in kwargs.items():  #to get the key & value of the dictionary\n",
    "        print(f\"{key} : {value}\")  #f:formatting string\n",
    "\n",
    "make_sentence(a=\"Data\", b=\"Engineering\", c=\"is\", d=\"awesome\")"
   ]
  },
  {
   "cell_type": "code",
   "execution_count": 28,
   "id": "85a23679",
   "metadata": {},
   "outputs": [
    {
     "name": "stdout",
     "output_type": "stream",
     "text": [
      "1 2\n",
      "('3 is args', '4 is args')\n",
      "True\n",
      "{'name': 'Esraa'}\n"
     ]
    }
   ],
   "source": [
    "# argument, *args, option, **kwargs  ---> must be in order\n",
    "\n",
    "def print_args(x, y, *args, option=True, **kwargs):\n",
    "    print(x, y)\n",
    "    print(args)\n",
    "    print(option)\n",
    "    print(kwargs)\n",
    "    \n",
    "print_args(1, 2, \"3 is args\", \"4 is args\", name=\"Esraa\")"
   ]
  },
  {
   "cell_type": "code",
   "execution_count": 30,
   "id": "d051e6ea",
   "metadata": {},
   "outputs": [
    {
     "name": "stdout",
     "output_type": "stream",
     "text": [
      "1 2\n",
      "('3 is args', '4 is args')\n",
      "True\n",
      "dict_values(['Esraa'])\n"
     ]
    }
   ],
   "source": [
    "def print_args(x, y, *args, option=True, **kwargs):\n",
    "    print(x, y)\n",
    "    print(args)\n",
    "    print(option)\n",
    "    print(kwargs.values())\n",
    "    \n",
    "print_args(1, 2, \"3 is args\", \"4 is args\", name=\"Esraa\")"
   ]
  },
  {
   "cell_type": "code",
   "execution_count": 31,
   "id": "d2e3ab53",
   "metadata": {},
   "outputs": [
    {
     "name": "stdout",
     "output_type": "stream",
     "text": [
      "1 2\n",
      "('3 is args', '4 is args')\n",
      "True\n",
      "dict_items([('name', 'Esraa')])\n"
     ]
    }
   ],
   "source": [
    "def print_args(x, y, *args, option=True, **kwargs):\n",
    "    print(x, y)\n",
    "    print(args)\n",
    "    print(option)\n",
    "    print(kwargs.items())\n",
    "    \n",
    "print_args(1, 2, \"3 is args\", \"4 is args\", name=\"Esraa\")"
   ]
  },
  {
   "cell_type": "code",
   "execution_count": 32,
   "id": "3aed3da6",
   "metadata": {},
   "outputs": [
    {
     "name": "stdout",
     "output_type": "stream",
     "text": [
      "1 2\n",
      "('3 is args', '4 is args', '5 is also args')\n",
      "False\n",
      "{'name': 'Esraa', 'field': 'Data'}\n"
     ]
    }
   ],
   "source": [
    "def print_args(x, y, *args, option=True, **kwargs):\n",
    "    print(x, y)\n",
    "    print(args)\n",
    "    print(option)\n",
    "    print(kwargs)\n",
    "    \n",
    "print_args(1, 2, \"3 is args\", \"4 is args\", \"5 is also args\", option=False, name=\"Esraa\", field=\"Data\")"
   ]
  },
  {
   "cell_type": "code",
   "execution_count": 18,
   "id": "58d9b625",
   "metadata": {},
   "outputs": [
    {
     "name": "stdout",
     "output_type": "stream",
     "text": [
      "No of arguments: 3\n",
      "Horsefeather\n",
      "Adonis\n",
      "Bone\n",
      "No of arguments: 4\n",
      "Sidecar\n",
      "Long Island\n",
      "Mudslide\n",
      "Carriage\n"
     ]
    }
   ],
   "source": [
    "def printAll(*args): # All the arguments are 'packed' into args which can be treated like a tuple\n",
    "    print(\"No of arguments:\", len(args)) \n",
    "    for argument in args:\n",
    "        print(argument)\n",
    "#printAll with 3 arguments\n",
    "printAll('Horsefeather','Adonis','Bone')\n",
    "#printAll with 4 arguments\n",
    "printAll('Sidecar','Long Island','Mudslide','Carriage')"
   ]
  },
  {
   "cell_type": "code",
   "execution_count": 19,
   "id": "dff03c40",
   "metadata": {},
   "outputs": [
    {
     "name": "stdout",
     "output_type": "stream",
     "text": [
      "Country : Canada\n",
      "Province : Ontario\n",
      "City : Toronto\n"
     ]
    }
   ],
   "source": [
    "def printDictionary(**args):\n",
    "    for key in args:\n",
    "        print(key + \" : \" + args[key])\n",
    "\n",
    "printDictionary(Country='Canada',Province='Ontario',City='Toronto')"
   ]
  },
  {
   "cell_type": "code",
   "execution_count": 38,
   "id": "9c6d3de5",
   "metadata": {},
   "outputs": [
    {
     "name": "stdout",
     "output_type": "stream",
     "text": [
      "[1, 2, 3]\n",
      "-------------\n",
      "1 2 3\n"
     ]
    }
   ],
   "source": [
    "# *arg - **kwargs : unpacking operation (unpacking the iterable objects)\n",
    "# ierable object (str, Dictionary, Tuples,..) ---> can make a loop on it\n",
    "\n",
    "my_list = [1, 2, 3]\n",
    "\n",
    "print(my_list)     #before using *args\n",
    "\n",
    "print(\"-------------\")\n",
    "\n",
    "print(*my_list)    #after using *args             #print(1, 2, 3)"
   ]
  },
  {
   "cell_type": "code",
   "execution_count": 40,
   "id": "77372654",
   "metadata": {},
   "outputs": [
    {
     "name": "stdout",
     "output_type": "stream",
     "text": [
      "6\n"
     ]
    }
   ],
   "source": [
    "def my_sum(x,y,z):\n",
    "    print(x+y+z)\n",
    "my_list = [1, 2, 3]\n",
    "my_sum(*my_list)"
   ]
  },
  {
   "cell_type": "code",
   "execution_count": 42,
   "id": "8664dcb1",
   "metadata": {},
   "outputs": [
    {
     "name": "stdout",
     "output_type": "stream",
     "text": [
      "45\n"
     ]
    }
   ],
   "source": [
    "list1 = [1, 2, 3]\n",
    "list2 = [4, 5, 6]\n",
    "list3 = [7, 8, 9]\n",
    "\n",
    "def my_sum(*args):\n",
    "    result = 0\n",
    "    for x in args:\n",
    "        result += x\n",
    "    return result\n",
    "\n",
    "print(my_sum(*list1, *list2, *list3))  #print(my_sum(1, 2, 3, 4, 5, 6, 7, 8, 9))"
   ]
  },
  {
   "cell_type": "code",
   "execution_count": 46,
   "id": "a8a2f74f",
   "metadata": {},
   "outputs": [
    {
     "name": "stdout",
     "output_type": "stream",
     "text": [
      "1\n",
      "[2, 3, 4, 5]\n",
      "6\n"
     ]
    }
   ],
   "source": [
    "my_list = [1, 2, 3, 4, 5, 6]   #((or))  my_list = (1, 2, 3, 4, 5, 6) -->tuple\n",
    "\n",
    "a, *b, c = my_list\n",
    "\n",
    "print(a)\n",
    "print(b)\n",
    "print(c)"
   ]
  },
  {
   "cell_type": "code",
   "execution_count": 48,
   "id": "20881cc1",
   "metadata": {},
   "outputs": [
    {
     "name": "stdout",
     "output_type": "stream",
     "text": [
      "[1, 2, 3, 1, 2, 3]\n"
     ]
    }
   ],
   "source": [
    "my_first_list = [1, 2, 3]\n",
    "my_second_list = [4, 5, 6]\n",
    "my_merged_list = [*my_first_list, *my_first_list]\n",
    "print(my_merged_list)"
   ]
  },
  {
   "cell_type": "code",
   "execution_count": 50,
   "id": "07f3218a",
   "metadata": {},
   "outputs": [
    {
     "name": "stdout",
     "output_type": "stream",
     "text": [
      "{'A': 1, 'B': 2, 'c': 3, 'D': 4}\n"
     ]
    }
   ],
   "source": [
    "my_first_dict = {\"A\":1, \"B\":2}\n",
    "my_second_dict = {\"c\":3, \"D\":4}\n",
    "my_merged_dict = {**my_first_dict, **my_second_dict}\n",
    "print(my_merged_dict)"
   ]
  },
  {
   "cell_type": "code",
   "execution_count": 52,
   "id": "2b2af1e3",
   "metadata": {},
   "outputs": [
    {
     "name": "stdout",
     "output_type": "stream",
     "text": [
      "['E', 's', 'r', 'a', 'a', 'Data', 'E', 'n', 'g', 'i', 'n', 'e', 'e', 'r', 'i', 'n', 'g']\n"
     ]
    }
   ],
   "source": [
    "list_of_char = [*\"Esraa\", \"Data\", *\"Engineering\"]\n",
    "print(list_of_char)"
   ]
  },
  {
   "cell_type": "markdown",
   "id": "6fe41859",
   "metadata": {},
   "source": [
    "# Exception handling\n",
    "try - except <br>\n",
    "- exception handling: handling errors to prevent the program termination <br>\n",
    "- After the try-except, the program continues executing the remaining code <br>\n",
    "- help to catch and handle exception(issues) in your code that you might not be aware of, and help us differentiate responses to different exceptions<br><br>\n",
    "- <strong>errors</strong> are usually big problems that come from the computer or the system. They often make the program stop working completely. <br>\n",
    "- <strong>exceptions</strong> are more like issues we can control. They happen because of something we did in our code and can usually be fixed, so the program keeps going."
   ]
  },
  {
   "cell_type": "code",
   "execution_count": null,
   "id": "55043f67",
   "metadata": {},
   "outputs": [],
   "source": [
    "# add differentiated messages depending on the exception, letting the user know what is wrong with the input"
   ]
  },
  {
   "cell_type": "code",
   "execution_count": null,
   "id": "a23f2133",
   "metadata": {},
   "outputs": [],
   "source": [
    "try:\n",
    "    # code to try to execute\n",
    "except ZeroDivisionError:\n",
    "    # code to execute if there is a ZeroDivisionError\n",
    "except NameError:\n",
    "    # code to execute if there is a NameError\n",
    "except:\n",
    "    # code to execute if there is any exception\n",
    "else:\n",
    "    # code to execute if there is no exception (no error)\n",
    "finally:\n",
    "    # code to execute at the end of the try except no matter what (even if there is an exception or not)\n",
    "    # used to signify the end of the try except.\n",
    "    \n",
    "# code that will execute if there is no exception or a one that we are handling"
   ]
  },
  {
   "cell_type": "code",
   "execution_count": 66,
   "id": "8007d0df",
   "metadata": {},
   "outputs": [
    {
     "name": "stdout",
     "output_type": "stream",
     "text": [
      "Enter 1st number: 25\n",
      "Enter 2nd number: 0\n",
      "you can't divide by zero\n"
     ]
    }
   ],
   "source": [
    "# ZeroDivisionError: This error arises when an attempt is made to divide a number by zero.\n",
    "# ValueError: This error occurs when an inappropriate value is used within the code.(Ex:when trying to convert a str to an int)\n",
    "\n",
    "try:\n",
    "    value1 = int(input(\"Enter 1st number: \"))\n",
    "    value2 = int(input(\"Enter 2nd number: \"))\n",
    "    result = value1/value2\n",
    "    print(result)\n",
    "\n",
    "except ValueError:\n",
    "    print(\"invalid input\")\n",
    "\n",
    "except ZeroDivisionError:\n",
    "    print(\"you can't divide by zero\")\n",
    "    \n",
    "except:\n",
    "    print(\"some other error occured\")"
   ]
  },
  {
   "cell_type": "code",
   "execution_count": 64,
   "id": "869e0a5e",
   "metadata": {},
   "outputs": [
    {
     "name": "stdout",
     "output_type": "stream",
     "text": [
      "Enter 1st number: f\n",
      "invalid literal for int() with base 10: 'f'\n"
     ]
    }
   ],
   "source": [
    "try:\n",
    "    value1 = int(input(\"Enter 1st number: \"))\n",
    "    value2 = int(input(\"Enter 2nd number: \"))\n",
    "    result = value1/value2\n",
    "    print(result)\n",
    "\n",
    "except ValueError as err:\n",
    "    print(err)\n",
    "\n",
    "except ZeroDivisionError as err1:\n",
    "    print(err1)"
   ]
  },
  {
   "cell_type": "code",
   "execution_count": 68,
   "id": "94f19415",
   "metadata": {},
   "outputs": [
    {
     "name": "stdout",
     "output_type": "stream",
     "text": [
      "[Errno 2] No such file or directory: 'nonexistent_file.txt'\n"
     ]
    }
   ],
   "source": [
    "# FileNotFoundError: This exception is encountered when an attempt is made to access a file that does not exist.\n",
    "\n",
    "try:\n",
    "    with open(\"nonexistent_file.txt\", \"r\") as file:\n",
    "        content = file.read()   # Raises FileNotFoundError\n",
    "except FileNotFoundError as err:\n",
    "    print(err)"
   ]
  },
  {
   "cell_type": "code",
   "execution_count": 72,
   "id": "e018228d",
   "metadata": {},
   "outputs": [
    {
     "name": "stdout",
     "output_type": "stream",
     "text": [
      "list index out of range\n"
     ]
    }
   ],
   "source": [
    "# IndexError: An IndexError occurs when an index is used to access an element in a list that is outside the valid index range.\n",
    "\n",
    "try:\n",
    "    my_list = [1, 2, 3]\n",
    "    #value = my_list[1]  # No IndexError, within range\n",
    "    #print(value)\n",
    "    missing = my_list[5]  # Raises IndexError\n",
    "    print(missing)\n",
    "    \n",
    "except IndexError as err:\n",
    "    print(err)"
   ]
  },
  {
   "cell_type": "code",
   "execution_count": 76,
   "id": "c42637e8",
   "metadata": {},
   "outputs": [
    {
     "name": "stdout",
     "output_type": "stream",
     "text": [
      "'city'\n"
     ]
    }
   ],
   "source": [
    "# KeyError: The KeyError arises when an attempt is made to access a non-existent key in a dictionary.\n",
    "\n",
    "try:\n",
    "    my_dict = {\"name\": \"Alice\", \"age\": 30}\n",
    "    #value = my_dict.get(\"city\")  # No KeyError, using .get() method\n",
    "    missing = my_dict[\"city\"]  # Raises KeyError\n",
    "    \n",
    "except KeyError as err:\n",
    "    print(err)"
   ]
  },
  {
   "cell_type": "code",
   "execution_count": 78,
   "id": "a47c6214",
   "metadata": {},
   "outputs": [
    {
     "name": "stdout",
     "output_type": "stream",
     "text": [
      "can only concatenate str (not \"int\") to str\n"
     ]
    }
   ],
   "source": [
    "# TypeError: The TypeError occurs when an object is used in an incompatible manner.(Ex: trying to concatenate a str and an int)\n",
    "\n",
    "try:\n",
    "    result = \"hello\" + 5   \n",
    "except TypeError as err:\n",
    "    print(err)"
   ]
  },
  {
   "cell_type": "code",
   "execution_count": 80,
   "id": "6431d150",
   "metadata": {},
   "outputs": [
    {
     "name": "stdout",
     "output_type": "stream",
     "text": [
      "'str' object has no attribute 'some_method'\n"
     ]
    }
   ],
   "source": [
    "# AttributeError: An AttributeError occurs when an attribute or method is accessed on an \n",
    "# object that doesn't possess that specific attribute or method.\n",
    "\n",
    "try:\n",
    "    text = \"example\"\n",
    "    #length = len(text)  # No AttributeError, correct method usage\n",
    "    missing = text.some_method()  # Raises AttributeError\n",
    "except AttributeError as err:\n",
    "    print(err)"
   ]
  },
  {
   "cell_type": "code",
   "execution_count": 89,
   "id": "d6a0b5b8",
   "metadata": {},
   "outputs": [
    {
     "name": "stdout",
     "output_type": "stream",
     "text": [
      "name 'z' is not defined\n"
     ]
    }
   ],
   "source": [
    "# NameError: when you tried to use an undefined value\n",
    "\n",
    "try:\n",
    "    y = z + 5\n",
    "    print(y)\n",
    "except NameError as err:\n",
    "    print(err)"
   ]
  },
  {
   "cell_type": "code",
   "execution_count": null,
   "id": "34e1fcd5",
   "metadata": {},
   "outputs": [],
   "source": [
    "# ImportError: This error is encountered when an attempt is made to import a module that is unavailable. \n",
    "# For example: import non_existent_module"
   ]
  },
  {
   "cell_type": "code",
   "execution_count": 94,
   "id": "bf8e13ed",
   "metadata": {},
   "outputs": [
    {
     "name": "stdout",
     "output_type": "stream",
     "text": [
      "Please enter a number to divide a: 1\n",
      "success a= 1.0\n",
      "Processing Complete\n"
     ]
    }
   ],
   "source": [
    "a = 1\n",
    "\n",
    "try:\n",
    "    b = int(input(\"Please enter a number to divide a: \"))\n",
    "    a = a/b\n",
    "except ZeroDivisionError:\n",
    "    print(\"The number you provided cant divide 1 because it is 0\")\n",
    "except ValueError:\n",
    "    print(\"You did not provide a number\")\n",
    "except:\n",
    "    print(\"Something went wrong\")\n",
    "else:\n",
    "    print(\"success a=\",a)\n",
    "finally:\n",
    "    print(\"Processing Complete\")"
   ]
  },
  {
   "cell_type": "markdown",
   "id": "b50b8189",
   "metadata": {},
   "source": [
    "# Classes & Objects\n",
    "Python is an object-oriented programming (OOP) language, which means it uses a paradigm centered around objects and classes<br>\n",
    "- <strong>class:</strong> is a blueprint or template for creating objects. It defines the structure and behavior that its objects will have.<br>\n",
    "When you create a class, you specify the attributes(data) and methods (functions) that objects of that class will have.<br>\n",
    "Ex: you can design a \"Car\" class with attributes such as \"color\" and \"speed,\" along with methods like \"accelerate.\"<br>\n",
    "- <strong>object:</strong> is a fundamental unit in Python that represents a real-world entity or concept.<br>\n",
    "<mark><em>Every object has two main characteristics:</em></mark><br>\n",
    "<em><strong>State:</strong></em><br>\n",
    "The attributes or data that describe the object. Ex: For our \"Car\" object, this might include attributes like \"color\", \"speed\", and \"fuel level\".<br>\n",
    "<em><strong>Behavior:</strong></em><br>\n",
    "The actions or methods that the object can perform. In Python, methods are functions that belong to objects and can change the object's state or perform specific operations.<br>"
   ]
  },
  {
   "cell_type": "code",
   "execution_count": null,
   "id": "5fc1520e",
   "metadata": {},
   "outputs": [],
   "source": [
    "# __init__ method: a special method known as the constructor.\n",
    "#It initializes the instance attributes (also called instance variables) when an object is created.\n",
    "\n",
    "#The self parameter: the first parameter of the constructor, referring to the instance being created.\n",
    "#attribute1, attribute2, and so on are parameters passed to the constructor when creating an object.\n",
    "#Inside the constructor, self.attribute1, self.attribute2, and so on are used to assign values to instance attributes."
   ]
  },
  {
   "cell_type": "code",
   "execution_count": 14,
   "id": "0604124b",
   "metadata": {},
   "outputs": [
    {
     "name": "stdout",
     "output_type": "stream",
     "text": [
      "25 Esraa 60 True 4\n",
      "True\n",
      "False\n",
      "1500\n",
      "no bonus added, salary is still: 1500\n",
      "600\n",
      "salary increased to: 1100\n"
     ]
    }
   ],
   "source": [
    "class Employee:             #self parameter is the 1st parameter of the constructor, referring to the instance being created.\n",
    "    def __init__(self, name, age, department, is_manager, rating, salary):  #__init__ method is the constructor.\n",
    "        self.name = name     #instance attributes\n",
    "        self.age = age\n",
    "        self.department = department\n",
    "        self.is_manager = is_manager\n",
    "        self.rating = rating  #rating is from 1-5\n",
    "        self.salary = salary\n",
    "        \n",
    "    def is_excellent(self):\n",
    "        if self.rating >= 4.5:\n",
    "            return True\n",
    "        else:\n",
    "            return False\n",
    "        \n",
    "    def bonus(self):\n",
    "        if self.age == 60:\n",
    "            self.salary += 500\n",
    "            print(\"salary increased to: \" +str(self.salary))\n",
    "        else:\n",
    "            print(\"no bonus added, salary is still: \"+str(self.salary))\n",
    "            \n",
    "            \n",
    "        \n",
    "#from file_name import class_name    ---> in visual studio\n",
    "\n",
    "employee1 = Employee(\"Esraa\", 25, \"Data Management\", False, 4.5, 1500)\n",
    "employee2 = Employee(\"Sarah\", 60, \"HR\", True, 3.5, 600)\n",
    "employee2.rating = 4  #change the data attribute\n",
    "\n",
    "print(employee1.age, employee1.name, employee2.age, employee2.is_manager, employee2.rating)\n",
    "\n",
    "print(employee1.is_excellent())\n",
    "print(employee2.is_excellent())\n",
    "\n",
    "print(employee1.salary)\n",
    "employee1.bonus()\n",
    "print(employee2.salary)\n",
    "employee2.bonus()"
   ]
  },
  {
   "cell_type": "code",
   "execution_count": 1,
   "id": "3a7e21a0",
   "metadata": {},
   "outputs": [
    {
     "name": "stdout",
     "output_type": "stream",
     "text": [
      "I studied 7 years\n",
      "I work in a hospital\n",
      "I get paid by the government\n",
      "I work in a hospital\n",
      "I work with families\n",
      "I get paid by the people\n"
     ]
    }
   ],
   "source": [
    "# class Inheritance\n",
    "\n",
    "class Doctor:\n",
    "    def studied_years(self):\n",
    "        print(\"I studied 7 years\")\n",
    "        \n",
    "    def works_where(self):\n",
    "        print(\"I work in a hospital\")\n",
    "        \n",
    "    def paid_by_who(self):\n",
    "        print(\"I get paid by the government\")\n",
    "\n",
    "#from file_name import class_name    ---> in visual studio\n",
    "class FamilyDoctor(Doctor):\n",
    "    def what_specialization(self):\n",
    "        print(\"I work with families\")\n",
    "    def paid_by_who(self):  #overright the function\n",
    "        print(\"I get paid by the people\")\n",
    "    \n",
    "    \n",
    "#from file_name import class_name    ---> in visual studio\n",
    "\n",
    "doctor1 = Doctor()\n",
    "doctor2 = FamilyDoctor()\n",
    "\n",
    "doctor1.studied_years()\n",
    "doctor1.works_where()\n",
    "doctor1.paid_by_who()\n",
    "\n",
    "doctor2.works_where()\n",
    "doctor2.what_specialization()\n",
    "doctor2.paid_by_who()"
   ]
  },
  {
   "cell_type": "code",
   "execution_count": 2,
   "id": "ac6171d4",
   "metadata": {},
   "outputs": [
    {
     "data": {
      "text/plain": [
       "['__class__',\n",
       " '__delattr__',\n",
       " '__dict__',\n",
       " '__dir__',\n",
       " '__doc__',\n",
       " '__eq__',\n",
       " '__format__',\n",
       " '__ge__',\n",
       " '__getattribute__',\n",
       " '__getstate__',\n",
       " '__gt__',\n",
       " '__hash__',\n",
       " '__init__',\n",
       " '__init_subclass__',\n",
       " '__le__',\n",
       " '__lt__',\n",
       " '__module__',\n",
       " '__ne__',\n",
       " '__new__',\n",
       " '__reduce__',\n",
       " '__reduce_ex__',\n",
       " '__repr__',\n",
       " '__setattr__',\n",
       " '__sizeof__',\n",
       " '__str__',\n",
       " '__subclasshook__',\n",
       " '__weakref__',\n",
       " 'paid_by_who',\n",
       " 'studied_years',\n",
       " 'works_where']"
      ]
     },
     "execution_count": 2,
     "metadata": {},
     "output_type": "execute_result"
    }
   ],
   "source": [
    "dir(Doctor)"
   ]
  },
  {
   "cell_type": "code",
   "execution_count": 15,
   "id": "4204e4f0",
   "metadata": {},
   "outputs": [
    {
     "name": "stdout",
     "output_type": "stream",
     "text": [
      "Toyota Camry is currently at 30 km/h.\n",
      "Honda Civic is currently at 20 km/h.\n"
     ]
    }
   ],
   "source": [
    "class Car:\n",
    "    # Class attribute (shared by all instances)\n",
    "    max_speed = 120  # Maximum speed in km/h\n",
    "    \n",
    "    # Constructor method (initialize instance attributes)\n",
    "    def __init__(self, make, model, color, speed=0):\n",
    "        self.make = make\n",
    "        self.model = model\n",
    "        self.color = color\n",
    "        self.speed = speed  # Initial speed is set to 0\n",
    "        \n",
    "    # Method for accelerating the car\n",
    "    def accelerate(self, acceleration):\n",
    "        if self.speed + acceleration <= Car.max_speed:\n",
    "            self.speed += acceleration\n",
    "        else:\n",
    "            self.speed = Car.max_speed\n",
    "            \n",
    "    # Method to get the current speed of the car\n",
    "    def get_speed(self):\n",
    "        return self.speed\n",
    "    \n",
    "# Create objects (instances) of the Car class\n",
    "car1 = Car(\"Toyota\", \"Camry\", \"Blue\")\n",
    "car2 = Car(\"Honda\", \"Civic\", \"Red\")\n",
    "\n",
    "# Accelerate the cars\n",
    "car1.accelerate(30)\n",
    "car2.accelerate(20)\n",
    "\n",
    "# Print the current speeds of the cars\n",
    "print(f\"{car1.make} {car1.model} is currently at {car1.get_speed()} km/h.\")\n",
    "print(f\"{car2.make} {car2.model} is currently at {car2.get_speed()} km/h.\")"
   ]
  },
  {
   "cell_type": "code",
   "execution_count": 29,
   "id": "6c0151ce",
   "metadata": {},
   "outputs": [
    {
     "data": {
      "image/png": "[encoded data removed]",
      "text/plain": [
       "<Figure size 640x480 with 1 Axes>"
      ]
     },
     "metadata": {},
     "output_type": "display_data"
    },
    {
     "name": "stdout",
     "output_type": "stream",
     "text": [
      "Radius of object: 1\n",
      "Radius of object of after applying the method add_radius(2): 3\n",
      "Radius of object of after applying the method add_radius(5): 8\n"
     ]
    },
    {
     "data": {
      "image/png": "[encoded data removed]",
      "text/plain": [
       "<Figure size 640x480 with 1 Axes>"
      ]
     },
     "metadata": {},
     "output_type": "display_data"
    }
   ],
   "source": [
    "# Import the matplotlib library to draw the objects\n",
    "import matplotlib.pyplot as plt\n",
    "%matplotlib inline \n",
    "\n",
    "#class:circle #attributes:radius,color #instances(objects):red circle,yellow circle,green circle\n",
    "# Create a class Circle\n",
    "class Circle(object):\n",
    "    # Constructor: __init__ (used to initialize the object)\n",
    "    # The inputs are data attributes\n",
    "    # The term self contains all the attributes in the set\n",
    "    def __init__(self, radius=3, color='blue'):\n",
    "        self.radius = radius    #To access the radius we use the syntax self.radius\n",
    "        self.color = color \n",
    "    \n",
    "    # Method--> the method add_radius() with the parameter r, the method adds the value of r to the attribute radius\n",
    "    def add_radius(self, r):\n",
    "        self.radius = self.radius + r\n",
    "        return(self.radius)\n",
    "    \n",
    "    # Method\n",
    "    def drawCircle(self):  #the method drawCircle display the image of a circle\n",
    "        plt.gca().add_patch(plt.Circle((0, 0), radius=self.radius, fc=self.color))\n",
    "        plt.axis('scaled')\n",
    "        plt.show()  \n",
    "        \n",
    "        \n",
    "# Create objects\n",
    "RedCircle = Circle(10, 'red')\n",
    "# Find out the methods can be used on the object RedCircle\n",
    "dir(RedCircle)\n",
    "# Print the object attribute radius\n",
    "RedCircle.radius\n",
    "# Print the object attribute color\n",
    "RedCircle.color\n",
    "# Set the object attribute radius\n",
    "RedCircle.radius = 1\n",
    "RedCircle.radius\n",
    "# Call the method drawCircle\n",
    "RedCircle.drawCircle()\n",
    "# Use method to change the object attribute radius\n",
    "print('Radius of object:',RedCircle.radius)\n",
    "RedCircle.add_radius(2)  #.add_radius(r):increase the radius of the circle by r\n",
    "print('Radius of object of after applying the method add_radius(2):',RedCircle.radius)\n",
    "RedCircle.add_radius(5)\n",
    "print('Radius of object of after applying the method add_radius(5):',RedCircle.radius)\n",
    "\n",
    "\n",
    "\n",
    "\n",
    "# Create a blue circle with a given radius\n",
    "BlueCircle = Circle(radius=100)\n",
    "# Print the object attribute radius\n",
    "BlueCircle.radius\n",
    "# Print the object attribute color\n",
    "BlueCircle.color\n",
    "# Call the method drawCircle\n",
    "BlueCircle.drawCircle()"
   ]
  },
  {
   "cell_type": "code",
   "execution_count": 35,
   "id": "a34c8d4b",
   "metadata": {},
   "outputs": [
    {
     "data": {
      "image/png": "[encoded data removed]",
      "text/plain": [
       "<Figure size 640x480 with 1 Axes>"
      ]
     },
     "metadata": {},
     "output_type": "display_data"
    },
    {
     "data": {
      "image/png": "[encoded data removed]",
      "text/plain": [
       "<Figure size 640x480 with 1 Axes>"
      ]
     },
     "metadata": {},
     "output_type": "display_data"
    }
   ],
   "source": [
    "#class:rectangle #attributes:height,width\n",
    "# Create a new Rectangle class for creating a rectangle object\n",
    "class Rectangle(object):\n",
    "    # Constructor\n",
    "    def __init__(self, width=2, height=3, color='r'):\n",
    "        self.height = height \n",
    "        self.width = width\n",
    "        self.color = color\n",
    "        \n",
    "    # Method\n",
    "    def drawRectangle(self):\n",
    "        plt.gca().add_patch(plt.Rectangle((0, 0), self.width, self.height ,fc=self.color))\n",
    "        plt.axis('scaled')\n",
    "        plt.show()\n",
    "        \n",
    "        \n",
    "# Create a new object rectangle\n",
    "SkinnyBlueRectangle = Rectangle(2, 3, 'blue')\n",
    "# Print the object attribute height\n",
    "SkinnyBlueRectangle.height \n",
    "# Print the object attribute width\n",
    "SkinnyBlueRectangle.width\n",
    "# Print the object attribute color\n",
    "SkinnyBlueRectangle.color\n",
    "# Use the drawRectangle method to draw the shape\n",
    "SkinnyBlueRectangle.drawRectangle()\n",
    "# Create a new object rectangle\n",
    "FatYellowRectangle = Rectangle(20, 5, 'yellow')\n",
    "# Print the object attribute height\n",
    "FatYellowRectangle.height\n",
    "# Print the object attribute width\n",
    "FatYellowRectangle.width\n",
    "# Print the object attribute color\n",
    "FatYellowRectangle.color\n",
    "# Use the drawRectangle method to draw the shape\n",
    "FatYellowRectangle.drawRectangle()"
   ]
  },
  {
   "cell_type": "code",
   "execution_count": 38,
   "id": "af5e3193",
   "metadata": {},
   "outputs": [
    {
     "name": "stdout",
     "output_type": "stream",
     "text": [
      "Properties of the vehicle: \n",
      "color:  White\n",
      "maximum_speed:  200\n",
      "mileage:  20\n",
      "seating_capacity:  5\n",
      "Properties of the vehicle: \n",
      "color:  White\n",
      "maximum_speed:  180\n",
      "mileage:  25\n",
      "seating_capacity:  4\n"
     ]
    }
   ],
   "source": [
    "# creating a Python program to represent vehicles using a class, Each car should have attributes for maximum speed and mileage.\n",
    "\n",
    "#Update the class with the default color for all vehicles,\" white\"\n",
    "#create methods in the Vehicle class to assign seating capacity to a vehicle\n",
    "#Create a method to display all the properties of an object of the class\n",
    "#create two objects of the Vehicle class object that should have a max speed of 200kmph and mileage of 20kmpl \n",
    "# with five seating capacities, and another car object should have a max speed of 180kmph and mileage of 25kmpl \n",
    "# with four seating capacities.\n",
    "class vehicle:\n",
    "    color = 'White'\n",
    "    def __init__(self, maximum_speed, mileage):\n",
    "        self.maximum_speed = maximum_speed\n",
    "        self.mileage = mileage\n",
    "    def assign_seating_capacity(self, seating_capacity):\n",
    "        self.seating_capacity = seating_capacity\n",
    "    def display_properties(self):\n",
    "        print('Properties of the vehicle: ')\n",
    "        print('color: ', self.color)\n",
    "        print('maximum_speed: ', self.maximum_speed)\n",
    "        print('mileage: ', self.mileage)\n",
    "        print('seating_capacity: ', self.seating_capacity)\n",
    "        \n",
    "vehicle1 = vehicle(200, 20)\n",
    "vehicle1.assign_seating_capacity(5)\n",
    "vehicle1.display_properties()\n",
    "\n",
    "vehicle2 = vehicle(180, 25)\n",
    "vehicle2.assign_seating_capacity(4)\n",
    "vehicle2.display_properties()"
   ]
  },
  {
   "cell_type": "code",
   "execution_count": 3,
   "id": "7129b4d1",
   "metadata": {},
   "outputs": [
    {
     "name": "stdout",
     "output_type": "stream",
     "text": [
      "Formatted Text: lorem ipsum dolor diam amet consetetur lorem magna sed diam nonumy eirmod tempor diam et labore et diam magna et diam amet\n",
      "{'diam': 5, 'consetetur': 1, 'sed': 1, 'labore': 1, 'amet': 2, 'ipsum': 1, 'dolor': 1, 'nonumy': 1, 'et': 3, 'magna': 2, 'eirmod': 1, 'tempor': 1, 'lorem': 2}\n",
      "The word lorem appears 2 times.\n"
     ]
    }
   ],
   "source": [
    "#Text analysis/text mining: refers to the process of extracting meaningful information and insights from textual data.\n",
    "\n",
    "givenstring=\"Lorem ipsum dolor! diam amet, consetetur Lorem magna. sed diam nonumy eirmod tempor. diam et labore? et diam magna. et diam amet.\"\n",
    "\n",
    "#create a class called TextAnalyzer to analyze text.\n",
    "class TextAnalyzer(object):\n",
    "    # The __init__ method initializes the class with a 'text' parameter.\n",
    "    # We will store the provided 'text' as an instance variable.  \n",
    "    def __init__ (self, text):\n",
    "         # remove punctuation\n",
    "        formattedText = text.replace('.','').replace('!','').replace('?','').replace(',','')\n",
    "        # make text lowercase\n",
    "        formattedText = formattedText.lower()\n",
    "        self.fmtText = formattedText\n",
    "        \n",
    "    def freqAll(self):  \n",
    "        # split text into words\n",
    "        x = self.fmtText.split()\n",
    "        # Create dictionary\n",
    "        Dict = {}\n",
    "        for word in set(x): # use set to remove duplicates in list\n",
    "            Dict[word] = x.count(word)\n",
    "        \n",
    "        return Dict\n",
    "           \n",
    "    def freqOf(self,word):\n",
    "        # get frequency map\n",
    "        freqDict = self.freqAll()\n",
    "        \n",
    "        if word in freqDict:\n",
    "            return freqDict[word]\n",
    "        else:\n",
    "            return 0\n",
    "        \n",
    "        \n",
    "# Create an instance of TextAnalyzer Class by passing the given string as an argument\n",
    "analyzed = TextAnalyzer(givenstring)\n",
    "# Call the function that converts the data into lowercase\n",
    "print(\"Formatted Text:\", analyzed.fmtText)\n",
    "# Call the function that counts the frequency of all unique words from the data\n",
    "Dict = analyzed.freqAll()\n",
    "print(Dict)\n",
    "# Call the function that counts the frequency of specific word\n",
    "word = \"lorem\"\n",
    "frequency = analyzed.freqOf(word)\n",
    "print(\"The word\",word,\"appears\",frequency,\"times.\")"
   ]
  },
  {
   "cell_type": "code",
   "execution_count": null,
   "id": "9418ef27",
   "metadata": {},
   "outputs": [],
   "source": [
    "# Class Definition: Defines a blueprint for creating objects and defining their attributes and behaviors.\n",
    "# function: is a reusable block of code that performs a specific task or set of tasks when called.\n",
    "# for loop: repeatedly executes a block of code for a specified number of iterations or over a sequence of elements(list,range,str,..)\n",
    "# while loop: repeatedly executes a block of code as long as a specified condition remains `True`.\n",
    "# function call: is the act of executing the code within the function using the provided arguments.\n",
    "# If Statement: Executes code block `if` the condition is `True`.\n",
    "# If-Elif-Else: Executes the first code block if condition1 is `True`, otherwise checks condition2, and so on. \n",
    "#                                                       If no condition is `True`, the else block is executed.\n",
    "\n",
    "# If-Else Statement: Executes the first code block if the condition is `True`, otherwise the second block.\n",
    "# Loop Controls:'break' exits the loop prematurely. \n",
    "#               'continue' skips the rest of the current iteration and moves to the next iteration.\n",
    "\n",
    "# NOT: Returns `True` if variable is `False`, and vice versa.\n",
    "# Object Creation: Creates an instance of a class (object) using the class constructor.\n",
    "# range(): Generates a sequence of numbers within a specified range.\n",
    "# Return Statement: `Return` is a keyword used to send a value back from a function to its caller.\n",
    "# Try-Except Block: Tries to execute the code in the try block. If an exception of the specified type occurs, \n",
    "#                                                                    the code in the except block is executed.\n",
    "\n",
    "# Try-Except with Else Block: Code in the `else` block is executed if no exception occurs in the try block.\n",
    "# Try-Except with Finally Block: Code in the `finally` block always executes, regardless of whether an exception occurred."
   ]
  },
  {
   "cell_type": "markdown",
   "id": "03e581e7",
   "metadata": {},
   "source": [
    "# Files (open-reading-writing)"
   ]
  },
  {
   "cell_type": "code",
   "execution_count": null,
   "id": "0d2e23fb",
   "metadata": {},
   "outputs": [],
   "source": [
    "\"\"\"\n",
    "\n",
    "                         |---> Reading --> r ((initial position: begining))\n",
    "                         |\n",
    "                         |\n",
    "                         |\n",
    "   opening file --> for?  ---> writing --> Truncate? --> YES --> w\n",
    "                         |                          |\n",
    "                         |                          |--> NO --> a ((initial position: End)\n",
    "                         |\n",
    "                         |\n",
    "                         |\n",
    "                         |---> Reading & writing --> Truncate? --> YES --> w+\n",
    "                                                              |   \n",
    "                                                              |       \n",
    "                                                              |       \n",
    "                                                              |--> NO  --> r+ ((initial position: begining))\n",
    "                                                                       |       \n",
    "                                                                       |--> a+  ((initial position: End)  \n",
    "\n",
    "\n",
    "\"\"\""
   ]
  },
  {
   "cell_type": "code",
   "execution_count": null,
   "id": "0bc54738",
   "metadata": {},
   "outputs": [],
   "source": [
    "# read: r, r+, w+, a+ \n",
    "# write: r+, w, w+, a, a+\n",
    "#create: w, w+, a, a+ \n",
    "#truncate: w, w+\n",
    "#position @start: r, r+, w, w+\n",
    "#position @end: a, a+"
   ]
  },
  {
   "cell_type": "code",
   "execution_count": null,
   "id": "6c4db1b4",
   "metadata": {},
   "outputs": [],
   "source": [
    "# 'r':  Read mode. Opens an existing file for reading. Raises an error if the file doesn't exist.\n",
    "# 'w':  Write mode. Creates a new file for writing. Overwrites the file if it already exists.\n",
    "# 'a':  Append mode. Opens a file for appending data. Creates the file if it doesn't exist.\n",
    "# 'x':  Exclusive creation mode. Creates a new file for writing but raises an error if the file already exists.\n",
    "# 'rb': Read binary mode. Opens an existing binary file for reading.\n",
    "# 'wb': Write binary mode. Creates a new binary file for writing\n",
    "# 'ab': Append binary mode. Opens a binary file for appending data.\n",
    "# 'xb': Exclusive binary creation mode. Creates a new binary file for writing but raises an error if it already exists.\n",
    "# 'rt': Read text mode. Opens an existing text file for reading. (Default for text files)\n",
    "# 'wt': Write text mode. Creates a new text file for writing. (Default for text files)\n",
    "# 'at': Append text mode. Opens a text file for appending data. (Default for text files)\n",
    "# 'xt': Exclusive text creation mode. Creates a new text file for writing but raises an error if it already exists.\n",
    "# 'r+': Read and write mode. Opens an existing file for both reading and writing\n",
    "# 'w+': Write and read mode. Creates a new file for reading and writing. Overwrites the file if it already exists.\n",
    "# 'a+': Append and read mode. Opens a file for both appending and reading. Creates the file if it doesn't exist.\n",
    "# 'x+': Exclusive creation and read/write mode. Creates a new file for reading and writing but raises an error if it already exists."
   ]
  },
  {
   "cell_type": "code",
   "execution_count": null,
   "id": "9400c181",
   "metadata": {},
   "outputs": [],
   "source": [
    "# .tell(): returns the current position in bytes\n",
    "# .seek(offset,from): changes the position by 'offset' bytes with respect to 'from'\n",
    "#                         From can take the value of 0,1,2 corresponding to beginning, relative to current position & end\n",
    "# .seek(): to read characters from a specific position in the file"
   ]
  },
  {
   "cell_type": "code",
   "execution_count": null,
   "id": "19dbd617",
   "metadata": {},
   "outputs": [],
   "source": [
    "# w, w+, a, a+ : if the file doesn't exist, python will create it"
   ]
  },
  {
   "cell_type": "code",
   "execution_count": 25,
   "id": "c1641284",
   "metadata": {},
   "outputs": [],
   "source": [
    "# a: append new data to an existing file without overwriting its contents(if the file doesn't exist, it will be created)\n",
    "# w: overwrites all the existing data in the file\n",
    "# w+ : Writing and reading. Truncates the file\n",
    "# a+ : Appending and Reading. Creates a new file, if none exists.\n",
    "# r+ : Reading and writing. Cannot truncate the file."
   ]
  },
  {
   "cell_type": "code",
   "execution_count": null,
   "id": "3358567a",
   "metadata": {},
   "outputs": [],
   "source": [
    "#open function is used to create a file object and access the data within a text file. It takes two primary parameters:\n",
    "#File Path: The file path consists of the filename and directory where the file is located.\n",
    "#Mode: The mode parameter specifies the purpose of opening the file, such as 'r' for reading, 'w' for writing, or 'a' for appending."
   ]
  },
  {
   "cell_type": "code",
   "execution_count": null,
   "id": "e747e844",
   "metadata": {},
   "outputs": [],
   "source": [
    "# with statement: the code will run everything in the indent block then close the file.\n",
    "\n",
    "# Adv. of With:\n",
    "#Automatic resource management: The file is guaranteed to be closed when you exit the with block, \n",
    "#                               even if an exception occurs during processing.\n",
    "#prevent resource leaks\n",
    "\n",
    "#Cleaner and more concise code: You don't need to explicitly call close(),making your code more readable and less error-prone."
   ]
  },
  {
   "cell_type": "code",
   "execution_count": 5,
   "id": "81e325ba",
   "metadata": {},
   "outputs": [
    {
     "name": "stdout",
     "output_type": "stream",
     "text": [
      "True\n"
     ]
    }
   ],
   "source": [
    "# with statement: the code will run everything in the indent block then close the file.\n",
    "\n",
    "with open(r'C:\\Users\\esraa\\Desktop\\DataSets\\Flavors.csv','r') as file1:\n",
    "    print(file1.readable())                #check if the file is readable or not  #YES\n",
    "    #print(file1.read())                   # .read(): read all the file\n",
    "    #print(file1.readline())               # .readline(): read line, It can be called multiple times to read subsequent lines.\n",
    "    #print(file1.readlines())              # .readlines(): read all lines (line by line) and put them in a list\n",
    "    #print(file1.readlines()[1])           # [1]: the index of the list\n",
    "    #file1.name                            #to get the name of the file\n",
    "    #file1.mode                            #to get the mode\n",
    "    #file1.closed                          #to Verify if the file is closed"
   ]
  },
  {
   "cell_type": "code",
   "execution_count": 10,
   "id": "febfa03f",
   "metadata": {},
   "outputs": [
    {
     "name": "stdout",
     "output_type": "stream",
     "text": [
      "\n"
     ]
    }
   ],
   "source": [
    "#file2 = open(r'C:\\Users\\esraa\\Desktop\\DataSets\\Flavors.csv','r')\n",
    "#print(file2.read())\n",
    "\n",
    "#file2.close()"
   ]
  },
  {
   "cell_type": "code",
   "execution_count": 50,
   "id": "60b648ac",
   "metadata": {},
   "outputs": [],
   "source": [
    "# using for loop to print each line individually\n",
    "\n",
    "#file2 = open(r'C:\\Users\\esraa\\Desktop\\DataSets\\Flavors.csv','r')\n",
    "\n",
    "#for data in file2.readlines():\n",
    "#    print(data)\n",
    "\n",
    "#file2.close()"
   ]
  },
  {
   "cell_type": "code",
   "execution_count": null,
   "id": "0cbbc009",
   "metadata": {},
   "outputs": [],
   "source": [
    "# file = open('my_file.txt', 'r')\n",
    "\n",
    "# .seek(): to read characters from a specific position in the file\n",
    "#The position is specified in bytes, so we'll need to know the byte offset of the characters you want to read\n",
    "# file.seek(10)  # Move to the 11th byte (0-based index)\n",
    "\n",
    "# characters = file.read(5)  # Read the next 5 characters from the current position of the file pointer(like a cursor)\n",
    "#                                                         If we call the method again, the next 5 characters are called\n",
    "# print(characters)\n",
    "# file.close()"
   ]
  },
  {
   "cell_type": "code",
   "execution_count": null,
   "id": "e8ac3859",
   "metadata": {},
   "outputs": [],
   "source": [
    "# Iterate through the lines\n",
    "\n",
    "#with open(example1,\"r\") as file1:\n",
    "#        i = 0;\n",
    "#        for line in file1:\n",
    "#            print(\"Iteration\", str(i), \": \", line)\n",
    "#            i = i + 1"
   ]
  },
  {
   "cell_type": "code",
   "execution_count": 2,
   "id": "7874988c",
   "metadata": {},
   "outputs": [
    {
     "name": "stdout",
     "output_type": "stream",
     "text": [
      "False\n"
     ]
    }
   ],
   "source": [
    "with open(r'C:\\Users\\esraa\\Desktop\\DataSets\\Flavors.csv','w') as file1:\n",
    "    print(file1.readable())     #check if the file is readable or not  #NO because it is the 'w' mode\n",
    "    #print(file1.write())       # .write(): write in the file"
   ]
  },
  {
   "cell_type": "code",
   "execution_count": 31,
   "id": "2fec960f",
   "metadata": {},
   "outputs": [
    {
     "name": "stdout",
     "output_type": "stream",
     "text": [
      "Esraa Elgendy\n",
      "Data Engineering\n"
     ]
    }
   ],
   "source": [
    "file4 = open('workers', 'w')\n",
    "file4.write('Esraa Elgendy')\n",
    "file4.write('\\nData Engineering')\n",
    "\n",
    "#reading file workers\n",
    "file4 = open('workers', 'r')\n",
    "file = file4.read()\n",
    "print(file)\n",
    "\n",
    "file4.close()"
   ]
  },
  {
   "cell_type": "code",
   "execution_count": 39,
   "id": "13ecd5ec",
   "metadata": {},
   "outputs": [
    {
     "name": "stdout",
     "output_type": "stream",
     "text": [
      "This is line A\n",
      "This is line B\n",
      "This is line C\n",
      "\n"
     ]
    }
   ],
   "source": [
    "# Writing multiple lines to a file using a list and loop\n",
    "\n",
    "Lines = [\"This is line A\\n\", \"This is line B\\n\", \"This is line C\\n\"]\n",
    "\n",
    "with open('Example2', 'w') as writefile:\n",
    "    for line in Lines:\n",
    "        writefile.write(line)\n",
    "\n",
    "#verify the file is written by reading it\n",
    "with open('Example2', 'r') as testwritefile:\n",
    "    print(testwritefile.read())"
   ]
  },
  {
   "cell_type": "code",
   "execution_count": 41,
   "id": "9dfb9829",
   "metadata": {},
   "outputs": [
    {
     "name": "stdout",
     "output_type": "stream",
     "text": [
      "Initial Location: 48\n",
      "Read nothing\n",
      "\n",
      "New Location : 0\n",
      "This is line A\n",
      "This is line B\n",
      "This is line C\n",
      "\n",
      "Location after read: 48\n"
     ]
    }
   ],
   "source": [
    "# .tell() - returns the current position in bytes\n",
    "# .seek(offset,from) - changes the position by 'offset' bytes with respect to 'from'\n",
    "#                         From can take the value of 0,1,2 corresponding to beginning, relative to current position and end\n",
    "\n",
    "with open('Example2', 'a+') as testwritefile:\n",
    "    print(\"Initial Location: {}\".format(testwritefile.tell()))\n",
    "    \n",
    "    data = testwritefile.read()\n",
    "    if (not data):  #empty strings return false in python\n",
    "            print('Read nothing') \n",
    "    else: \n",
    "            print(testwritefile.read())\n",
    "            \n",
    "    testwritefile.seek(0,0) # move 0 bytes from beginning.\n",
    "    \n",
    "    print(\"\\nNew Location : {}\".format(testwritefile.tell()))\n",
    "    data = testwritefile.read()\n",
    "    if (not data): \n",
    "            print('Read nothing') \n",
    "    else: \n",
    "            print(data)\n",
    "    \n",
    "    print(\"Location after read: {}\".format(testwritefile.tell()) )"
   ]
  },
  {
   "cell_type": "code",
   "execution_count": 43,
   "id": "6d6cbd3c",
   "metadata": {},
   "outputs": [
    {
     "name": "stdout",
     "output_type": "stream",
     "text": [
      "Line 1\n",
      "Line 2\n",
      "Line 3\n",
      "Line 4\n",
      "finished\n",
      "ne C\n",
      "\n"
     ]
    }
   ],
   "source": [
    "with open('Example2', 'r+') as testwritefile:\n",
    "    testwritefile.seek(0,0) #write at beginning of file\n",
    "    testwritefile.write(\"Line 1\" + \"\\n\")\n",
    "    testwritefile.write(\"Line 2\" + \"\\n\")\n",
    "    testwritefile.write(\"Line 3\" + \"\\n\")\n",
    "    testwritefile.write(\"Line 4\" + \"\\n\")\n",
    "    testwritefile.write(\"finished\\n\")\n",
    "    testwritefile.seek(0,0)\n",
    "    print(testwritefile.read())"
   ]
  },
  {
   "cell_type": "code",
   "execution_count": 45,
   "id": "cfa4eb04",
   "metadata": {},
   "outputs": [
    {
     "name": "stdout",
     "output_type": "stream",
     "text": [
      "Line 1\n",
      "Line 2\n",
      "Line 3\n",
      "Line 4\n",
      "finished\n",
      "\n"
     ]
    }
   ],
   "source": [
    "# to work with a file on existing data, use r+ and a+. While using r+, it can be useful to add .truncate() method at the end \n",
    "#                                     of your data.This will reduce the file to your data and delete everything that follows.\n",
    "# same above example, but using .truncate() \n",
    "\n",
    "with open('Example2', 'r+') as testwritefile:\n",
    "    testwritefile.seek(0,0) #write at beginning of file\n",
    "    testwritefile.write(\"Line 1\" + \"\\n\")\n",
    "    testwritefile.write(\"Line 2\" + \"\\n\")\n",
    "    testwritefile.write(\"Line 3\" + \"\\n\")\n",
    "    testwritefile.write(\"Line 4\" + \"\\n\")\n",
    "    testwritefile.write(\"finished\\n\")\n",
    "    #Uncomment the line below\n",
    "    testwritefile.truncate()\n",
    "    testwritefile.seek(0,0)\n",
    "    print(testwritefile.read())"
   ]
  },
  {
   "cell_type": "code",
   "execution_count": 47,
   "id": "e8c77147",
   "metadata": {},
   "outputs": [
    {
     "name": "stdout",
     "output_type": "stream",
     "text": [
      "Line 1\n",
      "Line 2\n",
      "Line 3\n",
      "Line 4\n",
      "finished\n",
      "\n"
     ]
    }
   ],
   "source": [
    "# Copy file to another\n",
    "\n",
    "with open('Example2','r') as readfile:\n",
    "    with open('Example3','w') as writefile:\n",
    "          for line in readfile:\n",
    "                writefile.write(line)\n",
    "                \n",
    "# Verify if the copy is successfully executed\n",
    "with open('Example3','r') as testwritefile:\n",
    "    print(testwritefile.read())"
   ]
  },
  {
   "cell_type": "markdown",
   "id": "a36ecb2e",
   "metadata": {},
   "source": [
    "# Python Libraries\n",
    "Pre-written code to help solve problems"
   ]
  },
  {
   "cell_type": "markdown",
   "id": "0e4fe668",
   "metadata": {},
   "source": [
    "# Pandas\n",
    "for Data Manipulation & Data Analysis (cleaning, exploring, transforming, analyzing data)<br><br>\n",
    "Pandas is an open-source data manipulation and analysis library for the Python programming language. It provides a powerful and flexible set of tools for working with <strong>structured data</strong>.<br><br>\n",
    "<strong>Data Structures:</strong> Pandas offers two primary data structures - DataFrame and Series.<br>\n",
    "<strong>DataFrame</strong> is a two-dimensional labeled data structure with columns of potentially different data types.(as a table where each column represents a variable, and each row represents an observation or data point)<br> \n",
    "<strong>Series</strong> (1D datafarme) is a one-dimensional labeled array, essentially a single column or row of data.<br><br>\n",
    "\n",
    "<mark><strong>DataFrame Attributes and Methods for Data Manipulation and Analysis</strong></mark>\n",
    "- <strong>shape:</strong> Returns the dimensions (number of rows and columns) of the DataFrame.\n",
    "- <strong>info():</strong> Provides a summary of the DataFrame, including data types and non-null counts.\n",
    "- <strong>describe():</strong> Generates summary statistics for numerical columns.\n",
    "- <strong>head(), tail():</strong> Displays the first or last n rows of the DataFrame.\n",
    "- <strong>mean(), sum(), min(), max():</strong> Calculate summary statistics for columns.\n",
    "- <strong>sort_values():</strong> Sort the DataFrame by one or more columns.\n",
    "- <strong>groupby():</strong> Group data based on specific columns for aggregation.\n",
    "- <strong>fillna(), drop(), rename():</strong> Handle missing values, drop columns, or rename columns.\n",
    "- <strong>apply():</strong> Apply a function to each element, row, or column of the DataFrame.\n",
    "\n",
    "<mark><strong>Series Attributes and Methods</strong></mark>\n",
    "- <strong>values:</strong> Returns the Series data as a NumPy array.\n",
    "- <strong>index:</strong> Returns the index (labels) of the Series.\n",
    "- <strong>shape:</strong> Returns a tuple representing the dimensions of the Series.\n",
    "- <strong>size:</strong> Returns the number of elements in the Series.\n",
    "- <strong>mean(), sum(), min(), max():</strong> Calculate summary statistics of the data.\n",
    "- <strong>unique(), nunique():</strong> Get unique values or the number of unique values.\n",
    "- <strong>sort_values(), sort_index():</strong> Sort the Series by values or index labels.\n",
    "- <strong>isnull(), notnull():</strong> Check for missing (NaN) or non-missing values.\n",
    "- <strong>apply():</strong> Apply a custom function to each element of the Series.\n",
    "\n",
    "<strong>Data Import and Export:</strong> read data from various sources using Pandas[.read_csv(file_path)], including CSV files, Excel spreadsheets, SQL databases, and more. It can also export data to these formats.<br>\n",
    "<strong>Data Merging and Joining:</strong> You can combine multiple DataFrames using methods like merge and join, similar to SQL operations, to create more complex datasets from different sources.<br>\n",
    "<strong>Efficient Indexing:</strong> Pandas provides efficient indexing and selection methods, allowing you to access specific rows and columns of data quickly.<br>\n",
    "<strong>Custom Data Structures:</strong> You can create custom data structures and manipulate data in ways that suit your specific needs.<br><br>"
   ]
  },
  {
   "cell_type": "code",
   "execution_count": null,
   "id": "ccd59ce8",
   "metadata": {},
   "outputs": [],
   "source": [
    "# .read_csv(filepath)   --> read csv file\n",
    "# .to_csv('filename.csv'): save a DataFrame to a CSV file\n",
    "# .head()   --> to show the 1st 5 rows\n",
    "# .unique()  --> to determine the unique element in a column\n",
    "# .DataFrame(dictionaryName)  --> create dataframe from dictionary (Keys: columns, values: rows)\n",
    "# .Series(ListName)  --> create dataframe from list\n",
    "# .iloc[]   --> access rows by their index\n",
    "# .loc[]  --> access rows by label"
   ]
  },
  {
   "cell_type": "code",
   "execution_count": 49,
   "id": "165fdef7",
   "metadata": {},
   "outputs": [],
   "source": [
    "#import pandas library\n",
    "import pandas as pd"
   ]
  },
  {
   "cell_type": "code",
   "execution_count": 50,
   "id": "8346a9fb",
   "metadata": {},
   "outputs": [
    {
     "data": {
      "text/html": [
       "<div>\n",
       "<style scoped>\n",
       "    .dataframe tbody tr th:only-of-type {\n",
       "        vertical-align: middle;\n",
       "    }\n",
       "\n",
       "    .dataframe tbody tr th {\n",
       "        vertical-align: top;\n",
       "    }\n",
       "\n",
       "    .dataframe thead th {\n",
       "        text-align: right;\n",
       "    }\n",
       "</style>\n",
       "<table border=\"1\" class=\"dataframe\">\n",
       "  <thead>\n",
       "    <tr style=\"text-align: right;\">\n",
       "      <th></th>\n",
       "      <th>name</th>\n",
       "      <th>rating</th>\n",
       "      <th>genre</th>\n",
       "      <th>year</th>\n",
       "      <th>released</th>\n",
       "      <th>score</th>\n",
       "      <th>votes</th>\n",
       "      <th>director</th>\n",
       "      <th>writer</th>\n",
       "      <th>star</th>\n",
       "      <th>country</th>\n",
       "      <th>budget</th>\n",
       "      <th>gross</th>\n",
       "      <th>company</th>\n",
       "      <th>runtime</th>\n",
       "    </tr>\n",
       "  </thead>\n",
       "  <tbody>\n",
       "    <tr>\n",
       "      <th>0</th>\n",
       "      <td>The Shining</td>\n",
       "      <td>R</td>\n",
       "      <td>Drama</td>\n",
       "      <td>1980</td>\n",
       "      <td>June 13, 1980 (United States)</td>\n",
       "      <td>8.4</td>\n",
       "      <td>927000.0</td>\n",
       "      <td>Stanley Kubrick</td>\n",
       "      <td>Stephen King</td>\n",
       "      <td>Jack Nicholson</td>\n",
       "      <td>United Kingdom</td>\n",
       "      <td>19000000.0</td>\n",
       "      <td>46998772.0</td>\n",
       "      <td>Warner Bros.</td>\n",
       "      <td>146.0</td>\n",
       "    </tr>\n",
       "    <tr>\n",
       "      <th>1</th>\n",
       "      <td>The Blue Lagoon</td>\n",
       "      <td>R</td>\n",
       "      <td>Adventure</td>\n",
       "      <td>1980</td>\n",
       "      <td>July 2, 1980 (United States)</td>\n",
       "      <td>5.8</td>\n",
       "      <td>65000.0</td>\n",
       "      <td>Randal Kleiser</td>\n",
       "      <td>Henry De Vere Stacpoole</td>\n",
       "      <td>Brooke Shields</td>\n",
       "      <td>United States</td>\n",
       "      <td>4500000.0</td>\n",
       "      <td>58853106.0</td>\n",
       "      <td>Columbia Pictures</td>\n",
       "      <td>104.0</td>\n",
       "    </tr>\n",
       "    <tr>\n",
       "      <th>2</th>\n",
       "      <td>Star Wars: Episode V - The Empire Strikes Back</td>\n",
       "      <td>PG</td>\n",
       "      <td>Action</td>\n",
       "      <td>1980</td>\n",
       "      <td>June 20, 1980 (United States)</td>\n",
       "      <td>8.7</td>\n",
       "      <td>1200000.0</td>\n",
       "      <td>Irvin Kershner</td>\n",
       "      <td>Leigh Brackett</td>\n",
       "      <td>Mark Hamill</td>\n",
       "      <td>United States</td>\n",
       "      <td>18000000.0</td>\n",
       "      <td>538375067.0</td>\n",
       "      <td>Lucasfilm</td>\n",
       "      <td>124.0</td>\n",
       "    </tr>\n",
       "    <tr>\n",
       "      <th>3</th>\n",
       "      <td>Airplane!</td>\n",
       "      <td>PG</td>\n",
       "      <td>Comedy</td>\n",
       "      <td>1980</td>\n",
       "      <td>July 2, 1980 (United States)</td>\n",
       "      <td>7.7</td>\n",
       "      <td>221000.0</td>\n",
       "      <td>Jim Abrahams</td>\n",
       "      <td>Jim Abrahams</td>\n",
       "      <td>Robert Hays</td>\n",
       "      <td>United States</td>\n",
       "      <td>3500000.0</td>\n",
       "      <td>83453539.0</td>\n",
       "      <td>Paramount Pictures</td>\n",
       "      <td>88.0</td>\n",
       "    </tr>\n",
       "    <tr>\n",
       "      <th>4</th>\n",
       "      <td>Caddyshack</td>\n",
       "      <td>R</td>\n",
       "      <td>Comedy</td>\n",
       "      <td>1980</td>\n",
       "      <td>July 25, 1980 (United States)</td>\n",
       "      <td>7.3</td>\n",
       "      <td>108000.0</td>\n",
       "      <td>Harold Ramis</td>\n",
       "      <td>Brian Doyle-Murray</td>\n",
       "      <td>Chevy Chase</td>\n",
       "      <td>United States</td>\n",
       "      <td>6000000.0</td>\n",
       "      <td>39846344.0</td>\n",
       "      <td>Orion Pictures</td>\n",
       "      <td>98.0</td>\n",
       "    </tr>\n",
       "    <tr>\n",
       "      <th>...</th>\n",
       "      <td>...</td>\n",
       "      <td>...</td>\n",
       "      <td>...</td>\n",
       "      <td>...</td>\n",
       "      <td>...</td>\n",
       "      <td>...</td>\n",
       "      <td>...</td>\n",
       "      <td>...</td>\n",
       "      <td>...</td>\n",
       "      <td>...</td>\n",
       "      <td>...</td>\n",
       "      <td>...</td>\n",
       "      <td>...</td>\n",
       "      <td>...</td>\n",
       "      <td>...</td>\n",
       "    </tr>\n",
       "    <tr>\n",
       "      <th>7663</th>\n",
       "      <td>More to Life</td>\n",
       "      <td>NaN</td>\n",
       "      <td>Drama</td>\n",
       "      <td>2020</td>\n",
       "      <td>October 23, 2020 (United States)</td>\n",
       "      <td>3.1</td>\n",
       "      <td>18.0</td>\n",
       "      <td>Joseph Ebanks</td>\n",
       "      <td>Joseph Ebanks</td>\n",
       "      <td>Shannon Bond</td>\n",
       "      <td>United States</td>\n",
       "      <td>7000.0</td>\n",
       "      <td>NaN</td>\n",
       "      <td>NaN</td>\n",
       "      <td>90.0</td>\n",
       "    </tr>\n",
       "    <tr>\n",
       "      <th>7664</th>\n",
       "      <td>Dream Round</td>\n",
       "      <td>NaN</td>\n",
       "      <td>Comedy</td>\n",
       "      <td>2020</td>\n",
       "      <td>February 7, 2020 (United States)</td>\n",
       "      <td>4.7</td>\n",
       "      <td>36.0</td>\n",
       "      <td>Dusty Dukatz</td>\n",
       "      <td>Lisa Huston</td>\n",
       "      <td>Michael Saquella</td>\n",
       "      <td>United States</td>\n",
       "      <td>NaN</td>\n",
       "      <td>NaN</td>\n",
       "      <td>Cactus Blue Entertainment</td>\n",
       "      <td>90.0</td>\n",
       "    </tr>\n",
       "    <tr>\n",
       "      <th>7665</th>\n",
       "      <td>Saving Mbango</td>\n",
       "      <td>NaN</td>\n",
       "      <td>Drama</td>\n",
       "      <td>2020</td>\n",
       "      <td>April 27, 2020 (Cameroon)</td>\n",
       "      <td>5.7</td>\n",
       "      <td>29.0</td>\n",
       "      <td>Nkanya Nkwai</td>\n",
       "      <td>Lynno Lovert</td>\n",
       "      <td>Onyama Laura</td>\n",
       "      <td>United States</td>\n",
       "      <td>58750.0</td>\n",
       "      <td>NaN</td>\n",
       "      <td>Embi Productions</td>\n",
       "      <td>NaN</td>\n",
       "    </tr>\n",
       "    <tr>\n",
       "      <th>7666</th>\n",
       "      <td>It's Just Us</td>\n",
       "      <td>NaN</td>\n",
       "      <td>Drama</td>\n",
       "      <td>2020</td>\n",
       "      <td>October 1, 2020 (United States)</td>\n",
       "      <td>NaN</td>\n",
       "      <td>NaN</td>\n",
       "      <td>James Randall</td>\n",
       "      <td>James Randall</td>\n",
       "      <td>Christina Roz</td>\n",
       "      <td>United States</td>\n",
       "      <td>15000.0</td>\n",
       "      <td>NaN</td>\n",
       "      <td>NaN</td>\n",
       "      <td>120.0</td>\n",
       "    </tr>\n",
       "    <tr>\n",
       "      <th>7667</th>\n",
       "      <td>Tee em el</td>\n",
       "      <td>NaN</td>\n",
       "      <td>Horror</td>\n",
       "      <td>2020</td>\n",
       "      <td>August 19, 2020 (United States)</td>\n",
       "      <td>5.7</td>\n",
       "      <td>7.0</td>\n",
       "      <td>Pereko Mosia</td>\n",
       "      <td>Pereko Mosia</td>\n",
       "      <td>Siyabonga Mabaso</td>\n",
       "      <td>South Africa</td>\n",
       "      <td>NaN</td>\n",
       "      <td>NaN</td>\n",
       "      <td>PK 65 Films</td>\n",
       "      <td>102.0</td>\n",
       "    </tr>\n",
       "  </tbody>\n",
       "</table>\n",
       "<p>7668 rows × 15 columns</p>\n",
       "</div>"
      ],
      "text/plain": [
       "                                                name rating      genre  year  \\\n",
       "0                                        The Shining      R      Drama  1980   \n",
       "1                                    The Blue Lagoon      R  Adventure  1980   \n",
       "2     Star Wars: Episode V - The Empire Strikes Back     PG     Action  1980   \n",
       "3                                          Airplane!     PG     Comedy  1980   \n",
       "4                                         Caddyshack      R     Comedy  1980   \n",
       "...                                              ...    ...        ...   ...   \n",
       "7663                                    More to Life    NaN      Drama  2020   \n",
       "7664                                     Dream Round    NaN     Comedy  2020   \n",
       "7665                                   Saving Mbango    NaN      Drama  2020   \n",
       "7666                                    It's Just Us    NaN      Drama  2020   \n",
       "7667                                       Tee em el    NaN     Horror  2020   \n",
       "\n",
       "                              released  score      votes         director  \\\n",
       "0        June 13, 1980 (United States)    8.4   927000.0  Stanley Kubrick   \n",
       "1         July 2, 1980 (United States)    5.8    65000.0   Randal Kleiser   \n",
       "2        June 20, 1980 (United States)    8.7  1200000.0   Irvin Kershner   \n",
       "3         July 2, 1980 (United States)    7.7   221000.0     Jim Abrahams   \n",
       "4        July 25, 1980 (United States)    7.3   108000.0     Harold Ramis   \n",
       "...                                ...    ...        ...              ...   \n",
       "7663  October 23, 2020 (United States)    3.1       18.0    Joseph Ebanks   \n",
       "7664  February 7, 2020 (United States)    4.7       36.0     Dusty Dukatz   \n",
       "7665         April 27, 2020 (Cameroon)    5.7       29.0     Nkanya Nkwai   \n",
       "7666   October 1, 2020 (United States)    NaN        NaN    James Randall   \n",
       "7667   August 19, 2020 (United States)    5.7        7.0     Pereko Mosia   \n",
       "\n",
       "                       writer              star         country      budget  \\\n",
       "0                Stephen King    Jack Nicholson  United Kingdom  19000000.0   \n",
       "1     Henry De Vere Stacpoole    Brooke Shields   United States   4500000.0   \n",
       "2              Leigh Brackett       Mark Hamill   United States  18000000.0   \n",
       "3                Jim Abrahams       Robert Hays   United States   3500000.0   \n",
       "4          Brian Doyle-Murray       Chevy Chase   United States   6000000.0   \n",
       "...                       ...               ...             ...         ...   \n",
       "7663            Joseph Ebanks      Shannon Bond   United States      7000.0   \n",
       "7664              Lisa Huston  Michael Saquella   United States         NaN   \n",
       "7665             Lynno Lovert      Onyama Laura   United States     58750.0   \n",
       "7666            James Randall     Christina Roz   United States     15000.0   \n",
       "7667             Pereko Mosia  Siyabonga Mabaso    South Africa         NaN   \n",
       "\n",
       "            gross                    company  runtime  \n",
       "0      46998772.0               Warner Bros.    146.0  \n",
       "1      58853106.0          Columbia Pictures    104.0  \n",
       "2     538375067.0                  Lucasfilm    124.0  \n",
       "3      83453539.0         Paramount Pictures     88.0  \n",
       "4      39846344.0             Orion Pictures     98.0  \n",
       "...           ...                        ...      ...  \n",
       "7663          NaN                        NaN     90.0  \n",
       "7664          NaN  Cactus Blue Entertainment     90.0  \n",
       "7665          NaN           Embi Productions      NaN  \n",
       "7666          NaN                        NaN    120.0  \n",
       "7667          NaN                PK 65 Films    102.0  \n",
       "\n",
       "[7668 rows x 15 columns]"
      ]
     },
     "execution_count": 50,
     "metadata": {},
     "output_type": "execute_result"
    }
   ],
   "source": [
    "# .read_csv(): to read csv file\n",
    "\n",
    "csvFile_path = r\"C:\\Users\\esraa\\Desktop\\DataSets\\movies.csv\"\n",
    "df = pd.read_csv(csvFile_path)\n",
    "df"
   ]
  },
  {
   "cell_type": "code",
   "execution_count": 51,
   "id": "13d62cc1",
   "metadata": {},
   "outputs": [
    {
     "data": {
      "text/html": [
       "<div>\n",
       "<style scoped>\n",
       "    .dataframe tbody tr th:only-of-type {\n",
       "        vertical-align: middle;\n",
       "    }\n",
       "\n",
       "    .dataframe tbody tr th {\n",
       "        vertical-align: top;\n",
       "    }\n",
       "\n",
       "    .dataframe thead th {\n",
       "        text-align: right;\n",
       "    }\n",
       "</style>\n",
       "<table border=\"1\" class=\"dataframe\">\n",
       "  <thead>\n",
       "    <tr style=\"text-align: right;\">\n",
       "      <th></th>\n",
       "      <th>name</th>\n",
       "      <th>rating</th>\n",
       "      <th>genre</th>\n",
       "      <th>year</th>\n",
       "      <th>released</th>\n",
       "      <th>score</th>\n",
       "      <th>votes</th>\n",
       "      <th>director</th>\n",
       "      <th>writer</th>\n",
       "      <th>star</th>\n",
       "      <th>country</th>\n",
       "      <th>budget</th>\n",
       "      <th>gross</th>\n",
       "      <th>company</th>\n",
       "      <th>runtime</th>\n",
       "    </tr>\n",
       "  </thead>\n",
       "  <tbody>\n",
       "    <tr>\n",
       "      <th>0</th>\n",
       "      <td>The Shining</td>\n",
       "      <td>R</td>\n",
       "      <td>Drama</td>\n",
       "      <td>1980</td>\n",
       "      <td>June 13, 1980 (United States)</td>\n",
       "      <td>8.4</td>\n",
       "      <td>927000.0</td>\n",
       "      <td>Stanley Kubrick</td>\n",
       "      <td>Stephen King</td>\n",
       "      <td>Jack Nicholson</td>\n",
       "      <td>United Kingdom</td>\n",
       "      <td>19000000.0</td>\n",
       "      <td>46998772.0</td>\n",
       "      <td>Warner Bros.</td>\n",
       "      <td>146.0</td>\n",
       "    </tr>\n",
       "    <tr>\n",
       "      <th>1</th>\n",
       "      <td>The Blue Lagoon</td>\n",
       "      <td>R</td>\n",
       "      <td>Adventure</td>\n",
       "      <td>1980</td>\n",
       "      <td>July 2, 1980 (United States)</td>\n",
       "      <td>5.8</td>\n",
       "      <td>65000.0</td>\n",
       "      <td>Randal Kleiser</td>\n",
       "      <td>Henry De Vere Stacpoole</td>\n",
       "      <td>Brooke Shields</td>\n",
       "      <td>United States</td>\n",
       "      <td>4500000.0</td>\n",
       "      <td>58853106.0</td>\n",
       "      <td>Columbia Pictures</td>\n",
       "      <td>104.0</td>\n",
       "    </tr>\n",
       "    <tr>\n",
       "      <th>2</th>\n",
       "      <td>Star Wars: Episode V - The Empire Strikes Back</td>\n",
       "      <td>PG</td>\n",
       "      <td>Action</td>\n",
       "      <td>1980</td>\n",
       "      <td>June 20, 1980 (United States)</td>\n",
       "      <td>8.7</td>\n",
       "      <td>1200000.0</td>\n",
       "      <td>Irvin Kershner</td>\n",
       "      <td>Leigh Brackett</td>\n",
       "      <td>Mark Hamill</td>\n",
       "      <td>United States</td>\n",
       "      <td>18000000.0</td>\n",
       "      <td>538375067.0</td>\n",
       "      <td>Lucasfilm</td>\n",
       "      <td>124.0</td>\n",
       "    </tr>\n",
       "    <tr>\n",
       "      <th>3</th>\n",
       "      <td>Airplane!</td>\n",
       "      <td>PG</td>\n",
       "      <td>Comedy</td>\n",
       "      <td>1980</td>\n",
       "      <td>July 2, 1980 (United States)</td>\n",
       "      <td>7.7</td>\n",
       "      <td>221000.0</td>\n",
       "      <td>Jim Abrahams</td>\n",
       "      <td>Jim Abrahams</td>\n",
       "      <td>Robert Hays</td>\n",
       "      <td>United States</td>\n",
       "      <td>3500000.0</td>\n",
       "      <td>83453539.0</td>\n",
       "      <td>Paramount Pictures</td>\n",
       "      <td>88.0</td>\n",
       "    </tr>\n",
       "    <tr>\n",
       "      <th>4</th>\n",
       "      <td>Caddyshack</td>\n",
       "      <td>R</td>\n",
       "      <td>Comedy</td>\n",
       "      <td>1980</td>\n",
       "      <td>July 25, 1980 (United States)</td>\n",
       "      <td>7.3</td>\n",
       "      <td>108000.0</td>\n",
       "      <td>Harold Ramis</td>\n",
       "      <td>Brian Doyle-Murray</td>\n",
       "      <td>Chevy Chase</td>\n",
       "      <td>United States</td>\n",
       "      <td>6000000.0</td>\n",
       "      <td>39846344.0</td>\n",
       "      <td>Orion Pictures</td>\n",
       "      <td>98.0</td>\n",
       "    </tr>\n",
       "  </tbody>\n",
       "</table>\n",
       "</div>"
      ],
      "text/plain": [
       "                                             name rating      genre  year  \\\n",
       "0                                     The Shining      R      Drama  1980   \n",
       "1                                 The Blue Lagoon      R  Adventure  1980   \n",
       "2  Star Wars: Episode V - The Empire Strikes Back     PG     Action  1980   \n",
       "3                                       Airplane!     PG     Comedy  1980   \n",
       "4                                      Caddyshack      R     Comedy  1980   \n",
       "\n",
       "                        released  score      votes         director  \\\n",
       "0  June 13, 1980 (United States)    8.4   927000.0  Stanley Kubrick   \n",
       "1   July 2, 1980 (United States)    5.8    65000.0   Randal Kleiser   \n",
       "2  June 20, 1980 (United States)    8.7  1200000.0   Irvin Kershner   \n",
       "3   July 2, 1980 (United States)    7.7   221000.0     Jim Abrahams   \n",
       "4  July 25, 1980 (United States)    7.3   108000.0     Harold Ramis   \n",
       "\n",
       "                    writer            star         country      budget  \\\n",
       "0             Stephen King  Jack Nicholson  United Kingdom  19000000.0   \n",
       "1  Henry De Vere Stacpoole  Brooke Shields   United States   4500000.0   \n",
       "2           Leigh Brackett     Mark Hamill   United States  18000000.0   \n",
       "3             Jim Abrahams     Robert Hays   United States   3500000.0   \n",
       "4       Brian Doyle-Murray     Chevy Chase   United States   6000000.0   \n",
       "\n",
       "         gross             company  runtime  \n",
       "0   46998772.0        Warner Bros.    146.0  \n",
       "1   58853106.0   Columbia Pictures    104.0  \n",
       "2  538375067.0           Lucasfilm    124.0  \n",
       "3   83453539.0  Paramount Pictures     88.0  \n",
       "4   39846344.0      Orion Pictures     98.0  "
      ]
     },
     "execution_count": 51,
     "metadata": {},
     "output_type": "execute_result"
    }
   ],
   "source": [
    "# to show the 1st 5 rows\n",
    "\n",
    "df.head()"
   ]
  },
  {
   "cell_type": "code",
   "execution_count": 65,
   "id": "855bf603",
   "metadata": {},
   "outputs": [
    {
     "data": {
      "text/html": [
       "<div>\n",
       "<style scoped>\n",
       "    .dataframe tbody tr th:only-of-type {\n",
       "        vertical-align: middle;\n",
       "    }\n",
       "\n",
       "    .dataframe tbody tr th {\n",
       "        vertical-align: top;\n",
       "    }\n",
       "\n",
       "    .dataframe thead th {\n",
       "        text-align: right;\n",
       "    }\n",
       "</style>\n",
       "<table border=\"1\" class=\"dataframe\">\n",
       "  <thead>\n",
       "    <tr style=\"text-align: right;\">\n",
       "      <th></th>\n",
       "      <th>rating</th>\n",
       "      <th>genre</th>\n",
       "      <th>year</th>\n",
       "      <th>released</th>\n",
       "      <th>score</th>\n",
       "      <th>votes</th>\n",
       "      <th>director</th>\n",
       "      <th>writer</th>\n",
       "      <th>star</th>\n",
       "      <th>country</th>\n",
       "      <th>budget</th>\n",
       "      <th>gross</th>\n",
       "      <th>company</th>\n",
       "      <th>runtime</th>\n",
       "    </tr>\n",
       "    <tr>\n",
       "      <th>name</th>\n",
       "      <th></th>\n",
       "      <th></th>\n",
       "      <th></th>\n",
       "      <th></th>\n",
       "      <th></th>\n",
       "      <th></th>\n",
       "      <th></th>\n",
       "      <th></th>\n",
       "      <th></th>\n",
       "      <th></th>\n",
       "      <th></th>\n",
       "      <th></th>\n",
       "      <th></th>\n",
       "      <th></th>\n",
       "    </tr>\n",
       "  </thead>\n",
       "  <tbody>\n",
       "    <tr>\n",
       "      <th>The Shining</th>\n",
       "      <td>R</td>\n",
       "      <td>Drama</td>\n",
       "      <td>1980</td>\n",
       "      <td>June 13, 1980 (United States)</td>\n",
       "      <td>8.4</td>\n",
       "      <td>927000.0</td>\n",
       "      <td>Stanley Kubrick</td>\n",
       "      <td>Stephen King</td>\n",
       "      <td>Jack Nicholson</td>\n",
       "      <td>United Kingdom</td>\n",
       "      <td>19000000.0</td>\n",
       "      <td>46998772.0</td>\n",
       "      <td>Warner Bros.</td>\n",
       "      <td>146.0</td>\n",
       "    </tr>\n",
       "    <tr>\n",
       "      <th>The Blue Lagoon</th>\n",
       "      <td>R</td>\n",
       "      <td>Adventure</td>\n",
       "      <td>1980</td>\n",
       "      <td>July 2, 1980 (United States)</td>\n",
       "      <td>5.8</td>\n",
       "      <td>65000.0</td>\n",
       "      <td>Randal Kleiser</td>\n",
       "      <td>Henry De Vere Stacpoole</td>\n",
       "      <td>Brooke Shields</td>\n",
       "      <td>United States</td>\n",
       "      <td>4500000.0</td>\n",
       "      <td>58853106.0</td>\n",
       "      <td>Columbia Pictures</td>\n",
       "      <td>104.0</td>\n",
       "    </tr>\n",
       "    <tr>\n",
       "      <th>Star Wars: Episode V - The Empire Strikes Back</th>\n",
       "      <td>PG</td>\n",
       "      <td>Action</td>\n",
       "      <td>1980</td>\n",
       "      <td>June 20, 1980 (United States)</td>\n",
       "      <td>8.7</td>\n",
       "      <td>1200000.0</td>\n",
       "      <td>Irvin Kershner</td>\n",
       "      <td>Leigh Brackett</td>\n",
       "      <td>Mark Hamill</td>\n",
       "      <td>United States</td>\n",
       "      <td>18000000.0</td>\n",
       "      <td>538375067.0</td>\n",
       "      <td>Lucasfilm</td>\n",
       "      <td>124.0</td>\n",
       "    </tr>\n",
       "    <tr>\n",
       "      <th>Airplane!</th>\n",
       "      <td>PG</td>\n",
       "      <td>Comedy</td>\n",
       "      <td>1980</td>\n",
       "      <td>July 2, 1980 (United States)</td>\n",
       "      <td>7.7</td>\n",
       "      <td>221000.0</td>\n",
       "      <td>Jim Abrahams</td>\n",
       "      <td>Jim Abrahams</td>\n",
       "      <td>Robert Hays</td>\n",
       "      <td>United States</td>\n",
       "      <td>3500000.0</td>\n",
       "      <td>83453539.0</td>\n",
       "      <td>Paramount Pictures</td>\n",
       "      <td>88.0</td>\n",
       "    </tr>\n",
       "    <tr>\n",
       "      <th>Caddyshack</th>\n",
       "      <td>R</td>\n",
       "      <td>Comedy</td>\n",
       "      <td>1980</td>\n",
       "      <td>July 25, 1980 (United States)</td>\n",
       "      <td>7.3</td>\n",
       "      <td>108000.0</td>\n",
       "      <td>Harold Ramis</td>\n",
       "      <td>Brian Doyle-Murray</td>\n",
       "      <td>Chevy Chase</td>\n",
       "      <td>United States</td>\n",
       "      <td>6000000.0</td>\n",
       "      <td>39846344.0</td>\n",
       "      <td>Orion Pictures</td>\n",
       "      <td>98.0</td>\n",
       "    </tr>\n",
       "    <tr>\n",
       "      <th>...</th>\n",
       "      <td>...</td>\n",
       "      <td>...</td>\n",
       "      <td>...</td>\n",
       "      <td>...</td>\n",
       "      <td>...</td>\n",
       "      <td>...</td>\n",
       "      <td>...</td>\n",
       "      <td>...</td>\n",
       "      <td>...</td>\n",
       "      <td>...</td>\n",
       "      <td>...</td>\n",
       "      <td>...</td>\n",
       "      <td>...</td>\n",
       "      <td>...</td>\n",
       "    </tr>\n",
       "    <tr>\n",
       "      <th>More to Life</th>\n",
       "      <td>NaN</td>\n",
       "      <td>Drama</td>\n",
       "      <td>2020</td>\n",
       "      <td>October 23, 2020 (United States)</td>\n",
       "      <td>3.1</td>\n",
       "      <td>18.0</td>\n",
       "      <td>Joseph Ebanks</td>\n",
       "      <td>Joseph Ebanks</td>\n",
       "      <td>Shannon Bond</td>\n",
       "      <td>United States</td>\n",
       "      <td>7000.0</td>\n",
       "      <td>NaN</td>\n",
       "      <td>NaN</td>\n",
       "      <td>90.0</td>\n",
       "    </tr>\n",
       "    <tr>\n",
       "      <th>Dream Round</th>\n",
       "      <td>NaN</td>\n",
       "      <td>Comedy</td>\n",
       "      <td>2020</td>\n",
       "      <td>February 7, 2020 (United States)</td>\n",
       "      <td>4.7</td>\n",
       "      <td>36.0</td>\n",
       "      <td>Dusty Dukatz</td>\n",
       "      <td>Lisa Huston</td>\n",
       "      <td>Michael Saquella</td>\n",
       "      <td>United States</td>\n",
       "      <td>NaN</td>\n",
       "      <td>NaN</td>\n",
       "      <td>Cactus Blue Entertainment</td>\n",
       "      <td>90.0</td>\n",
       "    </tr>\n",
       "    <tr>\n",
       "      <th>Saving Mbango</th>\n",
       "      <td>NaN</td>\n",
       "      <td>Drama</td>\n",
       "      <td>2020</td>\n",
       "      <td>April 27, 2020 (Cameroon)</td>\n",
       "      <td>5.7</td>\n",
       "      <td>29.0</td>\n",
       "      <td>Nkanya Nkwai</td>\n",
       "      <td>Lynno Lovert</td>\n",
       "      <td>Onyama Laura</td>\n",
       "      <td>United States</td>\n",
       "      <td>58750.0</td>\n",
       "      <td>NaN</td>\n",
       "      <td>Embi Productions</td>\n",
       "      <td>NaN</td>\n",
       "    </tr>\n",
       "    <tr>\n",
       "      <th>It's Just Us</th>\n",
       "      <td>NaN</td>\n",
       "      <td>Drama</td>\n",
       "      <td>2020</td>\n",
       "      <td>October 1, 2020 (United States)</td>\n",
       "      <td>NaN</td>\n",
       "      <td>NaN</td>\n",
       "      <td>James Randall</td>\n",
       "      <td>James Randall</td>\n",
       "      <td>Christina Roz</td>\n",
       "      <td>United States</td>\n",
       "      <td>15000.0</td>\n",
       "      <td>NaN</td>\n",
       "      <td>NaN</td>\n",
       "      <td>120.0</td>\n",
       "    </tr>\n",
       "    <tr>\n",
       "      <th>Tee em el</th>\n",
       "      <td>NaN</td>\n",
       "      <td>Horror</td>\n",
       "      <td>2020</td>\n",
       "      <td>August 19, 2020 (United States)</td>\n",
       "      <td>5.7</td>\n",
       "      <td>7.0</td>\n",
       "      <td>Pereko Mosia</td>\n",
       "      <td>Pereko Mosia</td>\n",
       "      <td>Siyabonga Mabaso</td>\n",
       "      <td>South Africa</td>\n",
       "      <td>NaN</td>\n",
       "      <td>NaN</td>\n",
       "      <td>PK 65 Films</td>\n",
       "      <td>102.0</td>\n",
       "    </tr>\n",
       "  </tbody>\n",
       "</table>\n",
       "<p>7668 rows × 14 columns</p>\n",
       "</div>"
      ],
      "text/plain": [
       "                                               rating      genre  year  \\\n",
       "name                                                                     \n",
       "The Shining                                         R      Drama  1980   \n",
       "The Blue Lagoon                                     R  Adventure  1980   \n",
       "Star Wars: Episode V - The Empire Strikes Back     PG     Action  1980   \n",
       "Airplane!                                          PG     Comedy  1980   \n",
       "Caddyshack                                          R     Comedy  1980   \n",
       "...                                               ...        ...   ...   \n",
       "More to Life                                      NaN      Drama  2020   \n",
       "Dream Round                                       NaN     Comedy  2020   \n",
       "Saving Mbango                                     NaN      Drama  2020   \n",
       "It's Just Us                                      NaN      Drama  2020   \n",
       "Tee em el                                         NaN     Horror  2020   \n",
       "\n",
       "                                                                        released  \\\n",
       "name                                                                               \n",
       "The Shining                                        June 13, 1980 (United States)   \n",
       "The Blue Lagoon                                     July 2, 1980 (United States)   \n",
       "Star Wars: Episode V - The Empire Strikes Back     June 20, 1980 (United States)   \n",
       "Airplane!                                           July 2, 1980 (United States)   \n",
       "Caddyshack                                         July 25, 1980 (United States)   \n",
       "...                                                                          ...   \n",
       "More to Life                                    October 23, 2020 (United States)   \n",
       "Dream Round                                     February 7, 2020 (United States)   \n",
       "Saving Mbango                                          April 27, 2020 (Cameroon)   \n",
       "It's Just Us                                     October 1, 2020 (United States)   \n",
       "Tee em el                                        August 19, 2020 (United States)   \n",
       "\n",
       "                                                score      votes  \\\n",
       "name                                                               \n",
       "The Shining                                       8.4   927000.0   \n",
       "The Blue Lagoon                                   5.8    65000.0   \n",
       "Star Wars: Episode V - The Empire Strikes Back    8.7  1200000.0   \n",
       "Airplane!                                         7.7   221000.0   \n",
       "Caddyshack                                        7.3   108000.0   \n",
       "...                                               ...        ...   \n",
       "More to Life                                      3.1       18.0   \n",
       "Dream Round                                       4.7       36.0   \n",
       "Saving Mbango                                     5.7       29.0   \n",
       "It's Just Us                                      NaN        NaN   \n",
       "Tee em el                                         5.7        7.0   \n",
       "\n",
       "                                                       director  \\\n",
       "name                                                              \n",
       "The Shining                                     Stanley Kubrick   \n",
       "The Blue Lagoon                                  Randal Kleiser   \n",
       "Star Wars: Episode V - The Empire Strikes Back   Irvin Kershner   \n",
       "Airplane!                                          Jim Abrahams   \n",
       "Caddyshack                                         Harold Ramis   \n",
       "...                                                         ...   \n",
       "More to Life                                      Joseph Ebanks   \n",
       "Dream Round                                        Dusty Dukatz   \n",
       "Saving Mbango                                      Nkanya Nkwai   \n",
       "It's Just Us                                      James Randall   \n",
       "Tee em el                                          Pereko Mosia   \n",
       "\n",
       "                                                                 writer  \\\n",
       "name                                                                      \n",
       "The Shining                                                Stephen King   \n",
       "The Blue Lagoon                                 Henry De Vere Stacpoole   \n",
       "Star Wars: Episode V - The Empire Strikes Back           Leigh Brackett   \n",
       "Airplane!                                                  Jim Abrahams   \n",
       "Caddyshack                                           Brian Doyle-Murray   \n",
       "...                                                                 ...   \n",
       "More to Life                                              Joseph Ebanks   \n",
       "Dream Round                                                 Lisa Huston   \n",
       "Saving Mbango                                              Lynno Lovert   \n",
       "It's Just Us                                              James Randall   \n",
       "Tee em el                                                  Pereko Mosia   \n",
       "\n",
       "                                                            star  \\\n",
       "name                                                               \n",
       "The Shining                                       Jack Nicholson   \n",
       "The Blue Lagoon                                   Brooke Shields   \n",
       "Star Wars: Episode V - The Empire Strikes Back       Mark Hamill   \n",
       "Airplane!                                            Robert Hays   \n",
       "Caddyshack                                           Chevy Chase   \n",
       "...                                                          ...   \n",
       "More to Life                                        Shannon Bond   \n",
       "Dream Round                                     Michael Saquella   \n",
       "Saving Mbango                                       Onyama Laura   \n",
       "It's Just Us                                       Christina Roz   \n",
       "Tee em el                                       Siyabonga Mabaso   \n",
       "\n",
       "                                                       country      budget  \\\n",
       "name                                                                         \n",
       "The Shining                                     United Kingdom  19000000.0   \n",
       "The Blue Lagoon                                  United States   4500000.0   \n",
       "Star Wars: Episode V - The Empire Strikes Back   United States  18000000.0   \n",
       "Airplane!                                        United States   3500000.0   \n",
       "Caddyshack                                       United States   6000000.0   \n",
       "...                                                        ...         ...   \n",
       "More to Life                                     United States      7000.0   \n",
       "Dream Round                                      United States         NaN   \n",
       "Saving Mbango                                    United States     58750.0   \n",
       "It's Just Us                                     United States     15000.0   \n",
       "Tee em el                                         South Africa         NaN   \n",
       "\n",
       "                                                      gross  \\\n",
       "name                                                          \n",
       "The Shining                                      46998772.0   \n",
       "The Blue Lagoon                                  58853106.0   \n",
       "Star Wars: Episode V - The Empire Strikes Back  538375067.0   \n",
       "Airplane!                                        83453539.0   \n",
       "Caddyshack                                       39846344.0   \n",
       "...                                                     ...   \n",
       "More to Life                                            NaN   \n",
       "Dream Round                                             NaN   \n",
       "Saving Mbango                                           NaN   \n",
       "It's Just Us                                            NaN   \n",
       "Tee em el                                               NaN   \n",
       "\n",
       "                                                                  company  \\\n",
       "name                                                                        \n",
       "The Shining                                                  Warner Bros.   \n",
       "The Blue Lagoon                                         Columbia Pictures   \n",
       "Star Wars: Episode V - The Empire Strikes Back                  Lucasfilm   \n",
       "Airplane!                                              Paramount Pictures   \n",
       "Caddyshack                                                 Orion Pictures   \n",
       "...                                                                   ...   \n",
       "More to Life                                                          NaN   \n",
       "Dream Round                                     Cactus Blue Entertainment   \n",
       "Saving Mbango                                            Embi Productions   \n",
       "It's Just Us                                                          NaN   \n",
       "Tee em el                                                     PK 65 Films   \n",
       "\n",
       "                                                runtime  \n",
       "name                                                     \n",
       "The Shining                                       146.0  \n",
       "The Blue Lagoon                                   104.0  \n",
       "Star Wars: Episode V - The Empire Strikes Back    124.0  \n",
       "Airplane!                                          88.0  \n",
       "Caddyshack                                         98.0  \n",
       "...                                                 ...  \n",
       "More to Life                                       90.0  \n",
       "Dream Round                                        90.0  \n",
       "Saving Mbango                                       NaN  \n",
       "It's Just Us                                      120.0  \n",
       "Tee em el                                         102.0  \n",
       "\n",
       "[7668 rows x 14 columns]"
      ]
     },
     "execution_count": 65,
     "metadata": {},
     "output_type": "execute_result"
    }
   ],
   "source": [
    "df2 = df.set_index('name')\n",
    "df2"
   ]
  },
  {
   "cell_type": "code",
   "execution_count": 66,
   "id": "282701f8",
   "metadata": {},
   "outputs": [
    {
     "data": {
      "text/plain": [
       "'Randal Kleiser'"
      ]
     },
     "execution_count": 66,
     "metadata": {},
     "output_type": "execute_result"
    }
   ],
   "source": [
    "df2.loc['The Blue Lagoon', 'director']"
   ]
  },
  {
   "cell_type": "code",
   "execution_count": 67,
   "id": "12157b17",
   "metadata": {},
   "outputs": [
    {
     "data": {
      "text/plain": [
       "'Randal Kleiser'"
      ]
     },
     "execution_count": 67,
     "metadata": {},
     "output_type": "execute_result"
    }
   ],
   "source": [
    "df2.iloc[1, 6]"
   ]
  },
  {
   "cell_type": "code",
   "execution_count": 68,
   "id": "e49d0337",
   "metadata": {},
   "outputs": [
    {
     "data": {
      "text/html": [
       "<div>\n",
       "<style scoped>\n",
       "    .dataframe tbody tr th:only-of-type {\n",
       "        vertical-align: middle;\n",
       "    }\n",
       "\n",
       "    .dataframe tbody tr th {\n",
       "        vertical-align: top;\n",
       "    }\n",
       "\n",
       "    .dataframe thead th {\n",
       "        text-align: right;\n",
       "    }\n",
       "</style>\n",
       "<table border=\"1\" class=\"dataframe\">\n",
       "  <thead>\n",
       "    <tr style=\"text-align: right;\">\n",
       "      <th></th>\n",
       "      <th>rating</th>\n",
       "      <th>genre</th>\n",
       "      <th>year</th>\n",
       "    </tr>\n",
       "    <tr>\n",
       "      <th>name</th>\n",
       "      <th></th>\n",
       "      <th></th>\n",
       "      <th></th>\n",
       "    </tr>\n",
       "  </thead>\n",
       "  <tbody>\n",
       "    <tr>\n",
       "      <th>The Shining</th>\n",
       "      <td>R</td>\n",
       "      <td>Drama</td>\n",
       "      <td>1980</td>\n",
       "    </tr>\n",
       "    <tr>\n",
       "      <th>The Blue Lagoon</th>\n",
       "      <td>R</td>\n",
       "      <td>Adventure</td>\n",
       "      <td>1980</td>\n",
       "    </tr>\n",
       "  </tbody>\n",
       "</table>\n",
       "</div>"
      ],
      "text/plain": [
       "                rating      genre  year\n",
       "name                                   \n",
       "The Shining          R      Drama  1980\n",
       "The Blue Lagoon      R  Adventure  1980"
      ]
     },
     "execution_count": 68,
     "metadata": {},
     "output_type": "execute_result"
    }
   ],
   "source": [
    "#slicing\n",
    "\n",
    "df2.iloc[0:2 , 0:3]"
   ]
  },
  {
   "cell_type": "code",
   "execution_count": 71,
   "id": "5221e024",
   "metadata": {},
   "outputs": [
    {
     "data": {
      "text/html": [
       "<div>\n",
       "<style scoped>\n",
       "    .dataframe tbody tr th:only-of-type {\n",
       "        vertical-align: middle;\n",
       "    }\n",
       "\n",
       "    .dataframe tbody tr th {\n",
       "        vertical-align: top;\n",
       "    }\n",
       "\n",
       "    .dataframe thead th {\n",
       "        text-align: right;\n",
       "    }\n",
       "</style>\n",
       "<table border=\"1\" class=\"dataframe\">\n",
       "  <thead>\n",
       "    <tr style=\"text-align: right;\">\n",
       "      <th></th>\n",
       "      <th>rating</th>\n",
       "      <th>genre</th>\n",
       "      <th>year</th>\n",
       "    </tr>\n",
       "    <tr>\n",
       "      <th>name</th>\n",
       "      <th></th>\n",
       "      <th></th>\n",
       "      <th></th>\n",
       "    </tr>\n",
       "  </thead>\n",
       "  <tbody>\n",
       "    <tr>\n",
       "      <th>The Shining</th>\n",
       "      <td>R</td>\n",
       "      <td>Drama</td>\n",
       "      <td>1980</td>\n",
       "    </tr>\n",
       "    <tr>\n",
       "      <th>The Blue Lagoon</th>\n",
       "      <td>R</td>\n",
       "      <td>Adventure</td>\n",
       "      <td>1980</td>\n",
       "    </tr>\n",
       "  </tbody>\n",
       "</table>\n",
       "</div>"
      ],
      "text/plain": [
       "                rating      genre  year\n",
       "name                                   \n",
       "The Shining          R      Drama  1980\n",
       "The Blue Lagoon      R  Adventure  1980"
      ]
     },
     "execution_count": 71,
     "metadata": {},
     "output_type": "execute_result"
    }
   ],
   "source": [
    "df2.loc['The Shining':'The Blue Lagoon' , 'rating':'year']"
   ]
  },
  {
   "cell_type": "code",
   "execution_count": 73,
   "id": "76978522",
   "metadata": {},
   "outputs": [
    {
     "data": {
      "text/html": [
       "<div>\n",
       "<style scoped>\n",
       "    .dataframe tbody tr th:only-of-type {\n",
       "        vertical-align: middle;\n",
       "    }\n",
       "\n",
       "    .dataframe tbody tr th {\n",
       "        vertical-align: top;\n",
       "    }\n",
       "\n",
       "    .dataframe thead th {\n",
       "        text-align: right;\n",
       "    }\n",
       "</style>\n",
       "<table border=\"1\" class=\"dataframe\">\n",
       "  <thead>\n",
       "    <tr style=\"text-align: right;\">\n",
       "      <th></th>\n",
       "      <th>name</th>\n",
       "      <th>rating</th>\n",
       "      <th>genre</th>\n",
       "      <th>year</th>\n",
       "    </tr>\n",
       "  </thead>\n",
       "  <tbody>\n",
       "    <tr>\n",
       "      <th>0</th>\n",
       "      <td>The Shining</td>\n",
       "      <td>R</td>\n",
       "      <td>Drama</td>\n",
       "      <td>1980</td>\n",
       "    </tr>\n",
       "    <tr>\n",
       "      <th>1</th>\n",
       "      <td>The Blue Lagoon</td>\n",
       "      <td>R</td>\n",
       "      <td>Adventure</td>\n",
       "      <td>1980</td>\n",
       "    </tr>\n",
       "  </tbody>\n",
       "</table>\n",
       "</div>"
      ],
      "text/plain": [
       "              name rating      genre  year\n",
       "0      The Shining      R      Drama  1980\n",
       "1  The Blue Lagoon      R  Adventure  1980"
      ]
     },
     "execution_count": 73,
     "metadata": {},
     "output_type": "execute_result"
    }
   ],
   "source": [
    "df.loc[0:1 , 'name':'year']"
   ]
  },
  {
   "cell_type": "code",
   "execution_count": 78,
   "id": "b71cb7b7",
   "metadata": {},
   "outputs": [
    {
     "data": {
      "text/html": [
       "<div>\n",
       "<style scoped>\n",
       "    .dataframe tbody tr th:only-of-type {\n",
       "        vertical-align: middle;\n",
       "    }\n",
       "\n",
       "    .dataframe tbody tr th {\n",
       "        vertical-align: top;\n",
       "    }\n",
       "\n",
       "    .dataframe thead th {\n",
       "        text-align: right;\n",
       "    }\n",
       "</style>\n",
       "<table border=\"1\" class=\"dataframe\">\n",
       "  <thead>\n",
       "    <tr style=\"text-align: right;\">\n",
       "      <th></th>\n",
       "      <th>ID</th>\n",
       "      <th>Marital Status</th>\n",
       "      <th>Gender</th>\n",
       "      <th>Income</th>\n",
       "      <th>Children</th>\n",
       "      <th>Education</th>\n",
       "      <th>Occupation</th>\n",
       "      <th>Home Owner</th>\n",
       "      <th>Cars</th>\n",
       "      <th>Commute Distance</th>\n",
       "      <th>Region</th>\n",
       "      <th>Age</th>\n",
       "      <th>Purchased Bike</th>\n",
       "    </tr>\n",
       "  </thead>\n",
       "  <tbody>\n",
       "    <tr>\n",
       "      <th>0</th>\n",
       "      <td>12496</td>\n",
       "      <td>M</td>\n",
       "      <td>F</td>\n",
       "      <td>40000</td>\n",
       "      <td>1</td>\n",
       "      <td>Bachelors</td>\n",
       "      <td>Skilled Manual</td>\n",
       "      <td>Yes</td>\n",
       "      <td>0</td>\n",
       "      <td>0-1 Miles</td>\n",
       "      <td>Europe</td>\n",
       "      <td>42</td>\n",
       "      <td>No</td>\n",
       "    </tr>\n",
       "    <tr>\n",
       "      <th>1</th>\n",
       "      <td>24107</td>\n",
       "      <td>M</td>\n",
       "      <td>M</td>\n",
       "      <td>30000</td>\n",
       "      <td>3</td>\n",
       "      <td>Partial College</td>\n",
       "      <td>Clerical</td>\n",
       "      <td>Yes</td>\n",
       "      <td>1</td>\n",
       "      <td>0-1 Miles</td>\n",
       "      <td>Europe</td>\n",
       "      <td>43</td>\n",
       "      <td>No</td>\n",
       "    </tr>\n",
       "    <tr>\n",
       "      <th>2</th>\n",
       "      <td>14177</td>\n",
       "      <td>M</td>\n",
       "      <td>M</td>\n",
       "      <td>80000</td>\n",
       "      <td>5</td>\n",
       "      <td>Partial College</td>\n",
       "      <td>Professional</td>\n",
       "      <td>No</td>\n",
       "      <td>2</td>\n",
       "      <td>2-5 Miles</td>\n",
       "      <td>Europe</td>\n",
       "      <td>60</td>\n",
       "      <td>No</td>\n",
       "    </tr>\n",
       "    <tr>\n",
       "      <th>3</th>\n",
       "      <td>24381</td>\n",
       "      <td>S</td>\n",
       "      <td>M</td>\n",
       "      <td>70000</td>\n",
       "      <td>0</td>\n",
       "      <td>Bachelors</td>\n",
       "      <td>Professional</td>\n",
       "      <td>Yes</td>\n",
       "      <td>1</td>\n",
       "      <td>5-10 Miles</td>\n",
       "      <td>Pacific</td>\n",
       "      <td>41</td>\n",
       "      <td>Yes</td>\n",
       "    </tr>\n",
       "    <tr>\n",
       "      <th>4</th>\n",
       "      <td>25597</td>\n",
       "      <td>S</td>\n",
       "      <td>M</td>\n",
       "      <td>30000</td>\n",
       "      <td>0</td>\n",
       "      <td>Bachelors</td>\n",
       "      <td>Clerical</td>\n",
       "      <td>No</td>\n",
       "      <td>0</td>\n",
       "      <td>0-1 Miles</td>\n",
       "      <td>Europe</td>\n",
       "      <td>36</td>\n",
       "      <td>Yes</td>\n",
       "    </tr>\n",
       "  </tbody>\n",
       "</table>\n",
       "</div>"
      ],
      "text/plain": [
       "      ID Marital Status Gender  Income  Children        Education  \\\n",
       "0  12496              M      F   40000         1        Bachelors   \n",
       "1  24107              M      M   30000         3  Partial College   \n",
       "2  14177              M      M   80000         5  Partial College   \n",
       "3  24381              S      M   70000         0        Bachelors   \n",
       "4  25597              S      M   30000         0        Bachelors   \n",
       "\n",
       "       Occupation Home Owner  Cars Commute Distance   Region  Age  \\\n",
       "0  Skilled Manual        Yes     0        0-1 Miles   Europe   42   \n",
       "1        Clerical        Yes     1        0-1 Miles   Europe   43   \n",
       "2    Professional         No     2        2-5 Miles   Europe   60   \n",
       "3    Professional        Yes     1       5-10 Miles  Pacific   41   \n",
       "4        Clerical         No     0        0-1 Miles   Europe   36   \n",
       "\n",
       "  Purchased Bike  \n",
       "0             No  \n",
       "1             No  \n",
       "2             No  \n",
       "3            Yes  \n",
       "4            Yes  "
      ]
     },
     "execution_count": 78,
     "metadata": {},
     "output_type": "execute_result"
    }
   ],
   "source": [
    "# .read_excel(): read excel file\n",
    "\n",
    "df = pd.read_excel(r\"C:\\Users\\esraa\\Desktop\\DataSets\\Bike Sales Dataset-Excel Project.xlsx\")\n",
    "df.head()"
   ]
  },
  {
   "cell_type": "code",
   "execution_count": 79,
   "id": "b5a521a9",
   "metadata": {},
   "outputs": [
    {
     "data": {
      "text/html": [
       "<div>\n",
       "<style scoped>\n",
       "    .dataframe tbody tr th:only-of-type {\n",
       "        vertical-align: middle;\n",
       "    }\n",
       "\n",
       "    .dataframe tbody tr th {\n",
       "        vertical-align: top;\n",
       "    }\n",
       "\n",
       "    .dataframe thead th {\n",
       "        text-align: right;\n",
       "    }\n",
       "</style>\n",
       "<table border=\"1\" class=\"dataframe\">\n",
       "  <thead>\n",
       "    <tr style=\"text-align: right;\">\n",
       "      <th></th>\n",
       "      <th>ID</th>\n",
       "      <th>Marital Status</th>\n",
       "      <th>Gender</th>\n",
       "      <th>Income</th>\n",
       "      <th>Children</th>\n",
       "      <th>Education</th>\n",
       "      <th>Occupation</th>\n",
       "      <th>Home Owner</th>\n",
       "      <th>Cars</th>\n",
       "      <th>Commute Distance</th>\n",
       "      <th>Region</th>\n",
       "      <th>Age</th>\n",
       "      <th>Purchased Bike</th>\n",
       "    </tr>\n",
       "  </thead>\n",
       "  <tbody>\n",
       "    <tr>\n",
       "      <th>0</th>\n",
       "      <td>12496</td>\n",
       "      <td>M</td>\n",
       "      <td>F</td>\n",
       "      <td>40000</td>\n",
       "      <td>1</td>\n",
       "      <td>Bachelors</td>\n",
       "      <td>Skilled Manual</td>\n",
       "      <td>Yes</td>\n",
       "      <td>0</td>\n",
       "      <td>0-1 Miles</td>\n",
       "      <td>Europe</td>\n",
       "      <td>42</td>\n",
       "      <td>No</td>\n",
       "    </tr>\n",
       "    <tr>\n",
       "      <th>1</th>\n",
       "      <td>24107</td>\n",
       "      <td>M</td>\n",
       "      <td>M</td>\n",
       "      <td>30000</td>\n",
       "      <td>3</td>\n",
       "      <td>Partial College</td>\n",
       "      <td>Clerical</td>\n",
       "      <td>Yes</td>\n",
       "      <td>1</td>\n",
       "      <td>0-1 Miles</td>\n",
       "      <td>Europe</td>\n",
       "      <td>43</td>\n",
       "      <td>No</td>\n",
       "    </tr>\n",
       "    <tr>\n",
       "      <th>2</th>\n",
       "      <td>14177</td>\n",
       "      <td>M</td>\n",
       "      <td>M</td>\n",
       "      <td>80000</td>\n",
       "      <td>5</td>\n",
       "      <td>Partial College</td>\n",
       "      <td>Professional</td>\n",
       "      <td>No</td>\n",
       "      <td>2</td>\n",
       "      <td>2-5 Miles</td>\n",
       "      <td>Europe</td>\n",
       "      <td>60</td>\n",
       "      <td>No</td>\n",
       "    </tr>\n",
       "    <tr>\n",
       "      <th>3</th>\n",
       "      <td>24381</td>\n",
       "      <td>S</td>\n",
       "      <td>M</td>\n",
       "      <td>70000</td>\n",
       "      <td>0</td>\n",
       "      <td>Bachelors</td>\n",
       "      <td>Professional</td>\n",
       "      <td>Yes</td>\n",
       "      <td>1</td>\n",
       "      <td>5-10 Miles</td>\n",
       "      <td>Pacific</td>\n",
       "      <td>41</td>\n",
       "      <td>Yes</td>\n",
       "    </tr>\n",
       "    <tr>\n",
       "      <th>4</th>\n",
       "      <td>25597</td>\n",
       "      <td>S</td>\n",
       "      <td>M</td>\n",
       "      <td>30000</td>\n",
       "      <td>0</td>\n",
       "      <td>Bachelors</td>\n",
       "      <td>Clerical</td>\n",
       "      <td>No</td>\n",
       "      <td>0</td>\n",
       "      <td>0-1 Miles</td>\n",
       "      <td>Europe</td>\n",
       "      <td>36</td>\n",
       "      <td>Yes</td>\n",
       "    </tr>\n",
       "    <tr>\n",
       "      <th>5</th>\n",
       "      <td>13507</td>\n",
       "      <td>M</td>\n",
       "      <td>F</td>\n",
       "      <td>10000</td>\n",
       "      <td>2</td>\n",
       "      <td>Partial College</td>\n",
       "      <td>Manual</td>\n",
       "      <td>Yes</td>\n",
       "      <td>0</td>\n",
       "      <td>1-2 Miles</td>\n",
       "      <td>Europe</td>\n",
       "      <td>50</td>\n",
       "      <td>No</td>\n",
       "    </tr>\n",
       "    <tr>\n",
       "      <th>6</th>\n",
       "      <td>27974</td>\n",
       "      <td>S</td>\n",
       "      <td>M</td>\n",
       "      <td>160000</td>\n",
       "      <td>2</td>\n",
       "      <td>High School</td>\n",
       "      <td>Management</td>\n",
       "      <td>Yes</td>\n",
       "      <td>4</td>\n",
       "      <td>0-1 Miles</td>\n",
       "      <td>Pacific</td>\n",
       "      <td>33</td>\n",
       "      <td>Yes</td>\n",
       "    </tr>\n",
       "    <tr>\n",
       "      <th>7</th>\n",
       "      <td>19364</td>\n",
       "      <td>M</td>\n",
       "      <td>M</td>\n",
       "      <td>40000</td>\n",
       "      <td>1</td>\n",
       "      <td>Bachelors</td>\n",
       "      <td>Skilled Manual</td>\n",
       "      <td>Yes</td>\n",
       "      <td>0</td>\n",
       "      <td>0-1 Miles</td>\n",
       "      <td>Europe</td>\n",
       "      <td>43</td>\n",
       "      <td>Yes</td>\n",
       "    </tr>\n",
       "    <tr>\n",
       "      <th>8</th>\n",
       "      <td>22155</td>\n",
       "      <td>M</td>\n",
       "      <td>M</td>\n",
       "      <td>20000</td>\n",
       "      <td>2</td>\n",
       "      <td>Partial High School</td>\n",
       "      <td>Clerical</td>\n",
       "      <td>Yes</td>\n",
       "      <td>2</td>\n",
       "      <td>5-10 Miles</td>\n",
       "      <td>Pacific</td>\n",
       "      <td>58</td>\n",
       "      <td>No</td>\n",
       "    </tr>\n",
       "    <tr>\n",
       "      <th>9</th>\n",
       "      <td>19280</td>\n",
       "      <td>M</td>\n",
       "      <td>M</td>\n",
       "      <td>120000</td>\n",
       "      <td>2</td>\n",
       "      <td>Partial College</td>\n",
       "      <td>Manual</td>\n",
       "      <td>Yes</td>\n",
       "      <td>1</td>\n",
       "      <td>0-1 Miles</td>\n",
       "      <td>Europe</td>\n",
       "      <td>40</td>\n",
       "      <td>Yes</td>\n",
       "    </tr>\n",
       "  </tbody>\n",
       "</table>\n",
       "</div>"
      ],
      "text/plain": [
       "      ID Marital Status Gender  Income  Children            Education  \\\n",
       "0  12496              M      F   40000         1            Bachelors   \n",
       "1  24107              M      M   30000         3      Partial College   \n",
       "2  14177              M      M   80000         5      Partial College   \n",
       "3  24381              S      M   70000         0            Bachelors   \n",
       "4  25597              S      M   30000         0            Bachelors   \n",
       "5  13507              M      F   10000         2      Partial College   \n",
       "6  27974              S      M  160000         2          High School   \n",
       "7  19364              M      M   40000         1            Bachelors   \n",
       "8  22155              M      M   20000         2  Partial High School   \n",
       "9  19280              M      M  120000         2      Partial College   \n",
       "\n",
       "       Occupation Home Owner  Cars Commute Distance   Region  Age  \\\n",
       "0  Skilled Manual        Yes     0        0-1 Miles   Europe   42   \n",
       "1        Clerical        Yes     1        0-1 Miles   Europe   43   \n",
       "2    Professional         No     2        2-5 Miles   Europe   60   \n",
       "3    Professional        Yes     1       5-10 Miles  Pacific   41   \n",
       "4        Clerical         No     0        0-1 Miles   Europe   36   \n",
       "5          Manual        Yes     0        1-2 Miles   Europe   50   \n",
       "6      Management        Yes     4        0-1 Miles  Pacific   33   \n",
       "7  Skilled Manual        Yes     0        0-1 Miles   Europe   43   \n",
       "8        Clerical        Yes     2       5-10 Miles  Pacific   58   \n",
       "9          Manual        Yes     1        0-1 Miles   Europe   40   \n",
       "\n",
       "  Purchased Bike  \n",
       "0             No  \n",
       "1             No  \n",
       "2             No  \n",
       "3            Yes  \n",
       "4            Yes  \n",
       "5             No  \n",
       "6            Yes  \n",
       "7            Yes  \n",
       "8             No  \n",
       "9            Yes  "
      ]
     },
     "execution_count": 79,
     "metadata": {},
     "output_type": "execute_result"
    }
   ],
   "source": [
    "# head(): Displays the *first* n rows of the DataFrame.\n",
    "df.head(10)"
   ]
  },
  {
   "cell_type": "code",
   "execution_count": 80,
   "id": "efbfa180",
   "metadata": {},
   "outputs": [
    {
     "data": {
      "text/html": [
       "<div>\n",
       "<style scoped>\n",
       "    .dataframe tbody tr th:only-of-type {\n",
       "        vertical-align: middle;\n",
       "    }\n",
       "\n",
       "    .dataframe tbody tr th {\n",
       "        vertical-align: top;\n",
       "    }\n",
       "\n",
       "    .dataframe thead th {\n",
       "        text-align: right;\n",
       "    }\n",
       "</style>\n",
       "<table border=\"1\" class=\"dataframe\">\n",
       "  <thead>\n",
       "    <tr style=\"text-align: right;\">\n",
       "      <th></th>\n",
       "      <th>ID</th>\n",
       "      <th>Marital Status</th>\n",
       "      <th>Gender</th>\n",
       "      <th>Income</th>\n",
       "      <th>Children</th>\n",
       "      <th>Education</th>\n",
       "      <th>Occupation</th>\n",
       "      <th>Home Owner</th>\n",
       "      <th>Cars</th>\n",
       "      <th>Commute Distance</th>\n",
       "      <th>Region</th>\n",
       "      <th>Age</th>\n",
       "      <th>Purchased Bike</th>\n",
       "    </tr>\n",
       "  </thead>\n",
       "  <tbody>\n",
       "    <tr>\n",
       "      <th>1024</th>\n",
       "      <td>20942</td>\n",
       "      <td>S</td>\n",
       "      <td>F</td>\n",
       "      <td>20000</td>\n",
       "      <td>0</td>\n",
       "      <td>High School</td>\n",
       "      <td>Manual</td>\n",
       "      <td>No</td>\n",
       "      <td>1</td>\n",
       "      <td>5-10 Miles</td>\n",
       "      <td>Europe</td>\n",
       "      <td>31</td>\n",
       "      <td>No</td>\n",
       "    </tr>\n",
       "    <tr>\n",
       "      <th>1025</th>\n",
       "      <td>18484</td>\n",
       "      <td>S</td>\n",
       "      <td>M</td>\n",
       "      <td>80000</td>\n",
       "      <td>2</td>\n",
       "      <td>High School</td>\n",
       "      <td>Skilled Manual</td>\n",
       "      <td>No</td>\n",
       "      <td>2</td>\n",
       "      <td>1-2 Miles</td>\n",
       "      <td>Pacific</td>\n",
       "      <td>50</td>\n",
       "      <td>Yes</td>\n",
       "    </tr>\n",
       "  </tbody>\n",
       "</table>\n",
       "</div>"
      ],
      "text/plain": [
       "         ID Marital Status Gender  Income  Children    Education  \\\n",
       "1024  20942              S      F   20000         0  High School   \n",
       "1025  18484              S      M   80000         2  High School   \n",
       "\n",
       "          Occupation Home Owner  Cars Commute Distance   Region  Age  \\\n",
       "1024          Manual         No     1       5-10 Miles   Europe   31   \n",
       "1025  Skilled Manual         No     2        1-2 Miles  Pacific   50   \n",
       "\n",
       "     Purchased Bike  \n",
       "1024             No  \n",
       "1025            Yes  "
      ]
     },
     "execution_count": 80,
     "metadata": {},
     "output_type": "execute_result"
    }
   ],
   "source": [
    "# tail(): Displays the *last* n rows of the DataFrame.\n",
    "df.tail(2)"
   ]
  },
  {
   "cell_type": "code",
   "execution_count": 56,
   "id": "a1416cbf",
   "metadata": {},
   "outputs": [
    {
     "data": {
      "text/plain": [
       "array(['Europe', 'Pacific', 'North America'], dtype=object)"
      ]
     },
     "execution_count": 56,
     "metadata": {},
     "output_type": "execute_result"
    }
   ],
   "source": [
    "# .unique(): determine the unique elements in a column of a DataFrame\n",
    "\n",
    "unique_regions = df['Region'].unique()\n",
    "unique_regions"
   ]
  },
  {
   "cell_type": "code",
   "execution_count": 57,
   "id": "b8fb5181",
   "metadata": {},
   "outputs": [
    {
     "data": {
      "text/html": [
       "<div>\n",
       "<style scoped>\n",
       "    .dataframe tbody tr th:only-of-type {\n",
       "        vertical-align: middle;\n",
       "    }\n",
       "\n",
       "    .dataframe tbody tr th {\n",
       "        vertical-align: top;\n",
       "    }\n",
       "\n",
       "    .dataframe thead th {\n",
       "        text-align: right;\n",
       "    }\n",
       "</style>\n",
       "<table border=\"1\" class=\"dataframe\">\n",
       "  <thead>\n",
       "    <tr style=\"text-align: right;\">\n",
       "      <th></th>\n",
       "      <th>ID</th>\n",
       "      <th>Income</th>\n",
       "      <th>Children</th>\n",
       "      <th>Cars</th>\n",
       "      <th>Age</th>\n",
       "    </tr>\n",
       "  </thead>\n",
       "  <tbody>\n",
       "    <tr>\n",
       "      <th>count</th>\n",
       "      <td>1026.000000</td>\n",
       "      <td>1026.000000</td>\n",
       "      <td>1026.000000</td>\n",
       "      <td>1026.000000</td>\n",
       "      <td>1026.000000</td>\n",
       "    </tr>\n",
       "    <tr>\n",
       "      <th>mean</th>\n",
       "      <td>19969.196881</td>\n",
       "      <td>56208.576998</td>\n",
       "      <td>1.892788</td>\n",
       "      <td>1.437622</td>\n",
       "      <td>44.138402</td>\n",
       "    </tr>\n",
       "    <tr>\n",
       "      <th>std</th>\n",
       "      <td>5332.672942</td>\n",
       "      <td>31293.284007</td>\n",
       "      <td>1.626670</td>\n",
       "      <td>1.125538</td>\n",
       "      <td>11.349282</td>\n",
       "    </tr>\n",
       "    <tr>\n",
       "      <th>min</th>\n",
       "      <td>11000.000000</td>\n",
       "      <td>10000.000000</td>\n",
       "      <td>0.000000</td>\n",
       "      <td>0.000000</td>\n",
       "      <td>25.000000</td>\n",
       "    </tr>\n",
       "    <tr>\n",
       "      <th>25%</th>\n",
       "      <td>15304.750000</td>\n",
       "      <td>30000.000000</td>\n",
       "      <td>0.000000</td>\n",
       "      <td>1.000000</td>\n",
       "      <td>35.000000</td>\n",
       "    </tr>\n",
       "    <tr>\n",
       "      <th>50%</th>\n",
       "      <td>19744.000000</td>\n",
       "      <td>60000.000000</td>\n",
       "      <td>2.000000</td>\n",
       "      <td>1.000000</td>\n",
       "      <td>43.000000</td>\n",
       "    </tr>\n",
       "    <tr>\n",
       "      <th>75%</th>\n",
       "      <td>24457.750000</td>\n",
       "      <td>70000.000000</td>\n",
       "      <td>3.000000</td>\n",
       "      <td>2.000000</td>\n",
       "      <td>52.000000</td>\n",
       "    </tr>\n",
       "    <tr>\n",
       "      <th>max</th>\n",
       "      <td>29447.000000</td>\n",
       "      <td>170000.000000</td>\n",
       "      <td>5.000000</td>\n",
       "      <td>4.000000</td>\n",
       "      <td>89.000000</td>\n",
       "    </tr>\n",
       "  </tbody>\n",
       "</table>\n",
       "</div>"
      ],
      "text/plain": [
       "                 ID         Income     Children         Cars          Age\n",
       "count   1026.000000    1026.000000  1026.000000  1026.000000  1026.000000\n",
       "mean   19969.196881   56208.576998     1.892788     1.437622    44.138402\n",
       "std     5332.672942   31293.284007     1.626670     1.125538    11.349282\n",
       "min    11000.000000   10000.000000     0.000000     0.000000    25.000000\n",
       "25%    15304.750000   30000.000000     0.000000     1.000000    35.000000\n",
       "50%    19744.000000   60000.000000     2.000000     1.000000    43.000000\n",
       "75%    24457.750000   70000.000000     3.000000     2.000000    52.000000\n",
       "max    29447.000000  170000.000000     5.000000     4.000000    89.000000"
      ]
     },
     "execution_count": 57,
     "metadata": {},
     "output_type": "execute_result"
    }
   ],
   "source": [
    "# .describe(): Generates statistics summary of numeric columns in the DataFrame\n",
    "df.describe()"
   ]
  },
  {
   "cell_type": "code",
   "execution_count": 76,
   "id": "93303df9",
   "metadata": {},
   "outputs": [
    {
     "data": {
      "text/html": [
       "<div>\n",
       "<style scoped>\n",
       "    .dataframe tbody tr th:only-of-type {\n",
       "        vertical-align: middle;\n",
       "    }\n",
       "\n",
       "    .dataframe tbody tr th {\n",
       "        vertical-align: top;\n",
       "    }\n",
       "\n",
       "    .dataframe thead th {\n",
       "        text-align: right;\n",
       "    }\n",
       "</style>\n",
       "<table border=\"1\" class=\"dataframe\">\n",
       "  <thead>\n",
       "    <tr style=\"text-align: right;\">\n",
       "      <th></th>\n",
       "      <th>ID</th>\n",
       "      <th>Income</th>\n",
       "      <th>Children</th>\n",
       "      <th>Education</th>\n",
       "      <th>Occupation</th>\n",
       "      <th>Home Owner</th>\n",
       "      <th>Cars</th>\n",
       "      <th>Commute Distance</th>\n",
       "      <th>Region</th>\n",
       "      <th>Age</th>\n",
       "      <th>Purchased Bike</th>\n",
       "    </tr>\n",
       "  </thead>\n",
       "  <tbody>\n",
       "    <tr>\n",
       "      <th>0</th>\n",
       "      <td>12496</td>\n",
       "      <td>40000</td>\n",
       "      <td>1</td>\n",
       "      <td>Bachelors</td>\n",
       "      <td>Skilled Manual</td>\n",
       "      <td>Yes</td>\n",
       "      <td>0</td>\n",
       "      <td>0-1 Miles</td>\n",
       "      <td>Europe</td>\n",
       "      <td>42</td>\n",
       "      <td>No</td>\n",
       "    </tr>\n",
       "    <tr>\n",
       "      <th>1</th>\n",
       "      <td>24107</td>\n",
       "      <td>30000</td>\n",
       "      <td>3</td>\n",
       "      <td>Partial College</td>\n",
       "      <td>Clerical</td>\n",
       "      <td>Yes</td>\n",
       "      <td>1</td>\n",
       "      <td>0-1 Miles</td>\n",
       "      <td>Europe</td>\n",
       "      <td>43</td>\n",
       "      <td>No</td>\n",
       "    </tr>\n",
       "    <tr>\n",
       "      <th>2</th>\n",
       "      <td>14177</td>\n",
       "      <td>80000</td>\n",
       "      <td>5</td>\n",
       "      <td>Partial College</td>\n",
       "      <td>Professional</td>\n",
       "      <td>No</td>\n",
       "      <td>2</td>\n",
       "      <td>2-5 Miles</td>\n",
       "      <td>Europe</td>\n",
       "      <td>60</td>\n",
       "      <td>No</td>\n",
       "    </tr>\n",
       "    <tr>\n",
       "      <th>3</th>\n",
       "      <td>24381</td>\n",
       "      <td>70000</td>\n",
       "      <td>0</td>\n",
       "      <td>Bachelors</td>\n",
       "      <td>Professional</td>\n",
       "      <td>Yes</td>\n",
       "      <td>1</td>\n",
       "      <td>5-10 Miles</td>\n",
       "      <td>Pacific</td>\n",
       "      <td>41</td>\n",
       "      <td>Yes</td>\n",
       "    </tr>\n",
       "    <tr>\n",
       "      <th>4</th>\n",
       "      <td>25597</td>\n",
       "      <td>30000</td>\n",
       "      <td>0</td>\n",
       "      <td>Bachelors</td>\n",
       "      <td>Clerical</td>\n",
       "      <td>No</td>\n",
       "      <td>0</td>\n",
       "      <td>0-1 Miles</td>\n",
       "      <td>Europe</td>\n",
       "      <td>36</td>\n",
       "      <td>Yes</td>\n",
       "    </tr>\n",
       "    <tr>\n",
       "      <th>...</th>\n",
       "      <td>...</td>\n",
       "      <td>...</td>\n",
       "      <td>...</td>\n",
       "      <td>...</td>\n",
       "      <td>...</td>\n",
       "      <td>...</td>\n",
       "      <td>...</td>\n",
       "      <td>...</td>\n",
       "      <td>...</td>\n",
       "      <td>...</td>\n",
       "      <td>...</td>\n",
       "    </tr>\n",
       "    <tr>\n",
       "      <th>1021</th>\n",
       "      <td>16466</td>\n",
       "      <td>20000</td>\n",
       "      <td>0</td>\n",
       "      <td>Partial High School</td>\n",
       "      <td>Manual</td>\n",
       "      <td>No</td>\n",
       "      <td>2</td>\n",
       "      <td>0-1 Miles</td>\n",
       "      <td>Europe</td>\n",
       "      <td>32</td>\n",
       "      <td>Yes</td>\n",
       "    </tr>\n",
       "    <tr>\n",
       "      <th>1022</th>\n",
       "      <td>19273</td>\n",
       "      <td>20000</td>\n",
       "      <td>2</td>\n",
       "      <td>Partial College</td>\n",
       "      <td>Manual</td>\n",
       "      <td>Yes</td>\n",
       "      <td>0</td>\n",
       "      <td>0-1 Miles</td>\n",
       "      <td>Europe</td>\n",
       "      <td>63</td>\n",
       "      <td>No</td>\n",
       "    </tr>\n",
       "    <tr>\n",
       "      <th>1023</th>\n",
       "      <td>22400</td>\n",
       "      <td>10000</td>\n",
       "      <td>0</td>\n",
       "      <td>Partial College</td>\n",
       "      <td>Manual</td>\n",
       "      <td>No</td>\n",
       "      <td>1</td>\n",
       "      <td>0-1 Miles</td>\n",
       "      <td>Pacific</td>\n",
       "      <td>26</td>\n",
       "      <td>Yes</td>\n",
       "    </tr>\n",
       "    <tr>\n",
       "      <th>1024</th>\n",
       "      <td>20942</td>\n",
       "      <td>20000</td>\n",
       "      <td>0</td>\n",
       "      <td>High School</td>\n",
       "      <td>Manual</td>\n",
       "      <td>No</td>\n",
       "      <td>1</td>\n",
       "      <td>5-10 Miles</td>\n",
       "      <td>Europe</td>\n",
       "      <td>31</td>\n",
       "      <td>No</td>\n",
       "    </tr>\n",
       "    <tr>\n",
       "      <th>1025</th>\n",
       "      <td>18484</td>\n",
       "      <td>80000</td>\n",
       "      <td>2</td>\n",
       "      <td>High School</td>\n",
       "      <td>Skilled Manual</td>\n",
       "      <td>No</td>\n",
       "      <td>2</td>\n",
       "      <td>1-2 Miles</td>\n",
       "      <td>Pacific</td>\n",
       "      <td>50</td>\n",
       "      <td>Yes</td>\n",
       "    </tr>\n",
       "  </tbody>\n",
       "</table>\n",
       "<p>1026 rows × 11 columns</p>\n",
       "</div>"
      ],
      "text/plain": [
       "         ID  Income  Children            Education      Occupation Home Owner  \\\n",
       "0     12496   40000         1            Bachelors  Skilled Manual        Yes   \n",
       "1     24107   30000         3      Partial College        Clerical        Yes   \n",
       "2     14177   80000         5      Partial College    Professional         No   \n",
       "3     24381   70000         0            Bachelors    Professional        Yes   \n",
       "4     25597   30000         0            Bachelors        Clerical         No   \n",
       "...     ...     ...       ...                  ...             ...        ...   \n",
       "1021  16466   20000         0  Partial High School          Manual         No   \n",
       "1022  19273   20000         2      Partial College          Manual        Yes   \n",
       "1023  22400   10000         0      Partial College          Manual         No   \n",
       "1024  20942   20000         0          High School          Manual         No   \n",
       "1025  18484   80000         2          High School  Skilled Manual         No   \n",
       "\n",
       "      Cars Commute Distance   Region  Age Purchased Bike  \n",
       "0        0        0-1 Miles   Europe   42             No  \n",
       "1        1        0-1 Miles   Europe   43             No  \n",
       "2        2        2-5 Miles   Europe   60             No  \n",
       "3        1       5-10 Miles  Pacific   41            Yes  \n",
       "4        0        0-1 Miles   Europe   36            Yes  \n",
       "...    ...              ...      ...  ...            ...  \n",
       "1021     2        0-1 Miles   Europe   32            Yes  \n",
       "1022     0        0-1 Miles   Europe   63             No  \n",
       "1023     1        0-1 Miles  Pacific   26            Yes  \n",
       "1024     1       5-10 Miles   Europe   31             No  \n",
       "1025     2        1-2 Miles  Pacific   50            Yes  \n",
       "\n",
       "[1026 rows x 11 columns]"
      ]
     },
     "execution_count": 76,
     "metadata": {},
     "output_type": "execute_result"
    }
   ],
   "source": [
    "# .drop(): Removes specified rows or columns from the DataFrame. (axis=1 indicates columns. axis=0 indicates rows)\n",
    "\n",
    "df.drop(['Marital Status','Gender'], axis=1, inplace=True)\n",
    "df"
   ]
  },
  {
   "cell_type": "code",
   "execution_count": 59,
   "id": "afd062a5",
   "metadata": {},
   "outputs": [
    {
     "data": {
      "text/html": [
       "<div>\n",
       "<style scoped>\n",
       "    .dataframe tbody tr th:only-of-type {\n",
       "        vertical-align: middle;\n",
       "    }\n",
       "\n",
       "    .dataframe tbody tr th {\n",
       "        vertical-align: top;\n",
       "    }\n",
       "\n",
       "    .dataframe thead th {\n",
       "        text-align: right;\n",
       "    }\n",
       "</style>\n",
       "<table border=\"1\" class=\"dataframe\">\n",
       "  <thead>\n",
       "    <tr style=\"text-align: right;\">\n",
       "      <th></th>\n",
       "      <th>ID</th>\n",
       "      <th>Income</th>\n",
       "      <th>Children</th>\n",
       "      <th>Education</th>\n",
       "      <th>Occupation</th>\n",
       "      <th>Home Owner</th>\n",
       "      <th>Cars</th>\n",
       "      <th>Commute Distance</th>\n",
       "      <th>Region</th>\n",
       "      <th>Age</th>\n",
       "      <th>Purchased Bike</th>\n",
       "    </tr>\n",
       "  </thead>\n",
       "  <tbody>\n",
       "    <tr>\n",
       "      <th>3</th>\n",
       "      <td>24381</td>\n",
       "      <td>70000</td>\n",
       "      <td>0</td>\n",
       "      <td>Bachelors</td>\n",
       "      <td>Professional</td>\n",
       "      <td>Yes</td>\n",
       "      <td>1</td>\n",
       "      <td>5-10 Miles</td>\n",
       "      <td>Pacific</td>\n",
       "      <td>41</td>\n",
       "      <td>Yes</td>\n",
       "    </tr>\n",
       "    <tr>\n",
       "      <th>4</th>\n",
       "      <td>25597</td>\n",
       "      <td>30000</td>\n",
       "      <td>0</td>\n",
       "      <td>Bachelors</td>\n",
       "      <td>Clerical</td>\n",
       "      <td>No</td>\n",
       "      <td>0</td>\n",
       "      <td>0-1 Miles</td>\n",
       "      <td>Europe</td>\n",
       "      <td>36</td>\n",
       "      <td>Yes</td>\n",
       "    </tr>\n",
       "    <tr>\n",
       "      <th>5</th>\n",
       "      <td>13507</td>\n",
       "      <td>10000</td>\n",
       "      <td>2</td>\n",
       "      <td>Partial College</td>\n",
       "      <td>Manual</td>\n",
       "      <td>Yes</td>\n",
       "      <td>0</td>\n",
       "      <td>1-2 Miles</td>\n",
       "      <td>Europe</td>\n",
       "      <td>50</td>\n",
       "      <td>No</td>\n",
       "    </tr>\n",
       "    <tr>\n",
       "      <th>6</th>\n",
       "      <td>27974</td>\n",
       "      <td>160000</td>\n",
       "      <td>2</td>\n",
       "      <td>High School</td>\n",
       "      <td>Management</td>\n",
       "      <td>Yes</td>\n",
       "      <td>4</td>\n",
       "      <td>0-1 Miles</td>\n",
       "      <td>Pacific</td>\n",
       "      <td>33</td>\n",
       "      <td>Yes</td>\n",
       "    </tr>\n",
       "    <tr>\n",
       "      <th>7</th>\n",
       "      <td>19364</td>\n",
       "      <td>40000</td>\n",
       "      <td>1</td>\n",
       "      <td>Bachelors</td>\n",
       "      <td>Skilled Manual</td>\n",
       "      <td>Yes</td>\n",
       "      <td>0</td>\n",
       "      <td>0-1 Miles</td>\n",
       "      <td>Europe</td>\n",
       "      <td>43</td>\n",
       "      <td>Yes</td>\n",
       "    </tr>\n",
       "    <tr>\n",
       "      <th>...</th>\n",
       "      <td>...</td>\n",
       "      <td>...</td>\n",
       "      <td>...</td>\n",
       "      <td>...</td>\n",
       "      <td>...</td>\n",
       "      <td>...</td>\n",
       "      <td>...</td>\n",
       "      <td>...</td>\n",
       "      <td>...</td>\n",
       "      <td>...</td>\n",
       "      <td>...</td>\n",
       "    </tr>\n",
       "    <tr>\n",
       "      <th>1021</th>\n",
       "      <td>16466</td>\n",
       "      <td>20000</td>\n",
       "      <td>0</td>\n",
       "      <td>Partial High School</td>\n",
       "      <td>Manual</td>\n",
       "      <td>No</td>\n",
       "      <td>2</td>\n",
       "      <td>0-1 Miles</td>\n",
       "      <td>Europe</td>\n",
       "      <td>32</td>\n",
       "      <td>Yes</td>\n",
       "    </tr>\n",
       "    <tr>\n",
       "      <th>1022</th>\n",
       "      <td>19273</td>\n",
       "      <td>20000</td>\n",
       "      <td>2</td>\n",
       "      <td>Partial College</td>\n",
       "      <td>Manual</td>\n",
       "      <td>Yes</td>\n",
       "      <td>0</td>\n",
       "      <td>0-1 Miles</td>\n",
       "      <td>Europe</td>\n",
       "      <td>63</td>\n",
       "      <td>No</td>\n",
       "    </tr>\n",
       "    <tr>\n",
       "      <th>1023</th>\n",
       "      <td>22400</td>\n",
       "      <td>10000</td>\n",
       "      <td>0</td>\n",
       "      <td>Partial College</td>\n",
       "      <td>Manual</td>\n",
       "      <td>No</td>\n",
       "      <td>1</td>\n",
       "      <td>0-1 Miles</td>\n",
       "      <td>Pacific</td>\n",
       "      <td>26</td>\n",
       "      <td>Yes</td>\n",
       "    </tr>\n",
       "    <tr>\n",
       "      <th>1024</th>\n",
       "      <td>20942</td>\n",
       "      <td>20000</td>\n",
       "      <td>0</td>\n",
       "      <td>High School</td>\n",
       "      <td>Manual</td>\n",
       "      <td>No</td>\n",
       "      <td>1</td>\n",
       "      <td>5-10 Miles</td>\n",
       "      <td>Europe</td>\n",
       "      <td>31</td>\n",
       "      <td>No</td>\n",
       "    </tr>\n",
       "    <tr>\n",
       "      <th>1025</th>\n",
       "      <td>18484</td>\n",
       "      <td>80000</td>\n",
       "      <td>2</td>\n",
       "      <td>High School</td>\n",
       "      <td>Skilled Manual</td>\n",
       "      <td>No</td>\n",
       "      <td>2</td>\n",
       "      <td>1-2 Miles</td>\n",
       "      <td>Pacific</td>\n",
       "      <td>50</td>\n",
       "      <td>Yes</td>\n",
       "    </tr>\n",
       "  </tbody>\n",
       "</table>\n",
       "<p>1023 rows × 11 columns</p>\n",
       "</div>"
      ],
      "text/plain": [
       "         ID  Income  Children            Education      Occupation Home Owner  \\\n",
       "3     24381   70000         0            Bachelors    Professional        Yes   \n",
       "4     25597   30000         0            Bachelors        Clerical         No   \n",
       "5     13507   10000         2      Partial College          Manual        Yes   \n",
       "6     27974  160000         2          High School      Management        Yes   \n",
       "7     19364   40000         1            Bachelors  Skilled Manual        Yes   \n",
       "...     ...     ...       ...                  ...             ...        ...   \n",
       "1021  16466   20000         0  Partial High School          Manual         No   \n",
       "1022  19273   20000         2      Partial College          Manual        Yes   \n",
       "1023  22400   10000         0      Partial College          Manual         No   \n",
       "1024  20942   20000         0          High School          Manual         No   \n",
       "1025  18484   80000         2          High School  Skilled Manual         No   \n",
       "\n",
       "      Cars Commute Distance   Region  Age Purchased Bike  \n",
       "3        1       5-10 Miles  Pacific   41            Yes  \n",
       "4        0        0-1 Miles   Europe   36            Yes  \n",
       "5        0        1-2 Miles   Europe   50             No  \n",
       "6        4        0-1 Miles  Pacific   33            Yes  \n",
       "7        0        0-1 Miles   Europe   43            Yes  \n",
       "...    ...              ...      ...  ...            ...  \n",
       "1021     2        0-1 Miles   Europe   32            Yes  \n",
       "1022     0        0-1 Miles   Europe   63             No  \n",
       "1023     1        0-1 Miles  Pacific   26            Yes  \n",
       "1024     1       5-10 Miles   Europe   31             No  \n",
       "1025     2        1-2 Miles  Pacific   50            Yes  \n",
       "\n",
       "[1023 rows x 11 columns]"
      ]
     },
     "execution_count": 59,
     "metadata": {},
     "output_type": "execute_result"
    }
   ],
   "source": [
    "# .drop(): Removes specified rows or columns from the DataFrame. (axis=1 indicates columns. axis=0 indicates rows)\n",
    "\n",
    "df.drop(index=[0, 1, 2], axis=0, inplace=True)\n",
    "df"
   ]
  },
  {
   "cell_type": "code",
   "execution_count": null,
   "id": "e985ac8b",
   "metadata": {},
   "outputs": [],
   "source": [
    "# dropna(): Removes rows with missing NaN values from the DataFrame. (axis=0 indicates rows)\n",
    "\n",
    "# df.dropna(axis=0, inplace=True)"
   ]
  },
  {
   "cell_type": "code",
   "execution_count": null,
   "id": "c4a55c90",
   "metadata": {},
   "outputs": [],
   "source": [
    "# duplicated(): Duplicate or repetitive values or records within a data set.\n",
    "\n",
    "# df.duplicated()"
   ]
  },
  {
   "cell_type": "code",
   "execution_count": 63,
   "id": "c89a4e95",
   "metadata": {},
   "outputs": [
    {
     "data": {
      "text/html": [
       "<div>\n",
       "<style scoped>\n",
       "    .dataframe tbody tr th:only-of-type {\n",
       "        vertical-align: middle;\n",
       "    }\n",
       "\n",
       "    .dataframe tbody tr th {\n",
       "        vertical-align: top;\n",
       "    }\n",
       "\n",
       "    .dataframe thead th {\n",
       "        text-align: right;\n",
       "    }\n",
       "</style>\n",
       "<table border=\"1\" class=\"dataframe\">\n",
       "  <thead>\n",
       "    <tr style=\"text-align: right;\">\n",
       "      <th></th>\n",
       "      <th>ID</th>\n",
       "      <th>Income</th>\n",
       "      <th>Children</th>\n",
       "      <th>Education</th>\n",
       "      <th>Occupation</th>\n",
       "      <th>Home Owner</th>\n",
       "      <th>Cars</th>\n",
       "      <th>Commute Distance</th>\n",
       "      <th>Region</th>\n",
       "      <th>Age</th>\n",
       "      <th>Purchased Bike</th>\n",
       "    </tr>\n",
       "  </thead>\n",
       "  <tbody>\n",
       "    <tr>\n",
       "      <th>77</th>\n",
       "      <td>27969</td>\n",
       "      <td>80000</td>\n",
       "      <td>0</td>\n",
       "      <td>Bachelors</td>\n",
       "      <td>Professional</td>\n",
       "      <td>Yes</td>\n",
       "      <td>2</td>\n",
       "      <td>10+ Miles</td>\n",
       "      <td>Pacific</td>\n",
       "      <td>29</td>\n",
       "      <td>Yes</td>\n",
       "    </tr>\n",
       "    <tr>\n",
       "      <th>508</th>\n",
       "      <td>16337</td>\n",
       "      <td>60000</td>\n",
       "      <td>0</td>\n",
       "      <td>Partial College</td>\n",
       "      <td>Skilled Manual</td>\n",
       "      <td>No</td>\n",
       "      <td>2</td>\n",
       "      <td>1-2 Miles</td>\n",
       "      <td>North America</td>\n",
       "      <td>29</td>\n",
       "      <td>No</td>\n",
       "    </tr>\n",
       "    <tr>\n",
       "      <th>530</th>\n",
       "      <td>25909</td>\n",
       "      <td>60000</td>\n",
       "      <td>0</td>\n",
       "      <td>Partial College</td>\n",
       "      <td>Skilled Manual</td>\n",
       "      <td>Yes</td>\n",
       "      <td>1</td>\n",
       "      <td>5-10 Miles</td>\n",
       "      <td>North America</td>\n",
       "      <td>27</td>\n",
       "      <td>Yes</td>\n",
       "    </tr>\n",
       "    <tr>\n",
       "      <th>545</th>\n",
       "      <td>19758</td>\n",
       "      <td>60000</td>\n",
       "      <td>0</td>\n",
       "      <td>Partial College</td>\n",
       "      <td>Skilled Manual</td>\n",
       "      <td>No</td>\n",
       "      <td>2</td>\n",
       "      <td>1-2 Miles</td>\n",
       "      <td>North America</td>\n",
       "      <td>29</td>\n",
       "      <td>No</td>\n",
       "    </tr>\n",
       "    <tr>\n",
       "      <th>624</th>\n",
       "      <td>25943</td>\n",
       "      <td>70000</td>\n",
       "      <td>0</td>\n",
       "      <td>Partial College</td>\n",
       "      <td>Skilled Manual</td>\n",
       "      <td>No</td>\n",
       "      <td>2</td>\n",
       "      <td>0-1 Miles</td>\n",
       "      <td>North America</td>\n",
       "      <td>27</td>\n",
       "      <td>Yes</td>\n",
       "    </tr>\n",
       "    <tr>\n",
       "      <th>626</th>\n",
       "      <td>20414</td>\n",
       "      <td>60000</td>\n",
       "      <td>0</td>\n",
       "      <td>Partial College</td>\n",
       "      <td>Skilled Manual</td>\n",
       "      <td>Yes</td>\n",
       "      <td>2</td>\n",
       "      <td>5-10 Miles</td>\n",
       "      <td>North America</td>\n",
       "      <td>29</td>\n",
       "      <td>No</td>\n",
       "    </tr>\n",
       "    <tr>\n",
       "      <th>764</th>\n",
       "      <td>25908</td>\n",
       "      <td>60000</td>\n",
       "      <td>0</td>\n",
       "      <td>Partial College</td>\n",
       "      <td>Skilled Manual</td>\n",
       "      <td>No</td>\n",
       "      <td>1</td>\n",
       "      <td>1-2 Miles</td>\n",
       "      <td>North America</td>\n",
       "      <td>27</td>\n",
       "      <td>No</td>\n",
       "    </tr>\n",
       "    <tr>\n",
       "      <th>797</th>\n",
       "      <td>20310</td>\n",
       "      <td>60000</td>\n",
       "      <td>0</td>\n",
       "      <td>Partial College</td>\n",
       "      <td>Skilled Manual</td>\n",
       "      <td>Yes</td>\n",
       "      <td>1</td>\n",
       "      <td>5-10 Miles</td>\n",
       "      <td>North America</td>\n",
       "      <td>27</td>\n",
       "      <td>Yes</td>\n",
       "    </tr>\n",
       "    <tr>\n",
       "      <th>933</th>\n",
       "      <td>11941</td>\n",
       "      <td>60000</td>\n",
       "      <td>0</td>\n",
       "      <td>Partial College</td>\n",
       "      <td>Skilled Manual</td>\n",
       "      <td>Yes</td>\n",
       "      <td>0</td>\n",
       "      <td>5-10 Miles</td>\n",
       "      <td>North America</td>\n",
       "      <td>29</td>\n",
       "      <td>No</td>\n",
       "    </tr>\n",
       "  </tbody>\n",
       "</table>\n",
       "</div>"
      ],
      "text/plain": [
       "        ID  Income  Children        Education      Occupation Home Owner  \\\n",
       "77   27969   80000         0        Bachelors    Professional        Yes   \n",
       "508  16337   60000         0  Partial College  Skilled Manual         No   \n",
       "530  25909   60000         0  Partial College  Skilled Manual        Yes   \n",
       "545  19758   60000         0  Partial College  Skilled Manual         No   \n",
       "624  25943   70000         0  Partial College  Skilled Manual         No   \n",
       "626  20414   60000         0  Partial College  Skilled Manual        Yes   \n",
       "764  25908   60000         0  Partial College  Skilled Manual         No   \n",
       "797  20310   60000         0  Partial College  Skilled Manual        Yes   \n",
       "933  11941   60000         0  Partial College  Skilled Manual        Yes   \n",
       "\n",
       "     Cars Commute Distance         Region  Age Purchased Bike  \n",
       "77      2        10+ Miles        Pacific   29            Yes  \n",
       "508     2        1-2 Miles  North America   29             No  \n",
       "530     1       5-10 Miles  North America   27            Yes  \n",
       "545     2        1-2 Miles  North America   29             No  \n",
       "624     2        0-1 Miles  North America   27            Yes  \n",
       "626     2       5-10 Miles  North America   29             No  \n",
       "764     1        1-2 Miles  North America   27             No  \n",
       "797     1       5-10 Miles  North America   27            Yes  \n",
       "933     0       5-10 Miles  North America   29             No  "
      ]
     },
     "execution_count": 63,
     "metadata": {},
     "output_type": "execute_result"
    }
   ],
   "source": [
    "# Filter Rows: Creates a new DataFrame with rows that meet specified conditions.\n",
    "#filtered_df = dataframe_name[(Conditional_statements)]\n",
    "\n",
    "filtered_df = df[(df[\"Income\"] > 40000) & (df[\"Age\"] < 30)]\n",
    "filtered_df"
   ]
  },
  {
   "cell_type": "code",
   "execution_count": 70,
   "id": "f0b16f45",
   "metadata": {},
   "outputs": [
    {
     "name": "stdout",
     "output_type": "stream",
     "text": [
      "<class 'pandas.core.frame.DataFrame'>\n",
      "RangeIndex: 1023 entries, 3 to 1025\n",
      "Data columns (total 11 columns):\n",
      " #   Column            Non-Null Count  Dtype \n",
      "---  ------            --------------  ----- \n",
      " 0   ID                1023 non-null   int64 \n",
      " 1   Income            1023 non-null   int64 \n",
      " 2   Children          1023 non-null   int64 \n",
      " 3   Education         1023 non-null   object\n",
      " 4   Occupation        1023 non-null   object\n",
      " 5   Home Owner        1023 non-null   object\n",
      " 6   Cars              1023 non-null   int64 \n",
      " 7   Commute Distance  1023 non-null   object\n",
      " 8   Region            1023 non-null   object\n",
      " 9   Age               1023 non-null   int64 \n",
      " 10  Purchased Bike    1023 non-null   object\n",
      "dtypes: int64(5), object(6)\n",
      "memory usage: 88.0+ KB\n"
     ]
    }
   ],
   "source": [
    "# info(): Provides information about the DataFrame, including data types and memory usage.\n",
    "\n",
    "df.info()"
   ]
  },
  {
   "cell_type": "code",
   "execution_count": 73,
   "id": "6c1a7c5e",
   "metadata": {},
   "outputs": [
    {
     "data": {
      "text/html": [
       "<div>\n",
       "<style scoped>\n",
       "    .dataframe tbody tr th:only-of-type {\n",
       "        vertical-align: middle;\n",
       "    }\n",
       "\n",
       "    .dataframe tbody tr th {\n",
       "        vertical-align: top;\n",
       "    }\n",
       "\n",
       "    .dataframe thead th {\n",
       "        text-align: right;\n",
       "    }\n",
       "</style>\n",
       "<table border=\"1\" class=\"dataframe\">\n",
       "  <thead>\n",
       "    <tr style=\"text-align: right;\">\n",
       "      <th></th>\n",
       "      <th>ID</th>\n",
       "      <th>Income</th>\n",
       "      <th>Children</th>\n",
       "      <th>Education</th>\n",
       "      <th>Occupation</th>\n",
       "      <th>Home Owner</th>\n",
       "      <th>Cars</th>\n",
       "      <th>Commute Distance</th>\n",
       "      <th>Region</th>\n",
       "      <th>Age</th>\n",
       "      <th>Purchased Bike</th>\n",
       "    </tr>\n",
       "  </thead>\n",
       "  <tbody>\n",
       "    <tr>\n",
       "      <th>3</th>\n",
       "      <td>24381</td>\n",
       "      <td>70000</td>\n",
       "      <td>0</td>\n",
       "      <td>Masters</td>\n",
       "      <td>Professional</td>\n",
       "      <td>Yes</td>\n",
       "      <td>1</td>\n",
       "      <td>5-10 Miles</td>\n",
       "      <td>Pacific</td>\n",
       "      <td>41</td>\n",
       "      <td>Yes</td>\n",
       "    </tr>\n",
       "    <tr>\n",
       "      <th>4</th>\n",
       "      <td>25597</td>\n",
       "      <td>30000</td>\n",
       "      <td>0</td>\n",
       "      <td>Masters</td>\n",
       "      <td>Clerical</td>\n",
       "      <td>No</td>\n",
       "      <td>0</td>\n",
       "      <td>0-1 Miles</td>\n",
       "      <td>Europe</td>\n",
       "      <td>36</td>\n",
       "      <td>Yes</td>\n",
       "    </tr>\n",
       "    <tr>\n",
       "      <th>5</th>\n",
       "      <td>13507</td>\n",
       "      <td>10000</td>\n",
       "      <td>2</td>\n",
       "      <td>Partial College</td>\n",
       "      <td>Manual</td>\n",
       "      <td>Yes</td>\n",
       "      <td>0</td>\n",
       "      <td>1-2 Miles</td>\n",
       "      <td>Europe</td>\n",
       "      <td>50</td>\n",
       "      <td>No</td>\n",
       "    </tr>\n",
       "    <tr>\n",
       "      <th>6</th>\n",
       "      <td>27974</td>\n",
       "      <td>160000</td>\n",
       "      <td>2</td>\n",
       "      <td>High School</td>\n",
       "      <td>Management</td>\n",
       "      <td>Yes</td>\n",
       "      <td>4</td>\n",
       "      <td>0-1 Miles</td>\n",
       "      <td>Pacific</td>\n",
       "      <td>33</td>\n",
       "      <td>Yes</td>\n",
       "    </tr>\n",
       "    <tr>\n",
       "      <th>7</th>\n",
       "      <td>19364</td>\n",
       "      <td>40000</td>\n",
       "      <td>1</td>\n",
       "      <td>Masters</td>\n",
       "      <td>Skilled Manual</td>\n",
       "      <td>Yes</td>\n",
       "      <td>0</td>\n",
       "      <td>0-1 Miles</td>\n",
       "      <td>Europe</td>\n",
       "      <td>43</td>\n",
       "      <td>Yes</td>\n",
       "    </tr>\n",
       "    <tr>\n",
       "      <th>...</th>\n",
       "      <td>...</td>\n",
       "      <td>...</td>\n",
       "      <td>...</td>\n",
       "      <td>...</td>\n",
       "      <td>...</td>\n",
       "      <td>...</td>\n",
       "      <td>...</td>\n",
       "      <td>...</td>\n",
       "      <td>...</td>\n",
       "      <td>...</td>\n",
       "      <td>...</td>\n",
       "    </tr>\n",
       "    <tr>\n",
       "      <th>1021</th>\n",
       "      <td>16466</td>\n",
       "      <td>20000</td>\n",
       "      <td>0</td>\n",
       "      <td>Partial High School</td>\n",
       "      <td>Manual</td>\n",
       "      <td>No</td>\n",
       "      <td>2</td>\n",
       "      <td>0-1 Miles</td>\n",
       "      <td>Europe</td>\n",
       "      <td>32</td>\n",
       "      <td>Yes</td>\n",
       "    </tr>\n",
       "    <tr>\n",
       "      <th>1022</th>\n",
       "      <td>19273</td>\n",
       "      <td>20000</td>\n",
       "      <td>2</td>\n",
       "      <td>Partial College</td>\n",
       "      <td>Manual</td>\n",
       "      <td>Yes</td>\n",
       "      <td>0</td>\n",
       "      <td>0-1 Miles</td>\n",
       "      <td>Europe</td>\n",
       "      <td>63</td>\n",
       "      <td>No</td>\n",
       "    </tr>\n",
       "    <tr>\n",
       "      <th>1023</th>\n",
       "      <td>22400</td>\n",
       "      <td>10000</td>\n",
       "      <td>0</td>\n",
       "      <td>Partial College</td>\n",
       "      <td>Manual</td>\n",
       "      <td>No</td>\n",
       "      <td>1</td>\n",
       "      <td>0-1 Miles</td>\n",
       "      <td>Pacific</td>\n",
       "      <td>26</td>\n",
       "      <td>Yes</td>\n",
       "    </tr>\n",
       "    <tr>\n",
       "      <th>1024</th>\n",
       "      <td>20942</td>\n",
       "      <td>20000</td>\n",
       "      <td>0</td>\n",
       "      <td>High School</td>\n",
       "      <td>Manual</td>\n",
       "      <td>No</td>\n",
       "      <td>1</td>\n",
       "      <td>5-10 Miles</td>\n",
       "      <td>Europe</td>\n",
       "      <td>31</td>\n",
       "      <td>No</td>\n",
       "    </tr>\n",
       "    <tr>\n",
       "      <th>1025</th>\n",
       "      <td>18484</td>\n",
       "      <td>80000</td>\n",
       "      <td>2</td>\n",
       "      <td>High School</td>\n",
       "      <td>Skilled Manual</td>\n",
       "      <td>No</td>\n",
       "      <td>2</td>\n",
       "      <td>1-2 Miles</td>\n",
       "      <td>Pacific</td>\n",
       "      <td>50</td>\n",
       "      <td>Yes</td>\n",
       "    </tr>\n",
       "  </tbody>\n",
       "</table>\n",
       "<p>1023 rows × 11 columns</p>\n",
       "</div>"
      ],
      "text/plain": [
       "         ID  Income  Children            Education      Occupation Home Owner  \\\n",
       "3     24381   70000         0              Masters    Professional        Yes   \n",
       "4     25597   30000         0              Masters        Clerical         No   \n",
       "5     13507   10000         2      Partial College          Manual        Yes   \n",
       "6     27974  160000         2          High School      Management        Yes   \n",
       "7     19364   40000         1              Masters  Skilled Manual        Yes   \n",
       "...     ...     ...       ...                  ...             ...        ...   \n",
       "1021  16466   20000         0  Partial High School          Manual         No   \n",
       "1022  19273   20000         2      Partial College          Manual        Yes   \n",
       "1023  22400   10000         0      Partial College          Manual         No   \n",
       "1024  20942   20000         0          High School          Manual         No   \n",
       "1025  18484   80000         2          High School  Skilled Manual         No   \n",
       "\n",
       "      Cars Commute Distance   Region  Age Purchased Bike  \n",
       "3        1       5-10 Miles  Pacific   41            Yes  \n",
       "4        0        0-1 Miles   Europe   36            Yes  \n",
       "5        0        1-2 Miles   Europe   50             No  \n",
       "6        4        0-1 Miles  Pacific   33            Yes  \n",
       "7        0        0-1 Miles   Europe   43            Yes  \n",
       "...    ...              ...      ...  ...            ...  \n",
       "1021     2        0-1 Miles   Europe   32            Yes  \n",
       "1022     0        0-1 Miles   Europe   63             No  \n",
       "1023     1        0-1 Miles  Pacific   26            Yes  \n",
       "1024     1       5-10 Miles   Europe   31             No  \n",
       "1025     2        1-2 Miles  Pacific   50            Yes  \n",
       "\n",
       "[1023 rows x 11 columns]"
      ]
     },
     "execution_count": 73,
     "metadata": {},
     "output_type": "execute_result"
    }
   ],
   "source": [
    "# replace(): Replaces specific values in a column with new values.\n",
    "\n",
    "# df[\"column_name\"].replace(old_value, new_value, inplace=True)\n",
    "\n",
    "df['Education'].replace('Bachelors', 'Masters', inplace=True)\n",
    "df"
   ]
  },
  {
   "cell_type": "code",
   "execution_count": null,
   "id": "603ee401",
   "metadata": {},
   "outputs": [],
   "source": [
    "# merge(): Merges two DataFrames based on multiple common columns.\n",
    "\n",
    "# merged_df = pd.merge(df1, df2, on=[\"column1\", \"column2\"])"
   ]
  },
  {
   "cell_type": "code",
   "execution_count": 71,
   "id": "ed960b91",
   "metadata": {},
   "outputs": [],
   "source": [
    "# groupby(): Splits a DataFrame into groups based on specified criteria, \n",
    "#            enabling subsequent aggregation, transformation, or analysis within each group.\n",
    "\n",
    "# df.groupby(by, axis=0, level=None, as_index=True, sort=True, group_keys=True, squeeze=False, observed=False, dropna=True)\n",
    "# Example:\n",
    "# grouped = df.groupby([\"category\", \"region\"]).agg({\"sales\": \"sum\"})"
   ]
  },
  {
   "cell_type": "code",
   "execution_count": 74,
   "id": "d0318cde",
   "metadata": {},
   "outputs": [
    {
     "data": {
      "text/html": [
       "<div>\n",
       "<style scoped>\n",
       "    .dataframe tbody tr th:only-of-type {\n",
       "        vertical-align: middle;\n",
       "    }\n",
       "\n",
       "    .dataframe tbody tr th {\n",
       "        vertical-align: top;\n",
       "    }\n",
       "\n",
       "    .dataframe thead th {\n",
       "        text-align: right;\n",
       "    }\n",
       "</style>\n",
       "<table border=\"1\" class=\"dataframe\">\n",
       "  <thead>\n",
       "    <tr style=\"text-align: right;\">\n",
       "      <th></th>\n",
       "      <th>Albums</th>\n",
       "      <th>Released</th>\n",
       "      <th>Length</th>\n",
       "    </tr>\n",
       "  </thead>\n",
       "  <tbody>\n",
       "    <tr>\n",
       "      <th>0</th>\n",
       "      <td>Thriller</td>\n",
       "      <td>1982</td>\n",
       "      <td>00:42:19</td>\n",
       "    </tr>\n",
       "    <tr>\n",
       "      <th>1</th>\n",
       "      <td>Back in Black</td>\n",
       "      <td>1980</td>\n",
       "      <td>00:42:11</td>\n",
       "    </tr>\n",
       "    <tr>\n",
       "      <th>2</th>\n",
       "      <td>The Dark side of the moon</td>\n",
       "      <td>1973</td>\n",
       "      <td>00:42:49</td>\n",
       "    </tr>\n",
       "    <tr>\n",
       "      <th>3</th>\n",
       "      <td>The Bodyguard</td>\n",
       "      <td>1992</td>\n",
       "      <td>00:57:44</td>\n",
       "    </tr>\n",
       "    <tr>\n",
       "      <th>4</th>\n",
       "      <td>Bat out of Hell</td>\n",
       "      <td>1977</td>\n",
       "      <td>00:46:33</td>\n",
       "    </tr>\n",
       "  </tbody>\n",
       "</table>\n",
       "</div>"
      ],
      "text/plain": [
       "                      Albums  Released    Length\n",
       "0                   Thriller      1982  00:42:19\n",
       "1              Back in Black      1980  00:42:11\n",
       "2  The Dark side of the moon      1973  00:42:49\n",
       "3              The Bodyguard      1992  00:57:44\n",
       "4            Bat out of Hell      1977  00:46:33"
      ]
     },
     "execution_count": 74,
     "metadata": {},
     "output_type": "execute_result"
    }
   ],
   "source": [
    "# creating dataframe from dictionary (keys as column labels & values as lists representing rows)\n",
    "#DataFrame: comprises of rows & columns\n",
    "\n",
    "songs = {\n",
    "    'Albums' : ['Thriller', 'Back in Black', 'The Dark side of the moon', 'The Bodyguard', 'Bat out of Hell'],\n",
    "    'Released' : [1982, 1980, 1973, 1992, 1977],\n",
    "    'Length' : ['00:42:19', '00:42:11', '00:42:49', '00:57:44', '00:46:33']\n",
    "        }\n",
    "\n",
    "df = pd.DataFrame(songs)\n",
    "df"
   ]
  },
  {
   "cell_type": "code",
   "execution_count": 40,
   "id": "c3c54ff2",
   "metadata": {},
   "outputs": [
    {
     "data": {
      "text/plain": [
       "pandas.core.frame.DataFrame"
      ]
     },
     "execution_count": 40,
     "metadata": {},
     "output_type": "execute_result"
    }
   ],
   "source": [
    "type(df)"
   ]
  },
  {
   "cell_type": "code",
   "execution_count": 24,
   "id": "88beda62",
   "metadata": {},
   "outputs": [
    {
     "data": {
      "text/html": [
       "<div>\n",
       "<style scoped>\n",
       "    .dataframe tbody tr th:only-of-type {\n",
       "        vertical-align: middle;\n",
       "    }\n",
       "\n",
       "    .dataframe tbody tr th {\n",
       "        vertical-align: top;\n",
       "    }\n",
       "\n",
       "    .dataframe thead th {\n",
       "        text-align: right;\n",
       "    }\n",
       "</style>\n",
       "<table border=\"1\" class=\"dataframe\">\n",
       "  <thead>\n",
       "    <tr style=\"text-align: right;\">\n",
       "      <th></th>\n",
       "      <th>Albums</th>\n",
       "      <th>Released</th>\n",
       "      <th>Length</th>\n",
       "    </tr>\n",
       "  </thead>\n",
       "  <tbody>\n",
       "    <tr>\n",
       "      <th>0</th>\n",
       "      <td>Thriller</td>\n",
       "      <td>1982</td>\n",
       "      <td>00:42:19</td>\n",
       "    </tr>\n",
       "    <tr>\n",
       "      <th>1</th>\n",
       "      <td>Back in Black</td>\n",
       "      <td>1980</td>\n",
       "      <td>00:42:11</td>\n",
       "    </tr>\n",
       "    <tr>\n",
       "      <th>3</th>\n",
       "      <td>The Bodyguard</td>\n",
       "      <td>1992</td>\n",
       "      <td>00:57:44</td>\n",
       "    </tr>\n",
       "  </tbody>\n",
       "</table>\n",
       "</div>"
      ],
      "text/plain": [
       "          Albums  Released    Length\n",
       "0       Thriller      1982  00:42:19\n",
       "1  Back in Black      1980  00:42:11\n",
       "3  The Bodyguard      1992  00:57:44"
      ]
     },
     "execution_count": 24,
     "metadata": {},
     "output_type": "execute_result"
    }
   ],
   "source": [
    "# Conditional Filtering\n",
    "\n",
    "ReleasedAfter1980 = df[df['Released']>=1980]\n",
    "ReleasedAfter1980"
   ]
  },
  {
   "cell_type": "code",
   "execution_count": null,
   "id": "c052348d",
   "metadata": {},
   "outputs": [],
   "source": [
    "#loc(): a label-based data selecting method which means that we have to pass the name of the row or column that we want \n",
    "#                                                to select. This method includes the last element of the range passed in it.\n",
    "\n",
    "#         loc[row_label, column_label]\n",
    "\n",
    "\n",
    "#iloc(): an indexed-based selecting method which means that we have to pass an integer index in the method \n",
    "#                  to select a specific row/column. This method does not include the last element of the range passed in it.\n",
    "#        iloc[row_index, column_index]"
   ]
  },
  {
   "cell_type": "code",
   "execution_count": 9,
   "id": "c02b9be4",
   "metadata": {},
   "outputs": [
    {
     "data": {
      "text/plain": [
       "Albums      The Dark side of the moon\n",
       "Released                         1973\n",
       "Length                       00:42:49\n",
       "Name: 2, dtype: object"
      ]
     },
     "execution_count": 9,
     "metadata": {},
     "output_type": "execute_result"
    }
   ],
   "source": [
    "# access rows by their index using .iloc[] or by label using .loc[]\n",
    "df.iloc[2]   # Access the third row by position"
   ]
  },
  {
   "cell_type": "code",
   "execution_count": 11,
   "id": "05394d18",
   "metadata": {},
   "outputs": [
    {
     "data": {
      "text/plain": [
       "Albums      The Dark side of the moon\n",
       "Released                         1973\n",
       "Length                       00:42:49\n",
       "Name: 2, dtype: object"
      ]
     },
     "execution_count": 11,
     "metadata": {},
     "output_type": "execute_result"
    }
   ],
   "source": [
    "df.loc[2]    # Access the third row by label"
   ]
  },
  {
   "cell_type": "code",
   "execution_count": 75,
   "id": "1c1e9704",
   "metadata": {},
   "outputs": [
    {
     "data": {
      "text/plain": [
       "'Thriller'"
      ]
     },
     "execution_count": 75,
     "metadata": {},
     "output_type": "execute_result"
    }
   ],
   "source": [
    "# to access the 1st row & 1st column in the df\n",
    "\n",
    "df.iloc[0,0]"
   ]
  },
  {
   "cell_type": "code",
   "execution_count": 29,
   "id": "b8b39542",
   "metadata": {
    "scrolled": true
   },
   "outputs": [
    {
     "data": {
      "text/plain": [
       "1973"
      ]
     },
     "execution_count": 29,
     "metadata": {},
     "output_type": "execute_result"
    }
   ],
   "source": [
    "df.iloc[2,1]"
   ]
  },
  {
   "cell_type": "code",
   "execution_count": 35,
   "id": "077ba290",
   "metadata": {},
   "outputs": [
    {
     "data": {
      "text/plain": [
       "1973"
      ]
     },
     "execution_count": 35,
     "metadata": {},
     "output_type": "execute_result"
    }
   ],
   "source": [
    "df.loc[2,'Released']"
   ]
  },
  {
   "cell_type": "code",
   "execution_count": 36,
   "id": "777eb55e",
   "metadata": {},
   "outputs": [
    {
     "data": {
      "text/plain": [
       "1    1980\n",
       "2    1973\n",
       "Name: Released, dtype: int64"
      ]
     },
     "execution_count": 36,
     "metadata": {},
     "output_type": "execute_result"
    }
   ],
   "source": [
    "df.iloc[1:3 , 1]"
   ]
  },
  {
   "cell_type": "code",
   "execution_count": 38,
   "id": "ecad223f",
   "metadata": {},
   "outputs": [
    {
     "data": {
      "text/plain": [
       "1    1980\n",
       "2    1973\n",
       "Name: Released, dtype: int64"
      ]
     },
     "execution_count": 38,
     "metadata": {},
     "output_type": "execute_result"
    }
   ],
   "source": [
    "df.loc[1:2 , 'Released']"
   ]
  },
  {
   "cell_type": "code",
   "execution_count": 45,
   "id": "751ac055",
   "metadata": {},
   "outputs": [
    {
     "data": {
      "text/html": [
       "<div>\n",
       "<style scoped>\n",
       "    .dataframe tbody tr th:only-of-type {\n",
       "        vertical-align: middle;\n",
       "    }\n",
       "\n",
       "    .dataframe tbody tr th {\n",
       "        vertical-align: top;\n",
       "    }\n",
       "\n",
       "    .dataframe thead th {\n",
       "        text-align: right;\n",
       "    }\n",
       "</style>\n",
       "<table border=\"1\" class=\"dataframe\">\n",
       "  <thead>\n",
       "    <tr style=\"text-align: right;\">\n",
       "      <th></th>\n",
       "      <th>Length</th>\n",
       "    </tr>\n",
       "  </thead>\n",
       "  <tbody>\n",
       "    <tr>\n",
       "      <th>0</th>\n",
       "      <td>00:42:19</td>\n",
       "    </tr>\n",
       "    <tr>\n",
       "      <th>1</th>\n",
       "      <td>00:42:11</td>\n",
       "    </tr>\n",
       "    <tr>\n",
       "      <th>2</th>\n",
       "      <td>00:42:49</td>\n",
       "    </tr>\n",
       "    <tr>\n",
       "      <th>3</th>\n",
       "      <td>00:57:44</td>\n",
       "    </tr>\n",
       "    <tr>\n",
       "      <th>4</th>\n",
       "      <td>00:46:33</td>\n",
       "    </tr>\n",
       "  </tbody>\n",
       "</table>\n",
       "</div>"
      ],
      "text/plain": [
       "     Length\n",
       "0  00:42:19\n",
       "1  00:42:11\n",
       "2  00:42:49\n",
       "3  00:57:44\n",
       "4  00:46:33"
      ]
     },
     "execution_count": 45,
     "metadata": {},
     "output_type": "execute_result"
    }
   ],
   "source": [
    "# Column Selection from a dataframe\n",
    "\n",
    "x = df[['Length']]\n",
    "x"
   ]
  },
  {
   "cell_type": "code",
   "execution_count": 46,
   "id": "5ca674c9",
   "metadata": {},
   "outputs": [
    {
     "data": {
      "text/plain": [
       "pandas.core.frame.DataFrame"
      ]
     },
     "execution_count": 46,
     "metadata": {},
     "output_type": "execute_result"
    }
   ],
   "source": [
    "type(x)"
   ]
  },
  {
   "cell_type": "code",
   "execution_count": 47,
   "id": "5374aa6e",
   "metadata": {},
   "outputs": [
    {
     "data": {
      "text/plain": [
       "0    00:42:19\n",
       "1    00:42:11\n",
       "2    00:42:49\n",
       "3    00:57:44\n",
       "4    00:46:33\n",
       "Name: Length, dtype: object"
      ]
     },
     "execution_count": 47,
     "metadata": {},
     "output_type": "execute_result"
    }
   ],
   "source": [
    "# To view the column as a series, just use one bracket\n",
    "# 1D dataframe\n",
    "\n",
    "y = df['Length']\n",
    "y"
   ]
  },
  {
   "cell_type": "code",
   "execution_count": 48,
   "id": "945c2d32",
   "metadata": {},
   "outputs": [
    {
     "data": {
      "text/plain": [
       "pandas.core.series.Series"
      ]
     },
     "execution_count": 48,
     "metadata": {},
     "output_type": "execute_result"
    }
   ],
   "source": [
    "type(y)"
   ]
  },
  {
   "cell_type": "code",
   "execution_count": 25,
   "id": "dbc0b4d6",
   "metadata": {},
   "outputs": [
    {
     "data": {
      "text/html": [
       "<div>\n",
       "<style scoped>\n",
       "    .dataframe tbody tr th:only-of-type {\n",
       "        vertical-align: middle;\n",
       "    }\n",
       "\n",
       "    .dataframe tbody tr th {\n",
       "        vertical-align: top;\n",
       "    }\n",
       "\n",
       "    .dataframe thead th {\n",
       "        text-align: right;\n",
       "    }\n",
       "</style>\n",
       "<table border=\"1\" class=\"dataframe\">\n",
       "  <thead>\n",
       "    <tr style=\"text-align: right;\">\n",
       "      <th></th>\n",
       "      <th>Albums</th>\n",
       "      <th>Released</th>\n",
       "    </tr>\n",
       "  </thead>\n",
       "  <tbody>\n",
       "    <tr>\n",
       "      <th>0</th>\n",
       "      <td>Thriller</td>\n",
       "      <td>1982</td>\n",
       "    </tr>\n",
       "    <tr>\n",
       "      <th>1</th>\n",
       "      <td>Back in Black</td>\n",
       "      <td>1980</td>\n",
       "    </tr>\n",
       "    <tr>\n",
       "      <th>2</th>\n",
       "      <td>The Dark side of the moon</td>\n",
       "      <td>1973</td>\n",
       "    </tr>\n",
       "    <tr>\n",
       "      <th>3</th>\n",
       "      <td>The Bodyguard</td>\n",
       "      <td>1992</td>\n",
       "    </tr>\n",
       "    <tr>\n",
       "      <th>4</th>\n",
       "      <td>Bat out of Hell</td>\n",
       "      <td>1977</td>\n",
       "    </tr>\n",
       "  </tbody>\n",
       "</table>\n",
       "</div>"
      ],
      "text/plain": [
       "                      Albums  Released\n",
       "0                   Thriller      1982\n",
       "1              Back in Black      1980\n",
       "2  The Dark side of the moon      1973\n",
       "3              The Bodyguard      1992\n",
       "4            Bat out of Hell      1977"
      ]
     },
     "execution_count": 25,
     "metadata": {},
     "output_type": "execute_result"
    }
   ],
   "source": [
    "# Multiple Columns Selection from a dataframe\n",
    "y = df[['Albums', 'Released']]\n",
    "y"
   ]
  },
  {
   "cell_type": "code",
   "execution_count": 12,
   "id": "449fc429",
   "metadata": {},
   "outputs": [
    {
     "data": {
      "text/html": [
       "<div>\n",
       "<style scoped>\n",
       "    .dataframe tbody tr th:only-of-type {\n",
       "        vertical-align: middle;\n",
       "    }\n",
       "\n",
       "    .dataframe tbody tr th {\n",
       "        vertical-align: top;\n",
       "    }\n",
       "\n",
       "    .dataframe thead th {\n",
       "        text-align: right;\n",
       "    }\n",
       "</style>\n",
       "<table border=\"1\" class=\"dataframe\">\n",
       "  <thead>\n",
       "    <tr style=\"text-align: right;\">\n",
       "      <th></th>\n",
       "      <th>Albums</th>\n",
       "      <th>Released</th>\n",
       "    </tr>\n",
       "  </thead>\n",
       "  <tbody>\n",
       "    <tr>\n",
       "      <th>0</th>\n",
       "      <td>Thriller</td>\n",
       "      <td>1982</td>\n",
       "    </tr>\n",
       "    <tr>\n",
       "      <th>1</th>\n",
       "      <td>Back in Black</td>\n",
       "      <td>1980</td>\n",
       "    </tr>\n",
       "    <tr>\n",
       "      <th>2</th>\n",
       "      <td>The Dark side of the moon</td>\n",
       "      <td>1973</td>\n",
       "    </tr>\n",
       "    <tr>\n",
       "      <th>3</th>\n",
       "      <td>The Bodyguard</td>\n",
       "      <td>1992</td>\n",
       "    </tr>\n",
       "    <tr>\n",
       "      <th>4</th>\n",
       "      <td>Bat out of Hell</td>\n",
       "      <td>1977</td>\n",
       "    </tr>\n",
       "  </tbody>\n",
       "</table>\n",
       "</div>"
      ],
      "text/plain": [
       "                      Albums  Released\n",
       "0                   Thriller      1982\n",
       "1              Back in Black      1980\n",
       "2  The Dark side of the moon      1973\n",
       "3              The Bodyguard      1992\n",
       "4            Bat out of Hell      1977"
      ]
     },
     "execution_count": 12,
     "metadata": {},
     "output_type": "execute_result"
    }
   ],
   "source": [
    "# slicing: slice DataFrames to select specific rows and columns\n",
    "\n",
    "# Select specific columns\n",
    "df[['Albums', 'Released']]"
   ]
  },
  {
   "cell_type": "code",
   "execution_count": 13,
   "id": "c98fc3c8",
   "metadata": {},
   "outputs": [
    {
     "data": {
      "text/html": [
       "<div>\n",
       "<style scoped>\n",
       "    .dataframe tbody tr th:only-of-type {\n",
       "        vertical-align: middle;\n",
       "    }\n",
       "\n",
       "    .dataframe tbody tr th {\n",
       "        vertical-align: top;\n",
       "    }\n",
       "\n",
       "    .dataframe thead th {\n",
       "        text-align: right;\n",
       "    }\n",
       "</style>\n",
       "<table border=\"1\" class=\"dataframe\">\n",
       "  <thead>\n",
       "    <tr style=\"text-align: right;\">\n",
       "      <th></th>\n",
       "      <th>Albums</th>\n",
       "      <th>Released</th>\n",
       "      <th>Length</th>\n",
       "    </tr>\n",
       "  </thead>\n",
       "  <tbody>\n",
       "    <tr>\n",
       "      <th>1</th>\n",
       "      <td>Back in Black</td>\n",
       "      <td>1980</td>\n",
       "      <td>00:42:11</td>\n",
       "    </tr>\n",
       "    <tr>\n",
       "      <th>2</th>\n",
       "      <td>The Dark side of the moon</td>\n",
       "      <td>1973</td>\n",
       "      <td>00:42:49</td>\n",
       "    </tr>\n",
       "  </tbody>\n",
       "</table>\n",
       "</div>"
      ],
      "text/plain": [
       "                      Albums  Released    Length\n",
       "1              Back in Black      1980  00:42:11\n",
       "2  The Dark side of the moon      1973  00:42:49"
      ]
     },
     "execution_count": 13,
     "metadata": {},
     "output_type": "execute_result"
    }
   ],
   "source": [
    "# Select specific rows\n",
    "df[1:3]"
   ]
  },
  {
   "cell_type": "code",
   "execution_count": 27,
   "id": "b7c56999",
   "metadata": {},
   "outputs": [],
   "source": [
    "# .to_csv('filename.csv'): save a DataFrame to a CSV file\n",
    "\n",
    "#df.to_csv('filename.csv', index=False)"
   ]
  },
  {
   "cell_type": "code",
   "execution_count": 3,
   "id": "951145f8",
   "metadata": {},
   "outputs": [
    {
     "name": "stdout",
     "output_type": "stream",
     "text": [
      "0    10\n",
      "1    20\n",
      "2    30\n",
      "3    40\n",
      "4    50\n",
      "dtype: int64\n"
     ]
    }
   ],
   "source": [
    "#Series: is a one-dimensional labeled array in Pandas. \n",
    "# It can be thought of as a single column of data with labels or indices for each element.\n",
    "\n",
    "# Create a Series from a list\n",
    "data = [10, 20, 30, 40, 50]\n",
    "s = pd.Series(data)\n",
    "\n",
    "print(s)"
   ]
  },
  {
   "cell_type": "code",
   "execution_count": 4,
   "id": "83cb6b2d",
   "metadata": {},
   "outputs": [
    {
     "name": "stdout",
     "output_type": "stream",
     "text": [
      "30\n"
     ]
    }
   ],
   "source": [
    "# Accessing by label\n",
    "\n",
    "#Access the element with label 2 (value 30)\n",
    "print(s[2])"
   ]
  },
  {
   "cell_type": "code",
   "execution_count": 5,
   "id": "bdc8e3e4",
   "metadata": {},
   "outputs": [
    {
     "name": "stdout",
     "output_type": "stream",
     "text": [
      "40\n"
     ]
    }
   ],
   "source": [
    "# Accessing by position\n",
    "\n",
    "# Access the element at position 3 (value 40)\n",
    "print(s.iloc[3])"
   ]
  },
  {
   "cell_type": "code",
   "execution_count": 6,
   "id": "7defdd8f",
   "metadata": {},
   "outputs": [
    {
     "name": "stdout",
     "output_type": "stream",
     "text": [
      "1    20\n",
      "2    30\n",
      "3    40\n",
      "dtype: int64\n"
     ]
    }
   ],
   "source": [
    "# Accessing multiple elements\n",
    "\n",
    "# Access a range of elements by label\n",
    "print(s[1:4])"
   ]
  },
  {
   "cell_type": "code",
   "execution_count": 81,
   "id": "0cac6f78",
   "metadata": {},
   "outputs": [
    {
     "data": {
      "text/html": [
       "<div>\n",
       "<style scoped>\n",
       "    .dataframe tbody tr th:only-of-type {\n",
       "        vertical-align: middle;\n",
       "    }\n",
       "\n",
       "    .dataframe tbody tr th {\n",
       "        vertical-align: top;\n",
       "    }\n",
       "\n",
       "    .dataframe thead th {\n",
       "        text-align: right;\n",
       "    }\n",
       "</style>\n",
       "<table border=\"1\" class=\"dataframe\">\n",
       "  <thead>\n",
       "    <tr style=\"text-align: right;\">\n",
       "      <th></th>\n",
       "      <th>Albums</th>\n",
       "      <th>Released</th>\n",
       "      <th>Length</th>\n",
       "    </tr>\n",
       "  </thead>\n",
       "  <tbody>\n",
       "    <tr>\n",
       "      <th>0</th>\n",
       "      <td>Thriller</td>\n",
       "      <td>1982</td>\n",
       "      <td>00:42:19</td>\n",
       "    </tr>\n",
       "    <tr>\n",
       "      <th>1</th>\n",
       "      <td>Back in Black</td>\n",
       "      <td>1980</td>\n",
       "      <td>00:42:11</td>\n",
       "    </tr>\n",
       "    <tr>\n",
       "      <th>2</th>\n",
       "      <td>The Dark side of the moon</td>\n",
       "      <td>1973</td>\n",
       "      <td>00:42:49</td>\n",
       "    </tr>\n",
       "    <tr>\n",
       "      <th>3</th>\n",
       "      <td>The Bodyguard</td>\n",
       "      <td>1992</td>\n",
       "      <td>00:57:44</td>\n",
       "    </tr>\n",
       "    <tr>\n",
       "      <th>4</th>\n",
       "      <td>Bat out of Hell</td>\n",
       "      <td>1977</td>\n",
       "      <td>00:46:33</td>\n",
       "    </tr>\n",
       "  </tbody>\n",
       "</table>\n",
       "</div>"
      ],
      "text/plain": [
       "                      Albums  Released    Length\n",
       "0                   Thriller      1982  00:42:19\n",
       "1              Back in Black      1980  00:42:11\n",
       "2  The Dark side of the moon      1973  00:42:49\n",
       "3              The Bodyguard      1992  00:57:44\n",
       "4            Bat out of Hell      1977  00:46:33"
      ]
     },
     "execution_count": 81,
     "metadata": {},
     "output_type": "execute_result"
    }
   ],
   "source": [
    "# creating dataframe from dictionary (keys as column labels & values as lists representing rows)\n",
    "#DataFrame: comprises of rows & columns\n",
    "\n",
    "songs = {\n",
    "    'Albums' : ['Thriller', 'Back in Black', 'The Dark side of the moon', 'The Bodyguard', 'Bat out of Hell'],\n",
    "    'Released' : [1982, 1980, 1973, 1992, 1977],\n",
    "    'Length' : ['00:42:19', '00:42:11', '00:42:49', '00:57:44', '00:46:33']\n",
    "        }\n",
    "\n",
    "df = pd.DataFrame(songs)\n",
    "df"
   ]
  },
  {
   "cell_type": "code",
   "execution_count": 82,
   "id": "942b7897",
   "metadata": {},
   "outputs": [
    {
     "data": {
      "text/html": [
       "<div>\n",
       "<style scoped>\n",
       "    .dataframe tbody tr th:only-of-type {\n",
       "        vertical-align: middle;\n",
       "    }\n",
       "\n",
       "    .dataframe tbody tr th {\n",
       "        vertical-align: top;\n",
       "    }\n",
       "\n",
       "    .dataframe thead th {\n",
       "        text-align: right;\n",
       "    }\n",
       "</style>\n",
       "<table border=\"1\" class=\"dataframe\">\n",
       "  <thead>\n",
       "    <tr style=\"text-align: right;\">\n",
       "      <th></th>\n",
       "      <th>Albums</th>\n",
       "      <th>Released</th>\n",
       "      <th>Length</th>\n",
       "    </tr>\n",
       "  </thead>\n",
       "  <tbody>\n",
       "    <tr>\n",
       "      <th>a</th>\n",
       "      <td>Thriller</td>\n",
       "      <td>1982</td>\n",
       "      <td>00:42:19</td>\n",
       "    </tr>\n",
       "    <tr>\n",
       "      <th>b</th>\n",
       "      <td>Back in Black</td>\n",
       "      <td>1980</td>\n",
       "      <td>00:42:11</td>\n",
       "    </tr>\n",
       "    <tr>\n",
       "      <th>c</th>\n",
       "      <td>The Dark side of the moon</td>\n",
       "      <td>1973</td>\n",
       "      <td>00:42:49</td>\n",
       "    </tr>\n",
       "    <tr>\n",
       "      <th>d</th>\n",
       "      <td>The Bodyguard</td>\n",
       "      <td>1992</td>\n",
       "      <td>00:57:44</td>\n",
       "    </tr>\n",
       "    <tr>\n",
       "      <th>e</th>\n",
       "      <td>Bat out of Hell</td>\n",
       "      <td>1977</td>\n",
       "      <td>00:46:33</td>\n",
       "    </tr>\n",
       "  </tbody>\n",
       "</table>\n",
       "</div>"
      ],
      "text/plain": [
       "                      Albums  Released    Length\n",
       "a                   Thriller      1982  00:42:19\n",
       "b              Back in Black      1980  00:42:11\n",
       "c  The Dark side of the moon      1973  00:42:49\n",
       "d              The Bodyguard      1992  00:57:44\n",
       "e            Bat out of Hell      1977  00:46:33"
      ]
     },
     "execution_count": 82,
     "metadata": {},
     "output_type": "execute_result"
    }
   ],
   "source": [
    "new_index=['a','b','c','d','e']\n",
    "\n",
    "df_new = df\n",
    "df_new.index = new_index\n",
    "\n",
    "df_new"
   ]
  },
  {
   "cell_type": "markdown",
   "id": "05705b66",
   "metadata": {},
   "source": [
    "# NumPy\n",
    "\n",
    "- NumPy (Numerical Python) is an open source Python library used for working with arrays, linear algebra, fourier transform, and matrices. \n",
    "- The array object in NumPy is called ndarray, it provides a lot of supporting functions that make working with ndarray very easy. <br><br><br>\n",
    "- <strong>Efficient Data Structures:</strong> NumPy introduces efficient array structures, which are faster and more memory-efficient than Python lists. This is crucial for handling large datasets.\n",
    "\n",
    "- <strong>Multi-Dimensional Arrays:</strong> NumPy allows you to work with multi-dimensional arrays, enabling the representation of matrices and tensors. This is particularly useful in scientific computing.\n",
    "\n",
    "- <strong>Element-Wise Operations:</strong> NumPy simplifies element-wise mathematical operations on arrays, making it easy to perform calculations on entire datasets in one go.\n",
    "\n",
    "- <strong>Random Number Generation:</strong> It provides a wide range of functions for generating random numbers and random data, which is useful for simulations and statistical analysis.\n",
    "\n",
    "- <strong>Integration with Other Libraries:</strong> NumPy seamlessly integrates with other data science libraries like SciPy, Pandas, and Matplotlib, enhancing its utility in various domains.\n",
    "\n",
    "- <strong>Performance Optimization:</strong> NumPy functions are implemented in low-level languages like C and Fortran, which significantly boosts their performance. It's a go-to choice when speed is essential"
   ]
  },
  {
   "cell_type": "markdown",
   "id": "fab6cbb9",
   "metadata": {},
   "source": [
    "# 1D NumPy\n",
    "NumPy(1D) - ndarray   -----> similar to a List <br>\n",
    "1D NumPy array: has a single row of elements"
   ]
  },
  {
   "cell_type": "code",
   "execution_count": 83,
   "id": "5c8dfc12",
   "metadata": {},
   "outputs": [],
   "source": [
    "import numpy as np"
   ]
  },
  {
   "cell_type": "code",
   "execution_count": 119,
   "id": "11fb7f0f",
   "metadata": {},
   "outputs": [
    {
     "name": "stdout",
     "output_type": "stream",
     "text": [
      "1.24.3\n"
     ]
    }
   ],
   "source": [
    "# Checking the NumPy Version\n",
    "\n",
    "print(np.__version__)"
   ]
  },
  {
   "cell_type": "code",
   "execution_count": 122,
   "id": "89cb566e",
   "metadata": {},
   "outputs": [
    {
     "data": {
      "text/plain": [
       "array([0, 1, 5, 2, 8, 6])"
      ]
     },
     "execution_count": 122,
     "metadata": {},
     "output_type": "execute_result"
    }
   ],
   "source": [
    "#create a numpy array (cast the list to an array)\n",
    "a = np.array([0, 1, 5, 2, 8, 6])\n",
    "a"
   ]
  },
  {
   "cell_type": "code",
   "execution_count": 85,
   "id": "b69ed0ec",
   "metadata": {},
   "outputs": [
    {
     "data": {
      "text/plain": [
       "5"
      ]
     },
     "execution_count": 85,
     "metadata": {},
     "output_type": "execute_result"
    }
   ],
   "source": [
    "a[2]"
   ]
  },
  {
   "cell_type": "code",
   "execution_count": 86,
   "id": "d0d1beb4",
   "metadata": {},
   "outputs": [
    {
     "data": {
      "text/plain": [
       "numpy.ndarray"
      ]
     },
     "execution_count": 86,
     "metadata": {},
     "output_type": "execute_result"
    }
   ],
   "source": [
    "# Check the type of the array\n",
    "\n",
    "type(a)"
   ]
  },
  {
   "cell_type": "code",
   "execution_count": 87,
   "id": "242eadbc",
   "metadata": {},
   "outputs": [
    {
     "data": {
      "text/plain": [
       "dtype('int32')"
      ]
     },
     "execution_count": 87,
     "metadata": {},
     "output_type": "execute_result"
    }
   ],
   "source": [
    "# .dtype: attribute to obtain the datatype of the array's elements\n",
    "\n",
    "a.dtype"
   ]
  },
  {
   "cell_type": "code",
   "execution_count": 88,
   "id": "ddfa10f6",
   "metadata": {},
   "outputs": [
    {
     "data": {
      "text/plain": [
       "6"
      ]
     },
     "execution_count": 88,
     "metadata": {},
     "output_type": "execute_result"
    }
   ],
   "source": [
    "# .size: to obtain the number of elements in the array\n",
    "\n",
    "a.size"
   ]
  },
  {
   "cell_type": "code",
   "execution_count": 89,
   "id": "2f9bdacb",
   "metadata": {},
   "outputs": [
    {
     "data": {
      "text/plain": [
       "1"
      ]
     },
     "execution_count": 89,
     "metadata": {},
     "output_type": "execute_result"
    }
   ],
   "source": [
    "# .ndim: to obtain the number of array dimensions (the rank of the array)\n",
    "\n",
    "a.ndim"
   ]
  },
  {
   "cell_type": "code",
   "execution_count": 90,
   "id": "57417481",
   "metadata": {},
   "outputs": [
    {
     "data": {
      "text/plain": [
       "(6,)"
      ]
     },
     "execution_count": 90,
     "metadata": {},
     "output_type": "execute_result"
    }
   ],
   "source": [
    "# .shape: tuple of integers indicating the size of the array in each dimension\n",
    "\n",
    "a.shape"
   ]
  },
  {
   "cell_type": "code",
   "execution_count": 91,
   "id": "9e36c249",
   "metadata": {},
   "outputs": [
    {
     "data": {
      "text/plain": [
       "array([100,   1,   5,   2,   8,   6])"
      ]
     },
     "execution_count": 91,
     "metadata": {},
     "output_type": "execute_result"
    }
   ],
   "source": [
    "# Indexing & Slicing\n",
    "\n",
    "#change the array element (Assign value)\n",
    "a[0] = 100\n",
    "a"
   ]
  },
  {
   "cell_type": "code",
   "execution_count": 92,
   "id": "8811064f",
   "metadata": {},
   "outputs": [
    {
     "data": {
      "text/plain": [
       "array([100,   1,   5,  50,  60,  70])"
      ]
     },
     "execution_count": 92,
     "metadata": {},
     "output_type": "execute_result"
    }
   ],
   "source": [
    "#change the array element\n",
    "a[3:6] = 50, 60, 70\n",
    "a"
   ]
  },
  {
   "cell_type": "code",
   "execution_count": 93,
   "id": "1a72e59d",
   "metadata": {},
   "outputs": [
    {
     "data": {
      "text/plain": [
       "array([ 1,  5, 50])"
      ]
     },
     "execution_count": 93,
     "metadata": {},
     "output_type": "execute_result"
    }
   ],
   "source": [
    "a[1:4]"
   ]
  },
  {
   "cell_type": "code",
   "execution_count": 123,
   "id": "28523026",
   "metadata": {},
   "outputs": [
    {
     "data": {
      "text/plain": [
       "array([1, 2])"
      ]
     },
     "execution_count": 123,
     "metadata": {},
     "output_type": "execute_result"
    }
   ],
   "source": [
    "a[1:5:2]"
   ]
  },
  {
   "cell_type": "code",
   "execution_count": 125,
   "id": "46469e91",
   "metadata": {},
   "outputs": [
    {
     "data": {
      "text/plain": [
       "array([0, 1, 5, 2])"
      ]
     },
     "execution_count": 125,
     "metadata": {},
     "output_type": "execute_result"
    }
   ],
   "source": [
    "a[:4]"
   ]
  },
  {
   "cell_type": "code",
   "execution_count": 126,
   "id": "d666901d",
   "metadata": {},
   "outputs": [
    {
     "data": {
      "text/plain": [
       "array([8, 6])"
      ]
     },
     "execution_count": 126,
     "metadata": {},
     "output_type": "execute_result"
    }
   ],
   "source": [
    "a[4:]"
   ]
  },
  {
   "cell_type": "code",
   "execution_count": 128,
   "id": "43aa9720",
   "metadata": {},
   "outputs": [
    {
     "data": {
      "text/plain": [
       "array([1, 5, 2])"
      ]
     },
     "execution_count": 128,
     "metadata": {},
     "output_type": "execute_result"
    }
   ],
   "source": [
    "a[1:4:]"
   ]
  },
  {
   "cell_type": "code",
   "execution_count": 129,
   "id": "1acee120",
   "metadata": {},
   "outputs": [
    {
     "data": {
      "text/plain": [
       "array([2, 4, 6, 8])"
      ]
     },
     "execution_count": 129,
     "metadata": {},
     "output_type": "execute_result"
    }
   ],
   "source": [
    "# Print the Even Number\n",
    "\n",
    "arr = np.array([1, 2, 3, 4, 5, 6, 7, 8])\n",
    "\n",
    "# Enter your code here\n",
    "arr[1:8:2]"
   ]
  },
  {
   "cell_type": "code",
   "execution_count": 133,
   "id": "3d1ff7d6",
   "metadata": {},
   "outputs": [
    {
     "data": {
      "text/plain": [
       "array([1000,    1, 1000, 1000, 1000,    6])"
      ]
     },
     "execution_count": 133,
     "metadata": {},
     "output_type": "execute_result"
    }
   ],
   "source": [
    "# Assign Value with List\n",
    "\n",
    "a = np.array([0, 1, 5, 2, 8, 6])\n",
    "\n",
    "# Create the index list\n",
    "select = [0, 2, 3, 4]   #select more than one specific index\n",
    "\n",
    "# Use List to select elements\n",
    "a[select]\n",
    "\n",
    "a[select] = 1000\n",
    "a"
   ]
  },
  {
   "cell_type": "code",
   "execution_count": null,
   "id": "4022be09",
   "metadata": {},
   "outputs": [],
   "source": [
    "# operations in NumPy are Faster & Require less memory Compared to regular Python"
   ]
  },
  {
   "cell_type": "code",
   "execution_count": null,
   "id": "7e39cc32",
   "metadata": {},
   "outputs": [],
   "source": [
    "###################################### Vector Addition & Subtraction ###############################################"
   ]
  },
  {
   "cell_type": "code",
   "execution_count": 94,
   "id": "707f31a4",
   "metadata": {},
   "outputs": [
    {
     "data": {
      "text/plain": [
       "[1, 1]"
      ]
     },
     "execution_count": 94,
     "metadata": {},
     "output_type": "execute_result"
    }
   ],
   "source": [
    "# Vector Addition Without NumPy -- Using Lists(Regular Python)\n",
    "\n",
    "u = [1, 0]\n",
    "v = [0, 1]\n",
    "z = []\n",
    "\n",
    "for n,m in zip(u,v):         # add the 2 lists & place the result in the list z\n",
    "    z.append(n+m)\n",
    "    \n",
    "z"
   ]
  },
  {
   "cell_type": "code",
   "execution_count": 95,
   "id": "b207d340",
   "metadata": {},
   "outputs": [
    {
     "data": {
      "text/plain": [
       "array([1, 1])"
      ]
     },
     "execution_count": 95,
     "metadata": {},
     "output_type": "execute_result"
    }
   ],
   "source": [
    "# Vector Addition by Using NumPy\n",
    "\n",
    "u = np.array([1, 0])\n",
    "v = np.array([0, 1])\n",
    "z = u + v\n",
    "z"
   ]
  },
  {
   "cell_type": "code",
   "execution_count": 136,
   "id": "95b78054",
   "metadata": {},
   "outputs": [
    {
     "data": {
      "text/plain": [
       "array([1, 1])"
      ]
     },
     "execution_count": 136,
     "metadata": {},
     "output_type": "execute_result"
    }
   ],
   "source": [
    "# Vector Addition by Using NumPy (using.add())\n",
    "\n",
    "u = np.array([1, 0])\n",
    "v = np.array([0, 1])\n",
    "z = np.add(u, v)\n",
    "z"
   ]
  },
  {
   "cell_type": "code",
   "execution_count": 96,
   "id": "30a51c38",
   "metadata": {},
   "outputs": [
    {
     "data": {
      "text/plain": [
       "[1, -1]"
      ]
     },
     "execution_count": 96,
     "metadata": {},
     "output_type": "execute_result"
    }
   ],
   "source": [
    "# Vector subtraction Without NumPy -- Using Lists(Regular Python)\n",
    "\n",
    "u = [1, 0]\n",
    "v = [0, 1]\n",
    "z = []\n",
    "\n",
    "for n,m in zip(u,v):\n",
    "    z.append(n-m)\n",
    "    \n",
    "z"
   ]
  },
  {
   "cell_type": "code",
   "execution_count": 97,
   "id": "02be083a",
   "metadata": {},
   "outputs": [
    {
     "data": {
      "text/plain": [
       "array([ 1, -1])"
      ]
     },
     "execution_count": 97,
     "metadata": {},
     "output_type": "execute_result"
    }
   ],
   "source": [
    "# Vector Subtraction by Using NumPy\n",
    "\n",
    "u = np.array([1, 0])\n",
    "v = np.array([0, 1])\n",
    "\n",
    "z = u - v\n",
    "z"
   ]
  },
  {
   "cell_type": "code",
   "execution_count": 137,
   "id": "2bbba64e",
   "metadata": {},
   "outputs": [
    {
     "data": {
      "text/plain": [
       "array([ 1, -1])"
      ]
     },
     "execution_count": 137,
     "metadata": {},
     "output_type": "execute_result"
    }
   ],
   "source": [
    "# Vector Subtraction by Using NumPy (using .subtract())\n",
    "\n",
    "u = np.array([1, 0])\n",
    "v = np.array([0, 1])\n",
    "\n",
    "z = np.subtract(u, v)\n",
    "z"
   ]
  },
  {
   "cell_type": "code",
   "execution_count": 98,
   "id": "11141044",
   "metadata": {},
   "outputs": [],
   "source": [
    "###################################### Array Multiplication With a Scalar ######################################"
   ]
  },
  {
   "cell_type": "code",
   "execution_count": 99,
   "id": "40a8e1f8",
   "metadata": {},
   "outputs": [
    {
     "data": {
      "text/plain": [
       "[2, 4]"
      ]
     },
     "execution_count": 99,
     "metadata": {},
     "output_type": "execute_result"
    }
   ],
   "source": [
    "#Array Multiplication With a Scalar With List (without using NumPy)\n",
    "\n",
    "y = [1, 2]\n",
    "z = []\n",
    "\n",
    "for n in y:\n",
    "    z.append(2*n)\n",
    "    \n",
    "z"
   ]
  },
  {
   "cell_type": "code",
   "execution_count": 100,
   "id": "0a2d7ef0",
   "metadata": {},
   "outputs": [
    {
     "data": {
      "text/plain": [
       "array([2, 4])"
      ]
     },
     "execution_count": 100,
     "metadata": {},
     "output_type": "execute_result"
    }
   ],
   "source": [
    "# Array Multiplication With a Scalar Using NumPy\n",
    "\n",
    "y = np.array([1, 2])\n",
    "z = 2 * y\n",
    "z"
   ]
  },
  {
   "cell_type": "code",
   "execution_count": 138,
   "id": "75ea727f",
   "metadata": {},
   "outputs": [
    {
     "data": {
      "text/plain": [
       "array([2, 4])"
      ]
     },
     "execution_count": 138,
     "metadata": {},
     "output_type": "execute_result"
    }
   ],
   "source": [
    "# Array Multiplication With a Scalar Using NumPy(using .multiply())\n",
    "\n",
    "y = np.array([1, 2])\n",
    "z = np.multiply(y, 2)\n",
    "z"
   ]
  },
  {
   "cell_type": "code",
   "execution_count": 139,
   "id": "288522cd",
   "metadata": {},
   "outputs": [
    {
     "data": {
      "text/plain": [
       "array([5., 2., 6.])"
      ]
     },
     "execution_count": 139,
     "metadata": {},
     "output_type": "execute_result"
    }
   ],
   "source": [
    "# Array division Using NumPy(using .divide())\n",
    "\n",
    "a = np.array([10, 20, 30])\n",
    "b = np.array([2, 10, 5])\n",
    "c = np.divide(a, b)\n",
    "c"
   ]
  },
  {
   "cell_type": "code",
   "execution_count": 101,
   "id": "fec52f16",
   "metadata": {},
   "outputs": [],
   "source": [
    "###################################### Hadamard Product of 2 NumPy arrays ######################################"
   ]
  },
  {
   "cell_type": "code",
   "execution_count": 102,
   "id": "b0fde756",
   "metadata": {},
   "outputs": [
    {
     "data": {
      "text/plain": [
       "array([3, 4])"
      ]
     },
     "execution_count": 102,
     "metadata": {},
     "output_type": "execute_result"
    }
   ],
   "source": [
    "u = np.array([1, 2])\n",
    "v = np.array([3, 2])\n",
    "z = u*v\n",
    "z"
   ]
  },
  {
   "cell_type": "code",
   "execution_count": 103,
   "id": "3a7008e0",
   "metadata": {},
   "outputs": [
    {
     "data": {
      "text/plain": [
       "[3, 4]"
      ]
     },
     "execution_count": 103,
     "metadata": {},
     "output_type": "execute_result"
    }
   ],
   "source": [
    "u = [1, 2]\n",
    "v = [3, 2]\n",
    "z = []\n",
    "\n",
    "for n, m in zip(u,  v):\n",
    "    z.append(n*m)\n",
    "    \n",
    "z"
   ]
  },
  {
   "cell_type": "code",
   "execution_count": 106,
   "id": "cd06f3ba",
   "metadata": {},
   "outputs": [
    {
     "data": {
      "text/plain": [
       "5"
      ]
     },
     "execution_count": 106,
     "metadata": {},
     "output_type": "execute_result"
    }
   ],
   "source": [
    "###################################### Dot Product ######################################\n",
    "# Dot Product: is a single number given by the following term & represents how similar 2 vectors are\n",
    "\n",
    "#Example\n",
    "# u = [1, 2]     v = [3, 1]\n",
    "# Dot product = 1*3  +  2*1 = 5\n",
    "\n",
    "u = np.array([1, 2])\n",
    "v = np.array([3, 1])\n",
    "result = np.dot(u, v)\n",
    "result"
   ]
  },
  {
   "cell_type": "code",
   "execution_count": 109,
   "id": "c305b9ce",
   "metadata": {},
   "outputs": [
    {
     "data": {
      "text/plain": [
       "array([2, 3, 4, 0])"
      ]
     },
     "execution_count": 109,
     "metadata": {},
     "output_type": "execute_result"
    }
   ],
   "source": [
    "###################################### Adding Constant to a NumPy array ######################################\n",
    "# BroadCasting: Adding Scalar Value to an array(NumPy will add the scalar value to each element in the array)\n",
    "\n",
    "u = np.array([1, 2, 3, -1])\n",
    "z = u + 1\n",
    "z"
   ]
  },
  {
   "cell_type": "code",
   "execution_count": 110,
   "id": "096a7de5",
   "metadata": {},
   "outputs": [],
   "source": [
    "###################################### Universal Function ######################################\n",
    "# Universal Function: function that operates on ND arrays"
   ]
  },
  {
   "cell_type": "code",
   "execution_count": 111,
   "id": "fb31d728",
   "metadata": {},
   "outputs": [
    {
     "data": {
      "text/plain": [
       "0.0"
      ]
     },
     "execution_count": 111,
     "metadata": {},
     "output_type": "execute_result"
    }
   ],
   "source": [
    "a = np.array([1, -1, 1, -1])\n",
    "a.mean()\n",
    "\n",
    "#average = (1-1+1-1)/4 = 0"
   ]
  },
  {
   "cell_type": "code",
   "execution_count": 112,
   "id": "13f0e9d9",
   "metadata": {},
   "outputs": [
    {
     "data": {
      "text/plain": [
       "5"
      ]
     },
     "execution_count": 112,
     "metadata": {},
     "output_type": "execute_result"
    }
   ],
   "source": [
    "a = np.array([1, -2, 3, 4, 5])\n",
    "a.max()"
   ]
  },
  {
   "cell_type": "code",
   "execution_count": 135,
   "id": "daa09d99",
   "metadata": {},
   "outputs": [
    {
     "data": {
      "text/plain": [
       "-2"
      ]
     },
     "execution_count": 135,
     "metadata": {},
     "output_type": "execute_result"
    }
   ],
   "source": [
    "a = np.array([1, -2, 3, 4, 5])\n",
    "a.min()"
   ]
  },
  {
   "cell_type": "code",
   "execution_count": 134,
   "id": "78a12358",
   "metadata": {},
   "outputs": [
    {
     "data": {
      "text/plain": [
       "1.0"
      ]
     },
     "execution_count": 134,
     "metadata": {},
     "output_type": "execute_result"
    }
   ],
   "source": [
    "# Get the standard deviation of numpy array\n",
    "\n",
    "a = np.array([1, -1, 1, -1])\n",
    "a.std()"
   ]
  },
  {
   "cell_type": "code",
   "execution_count": 113,
   "id": "2b1e74c8",
   "metadata": {},
   "outputs": [
    {
     "data": {
      "text/plain": [
       "array([0.0000000e+00, 1.0000000e+00, 1.2246468e-16])"
      ]
     },
     "execution_count": 113,
     "metadata": {},
     "output_type": "execute_result"
    }
   ],
   "source": [
    "# Map NumPy array to new NumPy array\n",
    "\n",
    "#  np.pi ---> π\n",
    "\n",
    "x = np.array([0, np.pi/2, np.pi])                # x = [0, π/2, π]\n",
    "y = np.sin(x)                                    # y = [sin(0), sin(π/2), sin(π)]\n",
    "y                                                # y = [0, 1, 0]"
   ]
  },
  {
   "cell_type": "code",
   "execution_count": 140,
   "id": "60ea0589",
   "metadata": {},
   "outputs": [
    {
     "data": {
      "text/plain": [
       "3.141592653589793"
      ]
     },
     "execution_count": 140,
     "metadata": {},
     "output_type": "execute_result"
    }
   ],
   "source": [
    "π = np.pi\n",
    "π"
   ]
  },
  {
   "cell_type": "code",
   "execution_count": 114,
   "id": "5f5d7acd",
   "metadata": {},
   "outputs": [],
   "source": [
    "###################################### Linspace ######################################\n",
    "# Linspace: return evenly spaced numbers over specified interval\n",
    "#           used for plotting mathematical function"
   ]
  },
  {
   "cell_type": "code",
   "execution_count": 115,
   "id": "46664ac6",
   "metadata": {},
   "outputs": [
    {
     "data": {
      "text/plain": [
       "array([-2., -1.,  0.,  1.,  2.])"
      ]
     },
     "execution_count": 115,
     "metadata": {},
     "output_type": "execute_result"
    }
   ],
   "source": [
    "# np.linspace(start of interval range, End of interval range, #of samples to generate)\n",
    "\n",
    "np.linspace(-2, 2, num=5)    #generate 5 evenly spaced samples from the interval -2 to 2 "
   ]
  },
  {
   "cell_type": "code",
   "execution_count": 116,
   "id": "9f8a8aa7",
   "metadata": {},
   "outputs": [
    {
     "data": {
      "text/plain": [
       "array([-2. , -1.5, -1. , -0.5,  0. ,  0.5,  1. ,  1.5,  2. ])"
      ]
     },
     "execution_count": 116,
     "metadata": {},
     "output_type": "execute_result"
    }
   ],
   "source": [
    "np.linspace(-2, 2, num=9)    #generate 5 evenly spaced samples from the interval -2 to 2 "
   ]
  },
  {
   "cell_type": "code",
   "execution_count": 118,
   "id": "beabbb27",
   "metadata": {},
   "outputs": [
    {
     "data": {
      "text/plain": [
       "[<matplotlib.lines.Line2D at 0x27bd5854350>]"
      ]
     },
     "execution_count": 118,
     "metadata": {},
     "output_type": "execute_result"
    },
    {
     "data": {
      "image/png": "[encoded data removed]",
      "text/plain": [
       "<Figure size 640x480 with 1 Axes>"
      ]
     },
     "metadata": {},
     "output_type": "display_data"
    }
   ],
   "source": [
    "x = np.linspace(0, 2*np.pi, 100)  #generate 100 evenly spaced samples from the interval 0 to 2 π\n",
    "y = np.sin(x) #use the NumPy function Sin to map the array x to a new array y\n",
    "\n",
    "#as we use jupyter notebook, we use the command matplotlib inline to display the plot\n",
    "import matplotlib.pyplot as plt    #to plot the function\n",
    "%matplotlib inline\n",
    "plt.plot(x, y)   # x--> x-axis        y--> y-axis"
   ]
  },
  {
   "cell_type": "code",
   "execution_count": 144,
   "id": "4d776c45",
   "metadata": {},
   "outputs": [
    {
     "data": {
      "text/plain": [
       "0"
      ]
     },
     "execution_count": 144,
     "metadata": {},
     "output_type": "execute_result"
    },
    {
     "data": {
      "image/png": "[encoded data removed]",
      "text/plain": [
       "<Figure size 640x480 with 1 Axes>"
      ]
     },
     "metadata": {},
     "output_type": "display_data"
    }
   ],
   "source": [
    "# plot the arrays as vectors using the fuction Plotvec2 and find their dot product\n",
    "\n",
    "# Import the libraries\n",
    "import time \n",
    "import sys\n",
    "import numpy as np \n",
    "\n",
    "import matplotlib.pyplot as plt\n",
    "%matplotlib inline  \n",
    "\n",
    "def Plotvec2(a,b):\n",
    "    ax = plt.axes()# to generate the full window axes\n",
    "    ax.arrow(0, 0, *a, head_width=0.05, color ='r', head_length=0.1)#Add an arrow to the  a Axes with arrow head width 0.05, color red and arrow head length 0.1\n",
    "    plt.text(*(a + 0.1), 'a')\n",
    "    ax.arrow(0, 0, *b, head_width=0.05, color ='b', head_length=0.1)#Add an arrow to the  b Axes with arrow head width 0.05, color blue and arrow head length 0.1\n",
    "    plt.text(*(b + 0.1), 'b')\n",
    "    plt.ylim(-2, 2)#set the ylim to bottom(-2), top(2)\n",
    "    plt.xlim(-2, 2)#set the xlim to left(-2), right(2)\n",
    "################################################################################################################################\n",
    "\n",
    "a = np.array([-1, 1])\n",
    "b = np.array([1, 1])\n",
    "\n",
    "Plotvec2(a, b)     #plot the arrays as vectors\n",
    "np.dot(a, b)       #find their dot product\n",
    "\n",
    "# The vectors are perpendicular, ∴ the dot product is zero"
   ]
  },
  {
   "cell_type": "code",
   "execution_count": 145,
   "id": "46b15a46",
   "metadata": {},
   "outputs": [
    {
     "data": {
      "text/plain": [
       "0"
      ]
     },
     "execution_count": 145,
     "metadata": {},
     "output_type": "execute_result"
    },
    {
     "data": {
      "image/png": "[encoded data removed]",
      "text/plain": [
       "<Figure size 640x480 with 1 Axes>"
      ]
     },
     "metadata": {},
     "output_type": "display_data"
    }
   ],
   "source": [
    "a = np.array([1, 0])\n",
    "b = np.array([0, 1])\n",
    "Plotvec2(a, b)\n",
    "np.dot(a, b)\n",
    "\n",
    "# The vectors are perpendicular, ∴ the dot product is zero"
   ]
  },
  {
   "cell_type": "code",
   "execution_count": 146,
   "id": "8ad9006e",
   "metadata": {},
   "outputs": [
    {
     "data": {
      "text/plain": [
       "1"
      ]
     },
     "execution_count": 146,
     "metadata": {},
     "output_type": "execute_result"
    },
    {
     "data": {
      "image/png": "[encoded data removed]",
      "text/plain": [
       "<Figure size 640x480 with 1 Axes>"
      ]
     },
     "metadata": {},
     "output_type": "display_data"
    }
   ],
   "source": [
    "a = np.array([1, 1])\n",
    "b = np.array([0, 1])\n",
    "\n",
    "Plotvec2(a, b)\n",
    "np.dot(a,b )"
   ]
  },
  {
   "cell_type": "code",
   "execution_count": null,
   "id": "05ad29d7",
   "metadata": {},
   "outputs": [],
   "source": [
    "###############################################################################################################################"
   ]
  },
  {
   "cell_type": "code",
   "execution_count": 142,
   "id": "ac99370c",
   "metadata": {},
   "outputs": [
    {
     "name": "stdout",
     "output_type": "stream",
     "text": [
      "1\n",
      "2\n",
      "3\n"
     ]
    }
   ],
   "source": [
    "# Iterating 1-D Arrays\n",
    "#Iterating: means going through elements one by one\n",
    "\n",
    "a = np.array([1, 2, 3])\n",
    "\n",
    "for x in a:\n",
    "    print(x)"
   ]
  },
  {
   "cell_type": "markdown",
   "id": "ca85d8f4",
   "metadata": {},
   "source": [
    "# 2D NumPy\n",
    "2D NumPy array: The outer list contains inner lists (Nested Lists)"
   ]
  },
  {
   "cell_type": "code",
   "execution_count": 2,
   "id": "699b1fc3",
   "metadata": {},
   "outputs": [],
   "source": [
    "import numpy as np"
   ]
  },
  {
   "cell_type": "code",
   "execution_count": 25,
   "id": "a6a28e0f",
   "metadata": {},
   "outputs": [
    {
     "data": {
      "text/plain": [
       "array([[ 1,  2,  3,  4],\n",
       "       [ 5,  6,  7,  8],\n",
       "       [ 9, 10, 11, 12]])"
      ]
     },
     "execution_count": 25,
     "metadata": {},
     "output_type": "execute_result"
    }
   ],
   "source": [
    "A = [[11,12,13], [21,22,23], [31,32,33]]\n",
    "a = np.array(a)          #cast the nested lists to a numpy array\n",
    "a"
   ]
  },
  {
   "cell_type": "code",
   "execution_count": 7,
   "id": "89984764",
   "metadata": {},
   "outputs": [
    {
     "data": {
      "text/plain": [
       "2"
      ]
     },
     "execution_count": 7,
     "metadata": {},
     "output_type": "execute_result"
    }
   ],
   "source": [
    "# .ndim: Represents the number of dimensions or \"rank\" of the array\n",
    "\n",
    "a.ndim"
   ]
  },
  {
   "cell_type": "code",
   "execution_count": 9,
   "id": "97d24146",
   "metadata": {},
   "outputs": [
    {
     "data": {
      "text/plain": [
       "(3, 3)"
      ]
     },
     "execution_count": 9,
     "metadata": {},
     "output_type": "execute_result"
    }
   ],
   "source": [
    "# .shape: Returns a tuple indicating the number of rows and columns in the array\n",
    "\n",
    "a.shape\n",
    "\n",
    "#(number of nested lists(#of rows) , size of each nested list(#of columns))"
   ]
  },
  {
   "cell_type": "code",
   "execution_count": 10,
   "id": "b8bf8e74",
   "metadata": {},
   "outputs": [
    {
     "data": {
      "text/plain": [
       "9"
      ]
     },
     "execution_count": 10,
     "metadata": {},
     "output_type": "execute_result"
    }
   ],
   "source": [
    "# .size: the total number of elements in the array\n",
    "\n",
    "a.size\n",
    "\n",
    "# 3*3 = 9"
   ]
  },
  {
   "cell_type": "code",
   "execution_count": 11,
   "id": "4eef8350",
   "metadata": {},
   "outputs": [
    {
     "data": {
      "text/plain": [
       "23"
      ]
     },
     "execution_count": 11,
     "metadata": {},
     "output_type": "execute_result"
    }
   ],
   "source": [
    "# Access the element on the second row and third column\n",
    "\n",
    "a[1][2]\n",
    "\n",
    "# 1--> row   2--> column"
   ]
  },
  {
   "cell_type": "code",
   "execution_count": 18,
   "id": "2b750004",
   "metadata": {},
   "outputs": [
    {
     "data": {
      "text/plain": [
       "23"
      ]
     },
     "execution_count": 18,
     "metadata": {},
     "output_type": "execute_result"
    }
   ],
   "source": [
    "a[1, 2]"
   ]
  },
  {
   "cell_type": "code",
   "execution_count": 12,
   "id": "3ec51fe7",
   "metadata": {},
   "outputs": [
    {
     "data": {
      "text/plain": [
       "array([11, 12])"
      ]
     },
     "execution_count": 12,
     "metadata": {},
     "output_type": "execute_result"
    }
   ],
   "source": [
    "a[0, 0:2]\n",
    "\n",
    "# 0--> row   0:2 --> column"
   ]
  },
  {
   "cell_type": "code",
   "execution_count": 13,
   "id": "a43f37a3",
   "metadata": {},
   "outputs": [
    {
     "data": {
      "text/plain": [
       "array([13, 23])"
      ]
     },
     "execution_count": 13,
     "metadata": {},
     "output_type": "execute_result"
    }
   ],
   "source": [
    "a[0:2, 2]\n",
    "\n",
    "# 0:2-->row  2-->column"
   ]
  },
  {
   "cell_type": "code",
   "execution_count": 26,
   "id": "3944149a",
   "metadata": {},
   "outputs": [
    {
     "data": {
      "text/plain": [
       "array([5, 6, 7, 8])"
      ]
     },
     "execution_count": 26,
     "metadata": {},
     "output_type": "execute_result"
    }
   ],
   "source": [
    "# Access the element on the second row\n",
    "\n",
    "a[1]"
   ]
  },
  {
   "cell_type": "code",
   "execution_count": 27,
   "id": "4b101a6f",
   "metadata": {},
   "outputs": [
    {
     "data": {
      "text/plain": [
       "array([ 2,  6, 10])"
      ]
     },
     "execution_count": 27,
     "metadata": {},
     "output_type": "execute_result"
    }
   ],
   "source": [
    "# Accessing a column (2nd column)\n",
    "\n",
    "a[:, 1]"
   ]
  },
  {
   "cell_type": "code",
   "execution_count": 14,
   "id": "5cc5cc6f",
   "metadata": {},
   "outputs": [
    {
     "data": {
      "text/plain": [
       "array([[3, 1],\n",
       "       [1, 3]])"
      ]
     },
     "execution_count": 14,
     "metadata": {},
     "output_type": "execute_result"
    }
   ],
   "source": [
    "# Addition (Element-Wise Arithmetic(Addition/Subtraction))\n",
    "\n",
    "x = np.array([[1,0], [0,1]])\n",
    "y = np.array([[2,1], [1,2]])\n",
    "z = x + y\n",
    "z"
   ]
  },
  {
   "cell_type": "code",
   "execution_count": 15,
   "id": "5cb978b5",
   "metadata": {},
   "outputs": [
    {
     "data": {
      "text/plain": [
       "array([[4, 2],\n",
       "       [2, 4]])"
      ]
     },
     "execution_count": 15,
     "metadata": {},
     "output_type": "execute_result"
    }
   ],
   "source": [
    "# Multiplying a numpy array by a scaler (Scalar Arithmetic)\n",
    "\n",
    "y = np.array([[2,1], [1,2]])\n",
    "z = 2*y\n",
    "z"
   ]
  },
  {
   "cell_type": "code",
   "execution_count": 16,
   "id": "4fcc2ba9",
   "metadata": {},
   "outputs": [
    {
     "data": {
      "text/plain": [
       "array([[2, 0],\n",
       "       [0, 2]])"
      ]
     },
     "execution_count": 16,
     "metadata": {},
     "output_type": "execute_result"
    }
   ],
   "source": [
    "# Hadamard product (Multiply each of the elements in the same position)\n",
    "\n",
    "x = np.array([[1,0], [0,1]])\n",
    "y = np.array([[2,1], [1,2]])\n",
    "z = x * y\n",
    "z"
   ]
  },
  {
   "cell_type": "code",
   "execution_count": 17,
   "id": "4a7dd151",
   "metadata": {},
   "outputs": [
    {
     "data": {
      "text/plain": [
       "array([[0, 2],\n",
       "       [0, 2]])"
      ]
     },
     "execution_count": 17,
     "metadata": {},
     "output_type": "execute_result"
    }
   ],
   "source": [
    "# Matrix Multiplication (Calculate the dot product)\n",
    "\n",
    "x = np.array([[0,1,1], [1,0,1]])\n",
    "y = np.array([[1,1], [1,1], [-1,1]])\n",
    "z = np.dot(x, y)\n",
    "z"
   ]
  },
  {
   "cell_type": "code",
   "execution_count": 24,
   "id": "b146a258",
   "metadata": {},
   "outputs": [
    {
     "data": {
      "text/plain": [
       "array([[ 1,  4],\n",
       "       [ 5, 12],\n",
       "       [ 9, 20]])"
      ]
     },
     "execution_count": 24,
     "metadata": {},
     "output_type": "execute_result"
    }
   ],
   "source": [
    "a = np.array([[1, 2, 3, 4], [5, 6, 7, 8], [9, 10, 11, 12]])\n",
    "b = np.array([[0, 1], [1, 0], [1, 1], [-1, 0]])             #Matrices are with different dimensions --> ∴ use .dot()\n",
    "c = np.dot(a, b)\n",
    "c"
   ]
  },
  {
   "cell_type": "code",
   "execution_count": 20,
   "id": "c6f96f5d",
   "metadata": {},
   "outputs": [
    {
     "data": {
      "text/plain": [
       "array([[0.        , 0.90929743],\n",
       "       [0.        , 0.90929743]])"
      ]
     },
     "execution_count": 20,
     "metadata": {},
     "output_type": "execute_result"
    }
   ],
   "source": [
    "np.sin(z)     # Calculate the sine of Z"
   ]
  },
  {
   "cell_type": "code",
   "execution_count": 47,
   "id": "9013342c",
   "metadata": {},
   "outputs": [
    {
     "data": {
      "text/plain": [
       "array([[2, 1],\n",
       "       [1, 2]])"
      ]
     },
     "execution_count": 47,
     "metadata": {},
     "output_type": "execute_result"
    }
   ],
   "source": [
    "a = np.array([[1,0],[0,1]])\n",
    "b = np.array([[2,1],[1,2]]) \n",
    "c = np.dot(a, b)\n",
    "c"
   ]
  },
  {
   "cell_type": "code",
   "execution_count": 23,
   "id": "43c82a26",
   "metadata": {},
   "outputs": [
    {
     "data": {
      "text/plain": [
       "array([[1, 2, 3],\n",
       "       [1, 2, 3]])"
      ]
     },
     "execution_count": 23,
     "metadata": {},
     "output_type": "execute_result"
    }
   ],
   "source": [
    "# .T: to calculate the transposed matrix\n",
    "\n",
    "a = np.array([[1,1],[2,2],[3,3]])\n",
    "a.T"
   ]
  },
  {
   "cell_type": "code",
   "execution_count": 29,
   "id": "1820d9c9",
   "metadata": {},
   "outputs": [
    {
     "data": {
      "text/plain": [
       "array([[3.31662479, 3.46410162, 3.60555128],\n",
       "       [4.58257569, 4.69041576, 4.79583152],\n",
       "       [5.56776436, 5.65685425, 5.74456265]])"
      ]
     },
     "execution_count": 29,
     "metadata": {},
     "output_type": "execute_result"
    }
   ],
   "source": [
    "# Element-Wise Functions\n",
    "\n",
    "a = np.array([[11,12,13], [21,22,23], [31,32,33]])\n",
    "np.sqrt(a)"
   ]
  },
  {
   "cell_type": "code",
   "execution_count": 30,
   "id": "a2c76e75",
   "metadata": {},
   "outputs": [
    {
     "data": {
      "text/plain": [
       "198"
      ]
     },
     "execution_count": 30,
     "metadata": {},
     "output_type": "execute_result"
    }
   ],
   "source": [
    "a = np.array([[11,12,13], [21,22,23], [31,32,33]])\n",
    "total = np.sum(a)\n",
    "total"
   ]
  },
  {
   "cell_type": "code",
   "execution_count": 31,
   "id": "ed97db27",
   "metadata": {},
   "outputs": [
    {
     "data": {
      "text/plain": [
       "22.0"
      ]
     },
     "execution_count": 31,
     "metadata": {},
     "output_type": "execute_result"
    }
   ],
   "source": [
    "a = np.array([[11,12,13], [21,22,23], [31,32,33]])\n",
    "average = np.mean(a)\n",
    "average"
   ]
  },
  {
   "cell_type": "code",
   "execution_count": 32,
   "id": "39d18ceb",
   "metadata": {},
   "outputs": [
    {
     "data": {
      "text/plain": [
       "33"
      ]
     },
     "execution_count": 32,
     "metadata": {},
     "output_type": "execute_result"
    }
   ],
   "source": [
    "a = np.array([[11,12,13], [21,22,23], [31,32,33]])\n",
    "max_val = np.max(a)\n",
    "max_val"
   ]
  },
  {
   "cell_type": "code",
   "execution_count": 33,
   "id": "3ab3596b",
   "metadata": {},
   "outputs": [
    {
     "data": {
      "text/plain": [
       "11"
      ]
     },
     "execution_count": 33,
     "metadata": {},
     "output_type": "execute_result"
    }
   ],
   "source": [
    "a = np.array([[11,12,13], [21,22,23], [31,32,33]])\n",
    "min_val = np.min(a)\n",
    "min_val"
   ]
  },
  {
   "cell_type": "code",
   "execution_count": 37,
   "id": "85d3b851",
   "metadata": {},
   "outputs": [
    {
     "data": {
      "text/plain": [
       "array([[11, 12],\n",
       "       [13, 21],\n",
       "       [22, 23]])"
      ]
     },
     "execution_count": 37,
     "metadata": {},
     "output_type": "execute_result"
    }
   ],
   "source": [
    "# Changing the shape of an array (Reshaping)\n",
    "\n",
    "a = np.array([[11,12,13], [21,22,23]])\n",
    "a.reshape(3, 2)"
   ]
  },
  {
   "cell_type": "markdown",
   "id": "792d3da1",
   "metadata": {},
   "source": [
    "# API\n",
    "- <strong>API(Application Program Interface):</strong> acts as a bridge that allows one software application to interact with another, making it possible for them to share data, functionalities, or services.<br>\n",
    "- <strong>REST API(Representational State Transfer):</strong> a type of API that allows you to access resources via the internet (web services & web-based applications).\n",
    "it uses standard HTTP methods (GET, POST, PUT, DELETE) for communication.\n",
    "it typically uses lightweight data formats, commonly JSON, for data exchange.<br>\n",
    "\n",
    "- <strong>Pandas is an API: </strong>Pandas is actually set of software components , much of which is not even written in Python.<br>\n",
    "- - - - - - - - - - - - - - - - - - - - - - -\n",
    "\n",
    "- <strong>Endpoint:</strong> is a specific URL or URI (Uniform Resource Identifier) that represents a specific function or resource in the API. Each endpoint corresponds to a particular operation that the API can perform.<br>\n",
    "[API Endpoints: is the location of the service (it is used to find the API on the internet 'Just like a web address')]<br><br>\n",
    "\n",
    "- <strong>APIs use HTTP methods (Request Methods) to specify the type of action the client wants to perform on a given resource.</strong><br>\n",
    "<strong>http protocol:</strong> general protocal(way) of transmitting data over the internet, it allows us to send and receive information through the web(includes many types of RestAPI)<br>\n",
    "we tell the Rest API what to do by sending a request, the request is usually communicated via an http message which contain a Json file contained informations for what operation we would like the service to perform.<br>\n",
    "The service perform the operation, and return a response via an http message, where the information is usually returned via a Json.<br>\n",
    "<strong>GET:</strong> Retrieve data from the server.<br>\n",
    "<strong>POST:</strong> Send data to the server.<br>\n",
    "<strong>PUT or PATCH:</strong> Update data already on the server.<br>\n",
    "<strong>DELETE:</strong> Delete data from the server.<br><br>\n",
    "\n",
    "- <strong>Request Headers: </strong>contain additional information about the request, such as the content type, authentication tokens, or other metadata.<br>\n",
    "\n",
    "- <strong>Request Body: </strong>In some cases, a request may include a body that contains data to be sent to the server. This is common in POST or PUT requests, where the client is sending data to create or update a resource.<br>\n",
    "\n",
    "- <strong>Response Status Code: </strong>The server responds to a client request with an HTTP status code, indicating the success or failure of the operation.<br>\n",
    "<strong>1xx  ---> Inforamtional</strong><br>\n",
    "<strong>2xx  ---> Success</strong><br>\n",
    "<strong>3xx  ---> Redirection</strong><br>\n",
    "<strong>4xx  ---> Client Error</strong><br>\n",
    "<strong>5xx  ---> Server Error</strong><br>\n",
    "<strong>200</strong>  OK <br>\n",
    "<strong>401</strong>  Unauthorized<br>\n",
    "<strong>404</strong>  Not Found<br>\n",
    "<strong>500</strong>  Server Error<br>\n",
    "\n",
    "- <strong>Authentication:</strong> Many APIs require authentication to ensure that only authorized users or applications can access certain resources. This can be done using API keys, OAuth tokens, or other authentication mechanisms.<br>\n",
    "[API Keys: way to access the API (it is a unique set of characters that the Api uses to identify you & authorize you)]<br>\n",
    "\n",
    "- <strong>Documentation: </strong>explains how to use the API, the available endpoints, request and response formats, and any authentication requirements. <br>[it helps developers understand and integrate with the API effectively]<br><br>\n",
    "\n",
    "<strong>Structure of API URL</strong>\n",
    "- <strong>URI (Uniform Resource Identifier):</strong> https://api.example.com/v1/get/json.xml?parameter1=value1&parameter2=value2 <br>\n",
    "URI is a string of characters that identifies a name or a resource on the internet.<br>\n",
    "- <strong>URL (Uniform Resource Locator):</strong> https://api.example.com <br>\n",
    "URL is a specific type of URI that provides the means to access a resource on the web.<br>\n",
    "- <strong>Scheme: </strong>https:// <br>\n",
    "indicating that the communication should be secured using the HTTPS protocol.<br>\n",
    "- <strong>Route:</strong> This is the location on the web server; for example: /v1/get/json.xml <br>\n",
    "- - - - - - - - - - - - - - - - - - - - - - -\n",
    "http://www.ibm.com/images/IDSNlogo.png <br>\n",
    "<strong>Scheme:</strong> the protocol (http://)<br>\n",
    "<strong>Internet Address (Base URL):</strong> used to find the location (www.ibm.com)<br>\n",
    "<strong>Route:</strong> Location on the Web Server  (/images/IDSNlogo.png)<br><br>\n",
    "\n",
    "<strong>Uniform Resource Identifier (URI):</strong> URL is a subset of URIs.<br> \n",
    "<strong>endpoint:</strong> the URL of an operation provided by a Web server.<br>\n",
    "\n",
    "- - - - - - - - - - - - - - - - - - - - - - -\n",
    "<strong>Access Free Public APIs</strong><br>\n",
    "To use a public API in your Python code, you need to know the <strong>URL of the API endpoint</strong> that you want to access. \n",
    "\n",
    "- Go to the GitHub repository:\n",
    "https://github.com/public-apis/public-apis  <br>\n",
    "\n",
    "- Scroll down to the <strong>table of APIs</strong> and find the one that you're interested in using.<br>\n",
    "\n",
    "- Look for the <strong>\"API\" column</strong> in the table, which will give you the base URL for the API. (This is the main URL that you will use to access the API endpoints).<br>\n",
    "\n",
    "- If the API requires authentication or has additional instructions, look for the <strong>\"Auth\" or \"HTTPS\" columns</strong> for more information.<br>\n",
    "\n",
    "- Once you have the URL for the API, you can <strong>use it in your Python code with the requests library to make HTTP requests  and retrieve data from the API</strong>.<br>"
   ]
  },
  {
   "cell_type": "code",
   "execution_count": 7,
   "id": "c3414342",
   "metadata": {},
   "outputs": [],
   "source": [
    "import pandas as pd\n",
    "import matplotlib.pyplot as plt"
   ]
  },
  {
   "cell_type": "code",
   "execution_count": 2,
   "id": "0a5257a9",
   "metadata": {},
   "outputs": [
    {
     "data": {
      "text/plain": [
       "a    21.0\n",
       "b    22.0\n",
       "dtype: float64"
      ]
     },
     "execution_count": 2,
     "metadata": {},
     "output_type": "execute_result"
    }
   ],
   "source": [
    "# Pandas is an API: Pandas is actually set of software components , much of which is not even written in Python.\n",
    "\n",
    "# create a dictionary (This is data)\n",
    "dict_={'a':[11,21,31],'b':[12,22,32]}\n",
    "\n",
    "# When you create a Pandas object with the dataframe constructor, in API lingo this is an \"instance\". \n",
    "# The data in the dictionary is passed along to the pandas API. You then use the dataframe to communicate with the API.\n",
    "df=pd.DataFrame(dict_)\n",
    "\n",
    "# When you call the method head the dataframe communicates with the API displaying the first few rows of the dataframe.\n",
    "df.head()\n",
    "\n",
    "# When you call the method mean, the API will calculate the mean and return the value.\n",
    "df.mean()"
   ]
  },
  {
   "cell_type": "code",
   "execution_count": null,
   "id": "d2582964",
   "metadata": {},
   "outputs": [],
   "source": [
    "################################################# REST API Example #################################################"
   ]
  },
  {
   "cell_type": "code",
   "execution_count": 29,
   "id": "5e474318",
   "metadata": {},
   "outputs": [],
   "source": [
    "# Access Free Public APIs (Example)\n",
    "\n",
    "# Import the requests and json modules for making HTTP requests and handling JSON data, respectively.\n",
    "#import requests\n",
    "#import json\n",
    "\n",
    "# Specify the URL of the API endpoint for retrieving information about fish species.\n",
    "#url = \"https://www.fishwatch.gov/api/species\"\n",
    "\n",
    "# Make an HTTP GET request to the specified URL and store the response in the data variable.\n",
    "#data = requests.get(url)\n",
    "\n",
    "# Parse the JSON data received from the API response using json.loads() and store it in the results variable.\n",
    "#results = json.loads(data.text)"
   ]
  },
  {
   "cell_type": "code",
   "execution_count": 1,
   "id": "5cb86cc4",
   "metadata": {},
   "outputs": [
    {
     "name": "stdout",
     "output_type": "stream",
     "text": [
      "Requirement already satisfied: pycoingecko in c:\\users\\esraa\\anaconda3\\lib\\site-packages (3.1.0)\n",
      "Requirement already satisfied: requests in c:\\users\\esraa\\anaconda3\\lib\\site-packages (from pycoingecko) (2.29.0)\n",
      "Requirement already satisfied: charset-normalizer<4,>=2 in c:\\users\\esraa\\anaconda3\\lib\\site-packages (from requests->pycoingecko) (2.0.4)\n",
      "Requirement already satisfied: idna<4,>=2.5 in c:\\users\\esraa\\anaconda3\\lib\\site-packages (from requests->pycoingecko) (3.4)\n",
      "Requirement already satisfied: urllib3<1.27,>=1.21.1 in c:\\users\\esraa\\anaconda3\\lib\\site-packages (from requests->pycoingecko) (1.26.16)\n",
      "Requirement already satisfied: certifi>=2017.4.17 in c:\\users\\esraa\\anaconda3\\lib\\site-packages (from requests->pycoingecko) (2023.5.7)\n"
     ]
    }
   ],
   "source": [
    "# Rest API (Example: Crypto Currency Data(it is being constantly updated))\n",
    "\n",
    "#import library\n",
    "!pip install pycoingecko \n",
    "from pycoingecko import CoinGeckoAPI"
   ]
  },
  {
   "cell_type": "code",
   "execution_count": 12,
   "id": "7ec291cd",
   "metadata": {},
   "outputs": [
    {
     "data": {
      "text/plain": [
       "{'prices': [[1699470055725, 35575.00674494876],\n",
       "  [1699473607269, 35645.00633920362],\n",
       "  [1699477207536, 35599.36608674813],\n",
       "  [1699480862074, 35606.82640903577],\n",
       "  [1699484440274, 35873.224389464325],\n",
       "  [1699488050882, 35647.75103125014],\n",
       "  [1699491633695, 35853.855318198024],\n",
       "  [1699495256063, 35911.728752822426],\n",
       "  [1699498827827, 36332.729628946116],\n",
       "  [1699502428461, 36394.93714069923],\n",
       "  [1699506026040, 36735.84645170542],\n",
       "  [1699509641022, 36651.561575950764],\n",
       "  [1699513211042, 36783.321980717665],\n",
       "  [1699516837592, 36555.220901666304],\n",
       "  [1699520417073, 36672.913630696145],\n",
       "  [1699524050598, 36837.58815636808],\n",
       "  [1699527605725, 36770.71584740587],\n",
       "  [1699531251866, 36799.88991158373],\n",
       "  [1699534810907, 36886.12144414277],\n",
       "  [1699538449646, 37149.08985597598],\n",
       "  [1699542064170, 37883.291998751076],\n",
       "  [1699545618254, 37323.241594214574],\n",
       "  [1699549209002, 36430.26030381468],\n",
       "  [1699552805043, 36570.49786068415],\n",
       "  [1699556460765, 36401.767595186626],\n",
       "  [1699560006675, 36335.308944018856],\n",
       "  [1699563655858, 36553.80224354963],\n",
       "  [1699567258895, 36505.27481212208],\n",
       "  [1699570809872, 36661.211863449986],\n",
       "  [1699574443278, 36768.42081912672],\n",
       "  [1699578012981, 36530.67821736738],\n",
       "  [1699581660691, 36723.681252943505],\n",
       "  [1699585245636, 36864.25907128313],\n",
       "  [1699588805469, 36748.30732417886],\n",
       "  [1699592420039, 36751.99303149112],\n",
       "  [1699596030763, 36718.80486542809],\n",
       "  [1699599675395, 36652.02107225412],\n",
       "  [1699603234365, 36473.68697082108],\n",
       "  [1699606851242, 36515.382351784705],\n",
       "  [1699610460723, 36539.479207502496],\n",
       "  [1699614011661, 36583.472584982366],\n",
       "  [1699617668736, 37101.867203690395],\n",
       "  [1699621311575, 37060.88652837508],\n",
       "  [1699624801802, 37122.95461027728],\n",
       "  [1699628437243, 37066.82541942652],\n",
       "  [1699632079315, 37093.38703367307],\n",
       "  [1699635605424, 37367.476377411724],\n",
       "  [1699639215520, 37258.15253886746],\n",
       "  [1699642836642, 37240.624225309126],\n",
       "  [1699646435552, 37312.556716368235],\n",
       "  [1699650065325, 37270.163450106425],\n",
       "  [1699653609444, 37329.13200110702],\n",
       "  [1699657279439, 37388.482326184385],\n",
       "  [1699660822673, 37344.249000720345],\n",
       "  [1699664407897, 37287.44995504606],\n",
       "  [1699668017354, 37049.76530697339],\n",
       "  [1699671667132, 37132.25188033483],\n",
       "  [1699675276344, 37065.83147561591],\n",
       "  [1699678809972, 37105.77873505604],\n",
       "  [1699682462249, 37091.76790761324],\n",
       "  [1699686067341, 37093.190173934374],\n",
       "  [1699689625497, 36977.879392178096],\n",
       "  [1699693208569, 36972.25617493435],\n",
       "  [1699696808781, 37053.82995578746],\n",
       "  [1699700408192, 37001.95755812763],\n",
       "  [1699704060796, 37013.2022660157],\n",
       "  [1699707677910, 37131.35100517337],\n",
       "  [1699711209736, 37142.42409876143],\n",
       "  [1699714844598, 37294.8512087961],\n",
       "  [1699718409686, 37111.65382054027],\n",
       "  [1699722042480, 37169.09570828781],\n",
       "  [1699725607999, 37174.97529316527],\n",
       "  [1699729206577, 37137.071018833354],\n",
       "  [1699732809825, 37168.838656410124],\n",
       "  [1699736436217, 37010.251106951284],\n",
       "  [1699740062540, 36962.46890873377],\n",
       "  [1699743648800, 36896.46481244737],\n",
       "  [1699747267870, 37122.722824306555],\n",
       "  [1699750866625, 36882.519128243846],\n",
       "  [1699754457722, 37006.003592326764],\n",
       "  [1699758055845, 36925.46413909653],\n",
       "  [1699761663410, 36999.848834259654],\n",
       "  [1699765216368, 36988.86701365405],\n",
       "  [1699768805299, 37111.306777162885],\n",
       "  [1699772460674, 37157.1306391266],\n",
       "  [1699776063613, 37142.560686217665],\n",
       "  [1699779665339, 37107.86989010588],\n",
       "  [1699783262263, 37081.180389851535],\n",
       "  [1699786856896, 37099.8839553007],\n",
       "  [1699790474716, 37087.44026060873],\n",
       "  [1699794007105, 37021.26410518209],\n",
       "  [1699797629568, 37106.48751843482],\n",
       "  [1699801253721, 37159.90984664138],\n",
       "  [1699804820788, 37198.72767934926],\n",
       "  [1699808446641, 37138.062934782065],\n",
       "  [1699812056988, 37092.25248348423],\n",
       "  [1699815652360, 37197.37464625415],\n",
       "  [1699819203055, 37117.1167830375],\n",
       "  [1699822828910, 37154.778477139655],\n",
       "  [1699826435994, 37185.268117331856],\n",
       "  [1699830006568, 37160.19989130365],\n",
       "  [1699833609406, 37067.69698212008],\n",
       "  [1699837201753, 37086.97701787372],\n",
       "  [1699840805860, 37253.190610682024],\n",
       "  [1699844469425, 37158.102457258974],\n",
       "  [1699848000360, 37005.76146801182],\n",
       "  [1699851613436, 36918.09368303102],\n",
       "  [1699855251551, 36950.968995869705],\n",
       "  [1699858854857, 36954.144709818014],\n",
       "  [1699862435350, 36981.04563123201],\n",
       "  [1699866010309, 37051.862925313406],\n",
       "  [1699869625792, 37004.78065396558],\n",
       "  [1699873207704, 36988.99704895734],\n",
       "  [1699876816125, 36795.57113424511],\n",
       "  [1699880421297, 36951.70031013419],\n",
       "  [1699884025820, 36846.299498709894],\n",
       "  [1699887622789, 36771.18254565363],\n",
       "  [1699891249067, 36826.699952108465],\n",
       "  [1699894844357, 36877.82472769619],\n",
       "  [1699898451757, 36648.163279346496],\n",
       "  [1699902046232, 36762.38073450954],\n",
       "  [1699905610198, 36853.55932751403],\n",
       "  [1699909263032, 36815.67139117826],\n",
       "  [1699912861788, 36437.7836967649],\n",
       "  [1699916421618, 36556.12320473314],\n",
       "  [1699920013347, 36549.16204829837],\n",
       "  [1699923629685, 36223.31232606392],\n",
       "  [1699927213716, 36407.95318118144],\n",
       "  [1699930803936, 36423.937400058334],\n",
       "  [1699934420157, 36460.327543816646],\n",
       "  [1699938035398, 36510.58204228086],\n",
       "  [1699941642190, 36613.891555707756],\n",
       "  [1699945200674, 36666.87962550011],\n",
       "  [1699948836957, 36698.75352811377],\n",
       "  [1699952418326, 36740.39552999041],\n",
       "  [1699956077456, 36526.080298771296],\n",
       "  [1699959643774, 36509.54328582069],\n",
       "  [1699963207970, 36330.5454067207],\n",
       "  [1699966804409, 36395.086313228174],\n",
       "  [1699970456165, 36554.31613769191],\n",
       "  [1699974007932, 36595.39415854397],\n",
       "  [1699977654523, 36132.70318203377],\n",
       "  [1699981231038, 36298.16148703754],\n",
       "  [1699984857344, 36152.8269043818],\n",
       "  [1699988448246, 35284.820419943026],\n",
       "  [1699992040339, 35289.034993556146],\n",
       "  [1699995604322, 35266.335242154084],\n",
       "  [1699999268405, 35578.75303693282],\n",
       "  [1700002807037, 35600.915413431205],\n",
       "  [1700006470759, 35545.201433454065],\n",
       "  [1700010001613, 35553.4929570494],\n",
       "  [1700013610831, 35501.056059298586],\n",
       "  [1700017247343, 35480.001015120666],\n",
       "  [1700020848147, 35389.21900849932],\n",
       "  [1700024476515, 35577.049505337236],\n",
       "  [1700028053982, 35629.027714432654],\n",
       "  [1700031611420, 35619.25073013464],\n",
       "  [1700035203820, 35574.9178249679],\n",
       "  [1700038810213, 35815.42238135602],\n",
       "  [1700042428897, 35797.48206930911],\n",
       "  [1700046041685, 35859.259689371625],\n",
       "  [1700049694283, 36250.773207587685],\n",
       "  [1700053214857, 36282.24840171514],\n",
       "  [1700056813688, 36136.335084775885],\n",
       "  [1700060444334, 36119.57143025458],\n",
       "  [1700064070479, 36397.07945959704],\n",
       "  [1700067635080, 36392.07898045584],\n",
       "  [1700071243958, 36496.59967868011],\n",
       "  [1700074850288, 37433.21417703956],\n",
       "  [1700078413265, 37492.220592756494],\n",
       "  [1700082004733, 37463.40214037469],\n",
       "  [1700085656795, 37655.825028585976],\n",
       "  [1700089237390, 37761.00853505901],\n",
       "  [1700092806552, 37903.66245166294],\n",
       "  [1700096421115, 37826.36685950436],\n",
       "  [1700100021666, 37464.28404051854],\n",
       "  [1700103643057, 37557.96985041627],\n",
       "  [1700107238252, 37443.56247829998],\n",
       "  [1700110858012, 37453.64109418541],\n",
       "  [1700114468080, 37433.45025617561],\n",
       "  [1700118007765, 37540.40254352169],\n",
       "  [1700121631687, 37449.44822077931],\n",
       "  [1700125316095, 37353.98537885555],\n",
       "  [1700128899893, 37379.06249787419],\n",
       "  [1700132439360, 37337.02999503687],\n",
       "  [1700136081384, 37226.388081132034],\n",
       "  [1700139706974, 37115.752578242944],\n",
       "  [1700143245932, 36861.18679414148],\n",
       "  [1700146901982, 36739.645841596954],\n",
       "  [1700150447161, 36379.79999641866],\n",
       "  [1700154024908, 36544.51628227986],\n",
       "  [1700157637264, 36448.385891631624],\n",
       "  [1700161302766, 36234.831967022554],\n",
       "  [1700164933727, 35841.3117294496],\n",
       "  [1700168512969, 36055.70531604448],\n",
       "  [1700172129879, 35985.23717564191],\n",
       "  [1700175693415, 36235.00577174696],\n",
       "  [1700179284891, 36163.46689036523],\n",
       "  [1700182805320, 36356.78342196292],\n",
       "  [1700186437641, 36551.34316496115],\n",
       "  [1700190036190, 36470.87256684636],\n",
       "  [1700193752487, 36517.10471656712],\n",
       "  [1700197223563, 36445.86899342715],\n",
       "  [1700200805708, 36333.82905466318],\n",
       "  [1700204454927, 36382.533811227106],\n",
       "  [1700208023152, 36225.1695532378],\n",
       "  [1700211622070, 36396.39850534106],\n",
       "  [1700215208235, 36350.066270107374],\n",
       "  [1700218813678, 36327.443151059924],\n",
       "  [1700222517617, 36365.54623893652],\n",
       "  [1700226059855, 36419.96859704596],\n",
       "  [1700229640552, 36311.78964712377],\n",
       "  [1700233326935, 36031.0668801605],\n",
       "  [1700236960967, 36054.25707338411],\n",
       "  [1700240422228, 35961.40139342393],\n",
       "  [1700244130286, 36490.86224117981],\n",
       "  [1700247630716, 36492.57414669125],\n",
       "  [1700251262204, 36301.35425177167],\n",
       "  [1700254944887, 36522.74630566679],\n",
       "  [1700258535980, 36406.00134698672],\n",
       "  [1700262036860, 36546.96421848689],\n",
       "  [1700265771914, 36618.603212685804],\n",
       "  [1700269239794, 36422.4005120057],\n",
       "  [1700272934209, 36435.98908456511],\n",
       "  [1700276452763, 36427.59675017515],\n",
       "  [1700280046355, 36375.36086424323],\n",
       "  [1700283646329, 36420.503133352606],\n",
       "  [1700287270318, 36348.29105842537],\n",
       "  [1700290841392, 36283.87120142703],\n",
       "  [1700294526429, 36429.28685207062],\n",
       "  [1700298092133, 36470.088843324],\n",
       "  [1700301619005, 36402.80403786543],\n",
       "  [1700305261952, 36469.56168863435],\n",
       "  [1700308947891, 36434.144724931015],\n",
       "  [1700312430881, 36471.98868436398],\n",
       "  [1700316077749, 36451.862659168386],\n",
       "  [1700319742847, 36513.9006278419],\n",
       "  [1700323250715, 36689.87126018735],\n",
       "  [1700326881758, 36733.939773701015],\n",
       "  [1700330413831, 36636.030705664554],\n",
       "  [1700334110445, 36746.60953633107],\n",
       "  [1700337674155, 36692.866042648944],\n",
       "  [1700341255887, 36621.67239940781],\n",
       "  [1700344931633, 36568.579036778465],\n",
       "  [1700348448250, 36532.153607590735],\n",
       "  [1700352020836, 36588.255832804745],\n",
       "  [1700355657106, 36503.78343590226],\n",
       "  [1700359245135, 36506.96503516864],\n",
       "  [1700362817187, 36481.45052527601],\n",
       "  [1700366430518, 36518.91882982612],\n",
       "  [1700370060823, 36557.56930239484],\n",
       "  [1700373614315, 36525.19431003651],\n",
       "  [1700377216726, 36633.124621298855],\n",
       "  [1700380805788, 36623.74357507149],\n",
       "  [1700384419639, 36646.538903301014],\n",
       "  [1700388056335, 36651.52964230982],\n",
       "  [1700391626417, 36576.9978804993],\n",
       "  [1700395200582, 36469.89195084626],\n",
       "  [1700398885048, 36507.484202873035],\n",
       "  [1700402419176, 36489.69790548668],\n",
       "  [1700406008040, 36455.02842592002],\n",
       "  [1700409662058, 36575.22784249426],\n",
       "  [1700413298744, 36573.62206405465],\n",
       "  [1700416854242, 36575.05429494628],\n",
       "  [1700420459411, 36844.55888439244],\n",
       "  [1700424029061, 36978.09927850687],\n",
       "  [1700427604998, 36920.690186238084],\n",
       "  [1700431225668, 37030.31035337546],\n",
       "  [1700434840794, 36960.80556076372],\n",
       "  [1700438405448, 37413.99460790531],\n",
       "  [1700442002779, 37278.70425465546],\n",
       "  [1700445610466, 37297.77624372937],\n",
       "  [1700449231125, 37322.733299603904],\n",
       "  [1700452865577, 37106.63557113921],\n",
       "  [1700456484837, 37231.56857334532],\n",
       "  [1700460013335, 37147.203762634825],\n",
       "  [1700463646886, 37210.1094542998],\n",
       "  [1700467248952, 37267.75139103715],\n",
       "  [1700470808532, 37109.931783161046],\n",
       "  [1700474414090, 37214.94223860236],\n",
       "  [1700478038150, 37323.631210928055],\n",
       "  [1700481628029, 37161.87239254375],\n",
       "  [1700485211096, 37159.24601737388],\n",
       "  [1700488839738, 37113.05427051357],\n",
       "  [1700492470009, 37442.652846326775],\n",
       "  [1700496005519, 37487.37945434397],\n",
       "  [1700499665721, 37265.85927639003],\n",
       "  [1700503211815, 37610.48286832978],\n",
       "  [1700506814190, 37641.00141735154],\n",
       "  [1700510409949, 37602.763612962044],\n",
       "  [1700514010270, 37445.95234177782],\n",
       "  [1700517607622, 37428.90541708652],\n",
       "  [1700521221867, 37469.61749158779],\n",
       "  [1700524809896, 37489.298470802016],\n",
       "  [1700528404168, 37356.334423462744],\n",
       "  [1700532001890, 37561.27729892008],\n",
       "  [1700535608293, 37474.6289737818],\n",
       "  [1700539202832, 37476.50513018157],\n",
       "  [1700542801613, 37420.02154279264],\n",
       "  [1700546416476, 37358.92481586114],\n",
       "  [1700550010958, 37384.65925654388],\n",
       "  [1700553621584, 37277.27906051402],\n",
       "  [1700557224231, 37444.29994144533],\n",
       "  [1700560839464, 37345.15657929008],\n",
       "  [1700564441433, 37355.312569449154],\n",
       "  [1700568048318, 37193.69716039457],\n",
       "  [1700571638690, 37188.579814451135],\n",
       "  [1700575234297, 37019.2518141471],\n",
       "  [1700578806968, 36567.50916841365],\n",
       "  [1700582420914, 37120.74199596451],\n",
       "  [1700586049099, 37125.79383087718],\n",
       "  [1700589621037, 36980.46065303571],\n",
       "  [1700593254259, 36880.05824388846],\n",
       "  [1700596807606, 36986.640325460656],\n",
       "  [1700600413586, 36977.27155854253],\n",
       "  [1700604008815, 36795.84334523973],\n",
       "  [1700607626155, 36482.32215297025],\n",
       "  [1700611204859, 35965.36036068078],\n",
       "  [1700614807189, 36089.70808299363],\n",
       "  [1700618414971, 36098.95615911636],\n",
       "  [1700622020293, 36265.63606251733],\n",
       "  [1700625623836, 36406.10522746171],\n",
       "  [1700629221177, 36437.76256375309],\n",
       "  [1700632878596, 36360.71981634957],\n",
       "  [1700636460857, 36539.71914095118],\n",
       "  [1700640059006, 36455.16917374303],\n",
       "  [1700643670998, 36550.64833688672],\n",
       "  [1700647228544, 36684.38636537151],\n",
       "  [1700650814430, 36713.94887425185],\n",
       "  [1700654449568, 36481.28370163904],\n",
       "  [1700658011337, 36568.623490056474],\n",
       "  [1700661638911, 36633.678405629515],\n",
       "  [1700665263582, 36350.636197109525],\n",
       "  [1700668835682, 36472.43822105619],\n",
       "  [1700672432804, 36414.3773680605],\n",
       "  [1700676009340, 36570.420782393725],\n",
       "  [1700679640712, 37132.635217228104],\n",
       "  [1700683209433, 37279.241941175904],\n",
       "  [1700686805488, 37554.982662585884],\n",
       "  [1700690402858, 37548.61302248509],\n",
       "  [1700694063621, 37447.704620725824],\n",
       "  [1700697610154, 37464.83293220907],\n",
       "  [1700701200720, 37310.418354877744],\n",
       "  [1700704802257, 37445.71478544485],\n",
       "  [1700708410181, 37380.469745104085],\n",
       "  [1700712033689, 37308.61678149021],\n",
       "  [1700715621755, 37339.089223706076],\n",
       "  [1700719200790, 37332.83218640457],\n",
       "  [1700722823408, 37280.27850640637],\n",
       "  [1700726446973, 37366.33168514719],\n",
       "  [1700730006910, 37455.43569501218],\n",
       "  [1700733612890, 37642.766568877785],\n",
       "  [1700737220975, 37452.87610827765],\n",
       "  [1700740808039, 37317.939602032275],\n",
       "  [1700744414529, 37312.92554478364],\n",
       "  [1700748029152, 37259.64771995764],\n",
       "  [1700751634780, 37219.634494101614],\n",
       "  [1700755226763, 36979.10993608723],\n",
       "  [1700758810491, 37093.69986592985],\n",
       "  [1700762412930, 37153.120825669925],\n",
       "  [1700766052309, 37256.538097687306],\n",
       "  [1700769628496, 37314.64674858196],\n",
       "  [1700773209528, 37293.468510363324],\n",
       "  [1700776810457, 37298.06113147242],\n",
       "  [1700780439271, 37315.61310063634],\n",
       "  [1700784013053, 37293.316127426726],\n",
       "  [1700787614568, 37289.94527349014],\n",
       "  [1700791213431, 37398.167906803625],\n",
       "  [1700794847122, 37406.247477579294],\n",
       "  [1700798425463, 37347.96022847561],\n",
       "  [1700802011003, 37365.71923817851],\n",
       "  [1700805625502, 37395.90827506792],\n",
       "  [1700809239980, 37379.467490416195],\n",
       "  [1700812834339, 37496.92132716386],\n",
       "  [1700816431345, 37436.84535484026],\n",
       "  [1700820051641, 37625.47515761646],\n",
       "  [1700823642592, 37637.81821990924],\n",
       "  [1700827244430, 37799.85874760194],\n",
       "  [1700830831884, 37721.27737308314],\n",
       "  [1700834453000, 37779.131729484536],\n",
       "  [1700838056750, 37804.55731133284],\n",
       "  [1700841610669, 38189.655829505544],\n",
       "  [1700845207634, 37758.103819696225],\n",
       "  [1700848853869, 37834.992480078836],\n",
       "  [1700852446135, 37705.00717642783],\n",
       "  [1700856020725, 37800.85326928097],\n",
       "  [1700859647348, 37879.28207334728],\n",
       "  [1700863226985, 37841.92561759012],\n",
       "  [1700866864838, 37757.677579908384],\n",
       "  [1700870456017, 37738.93169747125],\n",
       "  [1700874033369, 37736.54681030877],\n",
       "  [1700877645718, 37803.52427387762],\n",
       "  [1700881219449, 37827.27932705619],\n",
       "  [1700884814025, 37804.76647832383],\n",
       "  [1700888417485, 37801.38886126128],\n",
       "  [1700892051973, 37820.24727366895],\n",
       "  [1700895646885, 37806.05244160949],\n",
       "  [1700899207086, 37831.33106264941],\n",
       "  [1700902882858, 37794.76842895799],\n",
       "  [1700906405981, 37748.79833357165],\n",
       "  [1700910042004, 37712.55622361436],\n",
       "  [1700913605663, 37653.772512871146],\n",
       "  [1700917202742, 37722.173733197844],\n",
       "  [1700920808977, 37749.83699182468],\n",
       "  [1700924405437, 37720.685112879284],\n",
       "  [1700928031380, 37722.59464293821],\n",
       "  [1700931658055, 37756.65341310771],\n",
       "  [1700935222605, 37797.85549133707],\n",
       "  [1700938887189, 37833.29737013529],\n",
       "  [1700942415782, 37842.74095748697],\n",
       "  [1700946018318, 37817.94179295441],\n",
       "  [1700949658590, 37807.40703002618],\n",
       "  [1700953206056, 37760.10455520974],\n",
       "  [1700956839899, 37800.28217309619],\n",
       "  [1700960422606, 37763.02703297583],\n",
       "  [1700964026050, 37705.02887240114],\n",
       "  [1700967645897, 37759.93974750907],\n",
       "  [1700971212535, 37754.70526488663],\n",
       "  [1700974846017, 37763.732858945266],\n",
       "  [1700978421380, 37793.64431403557],\n",
       "  [1700982041576, 37788.10244930057],\n",
       "  [1700985654229, 37812.43724553806],\n",
       "  [1700989228509, 37792.90092884676],\n",
       "  [1700992832278, 37777.892099231256],\n",
       "  [1700996431322, 37728.290528272344],\n",
       "  [1701000026518, 37686.93466932706],\n",
       "  [1701003603159, 37583.05840249476],\n",
       "  [1701007221952, 37482.57695014037],\n",
       "  [1701010801282, 37390.36318955521],\n",
       "  [1701014421089, 37419.91048390201],\n",
       "  [1701018063750, 37184.1521968419],\n",
       "  [1701021675072, 37277.07278556451],\n",
       "  [1701025218257, 37229.85088047136],\n",
       "  [1701028806125, 37321.06241885232],\n",
       "  [1701032403018, 37610.606849353484],\n",
       "  [1701036067032, 37651.86578364459],\n",
       "  [1701039647809, 37646.91333313132],\n",
       "  [1701043200903, 37479.4639007697],\n",
       "  [1701046800805, 37514.914425042676],\n",
       "  [1701050404033, 37493.67370201604],\n",
       "  [1701054064306, 37330.133345788345],\n",
       "  [1701057632483, 37318.30584731139],\n",
       "  [1701061247397, 37381.08565581846],\n",
       "  [1701064823132, 37344.83463883223],\n",
       "  [1701068441984, 37261.18076239171],\n",
       "  [1701072005821, 37286.01760264288],\n",
       "  [1701075609387, 37345.42222276443],\n",
       "  [1701079200273, 37456.8208086032],\n",
       "  [1701082828125, 37105.72526483829],\n",
       "  [1701086407215, 37153.393982179616],\n",
       "  [1701090043630, 37070.88096186102],\n",
       "  [1701093656771, 36852.04066154097],\n",
       "  [1701097220470, 36770.39889445873],\n",
       "  [1701100801436, 36822.44074613723],\n",
       "  [1701104460307, 37058.31561754113],\n",
       "  [1701108032217, 36918.99837698293],\n",
       "  [1701111635085, 36956.580633701255],\n",
       "  [1701115228247, 36886.50705537329],\n",
       "  [1701118830602, 36821.20749959725],\n",
       "  [1701122415198, 37010.074475659945],\n",
       "  [1701126027155, 37069.97426871866],\n",
       "  [1701129601792, 37275.70298263105],\n",
       "  [1701133200659, 37265.896934563476],\n",
       "  [1701136800715, 37224.82465955006],\n",
       "  [1701140411890, 37186.24705220994],\n",
       "  [1701144010921, 37133.160745663976],\n",
       "  [1701147609161, 37005.502651825765],\n",
       "  [1701151273985, 36930.718676559816],\n",
       "  [1701154854968, 37071.64933422501],\n",
       "  [1701158447984, 37116.67138301842],\n",
       "  [1701162019721, 36950.07645028676],\n",
       "  [1701165626535, 37101.48065349674],\n",
       "  [1701169236947, 37089.56810257802],\n",
       "  [1701172801958, 37226.8290786621],\n",
       "  [1701176412672, 37198.39977907306],\n",
       "  [1701180038369, 37433.766836494455],\n",
       "  [1701183609177, 37394.07643077547],\n",
       "  [1701187236732, 37498.44306463815],\n",
       "  [1701190827927, 37913.65188183311],\n",
       "  [1701194446179, 38170.41938875429],\n",
       "  [1701198110080, 38028.624156199294],\n",
       "  [1701201668574, 38261.22764442761],\n",
       "  [1701205217045, 38247.067863730925],\n",
       "  [1701208838597, 37986.86179095247],\n",
       "  [1701212421226, 37823.821220234415],\n",
       "  [1701216008297, 37802.23604377473],\n",
       "  [1701219613866, 37896.495876000896],\n",
       "  [1701223235403, 37963.24457231813],\n",
       "  [1701226858653, 37919.148111568866],\n",
       "  [1701230429964, 37927.545827586],\n",
       "  [1701234017723, 37918.65956045931],\n",
       "  [1701237604429, 38016.71960938207],\n",
       "  [1701241219647, 38189.71043871588],\n",
       "  [1701244813649, 38180.80133415089],\n",
       "  [1701248403367, 38329.03761090173],\n",
       "  [1701252060238, 38308.56019539666],\n",
       "  [1701255623416, 37952.806530482],\n",
       "  [1701259206604, 38165.99878207116],\n",
       "  [1701262803577, 38247.80903444624],\n",
       "  [1701266414693, 38154.816272782555],\n",
       "  [1701270004706, 37847.408905601485],\n",
       "  [1701273606316, 37853.04318282559],\n",
       "  [1701277229600, 37776.59552224862],\n",
       "  [1701280813945, 37833.07449689043],\n",
       "  [1701284411008, 37855.02048653006],\n",
       "  [1701288016676, 37830.37950137519],\n",
       "  [1701291612234, 37686.82572817117],\n",
       "  [1701295222282, 37720.56805996384],\n",
       "  [1701298860228, 37798.33697303296],\n",
       "  [1701302450158, 37810.34641654128],\n",
       "  [1701306048331, 37846.54624031292],\n",
       "  [1701309685039, 37707.41683816759],\n",
       "  [1701313207358, 37900.831548547896],\n",
       "  [1701316882464, 38049.71405708279],\n",
       "  [1701320461362, 37983.48982564399],\n",
       "  [1701324034633, 37883.492250512594],\n",
       "  [1701327619090, 37890.29622632359],\n",
       "  [1701331244416, 37789.336843645084],\n",
       "  [1701334867550, 37666.695097959906],\n",
       "  [1701338436044, 37702.55758118839],\n",
       "  [1701342011266, 37699.89617454001],\n",
       "  [1701345689729, 37870.39199235945],\n",
       "  [1701349215416, 37865.352690164786],\n",
       "  [1701352880811, 37779.33930176717],\n",
       "  [1701356407116, 37714.451780373376],\n",
       "  [1701360021425, 37550.7712513322],\n",
       "  [1701363661690, 37674.89543904984],\n",
       "  [1701367253584, 37746.35090844887],\n",
       "  [1701370805068, 37730.6450303125],\n",
       "  [1701374402634, 37791.6209042337],\n",
       "  [1701378095401, 37730.058074457644],\n",
       "  [1701381603981, 37758.36256606494],\n",
       "  [1701385209489, 37766.35189696482],\n",
       "  [1701388860292, 37711.81837585267],\n",
       "  [1701392480275, 37686.883493873145],\n",
       "  [1701396035411, 37952.97688055694],\n",
       "  [1701399631877, 37993.781301693336],\n",
       "  [1701403225630, 38056.21434006624],\n",
       "  [1701406813750, 38178.60076031328],\n",
       "  [1701410402840, 38126.257559346166],\n",
       "  [1701414010166, 38201.09522290106],\n",
       "  [1701417602903, 38274.23844638254],\n",
       "  [1701421200248, 38324.727041247694],\n",
       "  [1701424831967, 38716.51256230179],\n",
       "  [1701428440610, 38609.71030296244],\n",
       "  [1701432057151, 38588.98744301308],\n",
       "  [1701435619391, 38335.644889300376],\n",
       "  [1701439221191, 38383.450916895476],\n",
       "  [1701442879854, 38349.59336714379],\n",
       "  [1701446446143, 38425.64514173744],\n",
       "  [1701450017684, 38865.49348613761],\n",
       "  [1701453655964, 38788.45449703663],\n",
       "  [1701457284282, 38786.97239941792],\n",
       "  [1701460802878, 38765.03228493339],\n",
       "  [1701464413958, 38789.652274272914],\n",
       "  [1701468077211, 38879.988983613905],\n",
       "  [1701471616697, 38721.55637643629],\n",
       "  [1701475237950, 38688.25874179069],\n",
       "  [1701478862116, 38745.01599011696],\n",
       "  [1701482421337, 38771.861009602646],\n",
       "  [1701486024832, 38733.905087854655],\n",
       "  [1701489624150, 38791.576782986456],\n",
       "  [1701493205461, 38778.344824643966],\n",
       "  [1701496804280, 38821.27839554136],\n",
       "  [1701500403061, 38781.465775129866],\n",
       "  [1701504012507, 38759.838774804266],\n",
       "  [1701507606809, 38722.70728685683],\n",
       "  [1701511242639, 38801.858119236305],\n",
       "  [1701514854243, 38766.54151747684],\n",
       "  [1701518408706, 38764.9920600245],\n",
       "  [1701522043744, 38783.432560123816],\n",
       "  [1701525600315, 38849.23463806226],\n",
       "  [1701529217507, 38771.45031058555],\n",
       "  [1701532846893, 38818.73975587071],\n",
       "  [1701536464564, 38740.144970710855],\n",
       "  [1701540078610, 38809.024569185174],\n",
       "  [1701543657412, 38912.29920005041],\n",
       "  [1701547245759, 39345.44311863636],\n",
       "  [1701550875731, 39515.732720786174],\n",
       "  [1701554415534, 39680.220004704446],\n",
       "  [1701558084943, 39375.159354813426],\n",
       "  [1701561635455, 39481.666416062864],\n",
       "  [1701565226100, 39519.34785575302],\n",
       "  [1701568833529, 39511.22892311471],\n",
       "  [1701572466226, 39371.46506231928],\n",
       "  [1701576057952, 39389.70384842287],\n",
       "  [1701579661716, 39370.02891971165],\n",
       "  [1701583275484, 39428.67737229705],\n",
       "  [1701586824133, 39410.83861871465],\n",
       "  [1701590421055, 39492.1025382727],\n",
       "  [1701594012332, 39442.099724108666],\n",
       "  [1701597644616, 39439.6639078455],\n",
       "  [1701601239735, 39532.41221835202],\n",
       "  [1701604854884, 39486.46392935578],\n",
       "  [1701608405382, 39409.595113612915],\n",
       "  [1701612064065, 39746.05684044803],\n",
       "  [1701615613258, 39562.25999917687],\n",
       "  [1701619228718, 39760.2623228265],\n",
       "  [1701622841712, 39688.267153328394],\n",
       "  [1701626403859, 39533.18083504253],\n",
       "  [1701630047961, 39560.131245892335],\n",
       "  [1701633662795, 39543.81999170206],\n",
       "  [1701637280778, 39578.90935426123],\n",
       "  [1701640873079, 39752.69240586973],\n",
       "  [1701644436387, 40071.671214636764],\n",
       "  [1701648051563, 39999.14277837668],\n",
       "  [1701651611171, 40206.905880333805],\n",
       "  [1701655203325, 40746.81195194034],\n",
       "  [1701658809615, 40681.985448230815],\n",
       "  [1701662410907, 40742.35328414733],\n",
       "  [1701666009354, 40866.796814265814],\n",
       "  [1701669635356, 41375.34893286266],\n",
       "  [1701673212789, 41409.318944062514],\n",
       "  [1701676830522, 41432.38068485252],\n",
       "  [1701680421462, 41693.78409343339],\n",
       "  [1701684010616, 41636.995007524936],\n",
       "  [1701687633626, 42008.48490210153],\n",
       "  [1701691213697, 41622.87175618215],\n",
       "  [1701694817667, 41785.69097467152],\n",
       "  [1701698455572, 41767.73523829736],\n",
       "  [1701702014181, 41636.777838177615],\n",
       "  [1701705662497, 41261.26187984762],\n",
       "  [1701709230460, 41543.32992258695],\n",
       "  [1701712813030, 41596.505521581465],\n",
       "  [1701716406630, 41736.91177926652],\n",
       "  [1701720002341, 41903.07658106982],\n",
       "  [1701723607951, 41761.825735036175],\n",
       "  [1701727206174, 41932.1761443509],\n",
       "  [1701730819585, 41925.569045271164],\n",
       "  [1701734458763, 41985.05643054763],\n",
       "  [1701738025931, 41892.30568414858],\n",
       "  [1701741614596, 41834.54382511119],\n",
       "  [1701745251741, 41733.99456113161],\n",
       "  [1701748865708, 41771.427116477666],\n",
       "  [1701752410644, 41779.76286436433],\n",
       "  [1701756002773, 41907.14135655048],\n",
       "  [1701759607093, 41720.04054226303],\n",
       "  [1701763205954, 41528.838930401165],\n",
       "  [1701766834620, 41619.54179198166],\n",
       "  [1701770445440, 41719.55696442351],\n",
       "  [1701774019809, 41688.85473566735],\n",
       "  [1701777661171, 41732.733222462906],\n",
       "  [1701781250770, 41864.37115219754],\n",
       "  [1701784813497, 41850.27349166447],\n",
       "  [1701788450897, 42117.57166153031],\n",
       "  [1701792022612, 42281.57399093059],\n",
       "  [1701795602097, 42694.49578039032],\n",
       "  [1701799298115, 43407.18988409029],\n",
       "  [1701802876904, 43717.871172531464],\n",
       "  [1701806458739, 43793.743516859664],\n",
       "  [1701810041229, 43752.536813083076],\n",
       "  [1701813636853, 44038.3773951916],\n",
       "  [1701817206444, 44313.5688067047],\n",
       "  [1701820841695, 44105.94477259938],\n",
       "  [1701824488429, 44084.07542946641],\n",
       "  [1701828080417, 43890.1725456299],\n",
       "  [1701831657786, 43853.15503176022],\n",
       "  [1701835251849, 43725.79279287818],\n",
       "  [1701838822939, 43759.93874031614],\n",
       "  [1701842437215, 43647.56990366777],\n",
       "  [1701846079226, 43613.25858429163],\n",
       "  [1701849600590, 43700.47163804608],\n",
       "  [1701853210855, 43830.09830285976],\n",
       "  [1701856806473, 43919.23914241112],\n",
       "  [1701860403763, 44068.522598662625],\n",
       "  [1701864042135, 43835.07913180642],\n",
       "  [1701867633869, 44070.619677976836],\n",
       "  [1701871205627, 44123.75642200011],\n",
       "  [1701874810159, 44084.59699545886],\n",
       "  [1701878417153, 43774.17848906289],\n",
       "  [1701882005724, 43830.406264064164],\n",
       "  [1701885603341, 44026.879581062705],\n",
       "  [1701889223114, 43941.442351835816],\n",
       "  [1701892814214, 44017.505223580854],\n",
       "  [1701896419562, 43876.81941256845],\n",
       "  [1701900011308, 43824.256902592155],\n",
       "  [1701903600189, 43634.9044842414],\n",
       "  [1701907207579, 43788.28880825234],\n",
       "  [1701910822955, 43840.39396879242],\n",
       "  [1701914429262, 43914.485116075564],\n",
       "  [1701918006981, 43975.42782937081],\n",
       "  [1701921612594, 43914.50403665742],\n",
       "  [1701925223750, 43985.76702287833],\n",
       "  [1701928859311, 43983.83364085532],\n",
       "  [1701932417246, 43876.01905224208],\n",
       "  [1701936028612, 43914.510795354676],\n",
       "  [1701939635403, 43637.9456245303],\n",
       "  [1701943265221, 43422.577584515966],\n",
       "  [1701946835962, 43178.29915588401],\n",
       "  [1701950407793, 43231.10412076097],\n",
       "  [1701954012148, 43319.006727940316],\n",
       "  [1701957633405, 43268.742623633174],\n",
       "  [1701961208498, 43480.92990610841],\n",
       "  [1701964811163, 43707.9881922381],\n",
       "  [1701968436684, 43686.935181568064],\n",
       "  [1701972030597, 43321.512329799174],\n",
       "  [1701975612377, 43288.23234764201],\n",
       "  [1701979212125, 43158.79442501625],\n",
       "  [1701982842313, 43234.89391741567],\n",
       "  [1701986414137, 43377.592325683276],\n",
       "  [1701990021661, 43166.048404404966],\n",
       "  [1701993650506, 43270.11955970747],\n",
       "  [1701997253016, 43382.56326133669],\n",
       "  [1702000810954, 43396.43772710228],\n",
       "  [1702004451503, 43512.27963831054],\n",
       "  [1702008006624, 43389.520293612215],\n",
       "  [1702011609960, 43470.02565791358],\n",
       "  [1702015205081, 43427.5014450611],\n",
       "  [1702018808843, 43360.89817301741],\n",
       "  [1702022413758, 43207.56300245892],\n",
       "  [1702026008550, 43248.20340119713],\n",
       "  [1702029611975, 43174.14096733939],\n",
       "  [1702033215201, 43329.93272271259],\n",
       "  [1702036813759, 43659.830608952616],\n",
       "  [1702040404336, 43794.25619153226],\n",
       "  [1702044014877, 43633.412709203716],\n",
       "  [1702047609452, 43937.59163050896],\n",
       "  [1702051204598, 43819.98586201575],\n",
       "  [1702054812888, 43832.78035618881],\n",
       "  [1702058401198, 43734.95670481345],\n",
       "  [1702063008000, 43833.021784014905]],\n",
       " 'market_caps': [[1699470055725, 694892905085.6917],\n",
       "  [1699473607269, 698346121004.1127],\n",
       "  [1699477207536, 695245373930.0419],\n",
       "  [1699480862074, 695648537559.417],\n",
       "  [1699484440274, 700144921884.6588],\n",
       "  [1699488050882, 699187515031.6934],\n",
       "  [1699491633695, 700030599870.4746],\n",
       "  [1699495256063, 704508993085.4456],\n",
       "  [1699498827827, 708668090225.4269],\n",
       "  [1699502428461, 712898685836.7467],\n",
       "  [1699506026040, 718806529054.8922],\n",
       "  [1699509641022, 715985734557.4633],\n",
       "  [1699513211042, 718546543944.8633],\n",
       "  [1699516837592, 714711655921.2881],\n",
       "  [1699520417073, 715771883455.5245],\n",
       "  [1699524050598, 717590915350.6156],\n",
       "  [1699527605725, 720282689359.5916],\n",
       "  [1699531251866, 718997287890.3859],\n",
       "  [1699534810907, 722174924083.8044],\n",
       "  [1699538449646, 723266589894.4929],\n",
       "  [1699542064170, 736646527271.6228],\n",
       "  [1699545618254, 729320207429.4017],\n",
       "  [1699549209002, 711867186455.1934],\n",
       "  [1699552805043, 713195493542.5829],\n",
       "  [1699556460765, 712067545579.7306],\n",
       "  [1699560006675, 708439323219.3649],\n",
       "  [1699563655858, 714154525118.3561],\n",
       "  [1699567258895, 713212067597.3329],\n",
       "  [1699570809872, 715485675421.4493],\n",
       "  [1699574443278, 717022051490.4104],\n",
       "  [1699578012981, 714083799472.3528],\n",
       "  [1699581660691, 716916032323.1144],\n",
       "  [1699585245636, 720254557291.3931],\n",
       "  [1699588805469, 718713500228.4998],\n",
       "  [1699592420039, 716469123083.6641],\n",
       "  [1699596030763, 717053463907.6008],\n",
       "  [1699599675395, 716178350640.82],\n",
       "  [1699603234365, 713219118403.1853],\n",
       "  [1699606851242, 713257950165.9899],\n",
       "  [1699610460723, 713787194767.0852],\n",
       "  [1699614011661, 714805255633.0394],\n",
       "  [1699617668736, 724566228879.6759],\n",
       "  [1699621311575, 725060961106.6473],\n",
       "  [1699624801802, 726768095097.5459],\n",
       "  [1699628437243, 724857511826.5607],\n",
       "  [1699632079315, 724724458046.495],\n",
       "  [1699635605424, 728763217030.9766],\n",
       "  [1699639215520, 726390939309.0022],\n",
       "  [1699642836642, 728004434374.8969],\n",
       "  [1699646435552, 728730812164.6102],\n",
       "  [1699650065325, 728024188774.7032],\n",
       "  [1699653609444, 729446193115.0319],\n",
       "  [1699657279439, 727886384513.0508],\n",
       "  [1699660822673, 730760729870.4996],\n",
       "  [1699664407897, 728781085218.8422],\n",
       "  [1699668017354, 726871177441.3071],\n",
       "  [1699671667132, 725522245088.2407],\n",
       "  [1699675276344, 724208827696.8528],\n",
       "  [1699678809972, 725012816272.3375],\n",
       "  [1699682462249, 725412920952.2665],\n",
       "  [1699686067341, 725752137087.5624],\n",
       "  [1699689625497, 723017128682.3014],\n",
       "  [1699693208569, 722817110704.3535],\n",
       "  [1699696808781, 723420833761.1122],\n",
       "  [1699700408192, 722489835840.1409],\n",
       "  [1699704060796, 723139142895.6288],\n",
       "  [1699707677910, 725034381516.2614],\n",
       "  [1699711209736, 726011025358.0679],\n",
       "  [1699714844598, 727869331011.0371],\n",
       "  [1699718409686, 725252912951.4668],\n",
       "  [1699722042480, 726294132182.0917],\n",
       "  [1699725607999, 725675475322.4221],\n",
       "  [1699729206577, 725950789529.8141],\n",
       "  [1699732809825, 726630117011.0371],\n",
       "  [1699736436217, 723843605315.7148],\n",
       "  [1699740062540, 722260788613.2699],\n",
       "  [1699743648800, 721960454300.7924],\n",
       "  [1699747267870, 720323851790.6948],\n",
       "  [1699750866625, 721293028939.259],\n",
       "  [1699754457722, 722438261783.5957],\n",
       "  [1699758055845, 721601376503.9866],\n",
       "  [1699761663410, 722976404482.4375],\n",
       "  [1699765216368, 722294998306.8646],\n",
       "  [1699768805299, 725046070101.0544],\n",
       "  [1699772460674, 726055542550.5455],\n",
       "  [1699776063613, 725768867211.4728],\n",
       "  [1699779665339, 725395151381.5762],\n",
       "  [1699783262263, 724568015837.2887],\n",
       "  [1699786856896, 725717143439.3523],\n",
       "  [1699790474716, 725099059119.5052],\n",
       "  [1699794007105, 723878170979.3304],\n",
       "  [1699797629568, 724637527534.216],\n",
       "  [1699801253721, 725491904970.556],\n",
       "  [1699804820788, 726685555768.3258],\n",
       "  [1699808446641, 725707766892.5433],\n",
       "  [1699812056988, 724809082254.2981],\n",
       "  [1699815652360, 726977579735.0432],\n",
       "  [1699819203055, 725361486680.273],\n",
       "  [1699822828910, 725757996427.379],\n",
       "  [1699826435994, 726912483295.3557],\n",
       "  [1699830006568, 726293338886.9337],\n",
       "  [1699833609406, 725016899532.0363],\n",
       "  [1699837201753, 725989270150.9623],\n",
       "  [1699840805860, 727298420473.6915],\n",
       "  [1699844469425, 727505254810.1543],\n",
       "  [1699848000360, 723691637274.5006],\n",
       "  [1699851613436, 722019203439.9698],\n",
       "  [1699855251551, 721414756015.2549],\n",
       "  [1699858854857, 719635752790.679],\n",
       "  [1699862435350, 723200987506.2058],\n",
       "  [1699866010309, 723743450480.1035],\n",
       "  [1699869625792, 723863151385.7385],\n",
       "  [1699873207704, 723172289932.0177],\n",
       "  [1699876816125, 719255951620.1388],\n",
       "  [1699880421297, 721083165528.9391],\n",
       "  [1699884025820, 719907431604.8015],\n",
       "  [1699887622789, 716259568158.6519],\n",
       "  [1699891249067, 719574084118.7437],\n",
       "  [1699894844357, 721839598934.7098],\n",
       "  [1699898451757, 716082516517.0142],\n",
       "  [1699902046232, 718145259209.2181],\n",
       "  [1699905610198, 719543158714.5568],\n",
       "  [1699909263032, 720139293848.409],\n",
       "  [1699912861788, 714091309612.9341],\n",
       "  [1699916421618, 714334866023.6749],\n",
       "  [1699920013347, 714263437353.6985],\n",
       "  [1699923629685, 709459177492.093],\n",
       "  [1699927213716, 710403579097.1832],\n",
       "  [1699930803936, 712281355170.3137],\n",
       "  [1699934420157, 712925405485.4333],\n",
       "  [1699938035398, 713862571576.1606],\n",
       "  [1699941642190, 715448013990.5137],\n",
       "  [1699945200674, 716405726320.9834],\n",
       "  [1699948836957, 716885305168.3712],\n",
       "  [1699952418326, 716902338377.8032],\n",
       "  [1699956077456, 713649414332.8582],\n",
       "  [1699959643774, 712416399308.3058],\n",
       "  [1699963207970, 709151817461.7238],\n",
       "  [1699966804409, 710283423603.111],\n",
       "  [1699970456165, 714426064013.6605],\n",
       "  [1699974007932, 716195234788.2324],\n",
       "  [1699977654523, 707653869229.0084],\n",
       "  [1699981231038, 710581414091.3779],\n",
       "  [1699984857344, 707356613619.3849],\n",
       "  [1699988448246, 697044522766.289],\n",
       "  [1699992040339, 690468003694.616],\n",
       "  [1699995604322, 689562995689.1248],\n",
       "  [1699999268405, 693685449321.2109],\n",
       "  [1700002807037, 695571048184.7427],\n",
       "  [1700006470759, 694845286838.959],\n",
       "  [1700010001613, 694515760212.7773],\n",
       "  [1700013610831, 692782623723.7058],\n",
       "  [1700017247343, 693564832582.5199],\n",
       "  [1700020848147, 691567294189.3973],\n",
       "  [1700024476515, 695268937089.2412],\n",
       "  [1700028053982, 696103476257.0056],\n",
       "  [1700031611420, 696171585041.9476],\n",
       "  [1700035203820, 695960534347.607],\n",
       "  [1700038810213, 699530943556.9318],\n",
       "  [1700042428897, 700007039101.8088],\n",
       "  [1700046041685, 700141191102.5771],\n",
       "  [1700049694283, 706978596655.4636],\n",
       "  [1700053214857, 709016206283.4786],\n",
       "  [1700056813688, 705898615625.9666],\n",
       "  [1700060444334, 705920775092.7812],\n",
       "  [1700064070479, 711308492548.5565],\n",
       "  [1700067635080, 711127910842.9835],\n",
       "  [1700071243958, 712153085748.26],\n",
       "  [1700074850288, 730796934189.0735],\n",
       "  [1700078413265, 729585098788.0287],\n",
       "  [1700082004733, 732809838529.093],\n",
       "  [1700085656795, 737004857100.0205],\n",
       "  [1700089237390, 739063126880.1254],\n",
       "  [1700092806552, 739215831747.2646],\n",
       "  [1700096421115, 740076399759.2883],\n",
       "  [1700100021666, 733775747740.1516],\n",
       "  [1700103643057, 734013920865.8214],\n",
       "  [1700107238252, 731835841701.9966],\n",
       "  [1700110858012, 732207329604.5045],\n",
       "  [1700114468080, 731170227346.9384],\n",
       "  [1700118007765, 733036056534.4211],\n",
       "  [1700121631687, 732605614062.0847],\n",
       "  [1700125316095, 730299150480.6096],\n",
       "  [1700128899893, 728648992147.3856],\n",
       "  [1700132439360, 729216319762.1622],\n",
       "  [1700136081384, 730262839016.0072],\n",
       "  [1700139706974, 727379168903.3582],\n",
       "  [1700143245932, 718488897276.3656],\n",
       "  [1700146901982, 719387014985.0295],\n",
       "  [1700150447161, 712617732532.0226],\n",
       "  [1700154024908, 714121021044.567],\n",
       "  [1700157637264, 714331349765.1924],\n",
       "  [1700161302766, 706852510682.0891],\n",
       "  [1700164933727, 700819799503.2876],\n",
       "  [1700168512969, 704332633986.0889],\n",
       "  [1700172129879, 703389352963.927],\n",
       "  [1700175693415, 707250707136.7368],\n",
       "  [1700179284891, 707721483716.2158],\n",
       "  [1700182805320, 710488024576.9281],\n",
       "  [1700186437641, 712367558076.4867],\n",
       "  [1700190036190, 712101003922.108],\n",
       "  [1700193752487, 713627909447.8794],\n",
       "  [1700197223563, 713926479939.1573],\n",
       "  [1700200805708, 709347956382.6101],\n",
       "  [1700204454927, 711794343402.8824],\n",
       "  [1700208023152, 709382979705.2157],\n",
       "  [1700211622070, 711510222434.834],\n",
       "  [1700215208235, 709679601376.8137],\n",
       "  [1700218813678, 707799674091.5505],\n",
       "  [1700222517617, 711599616900.1934],\n",
       "  [1700226059855, 711741239124.012],\n",
       "  [1700229640552, 710914653243.9392],\n",
       "  [1700233326935, 704934826353.2664],\n",
       "  [1700236960967, 704710597235.6061],\n",
       "  [1700240422228, 702863380142.8623],\n",
       "  [1700244130286, 712538026873.3429],\n",
       "  [1700247630716, 711088229832.6115],\n",
       "  [1700251262204, 709700178920.8661],\n",
       "  [1700254944887, 711172821923.5045],\n",
       "  [1700258535980, 711477631057.6162],\n",
       "  [1700262036860, 713963753512.399],\n",
       "  [1700265771914, 714651953916.8749],\n",
       "  [1700269239794, 711717950668.9121],\n",
       "  [1700272934209, 712296207479.732],\n",
       "  [1700276452763, 711778709430.8639],\n",
       "  [1700280046355, 711067436629.9644],\n",
       "  [1700283646329, 711678068076.5848],\n",
       "  [1700287270318, 710462830097.9017],\n",
       "  [1700290841392, 709149307101.0552],\n",
       "  [1700294526429, 712090089050.0992],\n",
       "  [1700298092133, 712649904776.0309],\n",
       "  [1700301619005, 711627080474.2672],\n",
       "  [1700305261952, 712145135444.1088],\n",
       "  [1700308947891, 712430090348.5824],\n",
       "  [1700312430881, 713225106773.5168],\n",
       "  [1700316077749, 711948939964.1512],\n",
       "  [1700319742847, 713717441270.8428],\n",
       "  [1700323250715, 715931371366.3542],\n",
       "  [1700326881758, 717888183414.4313],\n",
       "  [1700330413831, 716120006483.5898],\n",
       "  [1700334110445, 718231510084.0651],\n",
       "  [1700337674155, 716999259585.2296],\n",
       "  [1700341255887, 716166292570.7515],\n",
       "  [1700344931633, 715020651236.863],\n",
       "  [1700348448250, 714047632621.4469],\n",
       "  [1700352020836, 715117663450.342],\n",
       "  [1700355657106, 713743574225.1763],\n",
       "  [1700359245135, 713370911759.7239],\n",
       "  [1700362817187, 713153633831.0271],\n",
       "  [1700366430518, 713766819462.1766],\n",
       "  [1700370060823, 714569530648.578],\n",
       "  [1700373614315, 714369674966.8351],\n",
       "  [1700377216726, 716372510418.1971],\n",
       "  [1700380805788, 716190028815.3921],\n",
       "  [1700384419639, 716265937583.884],\n",
       "  [1700388056335, 716874120387.249],\n",
       "  [1700391626417, 715307996319.8595],\n",
       "  [1700395200582, 713287477648.4998],\n",
       "  [1700398885048, 713641824451.4009],\n",
       "  [1700402419176, 713654951645.7307],\n",
       "  [1700406008040, 713324121623.2201],\n",
       "  [1700409662058, 714933893849.2483],\n",
       "  [1700413298744, 714900920885.689],\n",
       "  [1700416854242, 714687442889.3271],\n",
       "  [1700420459411, 720856240335.2024],\n",
       "  [1700424029061, 722827547776.4862],\n",
       "  [1700427604998, 721762228085.7555],\n",
       "  [1700431225668, 722747237925.9027],\n",
       "  [1700434840794, 723169274108.3904],\n",
       "  [1700438405448, 732521837352.2426],\n",
       "  [1700442002779, 729155013724.5697],\n",
       "  [1700445610466, 730237668943.764],\n",
       "  [1700449231125, 729372426581.8977],\n",
       "  [1700452865577, 724984469312.9192],\n",
       "  [1700456484837, 727785869691.0165],\n",
       "  [1700460013335, 724569702702.0938],\n",
       "  [1700463646886, 727253287098.9235],\n",
       "  [1700467248952, 727278538359.2037],\n",
       "  [1700470808532, 725141314741.4088],\n",
       "  [1700474414090, 726037690708.0759],\n",
       "  [1700478038150, 729879689086.9009],\n",
       "  [1700481628029, 725946639048.7672],\n",
       "  [1700485211096, 726296053158.7278],\n",
       "  [1700488839738, 725514191614.7656],\n",
       "  [1700492470009, 728380395231.1749],\n",
       "  [1700496005519, 731910638768.5397],\n",
       "  [1700499665721, 729478809453.4148],\n",
       "  [1700503211815, 737210196553.4681],\n",
       "  [1700506814190, 733414338043.6998],\n",
       "  [1700510409949, 736123176830.158],\n",
       "  [1700514010270, 732683196510.0806],\n",
       "  [1700517607622, 730873519989.3345],\n",
       "  [1700521221867, 730841699455.3351],\n",
       "  [1700524809896, 732673492672.5168],\n",
       "  [1700528404168, 730496524871.0603],\n",
       "  [1700532001890, 734898397992.7874],\n",
       "  [1700535608293, 733799792661.4766],\n",
       "  [1700539202832, 733282967620.5526],\n",
       "  [1700542801613, 732078018158.8002],\n",
       "  [1700546416476, 730749086896.1782],\n",
       "  [1700550010958, 731105983242.8395],\n",
       "  [1700553621584, 729692001798.5396],\n",
       "  [1700557224231, 731178256917.2283],\n",
       "  [1700560839464, 730258612509.7756],\n",
       "  [1700564441433, 731166190015.371],\n",
       "  [1700568048318, 727238185482.7408],\n",
       "  [1700571638690, 726682927363.4209],\n",
       "  [1700575234297, 724424685993.9208],\n",
       "  [1700578806968, 716790620487.695],\n",
       "  [1700582420914, 722783458489.3179],\n",
       "  [1700586049099, 723934674103.9802],\n",
       "  [1700589621037, 722669163470.7803],\n",
       "  [1700593254259, 720967078447.9117],\n",
       "  [1700596807606, 724636837413.0917],\n",
       "  [1700600413586, 722958685214.9468],\n",
       "  [1700604008815, 719579910717.2133],\n",
       "  [1700607626155, 715025710219.3999],\n",
       "  [1700611204859, 702705880301.6978],\n",
       "  [1700614807189, 703705616166.7693],\n",
       "  [1700618414971, 707142453239.0448],\n",
       "  [1700622020293, 707436532225.3279],\n",
       "  [1700625623836, 711292129372.1873],\n",
       "  [1700629221177, 712248648693.6285],\n",
       "  [1700632878596, 711031190407.1991],\n",
       "  [1700636460857, 714262058391.7305],\n",
       "  [1700640059006, 712905427948.7134],\n",
       "  [1700643670998, 713151355010.905],\n",
       "  [1700647228544, 716329669875.0864],\n",
       "  [1700650814430, 716175792780.3174],\n",
       "  [1700654449568, 713893982989.4171],\n",
       "  [1700658011337, 714860239458.0249],\n",
       "  [1700661638911, 714800795128.0275],\n",
       "  [1700665263582, 712641649288.2701],\n",
       "  [1700668835682, 713196579405.7576],\n",
       "  [1700672432804, 711459174224.6558],\n",
       "  [1700676009340, 714863052808.1129],\n",
       "  [1700679640712, 725668125552.0198],\n",
       "  [1700683209433, 727980093695.394],\n",
       "  [1700686805488, 733975587000.3395],\n",
       "  [1700690402858, 736184241903.5018],\n",
       "  [1700694063621, 731769922552.3353],\n",
       "  [1700697610154, 732259726682.3702],\n",
       "  [1700701200720, 730479659850.2651],\n",
       "  [1700704802257, 732326088210.4572],\n",
       "  [1700708410181, 730289885034.1357],\n",
       "  [1700712033689, 729981686022.1599],\n",
       "  [1700715621755, 731070617310.257],\n",
       "  [1700719200790, 729567120337.6464],\n",
       "  [1700722823408, 728972663594.7244],\n",
       "  [1700726446973, 730323954413.3757],\n",
       "  [1700730006910, 732610318877.0887],\n",
       "  [1700733612890, 733875615401.7672],\n",
       "  [1700737220975, 733037792691.1991],\n",
       "  [1700740808039, 729735154966.9949],\n",
       "  [1700744414529, 729188538677.6772],\n",
       "  [1700748029152, 728396043386.3889],\n",
       "  [1700751634780, 727907660921.6508],\n",
       "  [1700755226763, 723510386098.6447],\n",
       "  [1700758810491, 725984304521.0607],\n",
       "  [1700762412930, 727741046623.2739],\n",
       "  [1700766052309, 728442175308.7472],\n",
       "  [1700769628496, 728578099155.3248],\n",
       "  [1700773209528, 729269555876.8556],\n",
       "  [1700776810457, 728531593981.451],\n",
       "  [1700780439271, 728264940450.9712],\n",
       "  [1700784013053, 728816537112.472],\n",
       "  [1700787614568, 729751395156.9624],\n",
       "  [1700791213431, 731930803949.4094],\n",
       "  [1700794847122, 731630295812.438],\n",
       "  [1700798425463, 730488765438.8038],\n",
       "  [1700802011003, 730159997441.2783],\n",
       "  [1700805625502, 731109298416.1208],\n",
       "  [1700809239980, 731300282895.3624],\n",
       "  [1700812834339, 732542739356.8916],\n",
       "  [1700816431345, 732455818693.8536],\n",
       "  [1700820051641, 735486241606.6328],\n",
       "  [1700823642592, 737858506909.2274],\n",
       "  [1700827244430, 741002452877.3777],\n",
       "  [1700830831884, 738780734650.0063],\n",
       "  [1700834453000, 738395878984.2897],\n",
       "  [1700838056750, 737363442246.3668],\n",
       "  [1700841610669, 747220371144.0387],\n",
       "  [1700845207634, 741147441959.3009],\n",
       "  [1700848853869, 739703095681.675],\n",
       "  [1700852446135, 736826407764.9788],\n",
       "  [1700856020725, 738554247273.3003],\n",
       "  [1700859647348, 740099627472.7102],\n",
       "  [1700863226985, 740722075693.3179],\n",
       "  [1700866864838, 738401262627.3634],\n",
       "  [1700870456017, 737614054534.8141],\n",
       "  [1700874033369, 738528332357.896],\n",
       "  [1700877645718, 739211379645.6122],\n",
       "  [1700881219449, 739757033385.4128],\n",
       "  [1700884814025, 739358542082.5823],\n",
       "  [1700888417485, 738640069812.3998],\n",
       "  [1700892051973, 739407891735.1124],\n",
       "  [1700895646885, 739487426656.6038],\n",
       "  [1700899207086, 739815095679.0536],\n",
       "  [1700902882858, 738984106645.2706],\n",
       "  [1700906405981, 738499176580.3662],\n",
       "  [1700910042004, 736923320495.1598],\n",
       "  [1700913605663, 735697336652.6045],\n",
       "  [1700917202742, 737541217315.9678],\n",
       "  [1700920808977, 739091222284.4325],\n",
       "  [1700924405437, 736776368287.3135],\n",
       "  [1700928031380, 737579606368.6282],\n",
       "  [1700931658055, 738217180156.5532],\n",
       "  [1700935222605, 739464809410.7317],\n",
       "  [1700938887189, 739626183523.169],\n",
       "  [1700942415782, 739398106870.003],\n",
       "  [1700946018318, 738726484748.4401],\n",
       "  [1700949658590, 739248229658.1019],\n",
       "  [1700953206056, 738067522203.7532],\n",
       "  [1700956839899, 739536714717.2401],\n",
       "  [1700960422606, 738859187217.1183],\n",
       "  [1700964026050, 737890274465.5712],\n",
       "  [1700967645897, 738111649904.8872],\n",
       "  [1700971212535, 738186318897.7688],\n",
       "  [1700974846017, 738397241586.2368],\n",
       "  [1700978421380, 738943966621.9261],\n",
       "  [1700982041576, 738790360041.3245],\n",
       "  [1700985654229, 739030898616.0135],\n",
       "  [1700989228509, 738998810923.7156],\n",
       "  [1700992832278, 738534771698.5413],\n",
       "  [1700996431322, 737708153117.3033],\n",
       "  [1701000026518, 737408600607.7942],\n",
       "  [1701003603159, 735159261319.7808],\n",
       "  [1701007221952, 732260655571.1038],\n",
       "  [1701010801282, 731754327161.1399],\n",
       "  [1701014421089, 732664188026.1243],\n",
       "  [1701018063750, 728341959001.3248],\n",
       "  [1701021675072, 728907493907.5516],\n",
       "  [1701025218257, 727587098616.4115],\n",
       "  [1701028806125, 729977555024.2446],\n",
       "  [1701032403018, 736041460137.636],\n",
       "  [1701036067032, 735220427167.3292],\n",
       "  [1701039647809, 736737859884.7415],\n",
       "  [1701043200903, 733376783676.3198],\n",
       "  [1701046800805, 734118231164.131],\n",
       "  [1701050404033, 733189286461.842],\n",
       "  [1701054064306, 729078858032.716],\n",
       "  [1701057632483, 729011821282.8927],\n",
       "  [1701061247397, 730700145512.8545],\n",
       "  [1701064823132, 730164985353.26],\n",
       "  [1701068441984, 731143340901.6216],\n",
       "  [1701072005821, 728638761598.6709],\n",
       "  [1701075609387, 730214743970.0459],\n",
       "  [1701079200273, 732494401746.4883],\n",
       "  [1701082828125, 725011881560.9376],\n",
       "  [1701086407215, 725728676814.463],\n",
       "  [1701090043630, 724730594167.845],\n",
       "  [1701093656771, 720836901366.7322],\n",
       "  [1701097220470, 720504826921.989],\n",
       "  [1701100801436, 720251210803.1866],\n",
       "  [1701104460307, 725099290996.8156],\n",
       "  [1701108032217, 724463538367.051],\n",
       "  [1701111635085, 724471711446.3768],\n",
       "  [1701115228247, 720301481400.4117],\n",
       "  [1701118830602, 720636635544.8125],\n",
       "  [1701122415198, 723353735357.3595],\n",
       "  [1701126027155, 724565040100.6731],\n",
       "  [1701129601792, 728040168286.0479],\n",
       "  [1701133200659, 729575387882.7166],\n",
       "  [1701136800715, 727626086293.1699],\n",
       "  [1701140411890, 727827745680.5131],\n",
       "  [1701144010921, 725824654728.2382],\n",
       "  [1701147609161, 724177254696.2706],\n",
       "  [1701151273985, 722576128119.8816],\n",
       "  [1701154854968, 724423144618.8793],\n",
       "  [1701158447984, 725820220562.0635],\n",
       "  [1701162019721, 723418002401.5138],\n",
       "  [1701165626535, 726104887453.371],\n",
       "  [1701169236947, 724299806750.9268],\n",
       "  [1701172801958, 727437465105.7953],\n",
       "  [1701176412672, 727900058540.6605],\n",
       "  [1701180038369, 729721643972.4465],\n",
       "  [1701183609177, 731974088136.6364],\n",
       "  [1701187236732, 733112329034.2262],\n",
       "  [1701190827927, 740125825203.2213],\n",
       "  [1701194446179, 747854639950.5402],\n",
       "  [1701198110080, 745110255039.5009],\n",
       "  [1701201668574, 745434334834.0841],\n",
       "  [1701205217045, 747491534669.8774],\n",
       "  [1701208838597, 743192304289.5461],\n",
       "  [1701212421226, 742452968575.9263],\n",
       "  [1701216008297, 738816928726.5587],\n",
       "  [1701219613866, 740879641993.8813],\n",
       "  [1701223235403, 743007977787.0801],\n",
       "  [1701226858653, 740523268907.7195],\n",
       "  [1701230429964, 741555279992.5107],\n",
       "  [1701234017723, 741337598081.9281],\n",
       "  [1701237604429, 742578112878.7299],\n",
       "  [1701241219647, 745264819693.9081],\n",
       "  [1701244813649, 745657306072.1417],\n",
       "  [1701248403367, 747951015614.4814],\n",
       "  [1701252060238, 748720178262.0339],\n",
       "  [1701255623416, 742346155063.9486],\n",
       "  [1701259206604, 746406181510.3445],\n",
       "  [1701262803577, 747960346607.4872],\n",
       "  [1701266414693, 746172866831.7162],\n",
       "  [1701270004706, 740299663842.5022],\n",
       "  [1701273606316, 739479459655.1729],\n",
       "  [1701277229600, 738492961491.0105],\n",
       "  [1701280813945, 739830169138.2291],\n",
       "  [1701284411008, 739312075323.9043],\n",
       "  [1701288016676, 740266527623.6272],\n",
       "  [1701291612234, 737057703223.1788],\n",
       "  [1701295222282, 737229590776.4052],\n",
       "  [1701298860228, 739203403803.1409],\n",
       "  [1701302450158, 740494537382.5989],\n",
       "  [1701306048331, 740500693910.6979],\n",
       "  [1701309685039, 737418181692.778],\n",
       "  [1701313207358, 741268753959.6925],\n",
       "  [1701316882464, 744126842900.151],\n",
       "  [1701320461362, 742832970456.3602],\n",
       "  [1701324034633, 740991033653.9008],\n",
       "  [1701327619090, 739686832548.133],\n",
       "  [1701331244416, 739301041938.5414],\n",
       "  [1701334867550, 736716674680.1621],\n",
       "  [1701338436044, 737788121707.944],\n",
       "  [1701342011266, 737889191012.806],\n",
       "  [1701345689729, 739986211353.6648],\n",
       "  [1701349215416, 740813679927.1438],\n",
       "  [1701352880811, 741673826427.1577],\n",
       "  [1701356407116, 735528859193.2534],\n",
       "  [1701360021425, 734243167228.3958],\n",
       "  [1701363661690, 737630656495.2585],\n",
       "  [1701367253584, 738386177597.5178],\n",
       "  [1701370805068, 738667426452.2417],\n",
       "  [1701374402634, 739082829934.5563],\n",
       "  [1701378095401, 738436112772.8817],\n",
       "  [1701381603981, 738541427534.7206],\n",
       "  [1701385209489, 738641649498.0254],\n",
       "  [1701388860292, 737659515838.6104],\n",
       "  [1701392480275, 737068514596.4484],\n",
       "  [1701396035411, 742265800777.215],\n",
       "  [1701399631877, 743646921832.3276],\n",
       "  [1701403225630, 743869591870.1038],\n",
       "  [1701406813750, 747155585381.0828],\n",
       "  [1701410402840, 745625042768.6754],\n",
       "  [1701414010166, 746441023834.7227],\n",
       "  [1701417602903, 747843366940.7532],\n",
       "  [1701421200248, 749584408574.2784],\n",
       "  [1701424831967, 756182414619.8643],\n",
       "  [1701428440610, 755915381285.8231],\n",
       "  [1701432057151, 754720985304.241],\n",
       "  [1701435619391, 750788778989.0638],\n",
       "  [1701439221191, 750350968060.7299],\n",
       "  [1701442879854, 750025494347.8146],\n",
       "  [1701446446143, 751626506808.4257],\n",
       "  [1701450017684, 758841313584.8251],\n",
       "  [1701453655964, 757870448050.4517],\n",
       "  [1701457284282, 758817518962.561],\n",
       "  [1701460802878, 758649039422.0903],\n",
       "  [1701464413958, 758034060235.3525],\n",
       "  [1701468077211, 760496539886.9178],\n",
       "  [1701471616697, 757866272172.1047],\n",
       "  [1701475237950, 756249390093.0282],\n",
       "  [1701478862116, 757809709071.7999],\n",
       "  [1701482421337, 758484864065.6758],\n",
       "  [1701486024832, 757379718946.3762],\n",
       "  [1701489624150, 758617156985.8021],\n",
       "  [1701493205461, 758165124877.4348],\n",
       "  [1701496804280, 759271078622.1117],\n",
       "  [1701500403061, 758363616013.2704],\n",
       "  [1701504012507, 758107171838.2062],\n",
       "  [1701507606809, 757606969940.3993],\n",
       "  [1701511242639, 758947371805.5189],\n",
       "  [1701514854243, 758117898374.1309],\n",
       "  [1701518408706, 758212212982.4149],\n",
       "  [1701522043744, 758467076832.3734],\n",
       "  [1701525600315, 759267619462.4924],\n",
       "  [1701529217507, 758845781670.5928],\n",
       "  [1701532846893, 758768640607.0017],\n",
       "  [1701536464564, 757854211759.351],\n",
       "  [1701540078610, 758612149775.0206],\n",
       "  [1701543657412, 760342620965.4142],\n",
       "  [1701547245759, 768771785564.6577],\n",
       "  [1701550875731, 772778515052.0873],\n",
       "  [1701554415534, 774040346140.4026],\n",
       "  [1701558084943, 770160253573.178],\n",
       "  [1701561635455, 771834682369.2777],\n",
       "  [1701565226100, 772324836397.1864],\n",
       "  [1701568833529, 772672685969.6034],\n",
       "  [1701572466226, 771450545201.0807],\n",
       "  [1701576057952, 769863971123.2474],\n",
       "  [1701579661716, 770315406871.4197],\n",
       "  [1701583275484, 771487763577.2451],\n",
       "  [1701586824133, 771073843003.2692],\n",
       "  [1701590421055, 772485964123.2345],\n",
       "  [1701594012332, 771528942900.1339],\n",
       "  [1701597644616, 771565688989.4038],\n",
       "  [1701601239735, 773267410569.2506],\n",
       "  [1701604854884, 772812472433.848],\n",
       "  [1701608405382, 771360015500.0771],\n",
       "  [1701612064065, 777493113885.6476],\n",
       "  [1701615613258, 776150691802.2347],\n",
       "  [1701619228718, 777837139828.2341],\n",
       "  [1701622841712, 777064920735.742],\n",
       "  [1701626403859, 773593721010.2816],\n",
       "  [1701630047961, 773824746773.8846],\n",
       "  [1701633662795, 773791065436.5217],\n",
       "  [1701637280778, 774128565449.0878],\n",
       "  [1701640873079, 776234230478.5234],\n",
       "  [1701644436387, 784435025937.7633],\n",
       "  [1701648051563, 782845232813.069],\n",
       "  [1701651611171, 784522111235.5964],\n",
       "  [1701655203325, 798031644090.1329],\n",
       "  [1701658809615, 795618732200.6151],\n",
       "  [1701662410907, 797254513813.4254],\n",
       "  [1701666009354, 799788550545.9146],\n",
       "  [1701669635356, 809996528849.3362],\n",
       "  [1701673212789, 811650154328.9594],\n",
       "  [1701676830522, 810621054042.0504],\n",
       "  [1701680421462, 815018092945.403],\n",
       "  [1701684010616, 815331000040.7969],\n",
       "  [1701687633626, 821701303166.4354],\n",
       "  [1701691213697, 812128743622.4741],\n",
       "  [1701694817667, 815186634379.7943],\n",
       "  [1701698455572, 818627348406.7892],\n",
       "  [1701702014181, 815032431629.8627],\n",
       "  [1701705662497, 808606272704.0383],\n",
       "  [1701709230460, 811095114189.037],\n",
       "  [1701712813030, 813524082934.3954],\n",
       "  [1701716406630, 816036174567.3119],\n",
       "  [1701720002341, 818029945107.0287],\n",
       "  [1701723607951, 817491977002.5258],\n",
       "  [1701727206174, 818665020233.1692],\n",
       "  [1701730819585, 818709619094.9149],\n",
       "  [1701734458763, 820527379429.3416],\n",
       "  [1701738025931, 819139324404.1602],\n",
       "  [1701741614596, 817090402898.9098],\n",
       "  [1701745251741, 817190584453.2688],\n",
       "  [1701748865708, 816537252246.7554],\n",
       "  [1701752410644, 817867729441.133],\n",
       "  [1701756002773, 819796770942.1328],\n",
       "  [1701759607093, 815511622626.5657],\n",
       "  [1701763205954, 812673125504.1157],\n",
       "  [1701766834620, 812014807305.5884],\n",
       "  [1701770445440, 815830177369.3544],\n",
       "  [1701774019809, 815671142573.1647],\n",
       "  [1701777661171, 815002702960.5173],\n",
       "  [1701781250770, 817752701198.9512],\n",
       "  [1701784813497, 818896566842.9955],\n",
       "  [1701788450897, 824794068273.8942],\n",
       "  [1701792022612, 826973414831.4463],\n",
       "  [1701795602097, 835693322712.7523],\n",
       "  [1701799298115, 849884641736.7797],\n",
       "  [1701802876904, 855026711355.5242],\n",
       "  [1701806458739, 853710322957.7405],\n",
       "  [1701810041229, 855427007198.152],\n",
       "  [1701813636853, 861565495717.857],\n",
       "  [1701817206444, 867370929240.6467],\n",
       "  [1701820841695, 863171503830.3232],\n",
       "  [1701824488429, 860720700706.3999],\n",
       "  [1701828080417, 858501002167.3739],\n",
       "  [1701831657786, 856944990183.5764],\n",
       "  [1701835251849, 856184875096.0684],\n",
       "  [1701838822939, 853943911475.7249],\n",
       "  [1701842437215, 853022617997.0934],\n",
       "  [1701846079226, 855375231160.8062],\n",
       "  [1701849600590, 854561450723.7462],\n",
       "  [1701853210855, 856138505491.518],\n",
       "  [1701856806473, 857878906426.0623],\n",
       "  [1701860403763, 863251558965.6132],\n",
       "  [1701864042135, 857175821899.4425],\n",
       "  [1701867633869, 864555960850.9996],\n",
       "  [1701871205627, 861590412886.9387],\n",
       "  [1701874810159, 863422175266.1643],\n",
       "  [1701878417153, 857261100079.5082],\n",
       "  [1701882005724, 858306013759.9988],\n",
       "  [1701885603341, 861891490434.3834],\n",
       "  [1701889223114, 860200850929.6238],\n",
       "  [1701892814214, 862643038024.6392],\n",
       "  [1701896419562, 859162067992.0786],\n",
       "  [1701900011308, 857230560600.5585],\n",
       "  [1701903600189, 857324400917.3439],\n",
       "  [1701907207579, 857037901744.5414],\n",
       "  [1701910822955, 858420661163.0427],\n",
       "  [1701914429262, 859089097735.9058],\n",
       "  [1701918006981, 859408004328.209],\n",
       "  [1701921612594, 859736817062.1068],\n",
       "  [1701925223750, 859944164757.5579],\n",
       "  [1701928859311, 860586903520.7822],\n",
       "  [1701932417246, 858149031889.3865],\n",
       "  [1701936028612, 859314012609.6855],\n",
       "  [1701939635403, 855100502868.1421],\n",
       "  [1701943265221, 852029149767.5963],\n",
       "  [1701946835962, 845295219145.3845],\n",
       "  [1701950407793, 844476704371.6392],\n",
       "  [1701954012148, 846827341724.1195],\n",
       "  [1701957633405, 845807353013.1243],\n",
       "  [1701961208498, 848580695333.7819],\n",
       "  [1701964811163, 854446547611.7491],\n",
       "  [1701968436684, 854494004550.1107],\n",
       "  [1701972030597, 846518799826.6975],\n",
       "  [1701975612377, 848796193776.753],\n",
       "  [1701979212125, 843428313818.5449],\n",
       "  [1701982842313, 843425364599.9392],\n",
       "  [1701986414137, 847854495353.7816],\n",
       "  [1701990021661, 846380637620.3572],\n",
       "  [1701993650506, 848245522795.3333],\n",
       "  [1701997253016, 848070449925.5973],\n",
       "  [1702000810954, 849565511535.076],\n",
       "  [1702004451503, 850613307976.1647],\n",
       "  [1702008006624, 849397185440.005],\n",
       "  [1702011609960, 850898753539.9858],\n",
       "  [1702015205081, 849396799760.3998],\n",
       "  [1702018808843, 848465508417.2565],\n",
       "  [1702022413758, 846236430810.7908],\n",
       "  [1702026008550, 844843559318.3718],\n",
       "  [1702029611975, 845794694095.0848],\n",
       "  [1702033215201, 847142081725.1875],\n",
       "  [1702036813759, 854658081314.936],\n",
       "  [1702040404336, 855675736716.8037],\n",
       "  [1702044014877, 854247183544.7568],\n",
       "  [1702047609452, 860153332171.377],\n",
       "  [1702051204598, 859397593616.6311],\n",
       "  [1702054812888, 857702505577.2656],\n",
       "  [1702058401198, 856050999725.5931],\n",
       "  [1702063008000, 857220570743.6442]],\n",
       " 'total_volumes': [[1699470055725, 12922620963.058012],\n",
       "  [1699473607269, 16222366465.306868],\n",
       "  [1699477207536, 13933293852.358397],\n",
       "  [1699480862074, 14646489092.270206],\n",
       "  [1699484440274, 13542979402.799385],\n",
       "  [1699488050882, 17666834113.512394],\n",
       "  [1699491633695, 14535119788.601278],\n",
       "  [1699495256063, 16514143795.555035],\n",
       "  [1699498827827, 17689300640.5561],\n",
       "  [1699502428461, 15973173602.743898],\n",
       "  [1699506026040, 19460661424.961826],\n",
       "  [1699509641022, 20659503769.668777],\n",
       "  [1699513211042, 22543655628.241108],\n",
       "  [1699516837592, 23860438488.506256],\n",
       "  [1699520417073, 22492591821.70141],\n",
       "  [1699524050598, 24877505084.95016],\n",
       "  [1699527605725, 23613778743.915474],\n",
       "  [1699531251866, 22420545492.56959],\n",
       "  [1699534810907, 17313203962.515495],\n",
       "  [1699538449646, 24145000628.2965],\n",
       "  [1699542064170, 29258632298.913776],\n",
       "  [1699545618254, 23977364076.664608],\n",
       "  [1699549209002, 38102545621.06276],\n",
       "  [1699552805043, 32111355236.809017],\n",
       "  [1699556460765, 39024118038.917816],\n",
       "  [1699560006675, 34655823640.875626],\n",
       "  [1699563655858, 37204837221.02597],\n",
       "  [1699567258895, 33279141128.02609],\n",
       "  [1699570809872, 33957386312.01164],\n",
       "  [1699574443278, 38190964507.15763],\n",
       "  [1699578012981, 35126241960.85988],\n",
       "  [1699581660691, 37627542292.14828],\n",
       "  [1699585245636, 34858081961.44088],\n",
       "  [1699588805469, 33679672592.805035],\n",
       "  [1699592420039, 34608394754.9403],\n",
       "  [1699596030763, 31674162492.610302],\n",
       "  [1699599675395, 19832103539.27735],\n",
       "  [1699603234365, 34042217337.374073],\n",
       "  [1699606851242, 34555745713.407135],\n",
       "  [1699610460723, 33043464233.65063],\n",
       "  [1699614011661, 28242061734.598286],\n",
       "  [1699617668736, 35491227053.76425],\n",
       "  [1699621311575, 35337566647.139],\n",
       "  [1699624801802, 35112119682.42919],\n",
       "  [1699628437243, 32007204693.81628],\n",
       "  [1699632079315, 29532124892.158497],\n",
       "  [1699635605424, 26301448768.352806],\n",
       "  [1699639215520, 25404089331.321484],\n",
       "  [1699642836642, 24862770730.891853],\n",
       "  [1699646435552, 24797760584.740177],\n",
       "  [1699650065325, 24398171512.600224],\n",
       "  [1699653609444, 15746105407.658237],\n",
       "  [1699657279439, 20217899106.711548],\n",
       "  [1699660822673, 23152060053.421646],\n",
       "  [1699664407897, 22101560350.82608],\n",
       "  [1699668017354, 22845279461.07992],\n",
       "  [1699671667132, 22403239973.7629],\n",
       "  [1699675276344, 18167928857.10749],\n",
       "  [1699678809972, 22225817910.993736],\n",
       "  [1699682462249, 21825958807.288452],\n",
       "  [1699686067341, 20345879694.2235],\n",
       "  [1699689625497, 17936524591.164314],\n",
       "  [1699693208569, 19306538123.740353],\n",
       "  [1699696808781, 18384682130.09333],\n",
       "  [1699700408192, 20064531382.332226],\n",
       "  [1699704060796, 18252802833.23104],\n",
       "  [1699707677910, 17220202040.105476],\n",
       "  [1699711209736, 12761338469.827406],\n",
       "  [1699714844598, 15156829134.3604],\n",
       "  [1699718409686, 15340805059.29529],\n",
       "  [1699722042480, 13136772814.705217],\n",
       "  [1699725607999, 14912121832.190063],\n",
       "  [1699729206577, 14442706218.233606],\n",
       "  [1699732809825, 13839024001.574099],\n",
       "  [1699736436217, 13725092693.557093],\n",
       "  [1699740062540, 9813307884.29986],\n",
       "  [1699743648800, 13890285722.843128],\n",
       "  [1699747267870, 12033297219.971031],\n",
       "  [1699750866625, 13285617565.442186],\n",
       "  [1699754457722, 8201384234.879171],\n",
       "  [1699758055845, 11558879630.041998],\n",
       "  [1699761663410, 12132245122.750738],\n",
       "  [1699765216368, 10585474927.060837],\n",
       "  [1699768805299, 10237939591.54003],\n",
       "  [1699772460674, 12073464046.566378],\n",
       "  [1699776063613, 9396786036.20534],\n",
       "  [1699779665339, 12087440555.472328],\n",
       "  [1699783262263, 9330105429.748396],\n",
       "  [1699786856896, 12365159725.39559],\n",
       "  [1699790474716, 10803481857.321354],\n",
       "  [1699794007105, 11432551011.13572],\n",
       "  [1699797629568, 11870674013.034101],\n",
       "  [1699801253721, 10811063487.209892],\n",
       "  [1699804820788, 12115908637.23918],\n",
       "  [1699808446641, 11465985040.782143],\n",
       "  [1699812056988, 11162723740.354858],\n",
       "  [1699815652360, 11300622329.64332],\n",
       "  [1699819203055, 11637539500.595938],\n",
       "  [1699822828910, 11307406295.540073],\n",
       "  [1699826435994, 7282144753.261927],\n",
       "  [1699830006568, 9535257493.09253],\n",
       "  [1699833609406, 8831221164.408867],\n",
       "  [1699837201753, 8854816576.2868],\n",
       "  [1699840805860, 11325655887.230352],\n",
       "  [1699844469425, 11115678339.351013],\n",
       "  [1699848000360, 11920158139.9847],\n",
       "  [1699851613436, 12090495420.933186],\n",
       "  [1699855251551, 12271830056.997126],\n",
       "  [1699858854857, 11525122244.465124],\n",
       "  [1699862435350, 9679943034.591017],\n",
       "  [1699866010309, 12717672247.614964],\n",
       "  [1699869625792, 12565787060.302542],\n",
       "  [1699873207704, 12591063371.25378],\n",
       "  [1699876816125, 13484999746.050932],\n",
       "  [1699880421297, 12211719047.26183],\n",
       "  [1699884025820, 13785883959.7238],\n",
       "  [1699887622789, 14680157123.933676],\n",
       "  [1699891249067, 13722183304.383312],\n",
       "  [1699894844357, 13643525146.034435],\n",
       "  [1699898451757, 16793649103.788483],\n",
       "  [1699902046232, 16952686179.783285],\n",
       "  [1699905610198, 17170777005.92478],\n",
       "  [1699909263032, 17380257241.732628],\n",
       "  [1699912861788, 18675235479.6036],\n",
       "  [1699916421618, 16387837947.350458],\n",
       "  [1699920013347, 18041088204.36723],\n",
       "  [1699923629685, 14792371397.985785],\n",
       "  [1699927213716, 19236148634.00031],\n",
       "  [1699930803936, 18545762419.57796],\n",
       "  [1699934420157, 18222684908.34133],\n",
       "  [1699938035398, 18037639396.505917],\n",
       "  [1699941642190, 12634689025.054016],\n",
       "  [1699945200674, 15991539615.25953],\n",
       "  [1699948836957, 17183856295.341137],\n",
       "  [1699952418326, 18077297026.3814],\n",
       "  [1699956077456, 17312226646.288685],\n",
       "  [1699959643774, 18439771607.10506],\n",
       "  [1699963207970, 17012476363.240675],\n",
       "  [1699966804409, 18867510032.81532],\n",
       "  [1699970456165, 14774756911.902985],\n",
       "  [1699974007932, 19410646719.603592],\n",
       "  [1699977654523, 20422233602.23305],\n",
       "  [1699981231038, 20627484225.925407],\n",
       "  [1699984857344, 19676703892.234406],\n",
       "  [1699988448246, 22190229721.02679],\n",
       "  [1699992040339, 23078023490.463547],\n",
       "  [1699995604322, 23808063706.46539],\n",
       "  [1699999268405, 24232244378.154053],\n",
       "  [1700002807037, 22955729247.113667],\n",
       "  [1700006470759, 22330924588.059715],\n",
       "  [1700010001613, 21714612434.901993],\n",
       "  [1700013610831, 23965796963.597675],\n",
       "  [1700017247343, 21658657350.613853],\n",
       "  [1700020848147, 19151179531.657],\n",
       "  [1700024476515, 21014376622.13722],\n",
       "  [1700028053982, 23871233001.16651],\n",
       "  [1700031611420, 23467175070.09961],\n",
       "  [1700035203820, 22734984989.212902],\n",
       "  [1700038810213, 21605988117.9052],\n",
       "  [1700042428897, 18642388786.89159],\n",
       "  [1700046041685, 23934335817.745422],\n",
       "  [1700049694283, 25484685776.350243],\n",
       "  [1700053214857, 25665643366.6161],\n",
       "  [1700056813688, 25556901385.39049],\n",
       "  [1700060444334, 25466471694.827206],\n",
       "  [1700064070479, 24456462122.246895],\n",
       "  [1700067635080, 25031583704.43161],\n",
       "  [1700071243958, 24665437136.61768],\n",
       "  [1700074850288, 24777690700.92838],\n",
       "  [1700078413265, 26582665479.658016],\n",
       "  [1700082004733, 20777803580.015343],\n",
       "  [1700085656795, 25518006949.385925],\n",
       "  [1700089237390, 15867098492.814299],\n",
       "  [1700092806552, 28479730068.295124],\n",
       "  [1700096421115, 26186090696.140217],\n",
       "  [1700100021666, 27782273612.297916],\n",
       "  [1700103643057, 29168776643.408592],\n",
       "  [1700107238252, 29145474741.219822],\n",
       "  [1700110858012, 29231690596.912308],\n",
       "  [1700114468080, 28857257227.75898],\n",
       "  [1700118007765, 26448957228.717545],\n",
       "  [1700121631687, 29533593008.858543],\n",
       "  [1700125316095, 27667414794.629337],\n",
       "  [1700128899893, 29553111396.742676],\n",
       "  [1700132439360, 29448115645.887135],\n",
       "  [1700136081384, 28959819309.074684],\n",
       "  [1700139706974, 26925465970.02867],\n",
       "  [1700143245932, 26044446897.93216],\n",
       "  [1700146901982, 30532825448.522213],\n",
       "  [1700150447161, 24521740017.86684],\n",
       "  [1700154024908, 24400491480.045055],\n",
       "  [1700157637264, 30566408399.045166],\n",
       "  [1700161302766, 28146217711.549427],\n",
       "  [1700164933727, 24721270098.5398],\n",
       "  [1700168512969, 26905752023.245102],\n",
       "  [1700172129879, 26133761646.291492],\n",
       "  [1700175693415, 23629607233.09773],\n",
       "  [1700179284891, 25959888747.297276],\n",
       "  [1700182805320, 21502672251.891556],\n",
       "  [1700186437641, 19508258710.9551],\n",
       "  [1700190036190, 25798944751.681797],\n",
       "  [1700193752487, 23149958342.06384],\n",
       "  [1700197223563, 25954072902.21791],\n",
       "  [1700200805708, 26484988771.92151],\n",
       "  [1700204454927, 25557950635.844032],\n",
       "  [1700208023152, 26506999077.354904],\n",
       "  [1700211622070, 16111180989.217197],\n",
       "  [1700215208235, 26729096812.31883],\n",
       "  [1700218813678, 26969900443.722702],\n",
       "  [1700222517617, 23374464698.748997],\n",
       "  [1700226059855, 25994654282.767113],\n",
       "  [1700229640552, 25220226177.372528],\n",
       "  [1700233326935, 25276208023.371384],\n",
       "  [1700236960967, 24646379659.351288],\n",
       "  [1700240422228, 22853018085.226444],\n",
       "  [1700244130286, 26617566449.780495],\n",
       "  [1700247630716, 26171907343.598087],\n",
       "  [1700251262204, 24341287010.05703],\n",
       "  [1700254944887, 23966958138.96973],\n",
       "  [1700258535980, 21510139629.87471],\n",
       "  [1700262036860, 23099137796.042393],\n",
       "  [1700265771914, 22761068583.289684],\n",
       "  [1700269239794, 18807200049.506256],\n",
       "  [1700272934209, 22246410933.29095],\n",
       "  [1700276452763, 20736104241.561268],\n",
       "  [1700280046355, 20958694214.26386],\n",
       "  [1700283646329, 18815858887.959167],\n",
       "  [1700287270318, 16991083677.51438],\n",
       "  [1700290841392, 16908924248.74324],\n",
       "  [1700294526429, 15818092963.138268],\n",
       "  [1700298092133, 17682931937.58338],\n",
       "  [1700301619005, 18679030974.22436],\n",
       "  [1700305261952, 18363080860.87866],\n",
       "  [1700308947891, 17822734539.615753],\n",
       "  [1700312430881, 17315669812.060158],\n",
       "  [1700316077749, 16935296312.86015],\n",
       "  [1700319742847, 16102506058.237593],\n",
       "  [1700323250715, 15560488346.70229],\n",
       "  [1700326881758, 15288754091.873293],\n",
       "  [1700330413831, 13295816584.875713],\n",
       "  [1700334110445, 7290114568.095001],\n",
       "  [1700337674155, 11656643909.888136],\n",
       "  [1700341255887, 11874223675.92566],\n",
       "  [1700344931633, 10758183204.108953],\n",
       "  [1700348448250, 11297539411.957863],\n",
       "  [1700352020836, 9343320288.911583],\n",
       "  [1700355657106, 11250891898.4501],\n",
       "  [1700359245135, 10821178964.46993],\n",
       "  [1700362817187, 10118820414.254036],\n",
       "  [1700366430518, 6060359792.849265],\n",
       "  [1700370060823, 10039954340.60699],\n",
       "  [1700373614315, 10771381208.168116],\n",
       "  [1700377216726, 9839392255.608751],\n",
       "  [1700380805788, 10862081536.052994],\n",
       "  [1700384419639, 4087378319.284125],\n",
       "  [1700388056335, 9416674877.926243],\n",
       "  [1700391626417, 3330203010.2499266],\n",
       "  [1700395200582, 10837205467.30798],\n",
       "  [1700398885048, 8392342314.535366],\n",
       "  [1700402419176, 9701757507.00204],\n",
       "  [1700406008040, 10549639725.676468],\n",
       "  [1700409662058, 9417824676.259226],\n",
       "  [1700413298744, 9781917574.326296],\n",
       "  [1700416854242, 8167778912.795689],\n",
       "  [1700420459411, 10158190407.996958],\n",
       "  [1700424029061, 10144958698.437515],\n",
       "  [1700427604998, 10330848244.596498],\n",
       "  [1700431225668, 10937983099.906809],\n",
       "  [1700434840794, 11031935804.986258],\n",
       "  [1700438405448, 12599067947.734495],\n",
       "  [1700442002779, 13250245251.484818],\n",
       "  [1700445610466, 11374127521.200768],\n",
       "  [1700449231125, 11181653992.170017],\n",
       "  [1700452865577, 11752861312.718596],\n",
       "  [1700456484837, 11484020428.737013],\n",
       "  [1700460013335, 12857877860.24844],\n",
       "  [1700463646886, 14213710637.334383],\n",
       "  [1700467248952, 14145947226.07314],\n",
       "  [1700470808532, 12964495883.721933],\n",
       "  [1700474414090, 13980200113.26939],\n",
       "  [1700478038150, 15619587152.308681],\n",
       "  [1700481628029, 13938301350.338726],\n",
       "  [1700485211096, 14569132443.005705],\n",
       "  [1700488839738, 16377120609.008406],\n",
       "  [1700492470009, 17818087849.55818],\n",
       "  [1700496005519, 17226534727.149605],\n",
       "  [1700499665721, 18002053740.0632],\n",
       "  [1700503211815, 21820354256.66119],\n",
       "  [1700506814190, 20969458553.625828],\n",
       "  [1700510409949, 21332603956.40608],\n",
       "  [1700514010270, 21572041806.535828],\n",
       "  [1700517607622, 21025108658.863483],\n",
       "  [1700521221867, 22528629191.08815],\n",
       "  [1700524809896, 16005284775.311718],\n",
       "  [1700528404168, 18724655836.34788],\n",
       "  [1700532001890, 18900782481.76894],\n",
       "  [1700535608293, 20958552543.695995],\n",
       "  [1700539202832, 20644413118.311356],\n",
       "  [1700542801613, 19081767053.68981],\n",
       "  [1700546416476, 17270022789.485798],\n",
       "  [1700550010958, 18549073815.14224],\n",
       "  [1700553621584, 20752463336.22316],\n",
       "  [1700557224231, 20538346842.762104],\n",
       "  [1700560839464, 19648507177.447346],\n",
       "  [1700564441433, 19711863289.701435],\n",
       "  [1700568048318, 17933093209.318264],\n",
       "  [1700571638690, 19550382503.30469],\n",
       "  [1700575234297, 19836773685.018326],\n",
       "  [1700578806968, 17717161290.491383],\n",
       "  [1700582420914, 21511241825.799484],\n",
       "  [1700586049099, 20502996906.061665],\n",
       "  [1700589621037, 21927736082.1649],\n",
       "  [1700593254259, 22508597903.711853],\n",
       "  [1700596807606, 22399148903.08079],\n",
       "  [1700600413586, 20775675545.624733],\n",
       "  [1700604008815, 20890858761.387753],\n",
       "  [1700607626155, 23782689015.778294],\n",
       "  [1700611204859, 18891503534.641026],\n",
       "  [1700614807189, 25551679626.25862],\n",
       "  [1700618414971, 24952701491.446743],\n",
       "  [1700622020293, 27204100050.259937],\n",
       "  [1700625623836, 27200901380.981884],\n",
       "  [1700629221177, 26993957648.170635],\n",
       "  [1700632878596, 24181354028.91247],\n",
       "  [1700636460857, 28518129348.86432],\n",
       "  [1700640059006, 25953336273.453144],\n",
       "  [1700643670998, 22806059932.26148],\n",
       "  [1700647228544, 28775090844.533794],\n",
       "  [1700650814430, 29400277698.539406],\n",
       "  [1700654449568, 29263265560.728794],\n",
       "  [1700658011337, 29425336185.911304],\n",
       "  [1700661638911, 28992146330.58061],\n",
       "  [1700665263582, 28966009073.421005],\n",
       "  [1700668835682, 26273375285.12217],\n",
       "  [1700672432804, 25619936782.86629],\n",
       "  [1700676009340, 22417242732.318886],\n",
       "  [1700679640712, 25420689533.555904],\n",
       "  [1700683209433, 22691918193.277702],\n",
       "  [1700686805488, 21510370718.845135],\n",
       "  [1700690402858, 26191539044.976208],\n",
       "  [1700694063621, 23653247492.779438],\n",
       "  [1700697610154, 25245202377.321384],\n",
       "  [1700701200720, 24701995174.83918],\n",
       "  [1700704802257, 20982116301.19056],\n",
       "  [1700708410181, 23519873461.76487],\n",
       "  [1700712033689, 22535583995.10891],\n",
       "  [1700715621755, 22710989764.99746],\n",
       "  [1700719200790, 21885682476.59637],\n",
       "  [1700722823408, 20103882645.89647],\n",
       "  [1700726446973, 20588868334.75467],\n",
       "  [1700730006910, 21820770608.38192],\n",
       "  [1700733612890, 18219823015.549442],\n",
       "  [1700737220975, 22154444924.903366],\n",
       "  [1700740808039, 22776674578.16688],\n",
       "  [1700744414529, 19840185877.273712],\n",
       "  [1700748029152, 19453195064.988457],\n",
       "  [1700751634780, 21935164614.430115],\n",
       "  [1700755226763, 17584009261.78495],\n",
       "  [1700758810491, 21541403690.26927],\n",
       "  [1700762412930, 20292740719.36688],\n",
       "  [1700766052309, 19211135118.105797],\n",
       "  [1700769628496, 18532350630.646973],\n",
       "  [1700773209528, 16775571938.021109],\n",
       "  [1700776810457, 16194740855.082355],\n",
       "  [1700780439271, 18751353993.128708],\n",
       "  [1700784013053, 11956046626.60703],\n",
       "  [1700787614568, 17693915723.83297],\n",
       "  [1700791213431, 8971279061.941275],\n",
       "  [1700794847122, 12369378426.911386],\n",
       "  [1700798425463, 11199088736.194235],\n",
       "  [1700802011003, 13244062869.268608],\n",
       "  [1700805625502, 12799755459.818737],\n",
       "  [1700809239980, 11236687141.996891],\n",
       "  [1700812834339, 13955079563.13624],\n",
       "  [1700816431345, 13181339281.864353],\n",
       "  [1700820051641, 14133311065.29863],\n",
       "  [1700823642592, 12634179672.47973],\n",
       "  [1700827244430, 16495743168.730705],\n",
       "  [1700830831884, 17439201386.907715],\n",
       "  [1700834453000, 16773912539.882265],\n",
       "  [1700838056750, 17343571721.820713],\n",
       "  [1700841610669, 19478460427.69906],\n",
       "  [1700845207634, 19370884598.81348],\n",
       "  [1700848853869, 21086500773.030098],\n",
       "  [1700852446135, 20018784231.61294],\n",
       "  [1700856020725, 21746187695.87668],\n",
       "  [1700859647348, 22416845818.62169],\n",
       "  [1700863226985, 22565478092.085583],\n",
       "  [1700866864838, 22716599019.664074],\n",
       "  [1700870456017, 22996708651.54232],\n",
       "  [1700874033369, 23723026793.50628],\n",
       "  [1700877645718, 23488558272.79323],\n",
       "  [1700881219449, 22699736885.37403],\n",
       "  [1700884814025, 22011026948.92114],\n",
       "  [1700888417485, 20078860854.149353],\n",
       "  [1700892051973, 18295804524.044262],\n",
       "  [1700895646885, 22525891898.873177],\n",
       "  [1700899207086, 16778790557.714052],\n",
       "  [1700902882858, 13288791785.36766],\n",
       "  [1700906405981, 21667253650.190426],\n",
       "  [1700910042004, 19941127505.37648],\n",
       "  [1700913605663, 16890261381.826069],\n",
       "  [1700917202742, 14662584056.117996],\n",
       "  [1700920808977, 14166403162.964485],\n",
       "  [1700924405437, 15570862402.756577],\n",
       "  [1700928031380, 11763627570.196674],\n",
       "  [1700931658055, 9840229917.983616],\n",
       "  [1700935222605, 6702444666.806143],\n",
       "  [1700938887189, 9131407839.399536],\n",
       "  [1700942415782, 9271052934.956903],\n",
       "  [1700946018318, 8040844415.836949],\n",
       "  [1700949658590, 5304952568.504611],\n",
       "  [1700953206056, 6481160346.35562],\n",
       "  [1700956839899, 6051616334.260289],\n",
       "  [1700960422606, 7605120490.015985],\n",
       "  [1700964026050, 7662854855.70857],\n",
       "  [1700967645897, 7688752142.546369],\n",
       "  [1700971212535, 6726285376.987138],\n",
       "  [1700974846017, 6446502517.309387],\n",
       "  [1700978421380, 5331648794.673652],\n",
       "  [1700982041576, 5796922397.586502],\n",
       "  [1700985654229, 6731008572.235151],\n",
       "  [1700989228509, 6891921158.165878],\n",
       "  [1700992832278, 6537766929.627269],\n",
       "  [1700996431322, 6431715322.164955],\n",
       "  [1701000026518, 7247646113.2705145],\n",
       "  [1701003603159, 7921009706.03018],\n",
       "  [1701007221952, 6996220751.268711],\n",
       "  [1701010801282, 6829262748.672305],\n",
       "  [1701014421089, 8843455119.351809],\n",
       "  [1701018063750, 9659070001.493786],\n",
       "  [1701021675072, 11289013553.554405],\n",
       "  [1701025218257, 8752808057.91754],\n",
       "  [1701028806125, 11449548225.576176],\n",
       "  [1701032403018, 8789515456.662941],\n",
       "  [1701036067032, 12306268338.40993],\n",
       "  [1701039647809, 12148290381.561832],\n",
       "  [1701043200903, 13318651897.397146],\n",
       "  [1701046800805, 12969912681.993101],\n",
       "  [1701050404033, 13580810527.704018],\n",
       "  [1701054064306, 10287089054.681683],\n",
       "  [1701057632483, 14287928183.32456],\n",
       "  [1701061247397, 13056413891.311956],\n",
       "  [1701064823132, 8937399655.349545],\n",
       "  [1701068441984, 15307573816.111671],\n",
       "  [1701072005821, 15285956654.456755],\n",
       "  [1701075609387, 14016618004.673048],\n",
       "  [1701079200273, 12816008534.755955],\n",
       "  [1701082828125, 17337435603.13049],\n",
       "  [1701086407215, 18232355943.938694],\n",
       "  [1701090043630, 13897544644.914982],\n",
       "  [1701093656771, 11063366589.42804],\n",
       "  [1701097220470, 18639812640.73882],\n",
       "  [1701100801436, 19008822615.460953],\n",
       "  [1701104460307, 18224081109.953255],\n",
       "  [1701108032217, 18801144892.07839],\n",
       "  [1701111635085, 19304450564.648968],\n",
       "  [1701115228247, 17171691394.823511],\n",
       "  [1701118830602, 15510912116.451874],\n",
       "  [1701122415198, 19537869814.491653],\n",
       "  [1701126027155, 12830607179.960075],\n",
       "  [1701129601792, 19098510359.14146],\n",
       "  [1701133200659, 19489689959.657],\n",
       "  [1701136800715, 19252945610.513443],\n",
       "  [1701140411890, 17306850454.11865],\n",
       "  [1701144010921, 18024234678.49265],\n",
       "  [1701147609161, 17837698714.449707],\n",
       "  [1701151273985, 15688472063.218746],\n",
       "  [1701154854968, 12112772982.554943],\n",
       "  [1701158447984, 17434048866.943203],\n",
       "  [1701162019721, 17095730339.987091],\n",
       "  [1701165626535, 19340221442.41002],\n",
       "  [1701169236947, 17221786708.568928],\n",
       "  [1701172801958, 14404413134.352495],\n",
       "  [1701176412672, 16843527250.839094],\n",
       "  [1701180038369, 15907849680.1461],\n",
       "  [1701183609177, 16954010595.099627],\n",
       "  [1701187236732, 14441631903.449255],\n",
       "  [1701190827927, 17317647386.0584],\n",
       "  [1701194446179, 15742858170.096203],\n",
       "  [1701198110080, 19941126742.878582],\n",
       "  [1701201668574, 19236483315.71666],\n",
       "  [1701205217045, 20987471722.521076],\n",
       "  [1701208838597, 21131764495.48381],\n",
       "  [1701212421226, 22304913909.12025],\n",
       "  [1701216008297, 19715537240.688644],\n",
       "  [1701219613866, 17163404291.934488],\n",
       "  [1701223235403, 22731056350.56037],\n",
       "  [1701226858653, 20320228338.280437],\n",
       "  [1701230429964, 22411913978.902332],\n",
       "  [1701234017723, 21088550180.82765],\n",
       "  [1701237604429, 23084914234.07227],\n",
       "  [1701241219647, 21847350226.494038],\n",
       "  [1701244813649, 23332482003.17326],\n",
       "  [1701248403367, 18099821435.210365],\n",
       "  [1701252060238, 24198909196.464725],\n",
       "  [1701255623416, 22959357953.040085],\n",
       "  [1701259206604, 25425758695.3149],\n",
       "  [1701262803577, 20065966517.53691],\n",
       "  [1701266414693, 22784315305.12685],\n",
       "  [1701270004706, 22839267936.385246],\n",
       "  [1701273606316, 26554933562.886814],\n",
       "  [1701277229600, 25935667326.51801],\n",
       "  [1701280813945, 24509405468.345497],\n",
       "  [1701284411008, 23592132781.828728],\n",
       "  [1701288016676, 22280248509.02453],\n",
       "  [1701291612234, 19522344732.345562],\n",
       "  [1701295222282, 21453169365.134945],\n",
       "  [1701298860228, 16737259134.659122],\n",
       "  [1701302450158, 20964545194.804527],\n",
       "  [1701306048331, 20539765870.61562],\n",
       "  [1701309685039, 20423834098.267223],\n",
       "  [1701313207358, 17532106212.757217],\n",
       "  [1701316882464, 18907765805.7469],\n",
       "  [1701320461362, 20219725167.9496],\n",
       "  [1701324034633, 20125250856.970566],\n",
       "  [1701327619090, 20466341439.83662],\n",
       "  [1701331244416, 17366043872.39529],\n",
       "  [1701334867550, 20943721026.857807],\n",
       "  [1701338436044, 20326476245.3481],\n",
       "  [1701342011266, 19914311324.251812],\n",
       "  [1701345689729, 17414561067.465008],\n",
       "  [1701349215416, 19750282258.69256],\n",
       "  [1701352880811, 14839211622.91714],\n",
       "  [1701356407116, 18186974343.78467],\n",
       "  [1701360021425, 18946704873.125637],\n",
       "  [1701363661690, 18960484203.366104],\n",
       "  [1701367253584, 18909517199.72678],\n",
       "  [1701370805068, 18713346082.64784],\n",
       "  [1701374402634, 16398016801.355042],\n",
       "  [1701378095401, 18334166394.88415],\n",
       "  [1701381603981, 16253473911.201012],\n",
       "  [1701385209489, 11371968116.339193],\n",
       "  [1701388860292, 16566770727.560837],\n",
       "  [1701392480275, 17968197008.66573],\n",
       "  [1701396035411, 17151665527.464281],\n",
       "  [1701399631877, 16923670213.983044],\n",
       "  [1701403225630, 19306172706.796467],\n",
       "  [1701406813750, 17386222262.343433],\n",
       "  [1701410402840, 17285148523.659405],\n",
       "  [1701414010166, 19077871970.497417],\n",
       "  [1701417602903, 18439771890.97511],\n",
       "  [1701421200248, 16271840441.829237],\n",
       "  [1701424831967, 21476087463.36468],\n",
       "  [1701428440610, 22081079329.559013],\n",
       "  [1701432057151, 19485687890.031445],\n",
       "  [1701435619391, 20003619704.559784],\n",
       "  [1701439221191, 22107677226.074196],\n",
       "  [1701442879854, 18309495834.643],\n",
       "  [1701446446143, 19397380875.656227],\n",
       "  [1701450017684, 20469686360.71913],\n",
       "  [1701453655964, 21857521736.438065],\n",
       "  [1701457284282, 18165675332.747284],\n",
       "  [1701460802878, 14789690109.388367],\n",
       "  [1701464413958, 24249167189.72053],\n",
       "  [1701468077211, 21454462942.436253],\n",
       "  [1701471616697, 18069484686.917397],\n",
       "  [1701475237950, 24470176251.56647],\n",
       "  [1701478862116, 21710219624.202206],\n",
       "  [1701482421337, 19913977292.640602],\n",
       "  [1701486024832, 20264955705.36333],\n",
       "  [1701489624150, 19884029542.456482],\n",
       "  [1701493205461, 15719660946.445034],\n",
       "  [1701496804280, 17374971130.985207],\n",
       "  [1701500403061, 20082104725.000072],\n",
       "  [1701504012507, 19297955475.40846],\n",
       "  [1701507606809, 13463756087.760008],\n",
       "  [1701511242639, 13619093905.850674],\n",
       "  [1701514854243, 14944505265.024632],\n",
       "  [1701518408706, 15118875630.601265],\n",
       "  [1701522043744, 14551175610.576088],\n",
       "  [1701525600315, 14366551258.43231],\n",
       "  [1701529217507, 12216592360.376722],\n",
       "  [1701532846893, 9364573926.069498],\n",
       "  [1701536464564, 11365530467.050938],\n",
       "  [1701540078610, 10725468830.5905],\n",
       "  [1701543657412, 9137222266.731503],\n",
       "  [1701547245759, 12891225430.236319],\n",
       "  [1701550875731, 9018680172.594204],\n",
       "  [1701554415534, 13431064055.413183],\n",
       "  [1701558084943, 14875103446.063599],\n",
       "  [1701561635455, 14892418344.328642],\n",
       "  [1701565226100, 11695422649.679796],\n",
       "  [1701568833529, 15007061381.778238],\n",
       "  [1701572466226, 15363931691.439432],\n",
       "  [1701576057952, 15506432439.145082],\n",
       "  [1701579661716, 15390398842.930046],\n",
       "  [1701583275484, 13812261895.305485],\n",
       "  [1701586824133, 15729903979.622026],\n",
       "  [1701590421055, 14373639789.56904],\n",
       "  [1701594012332, 12262650410.215767],\n",
       "  [1701597644616, 13352301179.50915],\n",
       "  [1701601239735, 8343279507.44517],\n",
       "  [1701604854884, 12086566686.372139],\n",
       "  [1701608405382, 15233173088.929203],\n",
       "  [1701612064065, 16512044953.386007],\n",
       "  [1701615613258, 16980521538.206066],\n",
       "  [1701619228718, 14834868204.762918],\n",
       "  [1701622841712, 17389252911.229313],\n",
       "  [1701626403859, 17660812181.204784],\n",
       "  [1701630047961, 16914249993.406742],\n",
       "  [1701633662795, 13230513820.160835],\n",
       "  [1701637280778, 13039906908.06221],\n",
       "  [1701640873079, 12321859875.071674],\n",
       "  [1701644436387, 12780608008.521158],\n",
       "  [1701648051563, 15379773308.982014],\n",
       "  [1701651611171, 16202924812.230095],\n",
       "  [1701655203325, 18449151777.763554],\n",
       "  [1701658809615, 16348581981.877342],\n",
       "  [1701662410907, 16963046491.777205],\n",
       "  [1701666009354, 20138553408.532337],\n",
       "  [1701669635356, 20318350576.37065],\n",
       "  [1701673212789, 24930446165.338512],\n",
       "  [1701676830522, 23163613293.88905],\n",
       "  [1701680421462, 25769367822.351727],\n",
       "  [1701684010616, 27256118308.02302],\n",
       "  [1701687633626, 29498337102.404167],\n",
       "  [1701691213697, 25705248122.205444],\n",
       "  [1701694817667, 34099772640.01788],\n",
       "  [1701698455572, 35215938086.21822],\n",
       "  [1701702014181, 34947349110.04722],\n",
       "  [1701705662497, 34729546128.85622],\n",
       "  [1701709230460, 38086802257.939026],\n",
       "  [1701712813030, 32315043907.187813],\n",
       "  [1701716406630, 39765272513.37137],\n",
       "  [1701720002341, 40594215255.09963],\n",
       "  [1701723607951, 39945341433.13617],\n",
       "  [1701727206174, 42585980123.83683],\n",
       "  [1701730819585, 36956446944.37407],\n",
       "  [1701734458763, 37917982283.32182],\n",
       "  [1701738025931, 41523971483.82288],\n",
       "  [1701741614596, 40296619254.267334],\n",
       "  [1701745251741, 39896544368.91861],\n",
       "  [1701748865708, 35864669709.11401],\n",
       "  [1701752410644, 38815675553.45184],\n",
       "  [1701756002773, 35679239792.3532],\n",
       "  [1701759607093, 35806187401.04297],\n",
       "  [1701763205954, 30942390185.533646],\n",
       "  [1701766834620, 35707172865.79565],\n",
       "  [1701770445440, 33997718160.271126],\n",
       "  [1701774019809, 31650030689.24151],\n",
       "  [1701777661171, 26475363725.89208],\n",
       "  [1701781250770, 26275768589.57069],\n",
       "  [1701784813497, 25359962945.77525],\n",
       "  [1701788450897, 27892386967.89979],\n",
       "  [1701792022612, 25382702369.29152],\n",
       "  [1701795602097, 25934275702.94897],\n",
       "  [1701799298115, 28653404445.289013],\n",
       "  [1701802876904, 28771911116.76219],\n",
       "  [1701806458739, 36133601005.143364],\n",
       "  [1701810041229, 33272130241.79143],\n",
       "  [1701813636853, 27304714021.283245],\n",
       "  [1701817206444, 37201782100.478584],\n",
       "  [1701820841695, 37740677039.99004],\n",
       "  [1701824488429, 38262281278.653435],\n",
       "  [1701828080417, 35089983006.950836],\n",
       "  [1701831657786, 32355762548.479538],\n",
       "  [1701835251849, 33331519496.8558],\n",
       "  [1701838822939, 39029400856.08344],\n",
       "  [1701842437215, 36357673755.29773],\n",
       "  [1701846079226, 36121719093.97291],\n",
       "  [1701849600590, 38889805920.67085],\n",
       "  [1701853210855, 36566798078.485275],\n",
       "  [1701856806473, 40340343424.57274],\n",
       "  [1701860403763, 40295190992.05095],\n",
       "  [1701864042135, 42975776584.46754],\n",
       "  [1701867633869, 43932144468.687546],\n",
       "  [1701871205627, 43502420711.29238],\n",
       "  [1701874810159, 42455571436.97116],\n",
       "  [1701878417153, 41588978260.15497],\n",
       "  [1701882005724, 32094842157.998127],\n",
       "  [1701885603341, 34935311866.16773],\n",
       "  [1701889223114, 32641333148.45876],\n",
       "  [1701892814214, 34675646190.920616],\n",
       "  [1701896419562, 30510160007.465473],\n",
       "  [1701900011308, 29390575370.850708],\n",
       "  [1701903600189, 31580556569.922916],\n",
       "  [1701907207579, 30306637687.601166],\n",
       "  [1701910822955, 29506057241.75355],\n",
       "  [1701914429262, 28536232900.129894],\n",
       "  [1701918006981, 27989178157.73114],\n",
       "  [1701921612594, 27332131912.36898],\n",
       "  [1701925223750, 24344200211.88585],\n",
       "  [1701928859311, 14838791844.132063],\n",
       "  [1701932417246, 24523301468.16668],\n",
       "  [1701936028612, 24423497869.521866],\n",
       "  [1701939635403, 26300215676.374523],\n",
       "  [1701943265221, 25367955596.257587],\n",
       "  [1701946835962, 25568471054.836624],\n",
       "  [1701950407793, 27098566662.255287],\n",
       "  [1701954012148, 24161426946.398502],\n",
       "  [1701957633405, 24098164532.995644],\n",
       "  [1701961208498, 26164537199.099384],\n",
       "  [1701964811163, 19944689148.764618],\n",
       "  [1701968436684, 23063546089.844376],\n",
       "  [1701972030597, 26808417054.03053],\n",
       "  [1701975612377, 27033508776.78919],\n",
       "  [1701979212125, 27457022568.743755],\n",
       "  [1701982842313, 27907535549.402714],\n",
       "  [1701986414137, 24625353024.680058],\n",
       "  [1701990021661, 27612654263.456074],\n",
       "  [1701993650506, 27712048105.023373],\n",
       "  [1701997253016, 24791192010.635693],\n",
       "  [1702000810954, 26900919474.140255],\n",
       "  [1702004451503, 25565051173.257664],\n",
       "  [1702008006624, 28008847043.103268],\n",
       "  [1702011609960, 24788198082.13745],\n",
       "  [1702015205081, 25166630669.614723],\n",
       "  [1702018808843, 24646183192.40936],\n",
       "  [1702022413758, 20094466894.25527],\n",
       "  [1702026008550, 25725617228.613926],\n",
       "  [1702029611975, 26252980733.56119],\n",
       "  [1702033215201, 24287642207.002636],\n",
       "  [1702036813759, 22931557769.766483],\n",
       "  [1702040404336, 25078184036.938385],\n",
       "  [1702044014877, 23216567243.564922],\n",
       "  [1702047609452, 21542583281.00194],\n",
       "  [1702051204598, 25598191240.49226],\n",
       "  [1702054812888, 25018993042.379498],\n",
       "  [1702058401198, 23848407313.68584],\n",
       "  [1702063008000, 23211926228.074917]]}"
      ]
     },
     "execution_count": 12,
     "metadata": {},
     "output_type": "execute_result"
    }
   ],
   "source": [
    "#create a client object\n",
    "cg = CoinGeckoAPI()\n",
    "\n",
    "#use a function to request our data   (getting data on bitcoin in USD for the past 30 days)\n",
    "bitcoin_data = cg.get_coin_market_chart_by_id(id='bitcoin', vs_currency='usd', days=30)\n",
    "bitcoin_data\n",
    "\n",
    "#response is a Json expressed as a Python dictionary of nested lists including price, market cap, total volumes which contains\n",
    "# the Unix timeStamp & the price at that time."
   ]
  },
  {
   "cell_type": "code",
   "execution_count": 15,
   "id": "b450ab47",
   "metadata": {},
   "outputs": [
    {
     "data": {
      "text/plain": [
       "[[1699470055725, 35575.00674494876],\n",
       " [1699473607269, 35645.00633920362],\n",
       " [1699477207536, 35599.36608674813],\n",
       " [1699480862074, 35606.82640903577],\n",
       " [1699484440274, 35873.224389464325],\n",
       " [1699488050882, 35647.75103125014],\n",
       " [1699491633695, 35853.855318198024],\n",
       " [1699495256063, 35911.728752822426],\n",
       " [1699498827827, 36332.729628946116],\n",
       " [1699502428461, 36394.93714069923],\n",
       " [1699506026040, 36735.84645170542],\n",
       " [1699509641022, 36651.561575950764],\n",
       " [1699513211042, 36783.321980717665],\n",
       " [1699516837592, 36555.220901666304],\n",
       " [1699520417073, 36672.913630696145],\n",
       " [1699524050598, 36837.58815636808],\n",
       " [1699527605725, 36770.71584740587],\n",
       " [1699531251866, 36799.88991158373],\n",
       " [1699534810907, 36886.12144414277],\n",
       " [1699538449646, 37149.08985597598],\n",
       " [1699542064170, 37883.291998751076],\n",
       " [1699545618254, 37323.241594214574],\n",
       " [1699549209002, 36430.26030381468],\n",
       " [1699552805043, 36570.49786068415],\n",
       " [1699556460765, 36401.767595186626],\n",
       " [1699560006675, 36335.308944018856],\n",
       " [1699563655858, 36553.80224354963],\n",
       " [1699567258895, 36505.27481212208],\n",
       " [1699570809872, 36661.211863449986],\n",
       " [1699574443278, 36768.42081912672],\n",
       " [1699578012981, 36530.67821736738],\n",
       " [1699581660691, 36723.681252943505],\n",
       " [1699585245636, 36864.25907128313],\n",
       " [1699588805469, 36748.30732417886],\n",
       " [1699592420039, 36751.99303149112],\n",
       " [1699596030763, 36718.80486542809],\n",
       " [1699599675395, 36652.02107225412],\n",
       " [1699603234365, 36473.68697082108],\n",
       " [1699606851242, 36515.382351784705],\n",
       " [1699610460723, 36539.479207502496],\n",
       " [1699614011661, 36583.472584982366],\n",
       " [1699617668736, 37101.867203690395],\n",
       " [1699621311575, 37060.88652837508],\n",
       " [1699624801802, 37122.95461027728],\n",
       " [1699628437243, 37066.82541942652],\n",
       " [1699632079315, 37093.38703367307],\n",
       " [1699635605424, 37367.476377411724],\n",
       " [1699639215520, 37258.15253886746],\n",
       " [1699642836642, 37240.624225309126],\n",
       " [1699646435552, 37312.556716368235],\n",
       " [1699650065325, 37270.163450106425],\n",
       " [1699653609444, 37329.13200110702],\n",
       " [1699657279439, 37388.482326184385],\n",
       " [1699660822673, 37344.249000720345],\n",
       " [1699664407897, 37287.44995504606],\n",
       " [1699668017354, 37049.76530697339],\n",
       " [1699671667132, 37132.25188033483],\n",
       " [1699675276344, 37065.83147561591],\n",
       " [1699678809972, 37105.77873505604],\n",
       " [1699682462249, 37091.76790761324],\n",
       " [1699686067341, 37093.190173934374],\n",
       " [1699689625497, 36977.879392178096],\n",
       " [1699693208569, 36972.25617493435],\n",
       " [1699696808781, 37053.82995578746],\n",
       " [1699700408192, 37001.95755812763],\n",
       " [1699704060796, 37013.2022660157],\n",
       " [1699707677910, 37131.35100517337],\n",
       " [1699711209736, 37142.42409876143],\n",
       " [1699714844598, 37294.8512087961],\n",
       " [1699718409686, 37111.65382054027],\n",
       " [1699722042480, 37169.09570828781],\n",
       " [1699725607999, 37174.97529316527],\n",
       " [1699729206577, 37137.071018833354],\n",
       " [1699732809825, 37168.838656410124],\n",
       " [1699736436217, 37010.251106951284],\n",
       " [1699740062540, 36962.46890873377],\n",
       " [1699743648800, 36896.46481244737],\n",
       " [1699747267870, 37122.722824306555],\n",
       " [1699750866625, 36882.519128243846],\n",
       " [1699754457722, 37006.003592326764],\n",
       " [1699758055845, 36925.46413909653],\n",
       " [1699761663410, 36999.848834259654],\n",
       " [1699765216368, 36988.86701365405],\n",
       " [1699768805299, 37111.306777162885],\n",
       " [1699772460674, 37157.1306391266],\n",
       " [1699776063613, 37142.560686217665],\n",
       " [1699779665339, 37107.86989010588],\n",
       " [1699783262263, 37081.180389851535],\n",
       " [1699786856896, 37099.8839553007],\n",
       " [1699790474716, 37087.44026060873],\n",
       " [1699794007105, 37021.26410518209],\n",
       " [1699797629568, 37106.48751843482],\n",
       " [1699801253721, 37159.90984664138],\n",
       " [1699804820788, 37198.72767934926],\n",
       " [1699808446641, 37138.062934782065],\n",
       " [1699812056988, 37092.25248348423],\n",
       " [1699815652360, 37197.37464625415],\n",
       " [1699819203055, 37117.1167830375],\n",
       " [1699822828910, 37154.778477139655],\n",
       " [1699826435994, 37185.268117331856],\n",
       " [1699830006568, 37160.19989130365],\n",
       " [1699833609406, 37067.69698212008],\n",
       " [1699837201753, 37086.97701787372],\n",
       " [1699840805860, 37253.190610682024],\n",
       " [1699844469425, 37158.102457258974],\n",
       " [1699848000360, 37005.76146801182],\n",
       " [1699851613436, 36918.09368303102],\n",
       " [1699855251551, 36950.968995869705],\n",
       " [1699858854857, 36954.144709818014],\n",
       " [1699862435350, 36981.04563123201],\n",
       " [1699866010309, 37051.862925313406],\n",
       " [1699869625792, 37004.78065396558],\n",
       " [1699873207704, 36988.99704895734],\n",
       " [1699876816125, 36795.57113424511],\n",
       " [1699880421297, 36951.70031013419],\n",
       " [1699884025820, 36846.299498709894],\n",
       " [1699887622789, 36771.18254565363],\n",
       " [1699891249067, 36826.699952108465],\n",
       " [1699894844357, 36877.82472769619],\n",
       " [1699898451757, 36648.163279346496],\n",
       " [1699902046232, 36762.38073450954],\n",
       " [1699905610198, 36853.55932751403],\n",
       " [1699909263032, 36815.67139117826],\n",
       " [1699912861788, 36437.7836967649],\n",
       " [1699916421618, 36556.12320473314],\n",
       " [1699920013347, 36549.16204829837],\n",
       " [1699923629685, 36223.31232606392],\n",
       " [1699927213716, 36407.95318118144],\n",
       " [1699930803936, 36423.937400058334],\n",
       " [1699934420157, 36460.327543816646],\n",
       " [1699938035398, 36510.58204228086],\n",
       " [1699941642190, 36613.891555707756],\n",
       " [1699945200674, 36666.87962550011],\n",
       " [1699948836957, 36698.75352811377],\n",
       " [1699952418326, 36740.39552999041],\n",
       " [1699956077456, 36526.080298771296],\n",
       " [1699959643774, 36509.54328582069],\n",
       " [1699963207970, 36330.5454067207],\n",
       " [1699966804409, 36395.086313228174],\n",
       " [1699970456165, 36554.31613769191],\n",
       " [1699974007932, 36595.39415854397],\n",
       " [1699977654523, 36132.70318203377],\n",
       " [1699981231038, 36298.16148703754],\n",
       " [1699984857344, 36152.8269043818],\n",
       " [1699988448246, 35284.820419943026],\n",
       " [1699992040339, 35289.034993556146],\n",
       " [1699995604322, 35266.335242154084],\n",
       " [1699999268405, 35578.75303693282],\n",
       " [1700002807037, 35600.915413431205],\n",
       " [1700006470759, 35545.201433454065],\n",
       " [1700010001613, 35553.4929570494],\n",
       " [1700013610831, 35501.056059298586],\n",
       " [1700017247343, 35480.001015120666],\n",
       " [1700020848147, 35389.21900849932],\n",
       " [1700024476515, 35577.049505337236],\n",
       " [1700028053982, 35629.027714432654],\n",
       " [1700031611420, 35619.25073013464],\n",
       " [1700035203820, 35574.9178249679],\n",
       " [1700038810213, 35815.42238135602],\n",
       " [1700042428897, 35797.48206930911],\n",
       " [1700046041685, 35859.259689371625],\n",
       " [1700049694283, 36250.773207587685],\n",
       " [1700053214857, 36282.24840171514],\n",
       " [1700056813688, 36136.335084775885],\n",
       " [1700060444334, 36119.57143025458],\n",
       " [1700064070479, 36397.07945959704],\n",
       " [1700067635080, 36392.07898045584],\n",
       " [1700071243958, 36496.59967868011],\n",
       " [1700074850288, 37433.21417703956],\n",
       " [1700078413265, 37492.220592756494],\n",
       " [1700082004733, 37463.40214037469],\n",
       " [1700085656795, 37655.825028585976],\n",
       " [1700089237390, 37761.00853505901],\n",
       " [1700092806552, 37903.66245166294],\n",
       " [1700096421115, 37826.36685950436],\n",
       " [1700100021666, 37464.28404051854],\n",
       " [1700103643057, 37557.96985041627],\n",
       " [1700107238252, 37443.56247829998],\n",
       " [1700110858012, 37453.64109418541],\n",
       " [1700114468080, 37433.45025617561],\n",
       " [1700118007765, 37540.40254352169],\n",
       " [1700121631687, 37449.44822077931],\n",
       " [1700125316095, 37353.98537885555],\n",
       " [1700128899893, 37379.06249787419],\n",
       " [1700132439360, 37337.02999503687],\n",
       " [1700136081384, 37226.388081132034],\n",
       " [1700139706974, 37115.752578242944],\n",
       " [1700143245932, 36861.18679414148],\n",
       " [1700146901982, 36739.645841596954],\n",
       " [1700150447161, 36379.79999641866],\n",
       " [1700154024908, 36544.51628227986],\n",
       " [1700157637264, 36448.385891631624],\n",
       " [1700161302766, 36234.831967022554],\n",
       " [1700164933727, 35841.3117294496],\n",
       " [1700168512969, 36055.70531604448],\n",
       " [1700172129879, 35985.23717564191],\n",
       " [1700175693415, 36235.00577174696],\n",
       " [1700179284891, 36163.46689036523],\n",
       " [1700182805320, 36356.78342196292],\n",
       " [1700186437641, 36551.34316496115],\n",
       " [1700190036190, 36470.87256684636],\n",
       " [1700193752487, 36517.10471656712],\n",
       " [1700197223563, 36445.86899342715],\n",
       " [1700200805708, 36333.82905466318],\n",
       " [1700204454927, 36382.533811227106],\n",
       " [1700208023152, 36225.1695532378],\n",
       " [1700211622070, 36396.39850534106],\n",
       " [1700215208235, 36350.066270107374],\n",
       " [1700218813678, 36327.443151059924],\n",
       " [1700222517617, 36365.54623893652],\n",
       " [1700226059855, 36419.96859704596],\n",
       " [1700229640552, 36311.78964712377],\n",
       " [1700233326935, 36031.0668801605],\n",
       " [1700236960967, 36054.25707338411],\n",
       " [1700240422228, 35961.40139342393],\n",
       " [1700244130286, 36490.86224117981],\n",
       " [1700247630716, 36492.57414669125],\n",
       " [1700251262204, 36301.35425177167],\n",
       " [1700254944887, 36522.74630566679],\n",
       " [1700258535980, 36406.00134698672],\n",
       " [1700262036860, 36546.96421848689],\n",
       " [1700265771914, 36618.603212685804],\n",
       " [1700269239794, 36422.4005120057],\n",
       " [1700272934209, 36435.98908456511],\n",
       " [1700276452763, 36427.59675017515],\n",
       " [1700280046355, 36375.36086424323],\n",
       " [1700283646329, 36420.503133352606],\n",
       " [1700287270318, 36348.29105842537],\n",
       " [1700290841392, 36283.87120142703],\n",
       " [1700294526429, 36429.28685207062],\n",
       " [1700298092133, 36470.088843324],\n",
       " [1700301619005, 36402.80403786543],\n",
       " [1700305261952, 36469.56168863435],\n",
       " [1700308947891, 36434.144724931015],\n",
       " [1700312430881, 36471.98868436398],\n",
       " [1700316077749, 36451.862659168386],\n",
       " [1700319742847, 36513.9006278419],\n",
       " [1700323250715, 36689.87126018735],\n",
       " [1700326881758, 36733.939773701015],\n",
       " [1700330413831, 36636.030705664554],\n",
       " [1700334110445, 36746.60953633107],\n",
       " [1700337674155, 36692.866042648944],\n",
       " [1700341255887, 36621.67239940781],\n",
       " [1700344931633, 36568.579036778465],\n",
       " [1700348448250, 36532.153607590735],\n",
       " [1700352020836, 36588.255832804745],\n",
       " [1700355657106, 36503.78343590226],\n",
       " [1700359245135, 36506.96503516864],\n",
       " [1700362817187, 36481.45052527601],\n",
       " [1700366430518, 36518.91882982612],\n",
       " [1700370060823, 36557.56930239484],\n",
       " [1700373614315, 36525.19431003651],\n",
       " [1700377216726, 36633.124621298855],\n",
       " [1700380805788, 36623.74357507149],\n",
       " [1700384419639, 36646.538903301014],\n",
       " [1700388056335, 36651.52964230982],\n",
       " [1700391626417, 36576.9978804993],\n",
       " [1700395200582, 36469.89195084626],\n",
       " [1700398885048, 36507.484202873035],\n",
       " [1700402419176, 36489.69790548668],\n",
       " [1700406008040, 36455.02842592002],\n",
       " [1700409662058, 36575.22784249426],\n",
       " [1700413298744, 36573.62206405465],\n",
       " [1700416854242, 36575.05429494628],\n",
       " [1700420459411, 36844.55888439244],\n",
       " [1700424029061, 36978.09927850687],\n",
       " [1700427604998, 36920.690186238084],\n",
       " [1700431225668, 37030.31035337546],\n",
       " [1700434840794, 36960.80556076372],\n",
       " [1700438405448, 37413.99460790531],\n",
       " [1700442002779, 37278.70425465546],\n",
       " [1700445610466, 37297.77624372937],\n",
       " [1700449231125, 37322.733299603904],\n",
       " [1700452865577, 37106.63557113921],\n",
       " [1700456484837, 37231.56857334532],\n",
       " [1700460013335, 37147.203762634825],\n",
       " [1700463646886, 37210.1094542998],\n",
       " [1700467248952, 37267.75139103715],\n",
       " [1700470808532, 37109.931783161046],\n",
       " [1700474414090, 37214.94223860236],\n",
       " [1700478038150, 37323.631210928055],\n",
       " [1700481628029, 37161.87239254375],\n",
       " [1700485211096, 37159.24601737388],\n",
       " [1700488839738, 37113.05427051357],\n",
       " [1700492470009, 37442.652846326775],\n",
       " [1700496005519, 37487.37945434397],\n",
       " [1700499665721, 37265.85927639003],\n",
       " [1700503211815, 37610.48286832978],\n",
       " [1700506814190, 37641.00141735154],\n",
       " [1700510409949, 37602.763612962044],\n",
       " [1700514010270, 37445.95234177782],\n",
       " [1700517607622, 37428.90541708652],\n",
       " [1700521221867, 37469.61749158779],\n",
       " [1700524809896, 37489.298470802016],\n",
       " [1700528404168, 37356.334423462744],\n",
       " [1700532001890, 37561.27729892008],\n",
       " [1700535608293, 37474.6289737818],\n",
       " [1700539202832, 37476.50513018157],\n",
       " [1700542801613, 37420.02154279264],\n",
       " [1700546416476, 37358.92481586114],\n",
       " [1700550010958, 37384.65925654388],\n",
       " [1700553621584, 37277.27906051402],\n",
       " [1700557224231, 37444.29994144533],\n",
       " [1700560839464, 37345.15657929008],\n",
       " [1700564441433, 37355.312569449154],\n",
       " [1700568048318, 37193.69716039457],\n",
       " [1700571638690, 37188.579814451135],\n",
       " [1700575234297, 37019.2518141471],\n",
       " [1700578806968, 36567.50916841365],\n",
       " [1700582420914, 37120.74199596451],\n",
       " [1700586049099, 37125.79383087718],\n",
       " [1700589621037, 36980.46065303571],\n",
       " [1700593254259, 36880.05824388846],\n",
       " [1700596807606, 36986.640325460656],\n",
       " [1700600413586, 36977.27155854253],\n",
       " [1700604008815, 36795.84334523973],\n",
       " [1700607626155, 36482.32215297025],\n",
       " [1700611204859, 35965.36036068078],\n",
       " [1700614807189, 36089.70808299363],\n",
       " [1700618414971, 36098.95615911636],\n",
       " [1700622020293, 36265.63606251733],\n",
       " [1700625623836, 36406.10522746171],\n",
       " [1700629221177, 36437.76256375309],\n",
       " [1700632878596, 36360.71981634957],\n",
       " [1700636460857, 36539.71914095118],\n",
       " [1700640059006, 36455.16917374303],\n",
       " [1700643670998, 36550.64833688672],\n",
       " [1700647228544, 36684.38636537151],\n",
       " [1700650814430, 36713.94887425185],\n",
       " [1700654449568, 36481.28370163904],\n",
       " [1700658011337, 36568.623490056474],\n",
       " [1700661638911, 36633.678405629515],\n",
       " [1700665263582, 36350.636197109525],\n",
       " [1700668835682, 36472.43822105619],\n",
       " [1700672432804, 36414.3773680605],\n",
       " [1700676009340, 36570.420782393725],\n",
       " [1700679640712, 37132.635217228104],\n",
       " [1700683209433, 37279.241941175904],\n",
       " [1700686805488, 37554.982662585884],\n",
       " [1700690402858, 37548.61302248509],\n",
       " [1700694063621, 37447.704620725824],\n",
       " [1700697610154, 37464.83293220907],\n",
       " [1700701200720, 37310.418354877744],\n",
       " [1700704802257, 37445.71478544485],\n",
       " [1700708410181, 37380.469745104085],\n",
       " [1700712033689, 37308.61678149021],\n",
       " [1700715621755, 37339.089223706076],\n",
       " [1700719200790, 37332.83218640457],\n",
       " [1700722823408, 37280.27850640637],\n",
       " [1700726446973, 37366.33168514719],\n",
       " [1700730006910, 37455.43569501218],\n",
       " [1700733612890, 37642.766568877785],\n",
       " [1700737220975, 37452.87610827765],\n",
       " [1700740808039, 37317.939602032275],\n",
       " [1700744414529, 37312.92554478364],\n",
       " [1700748029152, 37259.64771995764],\n",
       " [1700751634780, 37219.634494101614],\n",
       " [1700755226763, 36979.10993608723],\n",
       " [1700758810491, 37093.69986592985],\n",
       " [1700762412930, 37153.120825669925],\n",
       " [1700766052309, 37256.538097687306],\n",
       " [1700769628496, 37314.64674858196],\n",
       " [1700773209528, 37293.468510363324],\n",
       " [1700776810457, 37298.06113147242],\n",
       " [1700780439271, 37315.61310063634],\n",
       " [1700784013053, 37293.316127426726],\n",
       " [1700787614568, 37289.94527349014],\n",
       " [1700791213431, 37398.167906803625],\n",
       " [1700794847122, 37406.247477579294],\n",
       " [1700798425463, 37347.96022847561],\n",
       " [1700802011003, 37365.71923817851],\n",
       " [1700805625502, 37395.90827506792],\n",
       " [1700809239980, 37379.467490416195],\n",
       " [1700812834339, 37496.92132716386],\n",
       " [1700816431345, 37436.84535484026],\n",
       " [1700820051641, 37625.47515761646],\n",
       " [1700823642592, 37637.81821990924],\n",
       " [1700827244430, 37799.85874760194],\n",
       " [1700830831884, 37721.27737308314],\n",
       " [1700834453000, 37779.131729484536],\n",
       " [1700838056750, 37804.55731133284],\n",
       " [1700841610669, 38189.655829505544],\n",
       " [1700845207634, 37758.103819696225],\n",
       " [1700848853869, 37834.992480078836],\n",
       " [1700852446135, 37705.00717642783],\n",
       " [1700856020725, 37800.85326928097],\n",
       " [1700859647348, 37879.28207334728],\n",
       " [1700863226985, 37841.92561759012],\n",
       " [1700866864838, 37757.677579908384],\n",
       " [1700870456017, 37738.93169747125],\n",
       " [1700874033369, 37736.54681030877],\n",
       " [1700877645718, 37803.52427387762],\n",
       " [1700881219449, 37827.27932705619],\n",
       " [1700884814025, 37804.76647832383],\n",
       " [1700888417485, 37801.38886126128],\n",
       " [1700892051973, 37820.24727366895],\n",
       " [1700895646885, 37806.05244160949],\n",
       " [1700899207086, 37831.33106264941],\n",
       " [1700902882858, 37794.76842895799],\n",
       " [1700906405981, 37748.79833357165],\n",
       " [1700910042004, 37712.55622361436],\n",
       " [1700913605663, 37653.772512871146],\n",
       " [1700917202742, 37722.173733197844],\n",
       " [1700920808977, 37749.83699182468],\n",
       " [1700924405437, 37720.685112879284],\n",
       " [1700928031380, 37722.59464293821],\n",
       " [1700931658055, 37756.65341310771],\n",
       " [1700935222605, 37797.85549133707],\n",
       " [1700938887189, 37833.29737013529],\n",
       " [1700942415782, 37842.74095748697],\n",
       " [1700946018318, 37817.94179295441],\n",
       " [1700949658590, 37807.40703002618],\n",
       " [1700953206056, 37760.10455520974],\n",
       " [1700956839899, 37800.28217309619],\n",
       " [1700960422606, 37763.02703297583],\n",
       " [1700964026050, 37705.02887240114],\n",
       " [1700967645897, 37759.93974750907],\n",
       " [1700971212535, 37754.70526488663],\n",
       " [1700974846017, 37763.732858945266],\n",
       " [1700978421380, 37793.64431403557],\n",
       " [1700982041576, 37788.10244930057],\n",
       " [1700985654229, 37812.43724553806],\n",
       " [1700989228509, 37792.90092884676],\n",
       " [1700992832278, 37777.892099231256],\n",
       " [1700996431322, 37728.290528272344],\n",
       " [1701000026518, 37686.93466932706],\n",
       " [1701003603159, 37583.05840249476],\n",
       " [1701007221952, 37482.57695014037],\n",
       " [1701010801282, 37390.36318955521],\n",
       " [1701014421089, 37419.91048390201],\n",
       " [1701018063750, 37184.1521968419],\n",
       " [1701021675072, 37277.07278556451],\n",
       " [1701025218257, 37229.85088047136],\n",
       " [1701028806125, 37321.06241885232],\n",
       " [1701032403018, 37610.606849353484],\n",
       " [1701036067032, 37651.86578364459],\n",
       " [1701039647809, 37646.91333313132],\n",
       " [1701043200903, 37479.4639007697],\n",
       " [1701046800805, 37514.914425042676],\n",
       " [1701050404033, 37493.67370201604],\n",
       " [1701054064306, 37330.133345788345],\n",
       " [1701057632483, 37318.30584731139],\n",
       " [1701061247397, 37381.08565581846],\n",
       " [1701064823132, 37344.83463883223],\n",
       " [1701068441984, 37261.18076239171],\n",
       " [1701072005821, 37286.01760264288],\n",
       " [1701075609387, 37345.42222276443],\n",
       " [1701079200273, 37456.8208086032],\n",
       " [1701082828125, 37105.72526483829],\n",
       " [1701086407215, 37153.393982179616],\n",
       " [1701090043630, 37070.88096186102],\n",
       " [1701093656771, 36852.04066154097],\n",
       " [1701097220470, 36770.39889445873],\n",
       " [1701100801436, 36822.44074613723],\n",
       " [1701104460307, 37058.31561754113],\n",
       " [1701108032217, 36918.99837698293],\n",
       " [1701111635085, 36956.580633701255],\n",
       " [1701115228247, 36886.50705537329],\n",
       " [1701118830602, 36821.20749959725],\n",
       " [1701122415198, 37010.074475659945],\n",
       " [1701126027155, 37069.97426871866],\n",
       " [1701129601792, 37275.70298263105],\n",
       " [1701133200659, 37265.896934563476],\n",
       " [1701136800715, 37224.82465955006],\n",
       " [1701140411890, 37186.24705220994],\n",
       " [1701144010921, 37133.160745663976],\n",
       " [1701147609161, 37005.502651825765],\n",
       " [1701151273985, 36930.718676559816],\n",
       " [1701154854968, 37071.64933422501],\n",
       " [1701158447984, 37116.67138301842],\n",
       " [1701162019721, 36950.07645028676],\n",
       " [1701165626535, 37101.48065349674],\n",
       " [1701169236947, 37089.56810257802],\n",
       " [1701172801958, 37226.8290786621],\n",
       " [1701176412672, 37198.39977907306],\n",
       " [1701180038369, 37433.766836494455],\n",
       " [1701183609177, 37394.07643077547],\n",
       " [1701187236732, 37498.44306463815],\n",
       " [1701190827927, 37913.65188183311],\n",
       " [1701194446179, 38170.41938875429],\n",
       " [1701198110080, 38028.624156199294],\n",
       " [1701201668574, 38261.22764442761],\n",
       " [1701205217045, 38247.067863730925],\n",
       " [1701208838597, 37986.86179095247],\n",
       " [1701212421226, 37823.821220234415],\n",
       " [1701216008297, 37802.23604377473],\n",
       " [1701219613866, 37896.495876000896],\n",
       " [1701223235403, 37963.24457231813],\n",
       " [1701226858653, 37919.148111568866],\n",
       " [1701230429964, 37927.545827586],\n",
       " [1701234017723, 37918.65956045931],\n",
       " [1701237604429, 38016.71960938207],\n",
       " [1701241219647, 38189.71043871588],\n",
       " [1701244813649, 38180.80133415089],\n",
       " [1701248403367, 38329.03761090173],\n",
       " [1701252060238, 38308.56019539666],\n",
       " [1701255623416, 37952.806530482],\n",
       " [1701259206604, 38165.99878207116],\n",
       " [1701262803577, 38247.80903444624],\n",
       " [1701266414693, 38154.816272782555],\n",
       " [1701270004706, 37847.408905601485],\n",
       " [1701273606316, 37853.04318282559],\n",
       " [1701277229600, 37776.59552224862],\n",
       " [1701280813945, 37833.07449689043],\n",
       " [1701284411008, 37855.02048653006],\n",
       " [1701288016676, 37830.37950137519],\n",
       " [1701291612234, 37686.82572817117],\n",
       " [1701295222282, 37720.56805996384],\n",
       " [1701298860228, 37798.33697303296],\n",
       " [1701302450158, 37810.34641654128],\n",
       " [1701306048331, 37846.54624031292],\n",
       " [1701309685039, 37707.41683816759],\n",
       " [1701313207358, 37900.831548547896],\n",
       " [1701316882464, 38049.71405708279],\n",
       " [1701320461362, 37983.48982564399],\n",
       " [1701324034633, 37883.492250512594],\n",
       " [1701327619090, 37890.29622632359],\n",
       " [1701331244416, 37789.336843645084],\n",
       " [1701334867550, 37666.695097959906],\n",
       " [1701338436044, 37702.55758118839],\n",
       " [1701342011266, 37699.89617454001],\n",
       " [1701345689729, 37870.39199235945],\n",
       " [1701349215416, 37865.352690164786],\n",
       " [1701352880811, 37779.33930176717],\n",
       " [1701356407116, 37714.451780373376],\n",
       " [1701360021425, 37550.7712513322],\n",
       " [1701363661690, 37674.89543904984],\n",
       " [1701367253584, 37746.35090844887],\n",
       " [1701370805068, 37730.6450303125],\n",
       " [1701374402634, 37791.6209042337],\n",
       " [1701378095401, 37730.058074457644],\n",
       " [1701381603981, 37758.36256606494],\n",
       " [1701385209489, 37766.35189696482],\n",
       " [1701388860292, 37711.81837585267],\n",
       " [1701392480275, 37686.883493873145],\n",
       " [1701396035411, 37952.97688055694],\n",
       " [1701399631877, 37993.781301693336],\n",
       " [1701403225630, 38056.21434006624],\n",
       " [1701406813750, 38178.60076031328],\n",
       " [1701410402840, 38126.257559346166],\n",
       " [1701414010166, 38201.09522290106],\n",
       " [1701417602903, 38274.23844638254],\n",
       " [1701421200248, 38324.727041247694],\n",
       " [1701424831967, 38716.51256230179],\n",
       " [1701428440610, 38609.71030296244],\n",
       " [1701432057151, 38588.98744301308],\n",
       " [1701435619391, 38335.644889300376],\n",
       " [1701439221191, 38383.450916895476],\n",
       " [1701442879854, 38349.59336714379],\n",
       " [1701446446143, 38425.64514173744],\n",
       " [1701450017684, 38865.49348613761],\n",
       " [1701453655964, 38788.45449703663],\n",
       " [1701457284282, 38786.97239941792],\n",
       " [1701460802878, 38765.03228493339],\n",
       " [1701464413958, 38789.652274272914],\n",
       " [1701468077211, 38879.988983613905],\n",
       " [1701471616697, 38721.55637643629],\n",
       " [1701475237950, 38688.25874179069],\n",
       " [1701478862116, 38745.01599011696],\n",
       " [1701482421337, 38771.861009602646],\n",
       " [1701486024832, 38733.905087854655],\n",
       " [1701489624150, 38791.576782986456],\n",
       " [1701493205461, 38778.344824643966],\n",
       " [1701496804280, 38821.27839554136],\n",
       " [1701500403061, 38781.465775129866],\n",
       " [1701504012507, 38759.838774804266],\n",
       " [1701507606809, 38722.70728685683],\n",
       " [1701511242639, 38801.858119236305],\n",
       " [1701514854243, 38766.54151747684],\n",
       " [1701518408706, 38764.9920600245],\n",
       " [1701522043744, 38783.432560123816],\n",
       " [1701525600315, 38849.23463806226],\n",
       " [1701529217507, 38771.45031058555],\n",
       " [1701532846893, 38818.73975587071],\n",
       " [1701536464564, 38740.144970710855],\n",
       " [1701540078610, 38809.024569185174],\n",
       " [1701543657412, 38912.29920005041],\n",
       " [1701547245759, 39345.44311863636],\n",
       " [1701550875731, 39515.732720786174],\n",
       " [1701554415534, 39680.220004704446],\n",
       " [1701558084943, 39375.159354813426],\n",
       " [1701561635455, 39481.666416062864],\n",
       " [1701565226100, 39519.34785575302],\n",
       " [1701568833529, 39511.22892311471],\n",
       " [1701572466226, 39371.46506231928],\n",
       " [1701576057952, 39389.70384842287],\n",
       " [1701579661716, 39370.02891971165],\n",
       " [1701583275484, 39428.67737229705],\n",
       " [1701586824133, 39410.83861871465],\n",
       " [1701590421055, 39492.1025382727],\n",
       " [1701594012332, 39442.099724108666],\n",
       " [1701597644616, 39439.6639078455],\n",
       " [1701601239735, 39532.41221835202],\n",
       " [1701604854884, 39486.46392935578],\n",
       " [1701608405382, 39409.595113612915],\n",
       " [1701612064065, 39746.05684044803],\n",
       " [1701615613258, 39562.25999917687],\n",
       " [1701619228718, 39760.2623228265],\n",
       " [1701622841712, 39688.267153328394],\n",
       " [1701626403859, 39533.18083504253],\n",
       " [1701630047961, 39560.131245892335],\n",
       " [1701633662795, 39543.81999170206],\n",
       " [1701637280778, 39578.90935426123],\n",
       " [1701640873079, 39752.69240586973],\n",
       " [1701644436387, 40071.671214636764],\n",
       " [1701648051563, 39999.14277837668],\n",
       " [1701651611171, 40206.905880333805],\n",
       " [1701655203325, 40746.81195194034],\n",
       " [1701658809615, 40681.985448230815],\n",
       " [1701662410907, 40742.35328414733],\n",
       " [1701666009354, 40866.796814265814],\n",
       " [1701669635356, 41375.34893286266],\n",
       " [1701673212789, 41409.318944062514],\n",
       " [1701676830522, 41432.38068485252],\n",
       " [1701680421462, 41693.78409343339],\n",
       " [1701684010616, 41636.995007524936],\n",
       " [1701687633626, 42008.48490210153],\n",
       " [1701691213697, 41622.87175618215],\n",
       " [1701694817667, 41785.69097467152],\n",
       " [1701698455572, 41767.73523829736],\n",
       " [1701702014181, 41636.777838177615],\n",
       " [1701705662497, 41261.26187984762],\n",
       " [1701709230460, 41543.32992258695],\n",
       " [1701712813030, 41596.505521581465],\n",
       " [1701716406630, 41736.91177926652],\n",
       " [1701720002341, 41903.07658106982],\n",
       " [1701723607951, 41761.825735036175],\n",
       " [1701727206174, 41932.1761443509],\n",
       " [1701730819585, 41925.569045271164],\n",
       " [1701734458763, 41985.05643054763],\n",
       " [1701738025931, 41892.30568414858],\n",
       " [1701741614596, 41834.54382511119],\n",
       " [1701745251741, 41733.99456113161],\n",
       " [1701748865708, 41771.427116477666],\n",
       " [1701752410644, 41779.76286436433],\n",
       " [1701756002773, 41907.14135655048],\n",
       " [1701759607093, 41720.04054226303],\n",
       " [1701763205954, 41528.838930401165],\n",
       " [1701766834620, 41619.54179198166],\n",
       " [1701770445440, 41719.55696442351],\n",
       " [1701774019809, 41688.85473566735],\n",
       " [1701777661171, 41732.733222462906],\n",
       " [1701781250770, 41864.37115219754],\n",
       " [1701784813497, 41850.27349166447],\n",
       " [1701788450897, 42117.57166153031],\n",
       " [1701792022612, 42281.57399093059],\n",
       " [1701795602097, 42694.49578039032],\n",
       " [1701799298115, 43407.18988409029],\n",
       " [1701802876904, 43717.871172531464],\n",
       " [1701806458739, 43793.743516859664],\n",
       " [1701810041229, 43752.536813083076],\n",
       " [1701813636853, 44038.3773951916],\n",
       " [1701817206444, 44313.5688067047],\n",
       " [1701820841695, 44105.94477259938],\n",
       " [1701824488429, 44084.07542946641],\n",
       " [1701828080417, 43890.1725456299],\n",
       " [1701831657786, 43853.15503176022],\n",
       " [1701835251849, 43725.79279287818],\n",
       " [1701838822939, 43759.93874031614],\n",
       " [1701842437215, 43647.56990366777],\n",
       " [1701846079226, 43613.25858429163],\n",
       " [1701849600590, 43700.47163804608],\n",
       " [1701853210855, 43830.09830285976],\n",
       " [1701856806473, 43919.23914241112],\n",
       " [1701860403763, 44068.522598662625],\n",
       " [1701864042135, 43835.07913180642],\n",
       " [1701867633869, 44070.619677976836],\n",
       " [1701871205627, 44123.75642200011],\n",
       " [1701874810159, 44084.59699545886],\n",
       " [1701878417153, 43774.17848906289],\n",
       " [1701882005724, 43830.406264064164],\n",
       " [1701885603341, 44026.879581062705],\n",
       " [1701889223114, 43941.442351835816],\n",
       " [1701892814214, 44017.505223580854],\n",
       " [1701896419562, 43876.81941256845],\n",
       " [1701900011308, 43824.256902592155],\n",
       " [1701903600189, 43634.9044842414],\n",
       " [1701907207579, 43788.28880825234],\n",
       " [1701910822955, 43840.39396879242],\n",
       " [1701914429262, 43914.485116075564],\n",
       " [1701918006981, 43975.42782937081],\n",
       " [1701921612594, 43914.50403665742],\n",
       " [1701925223750, 43985.76702287833],\n",
       " [1701928859311, 43983.83364085532],\n",
       " [1701932417246, 43876.01905224208],\n",
       " [1701936028612, 43914.510795354676],\n",
       " [1701939635403, 43637.9456245303],\n",
       " [1701943265221, 43422.577584515966],\n",
       " [1701946835962, 43178.29915588401],\n",
       " [1701950407793, 43231.10412076097],\n",
       " [1701954012148, 43319.006727940316],\n",
       " [1701957633405, 43268.742623633174],\n",
       " [1701961208498, 43480.92990610841],\n",
       " [1701964811163, 43707.9881922381],\n",
       " [1701968436684, 43686.935181568064],\n",
       " [1701972030597, 43321.512329799174],\n",
       " [1701975612377, 43288.23234764201],\n",
       " [1701979212125, 43158.79442501625],\n",
       " [1701982842313, 43234.89391741567],\n",
       " [1701986414137, 43377.592325683276],\n",
       " [1701990021661, 43166.048404404966],\n",
       " [1701993650506, 43270.11955970747],\n",
       " [1701997253016, 43382.56326133669],\n",
       " [1702000810954, 43396.43772710228],\n",
       " [1702004451503, 43512.27963831054],\n",
       " [1702008006624, 43389.520293612215],\n",
       " [1702011609960, 43470.02565791358],\n",
       " [1702015205081, 43427.5014450611],\n",
       " [1702018808843, 43360.89817301741],\n",
       " [1702022413758, 43207.56300245892],\n",
       " [1702026008550, 43248.20340119713],\n",
       " [1702029611975, 43174.14096733939],\n",
       " [1702033215201, 43329.93272271259],\n",
       " [1702036813759, 43659.830608952616],\n",
       " [1702040404336, 43794.25619153226],\n",
       " [1702044014877, 43633.412709203716],\n",
       " [1702047609452, 43937.59163050896],\n",
       " [1702051204598, 43819.98586201575],\n",
       " [1702054812888, 43832.78035618881],\n",
       " [1702058401198, 43734.95670481345],\n",
       " [1702063008000, 43833.021784014905]]"
      ]
     },
     "execution_count": 15,
     "metadata": {},
     "output_type": "execute_result"
    }
   ],
   "source": [
    "# we're only interested in prices\n",
    "\n",
    "bitcoin_price_data = bitcoin_data['prices']\n",
    "bitcoin_price_data"
   ]
  },
  {
   "cell_type": "code",
   "execution_count": 16,
   "id": "9b621a07",
   "metadata": {},
   "outputs": [
    {
     "data": {
      "text/html": [
       "<div>\n",
       "<style scoped>\n",
       "    .dataframe tbody tr th:only-of-type {\n",
       "        vertical-align: middle;\n",
       "    }\n",
       "\n",
       "    .dataframe tbody tr th {\n",
       "        vertical-align: top;\n",
       "    }\n",
       "\n",
       "    .dataframe thead th {\n",
       "        text-align: right;\n",
       "    }\n",
       "</style>\n",
       "<table border=\"1\" class=\"dataframe\">\n",
       "  <thead>\n",
       "    <tr style=\"text-align: right;\">\n",
       "      <th></th>\n",
       "      <th>TimeStamp</th>\n",
       "      <th>Price</th>\n",
       "    </tr>\n",
       "  </thead>\n",
       "  <tbody>\n",
       "    <tr>\n",
       "      <th>0</th>\n",
       "      <td>1699470055725</td>\n",
       "      <td>35575.006745</td>\n",
       "    </tr>\n",
       "    <tr>\n",
       "      <th>1</th>\n",
       "      <td>1699473607269</td>\n",
       "      <td>35645.006339</td>\n",
       "    </tr>\n",
       "    <tr>\n",
       "      <th>2</th>\n",
       "      <td>1699477207536</td>\n",
       "      <td>35599.366087</td>\n",
       "    </tr>\n",
       "    <tr>\n",
       "      <th>3</th>\n",
       "      <td>1699480862074</td>\n",
       "      <td>35606.826409</td>\n",
       "    </tr>\n",
       "    <tr>\n",
       "      <th>4</th>\n",
       "      <td>1699484440274</td>\n",
       "      <td>35873.224389</td>\n",
       "    </tr>\n",
       "    <tr>\n",
       "      <th>...</th>\n",
       "      <td>...</td>\n",
       "      <td>...</td>\n",
       "    </tr>\n",
       "    <tr>\n",
       "      <th>716</th>\n",
       "      <td>1702047609452</td>\n",
       "      <td>43937.591631</td>\n",
       "    </tr>\n",
       "    <tr>\n",
       "      <th>717</th>\n",
       "      <td>1702051204598</td>\n",
       "      <td>43819.985862</td>\n",
       "    </tr>\n",
       "    <tr>\n",
       "      <th>718</th>\n",
       "      <td>1702054812888</td>\n",
       "      <td>43832.780356</td>\n",
       "    </tr>\n",
       "    <tr>\n",
       "      <th>719</th>\n",
       "      <td>1702058401198</td>\n",
       "      <td>43734.956705</td>\n",
       "    </tr>\n",
       "    <tr>\n",
       "      <th>720</th>\n",
       "      <td>1702063008000</td>\n",
       "      <td>43833.021784</td>\n",
       "    </tr>\n",
       "  </tbody>\n",
       "</table>\n",
       "<p>721 rows × 2 columns</p>\n",
       "</div>"
      ],
      "text/plain": [
       "         TimeStamp         Price\n",
       "0    1699470055725  35575.006745\n",
       "1    1699473607269  35645.006339\n",
       "2    1699477207536  35599.366087\n",
       "3    1699480862074  35606.826409\n",
       "4    1699484440274  35873.224389\n",
       "..             ...           ...\n",
       "716  1702047609452  43937.591631\n",
       "717  1702051204598  43819.985862\n",
       "718  1702054812888  43832.780356\n",
       "719  1702058401198  43734.956705\n",
       "720  1702063008000  43833.021784\n",
       "\n",
       "[721 rows x 2 columns]"
      ]
     },
     "execution_count": 16,
     "metadata": {},
     "output_type": "execute_result"
    }
   ],
   "source": [
    "# Convert the nested list to a dataframe, with the column timestamp and price\n",
    "\n",
    "data = pd.DataFrame(bitcoin_price_data, columns=['TimeStamp', 'Price'])\n",
    "data"
   ]
  },
  {
   "cell_type": "code",
   "execution_count": 17,
   "id": "2b601ef7",
   "metadata": {},
   "outputs": [
    {
     "data": {
      "text/plain": [
       "0     2023-11-08 19:00:55.725\n",
       "1     2023-11-08 20:00:07.269\n",
       "2     2023-11-08 21:00:07.536\n",
       "3     2023-11-08 22:01:02.074\n",
       "4     2023-11-08 23:00:40.274\n",
       "                ...          \n",
       "716   2023-12-08 15:00:09.452\n",
       "717   2023-12-08 16:00:04.598\n",
       "718   2023-12-08 17:00:12.888\n",
       "719   2023-12-08 18:00:01.198\n",
       "720   2023-12-08 19:16:48.000\n",
       "Name: Date, Length: 721, dtype: datetime64[ns]"
      ]
     },
     "execution_count": 17,
     "metadata": {},
     "output_type": "execute_result"
    }
   ],
   "source": [
    "# Convert the timestamp column to a readable format using .to_datetime \"Pandas function\"\n",
    "# 'ms' ---> milliseconds\n",
    "\n",
    "data['Date'] = pd.to_datetime(data['TimeStamp'], unit='ms')\n",
    "data['Date']"
   ]
  },
  {
   "cell_type": "code",
   "execution_count": 18,
   "id": "907da6e9",
   "metadata": {},
   "outputs": [
    {
     "data": {
      "text/html": [
       "<div>\n",
       "<style scoped>\n",
       "    .dataframe tbody tr th:only-of-type {\n",
       "        vertical-align: middle;\n",
       "    }\n",
       "\n",
       "    .dataframe tbody tr th {\n",
       "        vertical-align: top;\n",
       "    }\n",
       "\n",
       "    .dataframe thead tr th {\n",
       "        text-align: left;\n",
       "    }\n",
       "\n",
       "    .dataframe thead tr:last-of-type th {\n",
       "        text-align: right;\n",
       "    }\n",
       "</style>\n",
       "<table border=\"1\" class=\"dataframe\">\n",
       "  <thead>\n",
       "    <tr>\n",
       "      <th></th>\n",
       "      <th colspan=\"4\" halign=\"left\">Price</th>\n",
       "    </tr>\n",
       "    <tr>\n",
       "      <th></th>\n",
       "      <th>min</th>\n",
       "      <th>max</th>\n",
       "      <th>first</th>\n",
       "      <th>last</th>\n",
       "    </tr>\n",
       "    <tr>\n",
       "      <th>Date</th>\n",
       "      <th></th>\n",
       "      <th></th>\n",
       "      <th></th>\n",
       "      <th></th>\n",
       "    </tr>\n",
       "  </thead>\n",
       "  <tbody>\n",
       "    <tr>\n",
       "      <th>2023-11-08</th>\n",
       "      <td>35575.006745</td>\n",
       "      <td>35873.224389</td>\n",
       "      <td>35575.006745</td>\n",
       "      <td>35873.224389</td>\n",
       "    </tr>\n",
       "    <tr>\n",
       "      <th>2023-11-09</th>\n",
       "      <td>35647.751031</td>\n",
       "      <td>37883.291999</td>\n",
       "      <td>35647.751031</td>\n",
       "      <td>36661.211863</td>\n",
       "    </tr>\n",
       "    <tr>\n",
       "      <th>2023-11-10</th>\n",
       "      <td>36473.686971</td>\n",
       "      <td>37388.482326</td>\n",
       "      <td>36768.420819</td>\n",
       "      <td>37388.482326</td>\n",
       "    </tr>\n",
       "    <tr>\n",
       "      <th>2023-11-11</th>\n",
       "      <td>36896.464812</td>\n",
       "      <td>37344.249001</td>\n",
       "      <td>37344.249001</td>\n",
       "      <td>36896.464812</td>\n",
       "    </tr>\n",
       "    <tr>\n",
       "      <th>2023-11-12</th>\n",
       "      <td>36882.519128</td>\n",
       "      <td>37198.727679</td>\n",
       "      <td>37122.722824</td>\n",
       "      <td>37160.199891</td>\n",
       "    </tr>\n",
       "    <tr>\n",
       "      <th>2023-11-13</th>\n",
       "      <td>36437.783697</td>\n",
       "      <td>37253.190611</td>\n",
       "      <td>37067.696982</td>\n",
       "      <td>36556.123205</td>\n",
       "    </tr>\n",
       "    <tr>\n",
       "      <th>2023-11-14</th>\n",
       "      <td>35266.335242</td>\n",
       "      <td>36740.395530</td>\n",
       "      <td>36549.162048</td>\n",
       "      <td>35600.915413</td>\n",
       "    </tr>\n",
       "    <tr>\n",
       "      <th>2023-11-15</th>\n",
       "      <td>35389.219008</td>\n",
       "      <td>37761.008535</td>\n",
       "      <td>35545.201433</td>\n",
       "      <td>37761.008535</td>\n",
       "    </tr>\n",
       "    <tr>\n",
       "      <th>2023-11-16</th>\n",
       "      <td>35841.311729</td>\n",
       "      <td>37903.662452</td>\n",
       "      <td>37903.662452</td>\n",
       "      <td>36235.005772</td>\n",
       "    </tr>\n",
       "    <tr>\n",
       "      <th>2023-11-17</th>\n",
       "      <td>35961.401393</td>\n",
       "      <td>36551.343165</td>\n",
       "      <td>36163.466890</td>\n",
       "      <td>36546.964218</td>\n",
       "    </tr>\n",
       "    <tr>\n",
       "      <th>2023-11-18</th>\n",
       "      <td>36283.871201</td>\n",
       "      <td>36746.609536</td>\n",
       "      <td>36618.603213</td>\n",
       "      <td>36532.153608</td>\n",
       "    </tr>\n",
       "    <tr>\n",
       "      <th>2023-11-19</th>\n",
       "      <td>36455.028426</td>\n",
       "      <td>37030.310353</td>\n",
       "      <td>36588.255833</td>\n",
       "      <td>36960.805561</td>\n",
       "    </tr>\n",
       "    <tr>\n",
       "      <th>2023-11-20</th>\n",
       "      <td>37106.635571</td>\n",
       "      <td>37641.001417</td>\n",
       "      <td>37413.994608</td>\n",
       "      <td>37469.617492</td>\n",
       "    </tr>\n",
       "    <tr>\n",
       "      <th>2023-11-21</th>\n",
       "      <td>36482.322153</td>\n",
       "      <td>37561.277299</td>\n",
       "      <td>37489.298471</td>\n",
       "      <td>36482.322153</td>\n",
       "    </tr>\n",
       "    <tr>\n",
       "      <th>2023-11-22</th>\n",
       "      <td>35965.360361</td>\n",
       "      <td>37554.982663</td>\n",
       "      <td>35965.360361</td>\n",
       "      <td>37447.704621</td>\n",
       "    </tr>\n",
       "    <tr>\n",
       "      <th>2023-11-23</th>\n",
       "      <td>36979.109936</td>\n",
       "      <td>37642.766569</td>\n",
       "      <td>37464.832932</td>\n",
       "      <td>37315.613101</td>\n",
       "    </tr>\n",
       "    <tr>\n",
       "      <th>2023-11-24</th>\n",
       "      <td>37289.945273</td>\n",
       "      <td>38189.655830</td>\n",
       "      <td>37293.316127</td>\n",
       "      <td>37757.677580</td>\n",
       "    </tr>\n",
       "    <tr>\n",
       "      <th>2023-11-25</th>\n",
       "      <td>37653.772513</td>\n",
       "      <td>37842.740957</td>\n",
       "      <td>37738.931697</td>\n",
       "      <td>37760.104555</td>\n",
       "    </tr>\n",
       "    <tr>\n",
       "      <th>2023-11-26</th>\n",
       "      <td>37184.152197</td>\n",
       "      <td>37812.437246</td>\n",
       "      <td>37800.282173</td>\n",
       "      <td>37646.913333</td>\n",
       "    </tr>\n",
       "    <tr>\n",
       "      <th>2023-11-27</th>\n",
       "      <td>36770.398894</td>\n",
       "      <td>37514.914425</td>\n",
       "      <td>37479.463901</td>\n",
       "      <td>37069.974269</td>\n",
       "    </tr>\n",
       "    <tr>\n",
       "      <th>2023-11-28</th>\n",
       "      <td>36930.718677</td>\n",
       "      <td>38261.227644</td>\n",
       "      <td>37275.702983</td>\n",
       "      <td>37823.821220</td>\n",
       "    </tr>\n",
       "    <tr>\n",
       "      <th>2023-11-29</th>\n",
       "      <td>37686.825728</td>\n",
       "      <td>38329.037611</td>\n",
       "      <td>37802.236044</td>\n",
       "      <td>37798.336973</td>\n",
       "    </tr>\n",
       "    <tr>\n",
       "      <th>2023-11-30</th>\n",
       "      <td>37550.771251</td>\n",
       "      <td>38049.714057</td>\n",
       "      <td>37810.346417</td>\n",
       "      <td>37766.351897</td>\n",
       "    </tr>\n",
       "    <tr>\n",
       "      <th>2023-12-01</th>\n",
       "      <td>37686.883494</td>\n",
       "      <td>38879.988984</td>\n",
       "      <td>37711.818376</td>\n",
       "      <td>38721.556376</td>\n",
       "    </tr>\n",
       "    <tr>\n",
       "      <th>2023-12-02</th>\n",
       "      <td>38688.258742</td>\n",
       "      <td>39680.220005</td>\n",
       "      <td>38688.258742</td>\n",
       "      <td>39375.159355</td>\n",
       "    </tr>\n",
       "    <tr>\n",
       "      <th>2023-12-03</th>\n",
       "      <td>39370.028920</td>\n",
       "      <td>40071.671215</td>\n",
       "      <td>39481.666416</td>\n",
       "      <td>40071.671215</td>\n",
       "    </tr>\n",
       "    <tr>\n",
       "      <th>2023-12-04</th>\n",
       "      <td>39999.142778</td>\n",
       "      <td>42008.484902</td>\n",
       "      <td>39999.142778</td>\n",
       "      <td>41925.569045</td>\n",
       "    </tr>\n",
       "    <tr>\n",
       "      <th>2023-12-05</th>\n",
       "      <td>41528.838930</td>\n",
       "      <td>44313.568807</td>\n",
       "      <td>41985.056431</td>\n",
       "      <td>44313.568807</td>\n",
       "    </tr>\n",
       "    <tr>\n",
       "      <th>2023-12-06</th>\n",
       "      <td>43613.258584</td>\n",
       "      <td>44123.756422</td>\n",
       "      <td>44105.944773</td>\n",
       "      <td>43634.904484</td>\n",
       "    </tr>\n",
       "    <tr>\n",
       "      <th>2023-12-07</th>\n",
       "      <td>43158.794425</td>\n",
       "      <td>43985.767023</td>\n",
       "      <td>43788.288808</td>\n",
       "      <td>43166.048404</td>\n",
       "    </tr>\n",
       "    <tr>\n",
       "      <th>2023-12-08</th>\n",
       "      <td>43174.140967</td>\n",
       "      <td>43937.591631</td>\n",
       "      <td>43270.119560</td>\n",
       "      <td>43833.021784</td>\n",
       "    </tr>\n",
       "  </tbody>\n",
       "</table>\n",
       "</div>"
      ],
      "text/plain": [
       "                   Price                                          \n",
       "                     min           max         first          last\n",
       "Date                                                              \n",
       "2023-11-08  35575.006745  35873.224389  35575.006745  35873.224389\n",
       "2023-11-09  35647.751031  37883.291999  35647.751031  36661.211863\n",
       "2023-11-10  36473.686971  37388.482326  36768.420819  37388.482326\n",
       "2023-11-11  36896.464812  37344.249001  37344.249001  36896.464812\n",
       "2023-11-12  36882.519128  37198.727679  37122.722824  37160.199891\n",
       "2023-11-13  36437.783697  37253.190611  37067.696982  36556.123205\n",
       "2023-11-14  35266.335242  36740.395530  36549.162048  35600.915413\n",
       "2023-11-15  35389.219008  37761.008535  35545.201433  37761.008535\n",
       "2023-11-16  35841.311729  37903.662452  37903.662452  36235.005772\n",
       "2023-11-17  35961.401393  36551.343165  36163.466890  36546.964218\n",
       "2023-11-18  36283.871201  36746.609536  36618.603213  36532.153608\n",
       "2023-11-19  36455.028426  37030.310353  36588.255833  36960.805561\n",
       "2023-11-20  37106.635571  37641.001417  37413.994608  37469.617492\n",
       "2023-11-21  36482.322153  37561.277299  37489.298471  36482.322153\n",
       "2023-11-22  35965.360361  37554.982663  35965.360361  37447.704621\n",
       "2023-11-23  36979.109936  37642.766569  37464.832932  37315.613101\n",
       "2023-11-24  37289.945273  38189.655830  37293.316127  37757.677580\n",
       "2023-11-25  37653.772513  37842.740957  37738.931697  37760.104555\n",
       "2023-11-26  37184.152197  37812.437246  37800.282173  37646.913333\n",
       "2023-11-27  36770.398894  37514.914425  37479.463901  37069.974269\n",
       "2023-11-28  36930.718677  38261.227644  37275.702983  37823.821220\n",
       "2023-11-29  37686.825728  38329.037611  37802.236044  37798.336973\n",
       "2023-11-30  37550.771251  38049.714057  37810.346417  37766.351897\n",
       "2023-12-01  37686.883494  38879.988984  37711.818376  38721.556376\n",
       "2023-12-02  38688.258742  39680.220005  38688.258742  39375.159355\n",
       "2023-12-03  39370.028920  40071.671215  39481.666416  40071.671215\n",
       "2023-12-04  39999.142778  42008.484902  39999.142778  41925.569045\n",
       "2023-12-05  41528.838930  44313.568807  41985.056431  44313.568807\n",
       "2023-12-06  43613.258584  44123.756422  44105.944773  43634.904484\n",
       "2023-12-07  43158.794425  43985.767023  43788.288808  43166.048404\n",
       "2023-12-08  43174.140967  43937.591631  43270.119560  43833.021784"
      ]
     },
     "execution_count": 18,
     "metadata": {},
     "output_type": "execute_result"
    }
   ],
   "source": [
    "# group by the date to find the min, max, first, last price of each day\n",
    "\n",
    "candlestick_data = data.groupby(data.Date.dt.date).agg({'Price': ['min', 'max', 'first', 'last']})\n",
    "candlestick_data"
   ]
  },
  {
   "cell_type": "code",
   "execution_count": null,
   "id": "31d62298",
   "metadata": {},
   "outputs": [],
   "source": [
    "#############################################################################################################################"
   ]
  },
  {
   "cell_type": "code",
   "execution_count": null,
   "id": "73e83a58",
   "metadata": {},
   "outputs": [],
   "source": [
    "########################################### GET Request ###########################################"
   ]
  },
  {
   "cell_type": "code",
   "execution_count": 2,
   "id": "a8f43345",
   "metadata": {},
   "outputs": [
    {
     "data": {
      "text/plain": [
       "200"
      ]
     },
     "execution_count": 2,
     "metadata": {},
     "output_type": "execute_result"
    }
   ],
   "source": [
    "# Requests: a Python Library that allows us to send HTTP/1.1 requests.(It is a method for dealing with http protocol in Python)\n",
    "\n",
    "import requests\n",
    "\n",
    "url = 'https://www.ibm.com/'\n",
    "# make a GET request using .get() method\n",
    "r = requests.get(url)\n",
    "# view the status code using the attribute .status_code\n",
    "r.status_code"
   ]
  },
  {
   "cell_type": "code",
   "execution_count": 4,
   "id": "abfff901",
   "metadata": {},
   "outputs": [
    {
     "data": {
      "text/plain": [
       "{'User-Agent': 'python-requests/2.29.0', 'Accept-Encoding': 'gzip, deflate, br', 'Accept': '*/*', 'Connection': 'keep-alive', 'Cookie': '_abck=CA9D21266C17AE049DCBAFC1F36B09A6~-1~YAAQwHp7XEP4EjWMAQAAbm2nTQuhnfsApTr6GUiwv7mUqoW6nQqribIWExD4qXTGo4ADVtpoXKbb38ghRB77eHgInFWUWiP4E/CLmEAgk5zcl02b22PTRGz23RL6pvwI0ZE3xODcfCx3/zwjJhrCZF59bL+9dK19CRoBk/MvRePGeC72zBEs9LslkisCH0/r8/uOPQDLmsjjVjs/YjSbJthPenHQxkdZmOrA3zc016wXqlu5RE9yhhqQyMIhKf/GKl9sify06ovnXCzBmluK387/b0J54az0zQd/FdexYE35APDNARU7jf6rZhG5JSvt2D5WSgQiVwTh5kgfn6lMFKeZqxHiVDeLbpTNFvsw1QYMLKGF2Qk=~-1~-1~-1; bm_sz=30CB5C185988AA0D820BB58977393394~YAAQwHp7XET4EjWMAQAAbm2nTRZnWx+2yPREEXSwbVNl7VPmtGzrqLPLg6sRzNP6lmp/5quw9BPf+kNWGBy1tfBviYOpR+FlZCtSxdMEyMyBF0K9DzMv4QkR2DVLO6KB+U1z//VZYQjeffpOEHrrJ0qcNHNrNXDDGA4HX0Ko/ImbEimv3LtAtyXnhoRdxjF4viuYK4S12ibrqsxgX1+5+WLVZacC5IsfHWeL5zorQtpAU2ldhuRqRODNfHE8qU1/WJVlkUCo+ndBHYcmbe5AAXYt7PYcEdeyve2s1kmDxo8=~3354935~4405062'}"
      ]
     },
     "execution_count": 4,
     "metadata": {},
     "output_type": "execute_result"
    }
   ],
   "source": [
    "# view the request headers\n",
    "r.request.headers"
   ]
  },
  {
   "cell_type": "code",
   "execution_count": 7,
   "id": "fdd17508",
   "metadata": {},
   "outputs": [
    {
     "name": "stdout",
     "output_type": "stream",
     "text": [
      "None\n"
     ]
    }
   ],
   "source": [
    "# view the request body (as there is no body for a get request, we get a None)\n",
    "r.request.body\n",
    "print(r.request.body)"
   ]
  },
  {
   "cell_type": "code",
   "execution_count": 8,
   "id": "6520111f",
   "metadata": {},
   "outputs": [
    {
     "data": {
      "text/plain": [
       "{'Content-Type': 'text/html;charset=utf-8', 'X-Dispatcher': 'prod-east-publish-0', 'X-Vhost': 'publish', 'X-Content-Type-Options': 'nosniff', 'Last-Modified': 'Fri, 08 Dec 2023 12:22:29 GMT', 'X-Frame-Options': 'SAMEORIGIN', 'CF-Cache-Status': 'DYNAMIC', 'Server': 'cloudflare', 'CF-RAY': '832507569d2260f6-LHR', 'Cache-Control': 'max-age=1', 'Expires': 'Sat, 09 Dec 2023 08:17:48 GMT', 'X-Akamai-Transformed': '9 12969 0 pmb=mTOE,2', 'Content-Encoding': 'gzip', 'Date': 'Sat, 09 Dec 2023 08:17:47 GMT', 'Content-Length': '13199', 'Connection': 'keep-alive', 'Vary': 'Accept-Encoding', 'Strict-Transport-Security': 'max-age=31536000', 'x-ibm-trace': 'www-dipatcher: dynamic rule'}"
      ]
     },
     "execution_count": 8,
     "metadata": {},
     "output_type": "execute_result"
    }
   ],
   "source": [
    "# view the HTTP response header using the attribute headers.(returns a python dictionary of HTTP response headers)\n",
    "header = r.headers\n",
    "header"
   ]
  },
  {
   "cell_type": "code",
   "execution_count": 9,
   "id": "13e6257c",
   "metadata": {},
   "outputs": [
    {
     "data": {
      "text/plain": [
       "'Sat, 09 Dec 2023 08:17:47 GMT'"
      ]
     },
     "execution_count": 9,
     "metadata": {},
     "output_type": "execute_result"
    }
   ],
   "source": [
    "# obtain the date the request was sent using the key Date\n",
    "header['date']"
   ]
  },
  {
   "cell_type": "code",
   "execution_count": 10,
   "id": "06b603b2",
   "metadata": {},
   "outputs": [
    {
     "data": {
      "text/plain": [
       "'text/html;charset=utf-8'"
      ]
     },
     "execution_count": 10,
     "metadata": {},
     "output_type": "execute_result"
    }
   ],
   "source": [
    "# obtain the type of data\n",
    "header['Content-Type']"
   ]
  },
  {
   "cell_type": "code",
   "execution_count": 11,
   "id": "92ada27d",
   "metadata": {},
   "outputs": [
    {
     "data": {
      "text/plain": [
       "'utf-8'"
      ]
     },
     "execution_count": 11,
     "metadata": {},
     "output_type": "execute_result"
    }
   ],
   "source": [
    "# check the encoding\n",
    "r.encoding"
   ]
  },
  {
   "cell_type": "code",
   "execution_count": 12,
   "id": "f39bf900",
   "metadata": {},
   "outputs": [
    {
     "data": {
      "text/plain": [
       "'\\n<!DOCTYPE HTML>\\n<html lang=\"en-uk\">\\n<head>\\n    \\n    \\n    \\n    \\n    <meta charset=\"UTF-8\"/>\\n    <met'"
      ]
     },
     "execution_count": 12,
     "metadata": {},
     "output_type": "execute_result"
    }
   ],
   "source": [
    "# as the Content-Type is text/html we can use the attribute text to display the HTML in the body.\n",
    "# review the first 100 characters:\n",
    "r.text[0:100]"
   ]
  },
  {
   "cell_type": "code",
   "execution_count": 13,
   "id": "0555ca9b",
   "metadata": {},
   "outputs": [],
   "source": [
    "###############################################################################################################################"
   ]
  },
  {
   "cell_type": "code",
   "execution_count": 29,
   "id": "092119f4",
   "metadata": {},
   "outputs": [
    {
     "data": {
      "text/plain": [
       "{'Date': 'Sat, 09 Dec 2023 08:40:27 GMT', 'X-Clv-Request-Id': 'b82506b0-8851-49ae-9436-3424ba2e7857', 'Server': 'Cleversafe', 'X-Clv-S3-Version': '2.5', 'Accept-Ranges': 'bytes', 'x-amz-request-id': 'b82506b0-8851-49ae-9436-3424ba2e7857', 'ETag': '\"8bb44578fff8fdcc3d2972be9ece0164\"', 'Content-Type': 'image/png', 'Last-Modified': 'Wed, 16 Nov 2022 03:32:41 GMT', 'Content-Length': '78776'}"
      ]
     },
     "execution_count": 29,
     "metadata": {},
     "output_type": "execute_result"
    }
   ],
   "source": [
    "# we can load other types of data for non-text requests, like images.\n",
    "url='https://cf-courses-data.s3.us.cloud-object-storage.appdomain.cloud/IBMDeveloperSkillsNetwork-PY0101EN-SkillsNetwork/IDSNlogo.png'\n",
    "# make a get request\n",
    "r=requests.get(url)\n",
    "# view the response header\n",
    "r.headers"
   ]
  },
  {
   "cell_type": "code",
   "execution_count": 30,
   "id": "c246e2c7",
   "metadata": {},
   "outputs": [
    {
     "data": {
      "text/plain": [
       "'image/png'"
      ]
     },
     "execution_count": 30,
     "metadata": {},
     "output_type": "execute_result"
    }
   ],
   "source": [
    "# view the content type\n",
    "r.headers['Content-Type']"
   ]
  },
  {
   "cell_type": "code",
   "execution_count": 31,
   "id": "4a15e6b9",
   "metadata": {},
   "outputs": [],
   "source": [
    "# import libraries\n",
    "import os \n",
    "from PIL import Image\n",
    "from IPython.display import IFrame"
   ]
  },
  {
   "cell_type": "code",
   "execution_count": 32,
   "id": "00579c36",
   "metadata": {},
   "outputs": [
    {
     "data": {
      "image/png": "[encoded data removed]",
      "text/plain": [
       "<PIL.PngImagePlugin.PngImageFile image mode=RGBA size=1880x656>"
      ]
     },
     "execution_count": 32,
     "metadata": {},
     "output_type": "execute_result"
    }
   ],
   "source": [
    "# An image is a response object that contains the image as a bytes-like object\n",
    "# As a result, we must save it using a file object. \n",
    "# First, we specify the file path and name\n",
    "path = os.path.join(os.getcwd(),'image.png')\n",
    "\n",
    "# save the file, in order to access the body of the response \n",
    "# use the attribute content then save it using the open function and write method\n",
    "with open(path,'wb') as f:\n",
    "    f.write(r.content)\n",
    "\n",
    "# view the image\n",
    "Image.open(path)"
   ]
  },
  {
   "cell_type": "code",
   "execution_count": 33,
   "id": "edc62b4b",
   "metadata": {},
   "outputs": [],
   "source": [
    "###########################################################################################################################"
   ]
  },
  {
   "cell_type": "code",
   "execution_count": 34,
   "id": "d4886d3d",
   "metadata": {},
   "outputs": [],
   "source": [
    "######################################### Get Request with URL Parameters #########################################\n",
    "###########################################################################################################################\n",
    "# we can use the GET method to modify the results of your query, for example retrieving data from an API. \n",
    "# We send a GET request to the server. Like before we have the Base URL, \n",
    "# in the Route we append /get, this indicates we would like to preform a GET request.\n",
    "\n",
    "# http://httpbin.org/get?Name=Joseph&ID=123\n",
    "# Base URL:  http://httpbin.org\n",
    "# Route (GET Request):    /get\n",
    "# Query String: ?Name=Joseph&ID=123\n",
    "# start of query:  ?\n",
    "# Parameter Name:  Name\n",
    "# Value:  Joseph\n",
    "\n",
    "# Query String: a part of a uniform resource locator (URL), Send other information to the web server."
   ]
  },
  {
   "cell_type": "code",
   "execution_count": 36,
   "id": "1ec5380f",
   "metadata": {},
   "outputs": [
    {
     "data": {
      "text/plain": [
       "'http://httpbin.org/get?name=Joseph&ID=123'"
      ]
     },
     "execution_count": 36,
     "metadata": {},
     "output_type": "execute_result"
    }
   ],
   "source": [
    "# Create Query String\n",
    "\n",
    "# base url with get appended\n",
    "url_get = 'http://httpbin.org/get'\n",
    "\n",
    "# use the dictionary payload to create a query string (Keys-->parameter name, values-->value of the query string)\n",
    "payload = {'name':'Joseph', 'ID':'123'}\n",
    "\n",
    "# pass the dictionary payload to the params parameter of the get() function\n",
    "r = requests.get(url_get, params=payload)\n",
    "\n",
    "# print the url\n",
    "r.url"
   ]
  },
  {
   "cell_type": "code",
   "execution_count": 38,
   "id": "70890510",
   "metadata": {},
   "outputs": [
    {
     "name": "stdout",
     "output_type": "stream",
     "text": [
      "None\n"
     ]
    }
   ],
   "source": [
    "print(r.request.body)"
   ]
  },
  {
   "cell_type": "code",
   "execution_count": 39,
   "id": "b9151691",
   "metadata": {},
   "outputs": [
    {
     "data": {
      "text/plain": [
       "200"
      ]
     },
     "execution_count": 39,
     "metadata": {},
     "output_type": "execute_result"
    }
   ],
   "source": [
    "r.status_code"
   ]
  },
  {
   "cell_type": "code",
   "execution_count": 40,
   "id": "451019c2",
   "metadata": {},
   "outputs": [
    {
     "data": {
      "text/plain": [
       "'{\\n  \"args\": {\\n    \"ID\": \"123\", \\n    \"name\": \"Joseph\"\\n  }, \\n  \"headers\": {\\n    \"Accept\": \"*/*\", \\n    \"Accept-Encoding\": \"gzip, deflate, br\", \\n    \"Host\": \"httpbin.org\", \\n    \"User-Agent\": \"python-requests/2.29.0\", \\n    \"X-Amzn-Trace-Id\": \"Root=1-65742d89-7666ad797381c577125e293f\"\\n  }, \\n  \"origin\": \"197.49.232.110\", \\n  \"url\": \"http://httpbin.org/get?name=Joseph&ID=123\"\\n}\\n'"
      ]
     },
     "execution_count": 40,
     "metadata": {},
     "output_type": "execute_result"
    }
   ],
   "source": [
    "# view the response as text\n",
    "r.text"
   ]
  },
  {
   "cell_type": "code",
   "execution_count": 41,
   "id": "72963cd0",
   "metadata": {},
   "outputs": [
    {
     "data": {
      "text/plain": [
       "'application/json'"
      ]
     },
     "execution_count": 41,
     "metadata": {},
     "output_type": "execute_result"
    }
   ],
   "source": [
    "r.headers['Content-Type']"
   ]
  },
  {
   "cell_type": "code",
   "execution_count": 42,
   "id": "d8757ad9",
   "metadata": {},
   "outputs": [
    {
     "data": {
      "text/plain": [
       "{'args': {'ID': '123', 'name': 'Joseph'},\n",
       " 'headers': {'Accept': '*/*',\n",
       "  'Accept-Encoding': 'gzip, deflate, br',\n",
       "  'Host': 'httpbin.org',\n",
       "  'User-Agent': 'python-requests/2.29.0',\n",
       "  'X-Amzn-Trace-Id': 'Root=1-65742d89-7666ad797381c577125e293f'},\n",
       " 'origin': '197.49.232.110',\n",
       " 'url': 'http://httpbin.org/get?name=Joseph&ID=123'}"
      ]
     },
     "execution_count": 42,
     "metadata": {},
     "output_type": "execute_result"
    }
   ],
   "source": [
    "r.json()"
   ]
  },
  {
   "cell_type": "code",
   "execution_count": 43,
   "id": "b39dc9b0",
   "metadata": {},
   "outputs": [
    {
     "data": {
      "text/plain": [
       "{'ID': '123', 'name': 'Joseph'}"
      ]
     },
     "execution_count": 43,
     "metadata": {},
     "output_type": "execute_result"
    }
   ],
   "source": [
    "# the key 'args' has the name &values for the query string\n",
    "r.json()['args']"
   ]
  },
  {
   "cell_type": "code",
   "execution_count": 45,
   "id": "829cbd36",
   "metadata": {},
   "outputs": [],
   "source": [
    "##################################################### POST Request #####################################################\n",
    "# POST Request: used to send data to a server (sends the data in a request body, not the url)\n",
    "# To send the POST Request in  the url: we change the Route to post"
   ]
  },
  {
   "cell_type": "code",
   "execution_count": 46,
   "id": "6e0df363",
   "metadata": {},
   "outputs": [],
   "source": [
    "######################################### send the POST Request in  the url #########################################"
   ]
  },
  {
   "cell_type": "code",
   "execution_count": 48,
   "id": "e4a597b7",
   "metadata": {},
   "outputs": [],
   "source": [
    "url_post = 'http://httpbin.org/post'\n",
    "payload = {'name':'Joseph', 'ID':'123'}\n",
    "\n",
    "# make a POST request using the post() function, and the variable payload is passed to the parameter data\n",
    "r_post = requests.post(url_post, data=payload)"
   ]
  },
  {
   "cell_type": "code",
   "execution_count": 49,
   "id": "4dc1940f",
   "metadata": {},
   "outputs": [
    {
     "name": "stdout",
     "output_type": "stream",
     "text": [
      "POST request URL: http://httpbin.org/post\n",
      "GET request URL: http://httpbin.org/get?name=Joseph&ID=123\n"
     ]
    }
   ],
   "source": [
    "# Compare the URL from the response object of the GET and POST request \n",
    "# we see the POST request has no name or value pairs in its url.\n",
    "\n",
    "print(\"POST request URL:\",r_post.url )\n",
    "print(\"GET request URL:\",r.url)"
   ]
  },
  {
   "cell_type": "code",
   "execution_count": 50,
   "id": "4ded1153",
   "metadata": {},
   "outputs": [
    {
     "name": "stdout",
     "output_type": "stream",
     "text": [
      "POST request body: name=Joseph&ID=123\n",
      "GET request body: None\n"
     ]
    }
   ],
   "source": [
    "# compare the POST and GET request body\n",
    "# we see only the POST request has a body\n",
    "\n",
    "print(\"POST request body:\",r_post.request.body)\n",
    "print(\"GET request body:\",r.request.body)"
   ]
  },
  {
   "cell_type": "code",
   "execution_count": 51,
   "id": "299df10b",
   "metadata": {},
   "outputs": [
    {
     "data": {
      "text/plain": [
       "{'ID': '123', 'name': 'Joseph'}"
      ]
     },
     "execution_count": 51,
     "metadata": {},
     "output_type": "execute_result"
    }
   ],
   "source": [
    "# view the key 'form; to get the payload\n",
    "r_post.json()['form']"
   ]
  },
  {
   "cell_type": "markdown",
   "id": "9b77e07d",
   "metadata": {},
   "source": [
    "# WebScraping / Web Harvesting / Web Data Extraction\n",
    "- <strong>webscraping:</strong> process used to automatically extract information from a website.(using Python Code - BeautifulSoup - Requests)\n",
    "- <strong>Beautiful Soup:</strong> a Python library for pulling data out of HTML and XML files. (by representing the HTML as a set of objects with methods used to parse the HTML. We can navigate the HTML as a tree, and/or filter out what we are looking for)"
   ]
  },
  {
   "cell_type": "code",
   "execution_count": 53,
   "id": "fbabac97",
   "metadata": {},
   "outputs": [],
   "source": [
    "# HTML\n",
    "\n",
    "# <!DOCTYPE hmtl>  : declares that this documents is an HTML\n",
    "# <html>  : The Root element of an html page\n",
    "# <head> ... </head>  : Contains Meta information about the html page\n",
    "# <body> ... </body>  : This is what is displayed on the web page"
   ]
  },
  {
   "cell_type": "code",
   "execution_count": 59,
   "id": "1de71331",
   "metadata": {},
   "outputs": [
    {
     "name": "stdout",
     "output_type": "stream",
     "text": [
      "Collecting html5lib\n",
      "  Downloading html5lib-1.1-py2.py3-none-any.whl (112 kB)\n",
      "                                              0.0/112.2 kB ? eta -:--:--\n",
      "     ------                                20.5/112.2 kB 640.0 kB/s eta 0:00:01\n",
      "     ------------------------------        92.2/112.2 kB 871.5 kB/s eta 0:00:01\n",
      "     --------------------------------     102.4/112.2 kB 845.5 kB/s eta 0:00:01\n",
      "     ------------------------------------ 112.2/112.2 kB 653.4 kB/s eta 0:00:00\n",
      "Requirement already satisfied: six>=1.9 in c:\\users\\esraa\\anaconda3\\lib\\site-packages (from html5lib) (1.16.0)\n",
      "Requirement already satisfied: webencodings in c:\\users\\esraa\\anaconda3\\lib\\site-packages (from html5lib) (0.5.1)\n",
      "Installing collected packages: html5lib\n",
      "Successfully installed html5lib-1.1\n"
     ]
    }
   ],
   "source": [
    "!pip install html5lib"
   ]
  },
  {
   "cell_type": "code",
   "execution_count": 4,
   "id": "dd248834",
   "metadata": {},
   "outputs": [],
   "source": [
    "#import Python Libraries\n",
    "from bs4 import BeautifulSoup # this module helps in web scrapping.\n",
    "import requests  # this module helps us to download a web page"
   ]
  },
  {
   "cell_type": "code",
   "execution_count": 2,
   "id": "b7795cfe",
   "metadata": {},
   "outputs": [],
   "source": [
    "# HTML Code\n",
    "\n",
    "%%html\n",
    "<!DOCTYPE html>\n",
    "<html>\n",
    "<head>\n",
    "<title>Page Title</title>\n",
    "</head>\n",
    "<body>\n",
    "<h3><b id='boldest'>Lebron James</b></h3>\n",
    "<p> Salary: $ 92,000,000 </p>\n",
    "<h3> Stephen Curry</h3>\n",
    "<p> Salary: $85,000, 000 </p>\n",
    "<h3> Kevin Durant </h3>\n",
    "<p> Salary: $73,200, 000</p>\n",
    "</body>\n",
    "</html>"
   ]
  },
  {
   "cell_type": "code",
   "execution_count": 5,
   "id": "6e8fbef4",
   "metadata": {},
   "outputs": [],
   "source": [
    "# store the webpage html in a variable\n",
    "html = \"<!DOCTYPE html><html><head><title>Page Title</title></head><body><h3><b id='boldest'>Lebron James</b></h3><p> Salary: $ 92,000,000 </p><h3> Stephen Curry</h3><p> Salary: $85,000, 000 </p><h3> Kevin Durant </h3><p> Salary: $73,200, 000</p></body></html>\""
   ]
  },
  {
   "cell_type": "code",
   "execution_count": 6,
   "id": "c03ed91f",
   "metadata": {},
   "outputs": [],
   "source": [
    "# parse a document (by passing it into the BeautifulSoup constructor)\n",
    "# The BeautifulSoup object(soup) represents the document as a nested data structure\n",
    "\n",
    "soup = BeautifulSoup(html, 'html5lib')"
   ]
  },
  {
   "cell_type": "code",
   "execution_count": null,
   "id": "c71e45c5",
   "metadata": {},
   "outputs": [],
   "source": [
    "# BeautifulSoup represents html as a set of tree-like objects, with methods used to parse the html"
   ]
  },
  {
   "cell_type": "code",
   "execution_count": 8,
   "id": "1c0e6f9e",
   "metadata": {},
   "outputs": [],
   "source": [
    "# the document is converted to Unicode (similar to ASCII) and HTML entities are converted to Unicode characters. \n",
    "# Beautiful Soup transforms a complex HTML document into a complex tree of Python objects. \n",
    "# The BeautifulSoup object can create other types of objects. "
   ]
  },
  {
   "cell_type": "code",
   "execution_count": 9,
   "id": "ed53c8db",
   "metadata": {},
   "outputs": [
    {
     "name": "stdout",
     "output_type": "stream",
     "text": [
      "<!DOCTYPE html>\n",
      "<html>\n",
      " <head>\n",
      "  <title>\n",
      "   Page Title\n",
      "  </title>\n",
      " </head>\n",
      " <body>\n",
      "  <h3>\n",
      "   <b id=\"boldest\">\n",
      "    Lebron James\n",
      "   </b>\n",
      "  </h3>\n",
      "  <p>\n",
      "   Salary: $ 92,000,000\n",
      "  </p>\n",
      "  <h3>\n",
      "   Stephen Curry\n",
      "  </h3>\n",
      "  <p>\n",
      "   Salary: $85,000, 000\n",
      "  </p>\n",
      "  <h3>\n",
      "   Kevin Durant\n",
      "  </h3>\n",
      "  <p>\n",
      "   Salary: $73,200, 000\n",
      "  </p>\n",
      " </body>\n",
      "</html>\n",
      "\n"
     ]
    }
   ],
   "source": [
    "# prettify(): display the HTML in the nested structure\n",
    "print(soup.prettify())"
   ]
  },
  {
   "cell_type": "code",
   "execution_count": 11,
   "id": "081f53b9",
   "metadata": {},
   "outputs": [
    {
     "name": "stdout",
     "output_type": "stream",
     "text": [
      "<title>Page Title</title>\n"
     ]
    }
   ],
   "source": [
    "# get title of the page\n",
    "soup.title"
   ]
  },
  {
   "cell_type": "code",
   "execution_count": 22,
   "id": "a8b6690c",
   "metadata": {},
   "outputs": [
    {
     "data": {
      "text/plain": [
       "bs4.element.Tag"
      ]
     },
     "execution_count": 22,
     "metadata": {},
     "output_type": "execute_result"
    }
   ],
   "source": [
    "# the title tag type\n",
    "type(soup.title)"
   ]
  },
  {
   "cell_type": "code",
   "execution_count": 14,
   "id": "568256d2",
   "metadata": {},
   "outputs": [
    {
     "data": {
      "text/plain": [
       "<h3><b id=\"boldest\">Lebron James</b></h3>"
      ]
     },
     "execution_count": 14,
     "metadata": {},
     "output_type": "execute_result"
    }
   ],
   "source": [
    "tag_object = soup.h3\n",
    "tag_object\n",
    "\n",
    "#if there is more than 1 tag with the same name, the 1st element with that tag is selected"
   ]
  },
  {
   "cell_type": "code",
   "execution_count": null,
   "id": "347599e7",
   "metadata": {},
   "outputs": [],
   "source": [
    "# navigate down the tree representation using the child attribute to get the name"
   ]
  },
  {
   "cell_type": "code",
   "execution_count": 15,
   "id": "03111057",
   "metadata": {},
   "outputs": [
    {
     "data": {
      "text/plain": [
       "<b id=\"boldest\">Lebron James</b>"
      ]
     },
     "execution_count": 15,
     "metadata": {},
     "output_type": "execute_result"
    }
   ],
   "source": [
    "tag_child = tag_object.b\n",
    "tag_child"
   ]
  },
  {
   "cell_type": "code",
   "execution_count": 20,
   "id": "f8eb469f",
   "metadata": {},
   "outputs": [
    {
     "data": {
      "text/plain": [
       "{'id': 'boldest'}"
      ]
     },
     "execution_count": 20,
     "metadata": {},
     "output_type": "execute_result"
    }
   ],
   "source": [
    "# access the attribute name &value as a key value pair in a dictionary\n",
    "tag_child.attrs"
   ]
  },
  {
   "cell_type": "code",
   "execution_count": 24,
   "id": "17a0675a",
   "metadata": {},
   "outputs": [
    {
     "data": {
      "text/plain": [
       "'boldest'"
      ]
     },
     "execution_count": 24,
     "metadata": {},
     "output_type": "execute_result"
    }
   ],
   "source": [
    "# access tag's attributes by treating the tag like a dictionary\n",
    "tag_child['id']"
   ]
  },
  {
   "cell_type": "code",
   "execution_count": 26,
   "id": "6e92b9e4",
   "metadata": {},
   "outputs": [
    {
     "data": {
      "text/plain": [
       "'boldest'"
      ]
     },
     "execution_count": 26,
     "metadata": {},
     "output_type": "execute_result"
    }
   ],
   "source": [
    "# OR (by using the Python get() method)\n",
    "tag_child.get('id')"
   ]
  },
  {
   "cell_type": "code",
   "execution_count": 21,
   "id": "71f24f84",
   "metadata": {},
   "outputs": [
    {
     "data": {
      "text/plain": [
       "'Lebron James'"
      ]
     },
     "execution_count": 21,
     "metadata": {},
     "output_type": "execute_result"
    }
   ],
   "source": [
    "# we can return the content as a NavigableString (like Python Str, that support beautifulsoup functionality)\n",
    "tag_child.string"
   ]
  },
  {
   "cell_type": "code",
   "execution_count": 29,
   "id": "00f6bfb6",
   "metadata": {},
   "outputs": [],
   "source": [
    "# We can convert the NavigableString to string object in Python\n",
    "# str(tag_child.string)"
   ]
  },
  {
   "cell_type": "code",
   "execution_count": 27,
   "id": "144d8c78",
   "metadata": {},
   "outputs": [
    {
     "data": {
      "text/plain": [
       "bs4.element.NavigableString"
      ]
     },
     "execution_count": 27,
     "metadata": {},
     "output_type": "execute_result"
    }
   ],
   "source": [
    "# verify the type is Navigable String\n",
    "type(tag_child.string)"
   ]
  },
  {
   "cell_type": "code",
   "execution_count": 17,
   "id": "cea88d92",
   "metadata": {},
   "outputs": [
    {
     "data": {
      "text/plain": [
       "<h3><b id=\"boldest\">Lebron James</b></h3>"
      ]
     },
     "execution_count": 17,
     "metadata": {},
     "output_type": "execute_result"
    }
   ],
   "source": [
    "# access the parent using .parent\n",
    "parent_tag = tag_child.parent\n",
    "parent_tag   #the original tag_object"
   ]
  },
  {
   "cell_type": "code",
   "execution_count": 23,
   "id": "ed826526",
   "metadata": {},
   "outputs": [
    {
     "data": {
      "text/plain": [
       "<body><h3><b id=\"boldest\">Lebron James</b></h3><p> Salary: $ 92,000,000 </p><h3> Stephen Curry</h3><p> Salary: $85,000, 000 </p><h3> Kevin Durant </h3><p> Salary: $73,200, 000</p></body>"
      ]
     },
     "execution_count": 23,
     "metadata": {},
     "output_type": "execute_result"
    }
   ],
   "source": [
    "# tag_object parent is the body element\n",
    "body_element = tag_object.parent\n",
    "body_element"
   ]
  },
  {
   "cell_type": "code",
   "execution_count": 18,
   "id": "73b25827",
   "metadata": {},
   "outputs": [
    {
     "data": {
      "text/plain": [
       "<p> Salary: $ 92,000,000 </p>"
      ]
     },
     "execution_count": 18,
     "metadata": {},
     "output_type": "execute_result"
    }
   ],
   "source": [
    "sibling_1 = tag_object.next_sibling\n",
    "sibling_1"
   ]
  },
  {
   "cell_type": "code",
   "execution_count": 19,
   "id": "9487c829",
   "metadata": {},
   "outputs": [
    {
     "data": {
      "text/plain": [
       "<h3> Stephen Curry</h3>"
      ]
     },
     "execution_count": 19,
     "metadata": {},
     "output_type": "execute_result"
    }
   ],
   "source": [
    "# find the sibling of sibling_1\n",
    "sibling_2 = sibling_1.next_sibling\n",
    "sibling_2"
   ]
  },
  {
   "cell_type": "code",
   "execution_count": 30,
   "id": "cddef10c",
   "metadata": {},
   "outputs": [],
   "source": [
    "###########################################################################################################################"
   ]
  },
  {
   "cell_type": "code",
   "execution_count": null,
   "id": "9eabf25c",
   "metadata": {},
   "outputs": [],
   "source": [
    "######################################## Find_all & Find ########################################\n",
    "# The find_all() method scans the entire document looking for results. It’s useful if you are looking for one element\n",
    "# it is a filter (used to filter based on tag's name, its attributes, text of string, or some combination of these)\n",
    "\n",
    "# find() method used to find the first element in the document."
   ]
  },
  {
   "cell_type": "code",
   "execution_count": null,
   "id": "8568b65b",
   "metadata": {},
   "outputs": [],
   "source": [
    "######################################## Find_all ########################################"
   ]
  },
  {
   "cell_type": "code",
   "execution_count": 4,
   "id": "ee4fe3ed",
   "metadata": {},
   "outputs": [
    {
     "data": {
      "text/html": [
       "<table>\n",
       "  <tr>\n",
       "    <td id='flight' >Flight No</td>\n",
       "    <td>Launch site</td> \n",
       "    <td>Payload mass</td>\n",
       "   </tr>\n",
       "  <tr> \n",
       "    <td>1</td>\n",
       "    <td><a href='https://en.wikipedia.org/wiki/Florida'>Florida</a></td>\n",
       "    <td>300 kg</td>\n",
       "  </tr>\n",
       "  <tr>\n",
       "    <td>2</td>\n",
       "    <td><a href='https://en.wikipedia.org/wiki/Texas'>Texas</a></td>\n",
       "    <td>94 kg</td>\n",
       "  </tr>\n",
       "  <tr>\n",
       "    <td>3</td>\n",
       "    <td><a href='https://en.wikipedia.org/wiki/Florida'>Florida<a> </td>\n",
       "    <td>80 kg</td>\n",
       "  </tr>\n",
       "</table>\n"
      ],
      "text/plain": [
       "<IPython.core.display.HTML object>"
      ]
     },
     "metadata": {},
     "output_type": "display_data"
    }
   ],
   "source": [
    "%%html\n",
    "<table>\n",
    "  <tr>\n",
    "    <td id='flight' >Flight No</td>\n",
    "    <td>Launch site</td> \n",
    "    <td>Payload mass</td>\n",
    "   </tr>\n",
    "  <tr> \n",
    "    <td>1</td>\n",
    "    <td><a href='https://en.wikipedia.org/wiki/Florida'>Florida</a></td>\n",
    "    <td>300 kg</td>\n",
    "  </tr>\n",
    "  <tr>\n",
    "    <td>2</td>\n",
    "    <td><a href='https://en.wikipedia.org/wiki/Texas'>Texas</a></td>\n",
    "    <td>94 kg</td>\n",
    "  </tr>\n",
    "  <tr>\n",
    "    <td>3</td>\n",
    "    <td><a href='https://en.wikipedia.org/wiki/Florida'>Florida<a> </td>\n",
    "    <td>80 kg</td>\n",
    "  </tr>\n",
    "</table>"
   ]
  },
  {
   "cell_type": "code",
   "execution_count": 5,
   "id": "5c7f9b8e",
   "metadata": {},
   "outputs": [],
   "source": [
    "# store the html code as a string in the variable html\n",
    "html = \"<table><tr><td id='flight'>Flight No</td><td>Launch site</td> <td>Payload mass</td></tr><tr> <td>1</td><td><a href='https://en.wikipedia.org/wiki/Florida'>Florida<a></td><td>300 kg</td></tr><tr><td>2</td><td><a href='https://en.wikipedia.org/wiki/Texas'>Texas</a></td><td>94 kg</td></tr><tr><td>3</td><td><a href='https://en.wikipedia.org/wiki/Florida'>Florida<a> </td><td>80 kg</td></tr></table>\""
   ]
  },
  {
   "cell_type": "code",
   "execution_count": 9,
   "id": "6c632f4a",
   "metadata": {},
   "outputs": [],
   "source": [
    "soup = BeautifulSoup(html, 'html5lib')"
   ]
  },
  {
   "cell_type": "code",
   "execution_count": 10,
   "id": "eb9eeb2e",
   "metadata": {},
   "outputs": [
    {
     "data": {
      "text/plain": [
       "[<tr><td id=\"flight\">Flight No</td><td>Launch site</td> <td>Payload mass</td></tr>,\n",
       " <tr> <td>1</td><td><a href=\"https://en.wikipedia.org/wiki/Florida\">Florida</a><a></a></td><td>300 kg</td></tr>,\n",
       " <tr><td>2</td><td><a href=\"https://en.wikipedia.org/wiki/Texas\">Texas</a></td><td>94 kg</td></tr>,\n",
       " <tr><td>3</td><td><a href=\"https://en.wikipedia.org/wiki/Florida\">Florida</a><a> </a></td><td>80 kg</td></tr>]"
      ]
     },
     "execution_count": 10,
     "metadata": {},
     "output_type": "execute_result"
    }
   ],
   "source": [
    "table_row = soup.find_all(name='tr')\n",
    "table_row"
   ]
  },
  {
   "cell_type": "code",
   "execution_count": 11,
   "id": "97a418b7",
   "metadata": {},
   "outputs": [
    {
     "data": {
      "text/plain": [
       "<tr><td id=\"flight\">Flight No</td><td>Launch site</td> <td>Payload mass</td></tr>"
      ]
     },
     "execution_count": 11,
     "metadata": {},
     "output_type": "execute_result"
    }
   ],
   "source": [
    "first_row = table_row[0]\n",
    "first_row"
   ]
  },
  {
   "cell_type": "code",
   "execution_count": 12,
   "id": "8155c7d8",
   "metadata": {},
   "outputs": [
    {
     "data": {
      "text/plain": [
       "bs4.element.Tag"
      ]
     },
     "execution_count": 12,
     "metadata": {},
     "output_type": "execute_result"
    }
   ],
   "source": [
    "# The type is tag\n",
    "type(first_row)"
   ]
  },
  {
   "cell_type": "code",
   "execution_count": 13,
   "id": "38115d9d",
   "metadata": {},
   "outputs": [
    {
     "data": {
      "text/plain": [
       "<td id=\"flight\">Flight No</td>"
      ]
     },
     "execution_count": 13,
     "metadata": {},
     "output_type": "execute_result"
    }
   ],
   "source": [
    "# we can obtain the child\n",
    "first_row.td     #extract the 1st table's cell"
   ]
  },
  {
   "cell_type": "code",
   "execution_count": 14,
   "id": "c31433fa",
   "metadata": {},
   "outputs": [
    {
     "name": "stdout",
     "output_type": "stream",
     "text": [
      "row 0 is <tr><td id=\"flight\">Flight No</td><td>Launch site</td> <td>Payload mass</td></tr>\n",
      "row 1 is <tr> <td>1</td><td><a href=\"https://en.wikipedia.org/wiki/Florida\">Florida</a><a></a></td><td>300 kg</td></tr>\n",
      "row 2 is <tr><td>2</td><td><a href=\"https://en.wikipedia.org/wiki/Texas\">Texas</a></td><td>94 kg</td></tr>\n",
      "row 3 is <tr><td>3</td><td><a href=\"https://en.wikipedia.org/wiki/Florida\">Florida</a><a> </a></td><td>80 kg</td></tr>\n"
     ]
    }
   ],
   "source": [
    "# If we iterate through the list, each element corresponds to a row in the table\n",
    "for i,row in enumerate(table_row):\n",
    "    print(\"row\",i,\"is\",row)"
   ]
  },
  {
   "cell_type": "code",
   "execution_count": 15,
   "id": "3c5ad55e",
   "metadata": {},
   "outputs": [
    {
     "name": "stdout",
     "output_type": "stream",
     "text": [
      "row 0\n",
      "column 0 cell <td id=\"flight\">Flight No</td>\n",
      "column 1 cell <td>Launch site</td>\n",
      "column 2 cell <td>Payload mass</td>\n",
      "row 1\n",
      "column 0 cell <td>1</td>\n",
      "column 1 cell <td><a href=\"https://en.wikipedia.org/wiki/Florida\">Florida</a><a></a></td>\n",
      "column 2 cell <td>300 kg</td>\n",
      "row 2\n",
      "column 0 cell <td>2</td>\n",
      "column 1 cell <td><a href=\"https://en.wikipedia.org/wiki/Texas\">Texas</a></td>\n",
      "column 2 cell <td>94 kg</td>\n",
      "row 3\n",
      "column 0 cell <td>3</td>\n",
      "column 1 cell <td><a href=\"https://en.wikipedia.org/wiki/Florida\">Florida</a><a> </a></td>\n",
      "column 2 cell <td>80 kg</td>\n"
     ]
    }
   ],
   "source": [
    "# we can iterate through each table's cell\n",
    "# As row is a cell object, we can apply the method find_all to it and extract table cells in the object cells using the tag td, \n",
    "# this is all the children with the name td. \n",
    "# The result is a list, each element corresponds to a cell and is a Tag object, \n",
    "# we can iterate through this list as well. We can extract the content using the string attribute.\n",
    "\n",
    "for i, row in enumerate(table_row):\n",
    "    print(\"row\", i)\n",
    "    cells = row.find_all(\"td\")\n",
    "    for j, cell in enumerate(cells):\n",
    "        print(\"column\",j, \"cell\",cell)"
   ]
  },
  {
   "cell_type": "code",
   "execution_count": 16,
   "id": "4083496b",
   "metadata": {},
   "outputs": [
    {
     "data": {
      "text/plain": [
       "[<tr><td id=\"flight\">Flight No</td><td>Launch site</td> <td>Payload mass</td></tr>,\n",
       " <td id=\"flight\">Flight No</td>,\n",
       " <td>Launch site</td>,\n",
       " <td>Payload mass</td>,\n",
       " <tr> <td>1</td><td><a href=\"https://en.wikipedia.org/wiki/Florida\">Florida</a><a></a></td><td>300 kg</td></tr>,\n",
       " <td>1</td>,\n",
       " <td><a href=\"https://en.wikipedia.org/wiki/Florida\">Florida</a><a></a></td>,\n",
       " <td>300 kg</td>,\n",
       " <tr><td>2</td><td><a href=\"https://en.wikipedia.org/wiki/Texas\">Texas</a></td><td>94 kg</td></tr>,\n",
       " <td>2</td>,\n",
       " <td><a href=\"https://en.wikipedia.org/wiki/Texas\">Texas</a></td>,\n",
       " <td>94 kg</td>,\n",
       " <tr><td>3</td><td><a href=\"https://en.wikipedia.org/wiki/Florida\">Florida</a><a> </a></td><td>80 kg</td></tr>,\n",
       " <td>3</td>,\n",
       " <td><a href=\"https://en.wikipedia.org/wiki/Florida\">Florida</a><a> </a></td>,\n",
       " <td>80 kg</td>]"
      ]
     },
     "execution_count": 16,
     "metadata": {},
     "output_type": "execute_result"
    }
   ],
   "source": [
    "# If we use a list we can match against any item in that list\n",
    "list_input=soup.find_all(name=[\"tr\", \"td\"])\n",
    "list_input"
   ]
  },
  {
   "cell_type": "code",
   "execution_count": 17,
   "id": "df64bcb7",
   "metadata": {},
   "outputs": [],
   "source": [
    "####### Filter on the tag's attributes #######"
   ]
  },
  {
   "cell_type": "code",
   "execution_count": 18,
   "id": "ac9f8c64",
   "metadata": {},
   "outputs": [
    {
     "data": {
      "text/plain": [
       "[<td id=\"flight\">Flight No</td>]"
      ]
     },
     "execution_count": 18,
     "metadata": {},
     "output_type": "execute_result"
    }
   ],
   "source": [
    "# the first td elements have a value of id of flight, therefore we can filter based on that id value\n",
    "soup.find_all(id=\"flight\")"
   ]
  },
  {
   "cell_type": "code",
   "execution_count": 19,
   "id": "7d5a8e73",
   "metadata": {},
   "outputs": [
    {
     "data": {
      "text/plain": [
       "[<a href=\"https://en.wikipedia.org/wiki/Florida\">Florida</a>,\n",
       " <a href=\"https://en.wikipedia.org/wiki/Florida\">Florida</a>]"
      ]
     },
     "execution_count": 19,
     "metadata": {},
     "output_type": "execute_result"
    }
   ],
   "source": [
    "# We can find all the elements that have links to the Florida Wikipedia page\n",
    "soup.find_all(href=\"https://en.wikipedia.org/wiki/Florida\")"
   ]
  },
  {
   "cell_type": "code",
   "execution_count": 20,
   "id": "dc176747",
   "metadata": {},
   "outputs": [
    {
     "data": {
      "text/plain": [
       "[<a href=\"https://en.wikipedia.org/wiki/Florida\">Florida</a>,\n",
       " <a href=\"https://en.wikipedia.org/wiki/Texas\">Texas</a>,\n",
       " <a href=\"https://en.wikipedia.org/wiki/Florida\">Florida</a>]"
      ]
     },
     "execution_count": 20,
     "metadata": {},
     "output_type": "execute_result"
    }
   ],
   "source": [
    "# If we set the href attribute to True, regardless of what the value is, the code finds all tags with href value\n",
    "soup.find_all(href=True)"
   ]
  },
  {
   "cell_type": "code",
   "execution_count": 21,
   "id": "e4fca4a5",
   "metadata": {},
   "outputs": [
    {
     "data": {
      "text/plain": [
       "[<html><head></head><body><table><tbody><tr><td id=\"flight\">Flight No</td><td>Launch site</td> <td>Payload mass</td></tr><tr> <td>1</td><td><a href=\"https://en.wikipedia.org/wiki/Florida\">Florida</a><a></a></td><td>300 kg</td></tr><tr><td>2</td><td><a href=\"https://en.wikipedia.org/wiki/Texas\">Texas</a></td><td>94 kg</td></tr><tr><td>3</td><td><a href=\"https://en.wikipedia.org/wiki/Florida\">Florida</a><a> </a></td><td>80 kg</td></tr></tbody></table></body></html>,\n",
       " <head></head>,\n",
       " <body><table><tbody><tr><td id=\"flight\">Flight No</td><td>Launch site</td> <td>Payload mass</td></tr><tr> <td>1</td><td><a href=\"https://en.wikipedia.org/wiki/Florida\">Florida</a><a></a></td><td>300 kg</td></tr><tr><td>2</td><td><a href=\"https://en.wikipedia.org/wiki/Texas\">Texas</a></td><td>94 kg</td></tr><tr><td>3</td><td><a href=\"https://en.wikipedia.org/wiki/Florida\">Florida</a><a> </a></td><td>80 kg</td></tr></tbody></table></body>,\n",
       " <table><tbody><tr><td id=\"flight\">Flight No</td><td>Launch site</td> <td>Payload mass</td></tr><tr> <td>1</td><td><a href=\"https://en.wikipedia.org/wiki/Florida\">Florida</a><a></a></td><td>300 kg</td></tr><tr><td>2</td><td><a href=\"https://en.wikipedia.org/wiki/Texas\">Texas</a></td><td>94 kg</td></tr><tr><td>3</td><td><a href=\"https://en.wikipedia.org/wiki/Florida\">Florida</a><a> </a></td><td>80 kg</td></tr></tbody></table>,\n",
       " <tbody><tr><td id=\"flight\">Flight No</td><td>Launch site</td> <td>Payload mass</td></tr><tr> <td>1</td><td><a href=\"https://en.wikipedia.org/wiki/Florida\">Florida</a><a></a></td><td>300 kg</td></tr><tr><td>2</td><td><a href=\"https://en.wikipedia.org/wiki/Texas\">Texas</a></td><td>94 kg</td></tr><tr><td>3</td><td><a href=\"https://en.wikipedia.org/wiki/Florida\">Florida</a><a> </a></td><td>80 kg</td></tr></tbody>,\n",
       " <tr><td id=\"flight\">Flight No</td><td>Launch site</td> <td>Payload mass</td></tr>,\n",
       " <td id=\"flight\">Flight No</td>,\n",
       " <td>Launch site</td>,\n",
       " <td>Payload mass</td>,\n",
       " <tr> <td>1</td><td><a href=\"https://en.wikipedia.org/wiki/Florida\">Florida</a><a></a></td><td>300 kg</td></tr>,\n",
       " <td>1</td>,\n",
       " <td><a href=\"https://en.wikipedia.org/wiki/Florida\">Florida</a><a></a></td>,\n",
       " <a></a>,\n",
       " <td>300 kg</td>,\n",
       " <tr><td>2</td><td><a href=\"https://en.wikipedia.org/wiki/Texas\">Texas</a></td><td>94 kg</td></tr>,\n",
       " <td>2</td>,\n",
       " <td><a href=\"https://en.wikipedia.org/wiki/Texas\">Texas</a></td>,\n",
       " <td>94 kg</td>,\n",
       " <tr><td>3</td><td><a href=\"https://en.wikipedia.org/wiki/Florida\">Florida</a><a> </a></td><td>80 kg</td></tr>,\n",
       " <td>3</td>,\n",
       " <td><a href=\"https://en.wikipedia.org/wiki/Florida\">Florida</a><a> </a></td>,\n",
       " <a> </a>,\n",
       " <td>80 kg</td>]"
      ]
     },
     "execution_count": 21,
     "metadata": {},
     "output_type": "execute_result"
    }
   ],
   "source": [
    "# we can find all the elements without href value\n",
    "soup.find_all(href=False)"
   ]
  },
  {
   "cell_type": "code",
   "execution_count": 22,
   "id": "c07b6663",
   "metadata": {},
   "outputs": [
    {
     "data": {
      "text/plain": [
       "['Florida', 'Florida']"
      ]
     },
     "execution_count": 22,
     "metadata": {},
     "output_type": "execute_result"
    }
   ],
   "source": [
    "# With string you can search for strings instead of tags\n",
    "soup.find_all(string=\"Florida\")"
   ]
  },
  {
   "cell_type": "code",
   "execution_count": 23,
   "id": "94a37908",
   "metadata": {},
   "outputs": [],
   "source": [
    "######################################## Find ########################################\n",
    "# find the first element in the document"
   ]
  },
  {
   "cell_type": "code",
   "execution_count": 24,
   "id": "f7e809ec",
   "metadata": {},
   "outputs": [
    {
     "data": {
      "text/html": [
       "<h3>Rocket Launch </h3>\n",
       "\n",
       "<p>\n",
       "<table class='rocket'>\n",
       "  <tr>\n",
       "    <td>Flight No</td>\n",
       "    <td>Launch site</td> \n",
       "    <td>Payload mass</td>\n",
       "  </tr>\n",
       "  <tr>\n",
       "    <td>1</td>\n",
       "    <td>Florida</td>\n",
       "    <td>300 kg</td>\n",
       "  </tr>\n",
       "  <tr>\n",
       "    <td>2</td>\n",
       "    <td>Texas</td>\n",
       "    <td>94 kg</td>\n",
       "  </tr>\n",
       "  <tr>\n",
       "    <td>3</td>\n",
       "    <td>Florida </td>\n",
       "    <td>80 kg</td>\n",
       "  </tr>\n",
       "</table>\n",
       "</p>\n",
       "<p>\n",
       "\n",
       "<h3>Pizza Party  </h3>\n",
       "  \n",
       "    \n",
       "<table class='pizza'>\n",
       "  <tr>\n",
       "    <td>Pizza Place</td>\n",
       "    <td>Orders</td> \n",
       "    <td>Slices </td>\n",
       "   </tr>\n",
       "  <tr>\n",
       "    <td>Domino's Pizza</td>\n",
       "    <td>10</td>\n",
       "    <td>100</td>\n",
       "  </tr>\n",
       "  <tr>\n",
       "    <td>Little Caesars</td>\n",
       "    <td>12</td>\n",
       "    <td >144 </td>\n",
       "  </tr>\n",
       "  <tr>\n",
       "    <td>Papa John's </td>\n",
       "    <td>15 </td>\n",
       "    <td>165</td>\n",
       "  </tr>\n"
      ],
      "text/plain": [
       "<IPython.core.display.HTML object>"
      ]
     },
     "metadata": {},
     "output_type": "display_data"
    }
   ],
   "source": [
    "%%html\n",
    "<h3>Rocket Launch </h3>\n",
    "\n",
    "<p>\n",
    "<table class='rocket'>\n",
    "  <tr>\n",
    "    <td>Flight No</td>\n",
    "    <td>Launch site</td> \n",
    "    <td>Payload mass</td>\n",
    "  </tr>\n",
    "  <tr>\n",
    "    <td>1</td>\n",
    "    <td>Florida</td>\n",
    "    <td>300 kg</td>\n",
    "  </tr>\n",
    "  <tr>\n",
    "    <td>2</td>\n",
    "    <td>Texas</td>\n",
    "    <td>94 kg</td>\n",
    "  </tr>\n",
    "  <tr>\n",
    "    <td>3</td>\n",
    "    <td>Florida </td>\n",
    "    <td>80 kg</td>\n",
    "  </tr>\n",
    "</table>\n",
    "</p>\n",
    "<p>\n",
    "\n",
    "<h3>Pizza Party  </h3>\n",
    "  \n",
    "    \n",
    "<table class='pizza'>\n",
    "  <tr>\n",
    "    <td>Pizza Place</td>\n",
    "    <td>Orders</td> \n",
    "    <td>Slices </td>\n",
    "   </tr>\n",
    "  <tr>\n",
    "    <td>Domino's Pizza</td>\n",
    "    <td>10</td>\n",
    "    <td>100</td>\n",
    "  </tr>\n",
    "  <tr>\n",
    "    <td>Little Caesars</td>\n",
    "    <td>12</td>\n",
    "    <td >144 </td>\n",
    "  </tr>\n",
    "  <tr>\n",
    "    <td>Papa John's </td>\n",
    "    <td>15 </td>\n",
    "    <td>165</td>\n",
    "  </tr>"
   ]
  },
  {
   "cell_type": "code",
   "execution_count": 25,
   "id": "69bb3f02",
   "metadata": {},
   "outputs": [],
   "source": [
    "tables=\"<h3>Rocket Launch </h3><p><table class='rocket'><tr><td>Flight No</td><td>Launch site</td> <td>Payload mass</td></tr><tr><td>1</td><td>Florida</td><td>300 kg</td></tr><tr><td>2</td><td>Texas</td><td>94 kg</td></tr><tr><td>3</td><td>Florida </td><td>80 kg</td></tr></table></p><p><h3>Pizza Party  </h3><table class='pizza'><tr><td>Pizza Place</td><td>Orders</td> <td>Slices </td></tr><tr><td>Domino's Pizza</td><td>10</td><td>100</td></tr><tr><td>Little Caesars</td><td>12</td><td >144 </td></tr><tr><td>Papa John's </td><td>15 </td><td>165</td></tr>\""
   ]
  },
  {
   "cell_type": "code",
   "execution_count": 26,
   "id": "099557ab",
   "metadata": {},
   "outputs": [],
   "source": [
    "# create a BeautifulSoup object\n",
    "soup = BeautifulSoup(tables, 'html.parser')"
   ]
  },
  {
   "cell_type": "code",
   "execution_count": 27,
   "id": "d011b6ca",
   "metadata": {},
   "outputs": [
    {
     "data": {
      "text/plain": [
       "<table class=\"rocket\"><tr><td>Flight No</td><td>Launch site</td> <td>Payload mass</td></tr><tr><td>1</td><td>Florida</td><td>300 kg</td></tr><tr><td>2</td><td>Texas</td><td>94 kg</td></tr><tr><td>3</td><td>Florida </td><td>80 kg</td></tr></table>"
      ]
     },
     "execution_count": 27,
     "metadata": {},
     "output_type": "execute_result"
    }
   ],
   "source": [
    "# we can find the first table using the tag name table\n",
    "soup.find(\"table\")"
   ]
  },
  {
   "cell_type": "code",
   "execution_count": 28,
   "id": "ead16320",
   "metadata": {},
   "outputs": [
    {
     "data": {
      "text/plain": [
       "<table class=\"pizza\"><tr><td>Pizza Place</td><td>Orders</td> <td>Slices </td></tr><tr><td>Domino's Pizza</td><td>10</td><td>100</td></tr><tr><td>Little Caesars</td><td>12</td><td>144 </td></tr><tr><td>Papa John's </td><td>15 </td><td>165</td></tr></table>"
      ]
     },
     "execution_count": 28,
     "metadata": {},
     "output_type": "execute_result"
    }
   ],
   "source": [
    "# We can filter on the class attribute to find the second table \n",
    "# but because class is a keyword in Python, we add an underscore to differentiate them.\n",
    "\n",
    "soup.find(\"table\",class_='pizza')"
   ]
  },
  {
   "cell_type": "code",
   "execution_count": 1,
   "id": "587a70f7",
   "metadata": {},
   "outputs": [],
   "source": [
    "###########################################################################################################################"
   ]
  },
  {
   "cell_type": "code",
   "execution_count": 2,
   "id": "4bc44829",
   "metadata": {},
   "outputs": [],
   "source": [
    "url = \"http://www.ibm.com\""
   ]
  },
  {
   "cell_type": "code",
   "execution_count": 6,
   "id": "71eb182e",
   "metadata": {},
   "outputs": [],
   "source": [
    "# .get() to download the contents of the webpage in text format and store in a variable called data\n",
    "data  = requests.get(url).text "
   ]
  },
  {
   "cell_type": "code",
   "execution_count": 7,
   "id": "d0b2e09b",
   "metadata": {},
   "outputs": [],
   "source": [
    "# create a BeautifulSoup object using the BeautifulSoup constructor\n",
    "soup = BeautifulSoup(data,\"html5lib\")"
   ]
  },
  {
   "cell_type": "code",
   "execution_count": 8,
   "id": "fe76dfd8",
   "metadata": {},
   "outputs": [
    {
     "name": "stdout",
     "output_type": "stream",
     "text": [
      "https://www.ibm.com/uk-en/cloud?lnk=intro\n"
     ]
    }
   ],
   "source": [
    "# Scrape all links\n",
    "for link in soup.find_all('a',href=True):\n",
    "    print(link.get('href'))"
   ]
  },
  {
   "cell_type": "code",
   "execution_count": 9,
   "id": "7024c63b",
   "metadata": {},
   "outputs": [
    {
     "name": "stdout",
     "output_type": "stream",
     "text": [
      "<img alt=\"Portraits of IBM consultants\" class=\"bx--image__img\" id=\"image--1828126112\" loading=\"lazy\" src=\"/content/dam/adobe-cms/default-images/home-consultants.component.crop-16by9-xl.ts=1698259949382.jpg/content/adobe-cms/uk/en/homepage/_jcr_content/root/table_of_contents/simple_image\"/>\n",
      "/content/dam/adobe-cms/default-images/home-consultants.component.crop-16by9-xl.ts=1698259949382.jpg/content/adobe-cms/uk/en/homepage/_jcr_content/root/table_of_contents/simple_image\n"
     ]
    }
   ],
   "source": [
    "# Scrape all images Tags\n",
    "for link in soup.find_all('img'):\n",
    "    print(link)\n",
    "    print(link.get('src'))"
   ]
  },
  {
   "cell_type": "code",
   "execution_count": 10,
   "id": "c67e2f0e",
   "metadata": {},
   "outputs": [],
   "source": [
    "##############################################################################################################################"
   ]
  },
  {
   "cell_type": "code",
   "execution_count": 11,
   "id": "00b48b3e",
   "metadata": {},
   "outputs": [],
   "source": [
    "# Scrape data from HTML tables"
   ]
  },
  {
   "cell_type": "code",
   "execution_count": 12,
   "id": "59638533",
   "metadata": {},
   "outputs": [],
   "source": [
    "# The below url contains an html table with data about colors and color codes.\n",
    "url = \"https://cf-courses-data.s3.us.cloud-object-storage.appdomain.cloud/IBM-DA0321EN-SkillsNetwork/labs/datasets/HTMLColorCodes.html\""
   ]
  },
  {
   "cell_type": "code",
   "execution_count": 13,
   "id": "04396a06",
   "metadata": {},
   "outputs": [],
   "source": [
    "# Before proceeding to scrape a website, we need to examine the contents and the way data is organized on the website"
   ]
  },
  {
   "cell_type": "code",
   "execution_count": 14,
   "id": "6901f4cc",
   "metadata": {},
   "outputs": [],
   "source": [
    "# get the contents of the webpage in text format and store in a variable called data\n",
    "data  = requests.get(url).text"
   ]
  },
  {
   "cell_type": "code",
   "execution_count": 15,
   "id": "b37d68a5",
   "metadata": {},
   "outputs": [],
   "source": [
    "soup = BeautifulSoup(data,\"html5lib\")"
   ]
  },
  {
   "cell_type": "code",
   "execution_count": 16,
   "id": "3d449798",
   "metadata": {},
   "outputs": [],
   "source": [
    "#find a html table in the web page\n",
    "table = soup.find('table') # in html table is represented by the tag <table>"
   ]
  },
  {
   "cell_type": "code",
   "execution_count": 17,
   "id": "78fba073",
   "metadata": {},
   "outputs": [
    {
     "name": "stdout",
     "output_type": "stream",
     "text": [
      "Color Name--->Hex Code#RRGGBB\n",
      "lightsalmon--->#FFA07A\n",
      "salmon--->#FA8072\n",
      "darksalmon--->#E9967A\n",
      "lightcoral--->#F08080\n",
      "coral--->#FF7F50\n",
      "tomato--->#FF6347\n",
      "orangered--->#FF4500\n",
      "gold--->#FFD700\n",
      "orange--->#FFA500\n",
      "darkorange--->#FF8C00\n",
      "lightyellow--->#FFFFE0\n",
      "lemonchiffon--->#FFFACD\n",
      "papayawhip--->#FFEFD5\n",
      "moccasin--->#FFE4B5\n",
      "peachpuff--->#FFDAB9\n",
      "palegoldenrod--->#EEE8AA\n",
      "khaki--->#F0E68C\n",
      "darkkhaki--->#BDB76B\n",
      "yellow--->#FFFF00\n",
      "lawngreen--->#7CFC00\n",
      "chartreuse--->#7FFF00\n",
      "limegreen--->#32CD32\n",
      "lime--->#00FF00\n",
      "forestgreen--->#228B22\n",
      "green--->#008000\n",
      "powderblue--->#B0E0E6\n",
      "lightblue--->#ADD8E6\n",
      "lightskyblue--->#87CEFA\n",
      "skyblue--->#87CEEB\n",
      "deepskyblue--->#00BFFF\n",
      "lightsteelblue--->#B0C4DE\n",
      "dodgerblue--->#1E90FF\n"
     ]
    }
   ],
   "source": [
    "#Get all rows from the table\n",
    "for row in table.find_all('tr'): # in html table row is represented by the tag <tr>\n",
    "    # Get all columns in each row.\n",
    "    cols = row.find_all('td') # in html a column is represented by the tag <td>\n",
    "    color_name = cols[2].string # store the value in column 3 as color_name\n",
    "    color_code = cols[3].text # store the value in column 4 as color_code\n",
    "    print(\"{}--->{}\".format(color_name,color_code))"
   ]
  },
  {
   "cell_type": "code",
   "execution_count": 18,
   "id": "b9fda530",
   "metadata": {},
   "outputs": [],
   "source": [
    "##############################################################################################################################"
   ]
  },
  {
   "cell_type": "code",
   "execution_count": 21,
   "id": "102bed73",
   "metadata": {},
   "outputs": [],
   "source": [
    "# Scraping tables from a Web page using Pandas\n",
    "# by using the read_html() method of the Pandas library, to extract tabular data from a web page"
   ]
  },
  {
   "cell_type": "code",
   "execution_count": 22,
   "id": "4cf6e66f",
   "metadata": {},
   "outputs": [],
   "source": [
    "#The below url contains an html table with data about colors and color codes.\n",
    "url = \"https://cf-courses-data.s3.us.cloud-object-storage.appdomain.cloud/IBM-DA0321EN-SkillsNetwork/labs/datasets/HTMLColorCodes.html\""
   ]
  },
  {
   "cell_type": "code",
   "execution_count": 23,
   "id": "1bd473b8",
   "metadata": {},
   "outputs": [
    {
     "data": {
      "text/plain": [
       "[         0      1               2                 3                     4\n",
       " 0   Number  Color      Color Name  Hex Code #RRGGBB  Decimal Code (R,G,B)\n",
       " 1        1    NaN     lightsalmon           #FFA07A      rgb(255,160,122)\n",
       " 2        2    NaN          salmon           #FA8072      rgb(250,128,114)\n",
       " 3        3    NaN      darksalmon           #E9967A      rgb(233,150,122)\n",
       " 4        4    NaN      lightcoral           #F08080      rgb(240,128,128)\n",
       " 5        5    NaN           coral           #FF7F50       rgb(255,127,80)\n",
       " 6        6    NaN          tomato           #FF6347        rgb(255,99,71)\n",
       " 7        7    NaN       orangered           #FF4500         rgb(255,69,0)\n",
       " 8        8    NaN            gold           #FFD700        rgb(255,215,0)\n",
       " 9        9    NaN          orange           #FFA500        rgb(255,165,0)\n",
       " 10      10    NaN      darkorange           #FF8C00        rgb(255,140,0)\n",
       " 11      11    NaN     lightyellow           #FFFFE0      rgb(255,255,224)\n",
       " 12      12    NaN    lemonchiffon           #FFFACD      rgb(255,250,205)\n",
       " 13      13    NaN      papayawhip           #FFEFD5      rgb(255,239,213)\n",
       " 14      14    NaN        moccasin           #FFE4B5      rgb(255,228,181)\n",
       " 15      15    NaN       peachpuff           #FFDAB9      rgb(255,218,185)\n",
       " 16      16    NaN   palegoldenrod           #EEE8AA      rgb(238,232,170)\n",
       " 17      17    NaN           khaki           #F0E68C      rgb(240,230,140)\n",
       " 18      18    NaN       darkkhaki           #BDB76B      rgb(189,183,107)\n",
       " 19      19    NaN          yellow           #FFFF00        rgb(255,255,0)\n",
       " 20      20    NaN       lawngreen           #7CFC00        rgb(124,252,0)\n",
       " 21      21    NaN      chartreuse           #7FFF00        rgb(127,255,0)\n",
       " 22      22    NaN       limegreen           #32CD32        rgb(50,205,50)\n",
       " 23      23    NaN            lime           #00FF00          rgb(0.255.0)\n",
       " 24      24    NaN     forestgreen           #228B22        rgb(34,139,34)\n",
       " 25      25    NaN           green           #008000          rgb(0,128,0)\n",
       " 26      26    NaN      powderblue           #B0E0E6      rgb(176,224,230)\n",
       " 27      27    NaN       lightblue           #ADD8E6      rgb(173,216,230)\n",
       " 28      28    NaN    lightskyblue           #87CEFA      rgb(135,206,250)\n",
       " 29      29    NaN         skyblue           #87CEEB      rgb(135,206,235)\n",
       " 30      30    NaN     deepskyblue           #00BFFF        rgb(0,191,255)\n",
       " 31      31    NaN  lightsteelblue           #B0C4DE      rgb(176,196,222)\n",
       " 32      32    NaN      dodgerblue           #1E90FF       rgb(30,144,255)]"
      ]
     },
     "execution_count": 23,
     "metadata": {},
     "output_type": "execute_result"
    }
   ],
   "source": [
    "# extract all the tables from the given webpage by using the read_html() of Pandas\n",
    "import pandas as pd\n",
    "\n",
    "tables = pd.read_html(url)\n",
    "tables"
   ]
  },
  {
   "cell_type": "code",
   "execution_count": 24,
   "id": "a5592fce",
   "metadata": {},
   "outputs": [
    {
     "data": {
      "text/html": [
       "<div>\n",
       "<style scoped>\n",
       "    .dataframe tbody tr th:only-of-type {\n",
       "        vertical-align: middle;\n",
       "    }\n",
       "\n",
       "    .dataframe tbody tr th {\n",
       "        vertical-align: top;\n",
       "    }\n",
       "\n",
       "    .dataframe thead th {\n",
       "        text-align: right;\n",
       "    }\n",
       "</style>\n",
       "<table border=\"1\" class=\"dataframe\">\n",
       "  <thead>\n",
       "    <tr style=\"text-align: right;\">\n",
       "      <th></th>\n",
       "      <th>0</th>\n",
       "      <th>1</th>\n",
       "      <th>2</th>\n",
       "      <th>3</th>\n",
       "      <th>4</th>\n",
       "    </tr>\n",
       "  </thead>\n",
       "  <tbody>\n",
       "    <tr>\n",
       "      <th>0</th>\n",
       "      <td>Number</td>\n",
       "      <td>Color</td>\n",
       "      <td>Color Name</td>\n",
       "      <td>Hex Code #RRGGBB</td>\n",
       "      <td>Decimal Code (R,G,B)</td>\n",
       "    </tr>\n",
       "    <tr>\n",
       "      <th>1</th>\n",
       "      <td>1</td>\n",
       "      <td>NaN</td>\n",
       "      <td>lightsalmon</td>\n",
       "      <td>#FFA07A</td>\n",
       "      <td>rgb(255,160,122)</td>\n",
       "    </tr>\n",
       "    <tr>\n",
       "      <th>2</th>\n",
       "      <td>2</td>\n",
       "      <td>NaN</td>\n",
       "      <td>salmon</td>\n",
       "      <td>#FA8072</td>\n",
       "      <td>rgb(250,128,114)</td>\n",
       "    </tr>\n",
       "    <tr>\n",
       "      <th>3</th>\n",
       "      <td>3</td>\n",
       "      <td>NaN</td>\n",
       "      <td>darksalmon</td>\n",
       "      <td>#E9967A</td>\n",
       "      <td>rgb(233,150,122)</td>\n",
       "    </tr>\n",
       "    <tr>\n",
       "      <th>4</th>\n",
       "      <td>4</td>\n",
       "      <td>NaN</td>\n",
       "      <td>lightcoral</td>\n",
       "      <td>#F08080</td>\n",
       "      <td>rgb(240,128,128)</td>\n",
       "    </tr>\n",
       "    <tr>\n",
       "      <th>5</th>\n",
       "      <td>5</td>\n",
       "      <td>NaN</td>\n",
       "      <td>coral</td>\n",
       "      <td>#FF7F50</td>\n",
       "      <td>rgb(255,127,80)</td>\n",
       "    </tr>\n",
       "    <tr>\n",
       "      <th>6</th>\n",
       "      <td>6</td>\n",
       "      <td>NaN</td>\n",
       "      <td>tomato</td>\n",
       "      <td>#FF6347</td>\n",
       "      <td>rgb(255,99,71)</td>\n",
       "    </tr>\n",
       "    <tr>\n",
       "      <th>7</th>\n",
       "      <td>7</td>\n",
       "      <td>NaN</td>\n",
       "      <td>orangered</td>\n",
       "      <td>#FF4500</td>\n",
       "      <td>rgb(255,69,0)</td>\n",
       "    </tr>\n",
       "    <tr>\n",
       "      <th>8</th>\n",
       "      <td>8</td>\n",
       "      <td>NaN</td>\n",
       "      <td>gold</td>\n",
       "      <td>#FFD700</td>\n",
       "      <td>rgb(255,215,0)</td>\n",
       "    </tr>\n",
       "    <tr>\n",
       "      <th>9</th>\n",
       "      <td>9</td>\n",
       "      <td>NaN</td>\n",
       "      <td>orange</td>\n",
       "      <td>#FFA500</td>\n",
       "      <td>rgb(255,165,0)</td>\n",
       "    </tr>\n",
       "    <tr>\n",
       "      <th>10</th>\n",
       "      <td>10</td>\n",
       "      <td>NaN</td>\n",
       "      <td>darkorange</td>\n",
       "      <td>#FF8C00</td>\n",
       "      <td>rgb(255,140,0)</td>\n",
       "    </tr>\n",
       "    <tr>\n",
       "      <th>11</th>\n",
       "      <td>11</td>\n",
       "      <td>NaN</td>\n",
       "      <td>lightyellow</td>\n",
       "      <td>#FFFFE0</td>\n",
       "      <td>rgb(255,255,224)</td>\n",
       "    </tr>\n",
       "    <tr>\n",
       "      <th>12</th>\n",
       "      <td>12</td>\n",
       "      <td>NaN</td>\n",
       "      <td>lemonchiffon</td>\n",
       "      <td>#FFFACD</td>\n",
       "      <td>rgb(255,250,205)</td>\n",
       "    </tr>\n",
       "    <tr>\n",
       "      <th>13</th>\n",
       "      <td>13</td>\n",
       "      <td>NaN</td>\n",
       "      <td>papayawhip</td>\n",
       "      <td>#FFEFD5</td>\n",
       "      <td>rgb(255,239,213)</td>\n",
       "    </tr>\n",
       "    <tr>\n",
       "      <th>14</th>\n",
       "      <td>14</td>\n",
       "      <td>NaN</td>\n",
       "      <td>moccasin</td>\n",
       "      <td>#FFE4B5</td>\n",
       "      <td>rgb(255,228,181)</td>\n",
       "    </tr>\n",
       "    <tr>\n",
       "      <th>15</th>\n",
       "      <td>15</td>\n",
       "      <td>NaN</td>\n",
       "      <td>peachpuff</td>\n",
       "      <td>#FFDAB9</td>\n",
       "      <td>rgb(255,218,185)</td>\n",
       "    </tr>\n",
       "    <tr>\n",
       "      <th>16</th>\n",
       "      <td>16</td>\n",
       "      <td>NaN</td>\n",
       "      <td>palegoldenrod</td>\n",
       "      <td>#EEE8AA</td>\n",
       "      <td>rgb(238,232,170)</td>\n",
       "    </tr>\n",
       "    <tr>\n",
       "      <th>17</th>\n",
       "      <td>17</td>\n",
       "      <td>NaN</td>\n",
       "      <td>khaki</td>\n",
       "      <td>#F0E68C</td>\n",
       "      <td>rgb(240,230,140)</td>\n",
       "    </tr>\n",
       "    <tr>\n",
       "      <th>18</th>\n",
       "      <td>18</td>\n",
       "      <td>NaN</td>\n",
       "      <td>darkkhaki</td>\n",
       "      <td>#BDB76B</td>\n",
       "      <td>rgb(189,183,107)</td>\n",
       "    </tr>\n",
       "    <tr>\n",
       "      <th>19</th>\n",
       "      <td>19</td>\n",
       "      <td>NaN</td>\n",
       "      <td>yellow</td>\n",
       "      <td>#FFFF00</td>\n",
       "      <td>rgb(255,255,0)</td>\n",
       "    </tr>\n",
       "    <tr>\n",
       "      <th>20</th>\n",
       "      <td>20</td>\n",
       "      <td>NaN</td>\n",
       "      <td>lawngreen</td>\n",
       "      <td>#7CFC00</td>\n",
       "      <td>rgb(124,252,0)</td>\n",
       "    </tr>\n",
       "    <tr>\n",
       "      <th>21</th>\n",
       "      <td>21</td>\n",
       "      <td>NaN</td>\n",
       "      <td>chartreuse</td>\n",
       "      <td>#7FFF00</td>\n",
       "      <td>rgb(127,255,0)</td>\n",
       "    </tr>\n",
       "    <tr>\n",
       "      <th>22</th>\n",
       "      <td>22</td>\n",
       "      <td>NaN</td>\n",
       "      <td>limegreen</td>\n",
       "      <td>#32CD32</td>\n",
       "      <td>rgb(50,205,50)</td>\n",
       "    </tr>\n",
       "    <tr>\n",
       "      <th>23</th>\n",
       "      <td>23</td>\n",
       "      <td>NaN</td>\n",
       "      <td>lime</td>\n",
       "      <td>#00FF00</td>\n",
       "      <td>rgb(0.255.0)</td>\n",
       "    </tr>\n",
       "    <tr>\n",
       "      <th>24</th>\n",
       "      <td>24</td>\n",
       "      <td>NaN</td>\n",
       "      <td>forestgreen</td>\n",
       "      <td>#228B22</td>\n",
       "      <td>rgb(34,139,34)</td>\n",
       "    </tr>\n",
       "    <tr>\n",
       "      <th>25</th>\n",
       "      <td>25</td>\n",
       "      <td>NaN</td>\n",
       "      <td>green</td>\n",
       "      <td>#008000</td>\n",
       "      <td>rgb(0,128,0)</td>\n",
       "    </tr>\n",
       "    <tr>\n",
       "      <th>26</th>\n",
       "      <td>26</td>\n",
       "      <td>NaN</td>\n",
       "      <td>powderblue</td>\n",
       "      <td>#B0E0E6</td>\n",
       "      <td>rgb(176,224,230)</td>\n",
       "    </tr>\n",
       "    <tr>\n",
       "      <th>27</th>\n",
       "      <td>27</td>\n",
       "      <td>NaN</td>\n",
       "      <td>lightblue</td>\n",
       "      <td>#ADD8E6</td>\n",
       "      <td>rgb(173,216,230)</td>\n",
       "    </tr>\n",
       "    <tr>\n",
       "      <th>28</th>\n",
       "      <td>28</td>\n",
       "      <td>NaN</td>\n",
       "      <td>lightskyblue</td>\n",
       "      <td>#87CEFA</td>\n",
       "      <td>rgb(135,206,250)</td>\n",
       "    </tr>\n",
       "    <tr>\n",
       "      <th>29</th>\n",
       "      <td>29</td>\n",
       "      <td>NaN</td>\n",
       "      <td>skyblue</td>\n",
       "      <td>#87CEEB</td>\n",
       "      <td>rgb(135,206,235)</td>\n",
       "    </tr>\n",
       "    <tr>\n",
       "      <th>30</th>\n",
       "      <td>30</td>\n",
       "      <td>NaN</td>\n",
       "      <td>deepskyblue</td>\n",
       "      <td>#00BFFF</td>\n",
       "      <td>rgb(0,191,255)</td>\n",
       "    </tr>\n",
       "    <tr>\n",
       "      <th>31</th>\n",
       "      <td>31</td>\n",
       "      <td>NaN</td>\n",
       "      <td>lightsteelblue</td>\n",
       "      <td>#B0C4DE</td>\n",
       "      <td>rgb(176,196,222)</td>\n",
       "    </tr>\n",
       "    <tr>\n",
       "      <th>32</th>\n",
       "      <td>32</td>\n",
       "      <td>NaN</td>\n",
       "      <td>dodgerblue</td>\n",
       "      <td>#1E90FF</td>\n",
       "      <td>rgb(30,144,255)</td>\n",
       "    </tr>\n",
       "  </tbody>\n",
       "</table>\n",
       "</div>"
      ],
      "text/plain": [
       "         0      1               2                 3                     4\n",
       "0   Number  Color      Color Name  Hex Code #RRGGBB  Decimal Code (R,G,B)\n",
       "1        1    NaN     lightsalmon           #FFA07A      rgb(255,160,122)\n",
       "2        2    NaN          salmon           #FA8072      rgb(250,128,114)\n",
       "3        3    NaN      darksalmon           #E9967A      rgb(233,150,122)\n",
       "4        4    NaN      lightcoral           #F08080      rgb(240,128,128)\n",
       "5        5    NaN           coral           #FF7F50       rgb(255,127,80)\n",
       "6        6    NaN          tomato           #FF6347        rgb(255,99,71)\n",
       "7        7    NaN       orangered           #FF4500         rgb(255,69,0)\n",
       "8        8    NaN            gold           #FFD700        rgb(255,215,0)\n",
       "9        9    NaN          orange           #FFA500        rgb(255,165,0)\n",
       "10      10    NaN      darkorange           #FF8C00        rgb(255,140,0)\n",
       "11      11    NaN     lightyellow           #FFFFE0      rgb(255,255,224)\n",
       "12      12    NaN    lemonchiffon           #FFFACD      rgb(255,250,205)\n",
       "13      13    NaN      papayawhip           #FFEFD5      rgb(255,239,213)\n",
       "14      14    NaN        moccasin           #FFE4B5      rgb(255,228,181)\n",
       "15      15    NaN       peachpuff           #FFDAB9      rgb(255,218,185)\n",
       "16      16    NaN   palegoldenrod           #EEE8AA      rgb(238,232,170)\n",
       "17      17    NaN           khaki           #F0E68C      rgb(240,230,140)\n",
       "18      18    NaN       darkkhaki           #BDB76B      rgb(189,183,107)\n",
       "19      19    NaN          yellow           #FFFF00        rgb(255,255,0)\n",
       "20      20    NaN       lawngreen           #7CFC00        rgb(124,252,0)\n",
       "21      21    NaN      chartreuse           #7FFF00        rgb(127,255,0)\n",
       "22      22    NaN       limegreen           #32CD32        rgb(50,205,50)\n",
       "23      23    NaN            lime           #00FF00          rgb(0.255.0)\n",
       "24      24    NaN     forestgreen           #228B22        rgb(34,139,34)\n",
       "25      25    NaN           green           #008000          rgb(0,128,0)\n",
       "26      26    NaN      powderblue           #B0E0E6      rgb(176,224,230)\n",
       "27      27    NaN       lightblue           #ADD8E6      rgb(173,216,230)\n",
       "28      28    NaN    lightskyblue           #87CEFA      rgb(135,206,250)\n",
       "29      29    NaN         skyblue           #87CEEB      rgb(135,206,235)\n",
       "30      30    NaN     deepskyblue           #00BFFF        rgb(0,191,255)\n",
       "31      31    NaN  lightsteelblue           #B0C4DE      rgb(176,196,222)\n",
       "32      32    NaN      dodgerblue           #1E90FF       rgb(30,144,255)"
      ]
     },
     "execution_count": 24,
     "metadata": {},
     "output_type": "execute_result"
    }
   ],
   "source": [
    "# tables is now a list of dataframes representing the tables from the web page, in the sequence of their appearance. \n",
    "# In the current URL, there is only a single table, so the same can be accessed as shown below.\n",
    "\n",
    "tables[0]"
   ]
  },
  {
   "cell_type": "code",
   "execution_count": 26,
   "id": "0a4eda5e",
   "metadata": {},
   "outputs": [],
   "source": [
    "##############################################################################################################################"
   ]
  },
  {
   "cell_type": "code",
   "execution_count": null,
   "id": "558faecd",
   "metadata": {},
   "outputs": [],
   "source": [
    "#import libraries\n",
    "import requests\n",
    "from bs4 import BeautifulSoup\n",
    "\n",
    "# use the .get() method from the Requests library to download the webpage\n",
    "# the input is the url, and use .text attribute to get the text, and assign it to the variable page \n",
    "page = requests.get(\"http://EnterWebsiteURL...\").text\n",
    "\n",
    "# Creates a BeautifulSoup Object, it will allow us to parse through the html page \n",
    "soup = BeautifulSoup(page, \"html.parser\")\n",
    "\n",
    "# we can now Scrape the page\n",
    "# Pulls all instances of <a> tag\n",
    "artists = soup.find_all('a')\n",
    "\n",
    "# Clears data of all tags\n",
    "for artist in artists:\n",
    "    names  = artist.contents[0]\n",
    "    fullLink = artist.get('href')\n",
    "    print(names)\n",
    "    print(fullLink)"
   ]
  },
  {
   "cell_type": "code",
   "execution_count": null,
   "id": "d2740fa3",
   "metadata": {},
   "outputs": [],
   "source": [
    "##############################################################################################################################"
   ]
  },
  {
   "cell_type": "code",
   "execution_count": null,
   "id": "671a728f",
   "metadata": {},
   "outputs": [],
   "source": [
    "# To store data in a database, we first need to initialize a connection to the database, \n",
    "# save the dataframe as a table, and then close the connection.\n",
    "conn = sqlite3.connect(db_name)\n",
    "df.to_sql(table_name, conn, if_exists='replace', index=False)\n",
    "conn.close()\n",
    "\n",
    "\n",
    "# This database can now be used to retrieve the relevant information using SQL queries."
   ]
  },
  {
   "cell_type": "markdown",
   "id": "093ed8a0",
   "metadata": {},
   "source": [
    "# Reading Files"
   ]
  },
  {
   "cell_type": "code",
   "execution_count": null,
   "id": "4878a617",
   "metadata": {},
   "outputs": [],
   "source": [
    "# Reading Json File\n",
    "\n",
    "import json\n",
    "with open ('FileSample.json', 'r') as openfile:\n",
    "    json_object = json.load(openfile)  #to begin and read the file\n",
    "    print(json_object)"
   ]
  },
  {
   "cell_type": "code",
   "execution_count": 25,
   "id": "406761a5",
   "metadata": {},
   "outputs": [],
   "source": [
    "# Reading XML File (Extensible Markup Language)\n",
    "\n",
    "import pandas as pd\n",
    "# Pandas library doesn't have an attributevto read XML (∴ we'll use .etree attribute to parse the XML file)\n",
    "import xml.etree.ElementTree as etree\n",
    "\n",
    "tree = etree.parse(\"FileExample.xml\")\n",
    "root = tree.getroot()\n",
    "\n",
    "# add the columns headers & assign them to the dataframe\n",
    "columns = [\"Name\", \"Phone Number\", \"Birthday\"]\n",
    "df = pd.DataFrame(columns = columns)\n",
    "\n",
    "# create a loop to go through the document to collect the necessary data & append the data to a dataframe\n",
    "for node in root:\n",
    "    name = node.find(\"name\").text\n",
    "    phonenumber = node.find(\"phonenumber\").text\n",
    "    birthday = node.find(\"birthday\").text\n",
    "    \n",
    "df = df.append(pd.Series([name, phonenumber, birthday], index = columns) ..... , ignore_index = True)"
   ]
  },
  {
   "cell_type": "markdown",
   "id": "d8abaa8c",
   "metadata": {},
   "source": [
    "# ETL \n",
    "Extract, Transform, and Load in batch processes"
   ]
  },
  {
   "cell_type": "code",
   "execution_count": null,
   "id": "127019ef",
   "metadata": {},
   "outputs": [],
   "source": [
    "####### EXTRACT #######\n",
    "import glob\n",
    "\n",
    "# use the glob function from the glob module\n",
    "# the input is the file extension, the output is a list of files with that particualr extension\n",
    "list_csv = glob.glob('*.csv')\n",
    "list_csv\n",
    "\n",
    "list_json = glob.glob('*.json')\n",
    "list_json\n",
    "\n",
    "############################################################################################################\n",
    "# we can write a file to extract csv of names, height, and weight\n",
    "def extract_from_csv(file_to_process):\n",
    "    dataframe = pd.read_csv(file_to_process)\n",
    "    return dataframe\n",
    "df = extract_from_csv('source1.csv')  #the input is the file name of the csv file, the result is a dataframe\n",
    "\n",
    "\n",
    "def extract_from_json(file_to_process):\n",
    "    dataframe = pd.read_json(file_to_process, lines=True)\n",
    "    return dataframe\n",
    "df = extract_from_json('source1.json')\n",
    "\n",
    "##############################################################################################################\n",
    "# The function extract: will extract large amount of data from multiple sources in batches\n",
    "def extract():\n",
    "    #create an empty dataframe to hold extracted data\n",
    "    extracted_data = pd.DataFrame(columns=['name','height','weight']) #the result is an empty dataframe with the column names\n",
    "\n",
    "#adding a loop to find all the csv files\n",
    "# by adding the glob function, it will find and load all of the csv file names, \n",
    "#                                          and with each iteration of the loop the csv files are appended to the dataframe.\n",
    "# ignore_index=True ---> the order of each row would be the same as the order the row was appended to the dataframe.\n",
    "    #process all csv files\n",
    "    for csvfile in glob.glob('*.csv'):\n",
    "        extracted_data = extracted_data.append(extract_from_csv(csvfile), ignore_index=True)\n",
    "    \n",
    "    #process all json files\n",
    "    for jsonfile in glob.glob('*.json'):\n",
    "        extracted_data = extracted_data.append(extract_from_json(jsonfile), ignore_index=True)\n",
    "    \n",
    "    return extracted_data"
   ]
  },
  {
   "cell_type": "code",
   "execution_count": null,
   "id": "93acff3f",
   "metadata": {},
   "outputs": [],
   "source": [
    "###### TRANSFORM ######\n",
    "\n",
    "def transform(data):\n",
    "    #convert height which is inches to millimeter\n",
    "    #convert inches to meters and round off to two decimals(1 inch is 0.0254 meters)\n",
    "    data['height'] = round(data.height * 0.0254,2)\n",
    "    \n",
    "    #convert pounds to kilograms and round off to two decimals(1 pound is 0.45359237 kilograms)\n",
    "    data['weight'] = round(data.weight * 0.45359237,2)\n",
    "    return data"
   ]
  },
  {
   "cell_type": "code",
   "execution_count": null,
   "id": "42a96046",
   "metadata": {},
   "outputs": [],
   "source": [
    "###### LOAD ######\n",
    "\n",
    "#save the pandas dataframe as a csv\n",
    "def load(targetfile,data_to_load):\n",
    "    data_to_load.to_csv(targetfile)\n",
    "    \n",
    "targetfile = 'transformed_data.csv'\n",
    "load(targetfile,transformed_data)"
   ]
  },
  {
   "cell_type": "code",
   "execution_count": null,
   "id": "9ca239b5",
   "metadata": {},
   "outputs": [],
   "source": [
    "###### LOGGING ENTRIES ######\n",
    "\n",
    "from datatime import datetime\n",
    "\n",
    "#create a logging function\n",
    "def log(message):\n",
    "    #timestamp_format --> determines the formatting of the time &date\n",
    "    timestamp_format = '%Y-%h-%d-%H:%M:%S'\n",
    "    #now --> capture the current time by calling datetime \n",
    "    now = datetime.now()\n",
    "    #convert the timestamp to a string format using the strftime attribute.\n",
    "    timestamp = now.strftime(timestamp_format)\n",
    "    #pull that information together (by opening a file &writing the information to the file)\n",
    "    # 'a' ---> all the data written will be appended to the existing information\n",
    "    with open( 'logfile.txt' , 'a' ) as f:\n",
    "        #we are then able to attach a timestamp to each part of the process of when it begins &when it has completed\n",
    "        f.write ( timestamp + ',' +  message + '\\n' )"
   ]
  },
  {
   "cell_type": "code",
   "execution_count": null,
   "id": "62dc3c00",
   "metadata": {},
   "outputs": [],
   "source": [
    "##### CALL ALL THE FUNCTIONS ######\n",
    "\n",
    "log('ETL Job Started')\n",
    "\n",
    "#call the extract_data function\n",
    "#(The data received from this step will then be transferred to the 2nd step of transforming, after this has completed the data\n",
    "# is then loaded into the target file)\n",
    "#before & after every step the time and date for start and completion has been added\n",
    "log( 'Extract phase Started' )\n",
    "extracted_data = extract()\n",
    "log( 'Extract phase Ended' )\n",
    "\n",
    "log( 'Transform Job Started' )\n",
    "transformed_data = transform( extracted_data )\n",
    "log( 'Transform Job Ended' )\n",
    "\n",
    "log( 'Load Job Started' )\n",
    "load( targetfile, transformed_data )\n",
    "log( 'Load Job Ended' )\n",
    "\n",
    "log( 'ETL Job Ended' )"
   ]
  },
  {
   "cell_type": "code",
   "execution_count": null,
   "id": "5b310881",
   "metadata": {},
   "outputs": [],
   "source": [
    "######################################################### Example #########################################################\n",
    "\n",
    "# import libraries\n",
    "import glob \n",
    "import pandas as pd \n",
    "# import xml.etree library to parse the data from an XML file format\n",
    "import xml.etree.ElementTree as ET \n",
    "from datetime import datetime\n",
    "\n",
    "# transformed_data.csv --> store the final output data that you can load to a database,\n",
    "# log_file.txt --> stores all the logs.\n",
    "log_file = \"log_file.txt\" \n",
    "target_file = \"transformed_data.csv\" \n",
    "\n",
    "\n",
    "###########################################################################################################################\n",
    "####################################################### EXTRACTION ########################################################\n",
    "###########################################################################################################################\n",
    "# extract data from different file formats\n",
    "\n",
    "# extract data from csv file\n",
    "def extract_from_csv(file_to_process): \n",
    "    dataframe = pd.read_csv(file_to_process) \n",
    "    return dataframe \n",
    "\n",
    "# extract data from json file\n",
    "# lines=True --> to enable the function to read the file as a JSON object on line to line basis\n",
    "def extract_from_json(file_to_process): \n",
    "    dataframe = pd.read_json(file_to_process, lines=True) \n",
    "    return dataframe \n",
    "\n",
    "# extract data from XML file\n",
    "# parse the data from the file using the ElementTree function\n",
    "# then extract relevant information from this data and append it to a pandas dataframe\n",
    "def extract_from_xml(file_to_process): \n",
    "    dataframe = pd.DataFrame(columns=[\"name\", \"height\", \"weight\"]) \n",
    "    tree = ET.parse(file_to_process) \n",
    "    root = tree.getroot() \n",
    "    for person in root: \n",
    "        name = person.find(\"name\").text \n",
    "        height = float(person.find(\"height\").text) \n",
    "        weight = float(person.find(\"weight\").text) \n",
    "        dataframe = pd.concat([dataframe, pd.DataFrame([{\"name\":name, \"height\":height, \"weight\":weight}])], ignore_index=True) \n",
    "    return dataframe\n",
    "\n",
    "\n",
    "# create a function to identify which function to call on basis of the filetype of the data file. \n",
    "# To call the relevant function, write a function extract, which uses the glob library to identify the filetype.\n",
    "\n",
    "# The function extract: will extract large amount of data from multiple sources in batches\n",
    "def extract(): \n",
    "    extracted_data = pd.DataFrame(columns=['name','height','weight']) # create an empty data frame to hold extracted data \n",
    "\n",
    "    # use the glob function from the glob module\n",
    "    # the input is the file extension, the output is a list of files with that particualr extension\n",
    "\n",
    "    #adding a loop to find all the csv files\n",
    "    # by adding the glob function, it will find and load all of the csv file names, \n",
    "    # and with each iteration of the loop the csv files are appended to the dataframe.\n",
    "\n",
    "    # ignore_index=True ---> the order of each row would be the same as the order the row was appended to the dataframe.\n",
    "\n",
    "    # process all csv files \n",
    "    for csvfile in glob.glob(\"*.csv\"): \n",
    "        extracted_data = pd.concat([extracted_data, pd.DataFrame(extract_from_csv(csvfile))], ignore_index=True) \n",
    "         \n",
    "    # process all json files \n",
    "    for jsonfile in glob.glob(\"*.json\"): \n",
    "        extracted_data = pd.concat([extracted_data, pd.DataFrame(extract_from_json(jsonfile))], ignore_index=True) \n",
    "     \n",
    "    # process all xml files \n",
    "    for xmlfile in glob.glob(\"*.xml\"): \n",
    "        extracted_data = pd.concat([extracted_data, pd.DataFrame(extract_from_xml(xmlfile))], ignore_index=True) \n",
    "         \n",
    "    return extracted_data \n",
    "\n",
    "\n",
    "###########################################################################################################################\n",
    "###################################################### TRANSFORMATION #####################################################\n",
    "###########################################################################################################################\n",
    "# Since the dataframe is in the form of a dictionary with three keys, \"name\", \"height\", and \"weight\", \n",
    "# each of them having a list of values, you can apply the transform function on the entire list at one go.\n",
    "def transform(data): \n",
    "    #Convert inches to meters and round off to two decimals (1 inch is 0.0254 meters)\n",
    "    data['height'] = round(data.height * 0.0254,2) \n",
    " \n",
    "    #Convert pounds to kilograms and round off to two decimals (1 pound is 0.45359237 kilograms)\n",
    "    data['weight'] = round(data.weight * 0.45359237,2) \n",
    "    \n",
    "    return data\n",
    "# The output of this function is a dataframe where the \"height\" and \"weight\" parameters will be modified to the required format.\n",
    "\n",
    "\n",
    "###########################################################################################################################\n",
    "################################################### Loading and Logging ###################################################\n",
    "###########################################################################################################################\n",
    "# load the transformed data to a CSV file that you can use to load to a database as per requirement.\n",
    "# To load the data, you need a function load_data() that accepts the transformed data as a dataframe and the target_file path.\n",
    "def load_data(target_file, transformed_data): \n",
    "    transformed_data.to_csv(target_file)\n",
    "\n",
    "# implement the logging operation to record the progress of the different operations. \n",
    "# For this operation, you need to record a message, along with its timestamp, in the log_file\n",
    "# To record the message, you need to implement a function log_progress() that accepts the log message as the argument.\n",
    "# The function captures the current date and time using the datetime function from the datetime library.\n",
    "# The use of this function requires the definition of a date-time format, \n",
    "#   and you need to convert the timestamp to a string format using the strftime attribute.\n",
    "\n",
    "#create a logging function\n",
    "def log_progress(message):\n",
    "    #timestamp_format --> determines the formatting of the time &date\n",
    "    timestamp_format = '%Y-%h-%d-%H:%M:%S' # Year-Monthname-Day-Hour-Minute-Second\n",
    "    #now --> capture the current time by calling datetime\n",
    "    now = datetime.now() # get current timestamp \n",
    "    timestamp = now.strftime(timestamp_format)\n",
    "    #pull that information together (by opening a file &writing the information to the file)\n",
    "    # 'a' ---> all the data written will be appended to the existing information\n",
    "    with open(log_file,\"a\") as f:\n",
    "        #we are then able to attach a timestamp to each part of the process of when it begins &when it has completed\n",
    "        f.write(timestamp + ',' + message + '\\n') \n",
    "\n",
    "\n",
    "###########################################################################################################################\n",
    "################################################## Testing ETL operations and log progress ################################\n",
    "###########################################################################################################################\n",
    "##### CALL ALL THE FUNCTIONS ######\n",
    "\n",
    "# Log the initialization of the ETL process \n",
    "log_progress(\"ETL Job Started\") \n",
    "\n",
    "#call the extract_data function\n",
    "#(The data received from this step will then be transferred to the 2nd step of transforming, after this has completed the data\n",
    "# is then loaded into the target file)\n",
    "#before & after every step the time and date for start and completion has been added\n",
    "\n",
    "# Log the beginning of the Extraction process \n",
    "log_progress(\"Extract phase Started\") \n",
    "extracted_data = extract() \n",
    " \n",
    "# Log the completion of the Extraction process \n",
    "log_progress(\"Extract phase Ended\") \n",
    " \n",
    "# Log the beginning of the Transformation process \n",
    "log_progress(\"Transform phase Started\") \n",
    "transformed_data = transform(extracted_data) \n",
    "print(\"Transformed Data\") \n",
    "print(transformed_data) \n",
    " \n",
    "# Log the completion of the Transformation process \n",
    "log_progress(\"Transform phase Ended\") \n",
    " \n",
    "# Log the beginning of the Loading process \n",
    "log_progress(\"Load phase Started\") \n",
    "load_data(target_file,transformed_data) \n",
    " \n",
    "# Log the completion of the Loading process \n",
    "log_progress(\"Load phase Ended\") \n",
    " \n",
    "# Log the completion of the ETL process \n",
    "log_progress(\"ETL Job Ended\")"
   ]
  },
  {
   "cell_type": "markdown",
   "id": "740255b8",
   "metadata": {},
   "source": [
    "# SQLite\n",
    "to store data in a dummy database\n",
    "\n",
    "- SQLite3 is a software library that implements a self-contained, serverless, zero-configuration,transactional SQL database engine. SQLite is the most widely deployed SQL database engine in the world. "
   ]
  },
  {
   "cell_type": "code",
   "execution_count": null,
   "id": "15be970c",
   "metadata": {},
   "outputs": [],
   "source": [
    "#connect to the SQLite3\n",
    "#connect to SQLIte3 using the connect() function by passing the required database name as an argument\n",
    "import sqlite3\n",
    "sql_connection = sqlite3.connect(‘database.db’)"
   ]
  },
  {
   "cell_type": "code",
   "execution_count": null,
   "id": "dfb90515",
   "metadata": {},
   "outputs": [],
   "source": [
    "# create a database table using SQLite3 and Pandas\n",
    "df.to_sql(table_name, sql_connection, if_exists = 'replace', index = False)\n",
    "\n",
    "#.to_sql(): to convert the pandas df to an SQL table.\n",
    "#The table_name & sql_connection arguments: specify the name of the required table & the database to which you should load the dataframe.\n",
    "#if_exists parameter:\n",
    "#             'fail': This denies the creation of a table if one with the same name exists in the database already.\n",
    "#             'replace': This overwrites the existing table with the same name.\n",
    "#             'append': This adds information to the existing table with the same name.\n",
    "\n",
    "#Keep the index=True only if the index of the data being sent holds some informational value.Otherwise, keep it as False"
   ]
  },
  {
   "cell_type": "code",
   "execution_count": null,
   "id": "4e3c662c",
   "metadata": {},
   "outputs": [],
   "source": [
    "# query a database table using SQLite3 and Pandas\n",
    "#use the Pandas function read_sql() to query a database table\n",
    "#The function returns a Pandas dataframe with the output to the query\n",
    "\n",
    "df = pandas.read_sql(query_statement, sql_connection)\n",
    "\n",
    "#query_statement argument: contains the complete query to the required table as a string"
   ]
  },
  {
   "cell_type": "code",
   "execution_count": null,
   "id": "a6311517",
   "metadata": {},
   "outputs": [],
   "source": [
    "# SELECT * FROM table_name  --->  Retrieve all entries of the table.\n",
    "# SELECT COUNT(*) FROM table_name  --->  Retrieve total number of entries in the table.\n",
    "# SELECT Column_name FROM table_name  --->  Retrieve all entries of a specific column in the table.\n",
    "# SELECT * FROM table_name WHERE <condition>  --->  Retrieve all entries of the table that meet the specified condition."
   ]
  },
  {
   "cell_type": "code",
   "execution_count": 1,
   "id": "e2ea7a7c",
   "metadata": {},
   "outputs": [],
   "source": [
    "###############################################################################################################################"
   ]
  },
  {
   "cell_type": "code",
   "execution_count": null,
   "id": "8acd5d6f",
   "metadata": {},
   "outputs": [],
   "source": [
    "# To store data in a database, we first need to initialize a connection to the database, \n",
    "# save the dataframe as a table, and then close the connection.\n",
    "conn = sqlite3.connect(db_name)\n",
    "df.to_sql(table_name, conn, if_exists='replace', index=False)\n",
    "conn.close()\n",
    "\n",
    "# This database can now be used to retrieve the relevant information using SQL queries."
   ]
  },
  {
   "cell_type": "code",
   "execution_count": 2,
   "id": "2dcd82c3",
   "metadata": {},
   "outputs": [],
   "source": [
    "##############################################################################################################################"
   ]
  },
  {
   "cell_type": "code",
   "execution_count": null,
   "id": "d8dc699f",
   "metadata": {},
   "outputs": [],
   "source": [
    "############ Example #################\n",
    "\n",
    "import sqlite3\n",
    "import pandas as pd\n",
    "\n",
    "#use SQLite3 to create and connect the process to a new database STAFF\n",
    "conn = sqlite3.connect('STAFF.db')\n",
    "\n",
    "#create a table in the database\n",
    "table_name = 'INSTRUCTOR'\n",
    "attribute_list = ['ID', 'FNAME', 'LNAME', 'CITY', 'CCODE']  #columns name\n",
    "\n",
    "\n",
    "#Read the CSV file\n",
    "#Since this CSV doesn't contain headers, we can use the keys of the attribute_dict dictionary as a list to assign headers to the data\n",
    "file_path = r\"C:\\Users\\esraa\\Desktop\\Python_Projects\\IBM\\SQLite\\INSTRUCTOR.csv\"\n",
    "df = pd.read_csv(file_path, names = attribute_list)\n",
    "\n",
    "\n",
    "#Loading the data to a table in the database\n",
    "\n",
    "#if_exists='fail': Default. The command doesn't work if a table with the same name exists in the database.\n",
    "#if_exists='replace': The command replaces the existing table in the database with the same name.\n",
    "#if_exists='append': The command appends the new data to the existing table with the same name.\n",
    "\n",
    "#create a fresh table upon execution ---> if_exists='replace'\n",
    "df.to_sql(table_name, conn, if_exists = 'replace', index =False)\n",
    "print('Table is ready')\n",
    "# This database can now be used to retrieve the relevant information using SQL queries.\n",
    "\n",
    "\n",
    "# Running queries on data\n",
    "\n",
    "#Viewing all the data in the table\n",
    "query_statement = f\"SELECT * FROM {table_name}\"\n",
    "query_output = pd.read_sql(query_statement, conn)\n",
    "print(query_statement)\n",
    "print(query_output)\n",
    "\n",
    "#Viewing only FNAME column of data\n",
    "query_statement = f\"SELECT FNAME FROM {table_name}\"\n",
    "query_output = pd.read_sql(query_statement, conn)\n",
    "print(query_statement)\n",
    "print(query_output)\n",
    "\n",
    "#Viewing the total number of entries in the table\n",
    "query_statement = f\"SELECT COUNT(*) FROM {table_name}\"\n",
    "query_output = pd.read_sql(query_statement, conn)\n",
    "print(query_statement)\n",
    "print(query_output)\n",
    "\n",
    "#appending data to the table\n",
    "#ID is 100, FNAME, is John, LNAME is Doe, CITY is Paris, CCODE is FR\n",
    "data_dict = {'ID' : [100],\n",
    "            'FNAME' : ['John'],\n",
    "            'LNAME' : ['Doe'],\n",
    "            'CITY' : ['Paris'],\n",
    "            'CCODE' : ['FR']}\n",
    "data_append = pd.DataFrame(data_dict)\n",
    "#append the data to the INSTRUCTOR table\n",
    "data_append.to_sql(table_name, conn, if_exists = 'append', index =False)\n",
    "print('Data appended successfully')\n",
    "\n",
    "\n",
    "#Viewing the total number of entries in the table after appending data to the table\n",
    "query_statement = f\"SELECT COUNT(*) FROM {table_name}\"\n",
    "query_output = pd.read_sql(query_statement, conn)\n",
    "print(query_statement)\n",
    "print(query_output)\n",
    "\n",
    "# close the connection to the database\n",
    "conn.close()"
   ]
  },
  {
   "cell_type": "code",
   "execution_count": null,
   "id": "a2e4d5b6",
   "metadata": {},
   "outputs": [],
   "source": []
  }
 ],
 "metadata": {
  "kernelspec": {
   "display_name": "Python 3 (ipykernel)",
   "language": "python",
   "name": "python3"
  },
  "language_info": {
   "codemirror_mode": {
    "name": "ipython",
    "version": 3
   },
   "file_extension": ".py",
   "mimetype": "text/x-python",
   "name": "python",
   "nbconvert_exporter": "python",
   "pygments_lexer": "ipython3",
   "version": "3.11.3"
  }
 },
 "nbformat": 4,
 "nbformat_minor": 5
}
